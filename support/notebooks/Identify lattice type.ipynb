{
 "cells": [
  {
   "cell_type": "markdown",
   "metadata": {
    "deletable": true,
    "editable": true
   },
   "source": [
    "We need to be able to identify the lattice type of any lattice. This is most easily done by reducing the lattice then 'looking' at the relative size of the vectors and the angles between them."
   ]
  },
  {
   "cell_type": "code",
   "execution_count": 1,
   "metadata": {
    "collapsed": true,
    "deletable": true,
    "editable": true
   },
   "outputs": [],
   "source": [
    "import numpy as np"
   ]
  },
  {
   "cell_type": "code",
   "execution_count": 2,
   "metadata": {
    "collapsed": false,
    "deletable": true,
    "editable": true
   },
   "outputs": [],
   "source": [
    "def lat_type(lat):\n",
    "    \"\"\"Finds the lattice type for the provided lattice vectors.\n",
    "    \n",
    "    Args:\n",
    "        lat (numpy.array): the lattice vectors as columns of the matrix.\n",
    "        \n",
    "    Returns:\n",
    "        latType (str): the type of lattice, i.e., sc, bcc, fcc, st, so....\n",
    "        latBasis (numpy.array): The canonical basis for this lattice.\n",
    "    \"\"\"\n",
    "    \n",
    "    from phenum.vector_utils import _minkowski_reduce_basis\n",
    "    from phenum.symmetry import _get_lattice_pointGroup\n",
    "    \n",
    "    clat = np.array(_minkowski_reduce_basis(lat,1E-10))\n",
    "    #clat = lat\n",
    "    print(clat)\n",
    "    latType = None\n",
    "    \n",
    "    a1 = clat[0]\n",
    "    a2 = clat[1]\n",
    "    a3 = clat[2]\n",
    "    \n",
    "    a1n = np.sqrt(np.dot(a1,a1))\n",
    "    a2n = np.sqrt(np.dot(a2,a2))\n",
    "    a3n = np.sqrt(np.dot(a3,a3))\n",
    "    a1ta2 = np.dot(a1,a2)/abs(float(a1n*a2n))\n",
    "    a1ta3 = np.dot(a1,a3)/abs(float(a1n*a3n))\n",
    "    a2ta3 = np.dot(a2,a3)/abs(float(a2n*a3n))\n",
    "    \n",
    "    tiny = 1E-6\n",
    "    \n",
    "    p_count = 0\n",
    "    if abs(a1ta2)<tiny:\n",
    "        p_count += 1\n",
    "    if abs(a1ta3)<tiny:\n",
    "        p_count += 1\n",
    "    if abs(a2ta3)<tiny:\n",
    "        p_count += 1\n",
    "    \n",
    "    ## find pg to determine crystial family\n",
    "    ## once family is found go through possible lattice system\n",
    "    fam = len(_get_lattice_pointGroup(clat))\n",
    "    if fam == 48: #cubic\n",
    "        if p_count==3:\n",
    "            print('sc')\n",
    "            latType = 'sc'\n",
    "        elif abs(a1ta2 +1./3.) <tiny or abs(a1ta3+1./3.)<tiny or abs(a2ta3+1./3.)<tiny:\n",
    "            print('bcc')\n",
    "            latType = 'bcc'\n",
    "        elif abs(a1ta2-1./2.)<tiny or abs(a1ta3-1./2.)<tiny or abs(a2ta3-1./2.)<tiny:\n",
    "            print('fcc')\n",
    "            latType = 'fcc'\n",
    "        else:\n",
    "            print(\"Could not identify lattice (cubic).\")\n",
    "    elif fam == 24: #hex\n",
    "        print(\"hex\")\n",
    "        latType = 'hex'\n",
    "    elif fam == 12: #trig\n",
    "        print(\"trig\")\n",
    "        latType = 'trig'\n",
    "    elif fam == 16: #tet\n",
    "        print(\"p count: \",p_count)\n",
    "        if p_count==3:\n",
    "            print('stet')\n",
    "            latType = 'stet'\n",
    "        else:\n",
    "            print(\"btet\")\n",
    "            latTyp = 'btet'\n",
    "    elif fam == 8: #ortho\n",
    "        if p_count == 3:\n",
    "            print(\"so\")\n",
    "            latType = 'so'\n",
    "        elif p_count == 2:\n",
    "            if ((abs(abs(a1ta2)-0.5)<tiny and abs(a1n-a2n)<tiny) or \n",
    "            (abs(abs(a1ta3)-0.5)<tiny and abs(a1n-a3n)<tiny)or \n",
    "            (abs(abs(a2ta3)-0.5)<tiny and abs(a2n-a3n)<tiny)):\n",
    "                print('hex')\n",
    "                latType = 'hex'\n",
    "            else:\n",
    "                print(\"co\")\n",
    "                latType = 'co'\n",
    "        elif (p_count == 1 ):\n",
    "            if abs(a1ta2)<tiny:\n",
    "                pa3ta1n = np.linalg.norm(np.dot(a3,a1)/np.dot(a1,a1))\n",
    "                pa3ta2n = np.linalg.norm(np.dot(a3,a2)/np.dot(a2,a2))\n",
    "                if (pa3ta1n-a1n/2.)<tiny and (pa3ta2n -a2n/2.)<tiny:\n",
    "                    print('bo')\n",
    "                    latType = 'bo'\n",
    "                else:\n",
    "                    print('fo')\n",
    "                    latType = 'fo'\n",
    "            elif abs(a1ta3)<tiny:\n",
    "                pa2ta1n = np.linalg.norm(np.dot(a2,a1)/np.dot(a1,a1))\n",
    "                pa2ta3n = np.linalg.norm(np.dot(a2,a3)/np.dot(a3,a3))\n",
    "                if (pa2ta1n-a1n/2.)<tiny and (pa2ta3n -a3n/2.)<tiny:\n",
    "                    print('bo')\n",
    "                    latType = 'bo'\n",
    "                else:\n",
    "                    print('fo')\n",
    "                    latType = 'fo'                \n",
    "            else:\n",
    "                pa1ta2n = np.linalg.norm(np.dot(a1,a2)/np.dot(a2,a2))\n",
    "                pa1ta3n = np.linalg.norm(np.dot(a1,a3)/np.dot(a3,a3))\n",
    "                if (pa1ta2n-a2n/2.)<tiny and (pa1ta3n -a3n/2.)<tiny:\n",
    "                    print('bo')\n",
    "                    latType = 'bo'\n",
    "                else:\n",
    "                    print('fo')\n",
    "                    latType = 'fo'\n",
    "        elif(abs(a1n-a2n)<tiny and abs(a2n-a3n)<tiny):\n",
    "            print('bo')\n",
    "            latType = 'bo'\n",
    "        elif (abs(a1n-a2n)>tiny and abs(a1n-a3n)>tiny and abs(a2n-a3n)>tiny):\n",
    "            print('fo')\n",
    "            latType = 'fo'\n",
    "        else:\n",
    "            print(\"Could not identify lattice (ortho)\")\n",
    "    elif fam == 4: #mono\n",
    "        if p_count==2:\n",
    "            print('sm')\n",
    "            latType = 'sm'\n",
    "        else:\n",
    "            print(\"cm\")\n",
    "            latType = 'cm'\n",
    "    elif fam == 2: #tric\n",
    "        print(\"tric\")\n",
    "        latType = 'tric'\n",
    "    else:\n",
    "        print(\"Could not indentify lattice.\")\n",
    "    \n",
    "    \n",
    "    "
   ]
  },
  {
   "cell_type": "code",
   "execution_count": 4,
   "metadata": {
    "collapsed": false,
    "deletable": true,
    "editable": true
   },
   "outputs": [
    {
     "name": "stdout",
     "output_type": "stream",
     "text": [
      "[[  2.00000000e+00   2.00000000e+00   0.00000000e+00]\n",
      " [ -2.00000000e+00   2.00000000e+00   0.00000000e+00]\n",
      " [  0.00000000e+00   0.00000000e+00   2.66200000e+03]]\n"
     ]
    },
    {
     "ename": "KeyboardInterrupt",
     "evalue": "",
     "output_type": "error",
     "traceback": [
      "\u001b[0;31m---------------------------------------------------------------------------\u001b[0m",
      "\u001b[0;31mKeyboardInterrupt\u001b[0m                         Traceback (most recent call last)",
      "\u001b[0;32m<ipython-input-4-88a159a726af>\u001b[0m in \u001b[0;36m<module>\u001b[0;34m()\u001b[0m\n\u001b[1;32m      4\u001b[0m lat_type([[2.0000000000000000, 2.0000000000000000, 0.0000000000000000],\n\u001b[1;32m      5\u001b[0m          \u001b[0;34m[\u001b[0m\u001b[0;36m0.0000000000000000\u001b[0m\u001b[0;34m,\u001b[0m \u001b[0;36m4.0000000000000000\u001b[0m\u001b[0;34m,\u001b[0m \u001b[0;36m0.0000000000000000\u001b[0m\u001b[0;34m]\u001b[0m\u001b[0;34m,\u001b[0m\u001b[0;34m\u001b[0m\u001b[0m\n\u001b[0;32m----> 6\u001b[0;31m          [0.0000000000000000, 0.0000000000000000, 2662.0000000000000]])\n\u001b[0m",
      "\u001b[0;32m<ipython-input-2-fae9341b0cb8>\u001b[0m in \u001b[0;36mlat_type\u001b[0;34m(lat)\u001b[0m\n\u001b[1;32m     41\u001b[0m     \u001b[0;31m## find pg to determine crystial family\u001b[0m\u001b[0;34m\u001b[0m\u001b[0;34m\u001b[0m\u001b[0m\n\u001b[1;32m     42\u001b[0m     \u001b[0;31m## once family is found go through possible lattice system\u001b[0m\u001b[0;34m\u001b[0m\u001b[0;34m\u001b[0m\u001b[0m\n\u001b[0;32m---> 43\u001b[0;31m     \u001b[0mfam\u001b[0m \u001b[0;34m=\u001b[0m \u001b[0mlen\u001b[0m\u001b[0;34m(\u001b[0m\u001b[0m_get_lattice_pointGroup\u001b[0m\u001b[0;34m(\u001b[0m\u001b[0mclat\u001b[0m\u001b[0;34m)\u001b[0m\u001b[0;34m)\u001b[0m\u001b[0;34m\u001b[0m\u001b[0m\n\u001b[0m\u001b[1;32m     44\u001b[0m     \u001b[0;32mif\u001b[0m \u001b[0mfam\u001b[0m \u001b[0;34m==\u001b[0m \u001b[0;36m48\u001b[0m\u001b[0;34m:\u001b[0m \u001b[0;31m#cubic\u001b[0m\u001b[0;34m\u001b[0m\u001b[0m\n\u001b[1;32m     45\u001b[0m         \u001b[0;32mif\u001b[0m \u001b[0mp_count\u001b[0m\u001b[0;34m==\u001b[0m\u001b[0;36m3\u001b[0m\u001b[0;34m:\u001b[0m\u001b[0;34m\u001b[0m\u001b[0m\n",
      "\u001b[0;32m/Users/wileymorgan/.virtualenvs/kpoints/lib/python2.7/site-packages/phenum/symmetry.pyc\u001b[0m in \u001b[0;36m_get_lattice_pointGroup\u001b[0;34m(aVecs, eps)\u001b[0m\n\u001b[1;32m    196\u001b[0m         \u001b[0;32mfor\u001b[0m \u001b[0mj\u001b[0m \u001b[0;32min\u001b[0m \u001b[0mrange\u001b[0m\u001b[0;34m(\u001b[0m\u001b[0;34m-\u001b[0m\u001b[0mint\u001b[0m\u001b[0;34m(\u001b[0m\u001b[0mround\u001b[0m\u001b[0;34m(\u001b[0m\u001b[0mn2\u001b[0m\u001b[0;34m)\u001b[0m\u001b[0;34m)\u001b[0m\u001b[0;34m,\u001b[0m \u001b[0mint\u001b[0m\u001b[0;34m(\u001b[0m\u001b[0mround\u001b[0m\u001b[0;34m(\u001b[0m\u001b[0mn2\u001b[0m\u001b[0;34m)\u001b[0m\u001b[0;34m)\u001b[0m\u001b[0;34m+\u001b[0m\u001b[0;36m1\u001b[0m\u001b[0;34m)\u001b[0m\u001b[0;34m:\u001b[0m\u001b[0;34m\u001b[0m\u001b[0m\n\u001b[1;32m    197\u001b[0m             \u001b[0;32mfor\u001b[0m \u001b[0mk\u001b[0m \u001b[0;32min\u001b[0m \u001b[0mrange\u001b[0m\u001b[0;34m(\u001b[0m\u001b[0;34m-\u001b[0m\u001b[0mint\u001b[0m\u001b[0;34m(\u001b[0m\u001b[0mround\u001b[0m\u001b[0;34m(\u001b[0m\u001b[0mn3\u001b[0m\u001b[0;34m)\u001b[0m\u001b[0;34m)\u001b[0m\u001b[0;34m,\u001b[0m \u001b[0mint\u001b[0m\u001b[0;34m(\u001b[0m\u001b[0mround\u001b[0m\u001b[0;34m(\u001b[0m\u001b[0mn3\u001b[0m\u001b[0;34m)\u001b[0m\u001b[0;34m)\u001b[0m\u001b[0;34m+\u001b[0m\u001b[0;36m1\u001b[0m\u001b[0;34m)\u001b[0m\u001b[0;34m:\u001b[0m\u001b[0;34m\u001b[0m\u001b[0m\n\u001b[0;32m--> 198\u001b[0;31m                 \u001b[0mthis_vector\u001b[0m \u001b[0;34m=\u001b[0m \u001b[0mi\u001b[0m\u001b[0;34m*\u001b[0m\u001b[0maVecs\u001b[0m\u001b[0;34m[\u001b[0m\u001b[0;36m0\u001b[0m\u001b[0;34m]\u001b[0m \u001b[0;34m+\u001b[0m \u001b[0mj\u001b[0m\u001b[0;34m*\u001b[0m\u001b[0maVecs\u001b[0m\u001b[0;34m[\u001b[0m\u001b[0;36m1\u001b[0m\u001b[0;34m]\u001b[0m \u001b[0;34m+\u001b[0m \u001b[0mk\u001b[0m\u001b[0;34m*\u001b[0m\u001b[0maVecs\u001b[0m\u001b[0;34m[\u001b[0m\u001b[0;36m2\u001b[0m\u001b[0;34m]\u001b[0m\u001b[0;34m\u001b[0m\u001b[0m\n\u001b[0m\u001b[1;32m    199\u001b[0m                 \u001b[0mlength\u001b[0m \u001b[0;34m=\u001b[0m \u001b[0mnumpy\u001b[0m\u001b[0;34m.\u001b[0m\u001b[0mlinalg\u001b[0m\u001b[0;34m.\u001b[0m\u001b[0mnorm\u001b[0m\u001b[0;34m(\u001b[0m\u001b[0mthis_vector\u001b[0m\u001b[0;34m)\u001b[0m\u001b[0;34m\u001b[0m\u001b[0m\n\u001b[1;32m    200\u001b[0m                 \u001b[0;32mif\u001b[0m \u001b[0;34m(\u001b[0m\u001b[0mlength\u001b[0m \u001b[0;34m>\u001b[0m \u001b[0mmax_norm\u001b[0m \u001b[0;34m+\u001b[0m \u001b[0meps\u001b[0m\u001b[0;34m)\u001b[0m\u001b[0;34m:\u001b[0m\u001b[0;34m\u001b[0m\u001b[0m\n",
      "\u001b[0;31mKeyboardInterrupt\u001b[0m: "
     ]
    }
   ],
   "source": [
    "#lat_type([[0,0.5,0.5],[0.5,0,0.5],[0.5,0.5,0]])\n",
    "#lat_type([[0.5,1,0],[0,1,2],[0,0,4]])\n",
    "#lat_type([[1,0,0],[0.5,0.866025403784439,0],[0,0,2]])\n",
    "lat_type([[2.0000000000000000, 2.0000000000000000, 0.0000000000000000],\n",
    "         [0.0000000000000000, 4.0000000000000000, 0.0000000000000000],\n",
    "         [0.0000000000000000, 0.0000000000000000, 2662.0000000000000]])"
   ]
  },
  {
   "cell_type": "code",
   "execution_count": 5,
   "metadata": {
    "collapsed": false,
    "deletable": true,
    "editable": true
   },
   "outputs": [
    {
     "name": "stdout",
     "output_type": "stream",
     "text": [
      "[[  -2.    -2.     0. ]\n",
      " [ 665.5 -665.5    0. ]\n",
      " [   1.     1.     6. ]]\n",
      "co\n"
     ]
    }
   ],
   "source": [
    "lat_type([[1.0000000000000000, 1.0000000000000000, 6.0000000000000000],\n",
    "          [0.0000000000000000, 0.0000000000000000, 12.000000000000000],\n",
    "          [665.50000000000000,-665.50000000000000, 0.0000000000000000]])"
   ]
  },
  {
   "cell_type": "code",
   "execution_count": 1,
   "metadata": {
    "collapsed": true,
    "deletable": true,
    "editable": true
   },
   "outputs": [],
   "source": [
    "import numpy as np"
   ]
  },
  {
   "cell_type": "code",
   "execution_count": 24,
   "metadata": {
    "collapsed": true
   },
   "outputs": [],
   "source": [
    "lat=np.transpose([[0.5,0.5,0],[0.5,-0.5,2],[1,-1,0]])"
   ]
  },
  {
   "cell_type": "code",
   "execution_count": 219,
   "metadata": {
    "collapsed": false
   },
   "outputs": [
    {
     "data": {
      "text/plain": [
       "array([[ 1.  ,  1.  ,  0.  ],\n",
       "       [ 0.  ,  0.  ,  0.5 ],\n",
       "       [ 0.5 , -0.5 , -0.25]])"
      ]
     },
     "execution_count": 219,
     "metadata": {},
     "output_type": "execute_result"
    }
   ],
   "source": [
    "rlat = np.transpose(np.linalg.inv(lat))\n",
    "np.transpose(rlat)"
   ]
  },
  {
   "cell_type": "code",
   "execution_count": 213,
   "metadata": {
    "collapsed": false
   },
   "outputs": [],
   "source": [
    "grid = np.dot(rlat,np.transpose([[-0.07142857142857,   0.25000000000000,   0],\n",
    "      [-0.07142857142857,   0.08333333333333,   0.16666666666667],\n",
    "      [0.07142857142857,   0.08333333333333,   0.16666666666667]]))"
   ]
  },
  {
   "cell_type": "code",
   "execution_count": 218,
   "metadata": {
    "collapsed": false
   },
   "outputs": [
    {
     "data": {
      "text/plain": [
       "array([[ -7.14285714e-02,  -7.14285714e-02,   1.25000000e-01],\n",
       "       [  1.19047619e-02,  -1.54761905e-01,  -2.49800181e-15],\n",
       "       [  1.54761905e-01,  -1.19047619e-02,  -2.49800181e-15]])"
      ]
     },
     "execution_count": 218,
     "metadata": {},
     "output_type": "execute_result"
    }
   ],
   "source": [
    "np.transpose(grid)"
   ]
  },
  {
   "cell_type": "code",
   "execution_count": 220,
   "metadata": {
    "collapsed": false
   },
   "outputs": [
    {
     "data": {
      "text/plain": [
       "array([[ 0.,  4., -2.],\n",
       "       [-7., -2.,  4.],\n",
       "       [ 7.,  2.,  2.]])"
      ]
     },
     "execution_count": 220,
     "metadata": {},
     "output_type": "execute_result"
    }
   ],
   "source": [
    "np.matmul(np.linalg.inv(grid),rlat)"
   ]
  },
  {
   "cell_type": "code",
   "execution_count": 71,
   "metadata": {
    "collapsed": true
   },
   "outputs": [],
   "source": [
    "sc = np.transpose(np.linalg.inv(grid))"
   ]
  },
  {
   "cell_type": "code",
   "execution_count": 72,
   "metadata": {
    "collapsed": false
   },
   "outputs": [
    {
     "data": {
      "text/plain": [
       "168.0"
      ]
     },
     "execution_count": 72,
     "metadata": {},
     "output_type": "execute_result"
    }
   ],
   "source": [
    "np.round(np.linalg.det(sc)/np.linalg.det(lat))"
   ]
  },
  {
   "cell_type": "code",
   "execution_count": 73,
   "metadata": {
    "collapsed": false
   },
   "outputs": [
    {
     "data": {
      "text/plain": [
       "array([ 32.3408    ,  30.91994443,  30.91994443])"
      ]
     },
     "execution_count": 73,
     "metadata": {},
     "output_type": "execute_result"
    }
   ],
   "source": [
    "np.linalg.norm(4.0426*sc,axis=0)"
   ]
  },
  {
   "cell_type": "code",
   "execution_count": 74,
   "metadata": {
    "collapsed": false
   },
   "outputs": [],
   "source": [
    "from phenum.vector_utils import _minkowski_reduce_basis"
   ]
  },
  {
   "cell_type": "code",
   "execution_count": 75,
   "metadata": {
    "collapsed": false
   },
   "outputs": [
    {
     "data": {
      "text/plain": [
       "array([ 32.3408   ,  29.0111127,  29.0111127])"
      ]
     },
     "execution_count": 75,
     "metadata": {},
     "output_type": "execute_result"
    }
   ],
   "source": [
    "msc = _minkowski_reduce_basis(sc,1E-3)\n",
    "np.linalg.norm(4.0426*msc, axis=0)"
   ]
  },
  {
   "cell_type": "code",
   "execution_count": 89,
   "metadata": {
    "collapsed": false
   },
   "outputs": [],
   "source": [
    "N = np.dot(np.linalg.inv(lat),sc)"
   ]
  },
  {
   "cell_type": "code",
   "execution_count": 136,
   "metadata": {
    "collapsed": true
   },
   "outputs": [],
   "source": [
    "from copy import deepcopy\n",
    "from phenum.grouptheory import _find_minmax_indices\n",
    "def hermite_normal_form(n):\n",
    "    \"\"\"Converts an integer matrix to hermite normal form.\n",
    "    \n",
    "    Args:\n",
    "        n (list): a 2D list of integers.\n",
    "    Returns:\n",
    "        The integer matrix converted to Hermite Normal Form and \n",
    "        the matrix needed to transform the input matrix to the HNF.\n",
    "    \"\"\"\n",
    "    if np.equal(np.linalg.det(n), 0):\n",
    "        raise ValueError(\"The input matrix N is singular in hermite_normal_form.\")\n",
    "    hnf = np.array(deepcopy(n))\n",
    "    b = np.identity(3)\n",
    "    # Keep doing colum operations until all elements in row 1 are zero\n",
    "    # except the one on the diagonal.\n",
    "    count = 0\n",
    "    while ([np.allclose(i,0) for i in hnf[0]].count(True) != 2):\n",
    "        count += 1\n",
    "        min_index, max_index = _find_minmax_indices(hnf[0])\n",
    "        minm = hnf[0, min_index]\n",
    "        multiple = hnf[0, max_index]//minm\n",
    "        hnf[:,max_index] = hnf[:, max_index] - multiple*hnf[:, min_index]\n",
    "        b[:,max_index] = b[:, max_index] - multiple*b[:, min_index]\n",
    "        if not np.allclose(np.matmul(n,b), hnf): #pragma: no cover\n",
    "            raise ValueError(\"COLS1: Transformation matrix failed in hermite_normal_form\")\n",
    "\n",
    "    if np.allclose(hnf[0,0],0):\n",
    "        hnf, b = swap_column(hnf, b, 0)\n",
    "    if hnf[0,0] < 0:\n",
    "        hnf[:,0] = -hnf[:,0]\n",
    "        b[:,0] = -b[:,0]\n",
    "    if not np.allclose(np.matmul(n,b),hnf): #pragma: no cover\n",
    "        raise ValueError(\"COLSWAP1: Transformation matrix failed in hermite_normal_form\")\n",
    "    #Now work on getting hnf[1][2]==0.\n",
    "    while not np.allclose(hnf[1,2], 0):\n",
    "        if np.allclose(hnf[1,1], 0):\n",
    "            temp_col = deepcopy(hnf[:,1])\n",
    "            hnf[:,1] = hnf[:,2]\n",
    "            hnf[:,2] = temp_col\n",
    "            \n",
    "            temp_col = deepcopy(b[:,1])\n",
    "            b[:,1] = b[:,2]\n",
    "            b[:,2] = temp_col\n",
    "        if np.allclose(hnf[1,2], 0):\n",
    "            continue\n",
    "        if (abs(hnf[1,2])<abs(hnf[1,1])):\n",
    "            max_idx = 1\n",
    "            min_idx = 2\n",
    "        else:\n",
    "            max_idx = 2\n",
    "            min_idx = 1\n",
    "        multiple = hnf[1,max_idx]//hnf[1,min_idx]\n",
    "        hnf[:, max_idx] = hnf[:,max_idx] - multiple*hnf[:, min_idx]\n",
    "        b[:, max_idx] = b[:,max_idx] - multiple*b[:, min_idx]\n",
    "        if not np.allclose(np.matmul(n,b), hnf): #pragma: no cover\n",
    "            raise ValueError(\"COLS2: Transformation matrix failed in hermite_normal_form\")\n",
    "    if hnf[1,1]<0:\n",
    "        hnf[:,1] = -hnf[:,1]\n",
    "        b[:,1] = -b[:,1]\n",
    "    if not np.allclose(np.matmul(n,b),hnf): #pragma: no cover\n",
    "        raise ValueError(\"COLSWAP2: Transformation matrix failed in hermite_normal_form\")\n",
    "    if hnf[2,2]<0:\n",
    "        hnf[:,2] = -hnf[:,2]\n",
    "        b[:,2] = -b[:,2]\n",
    "    if not (np.allclose([hnf[0,1],hnf[0,2],hnf[1,2]],0)): #pragma: no cover\n",
    "        raise ValueError(\"hermite_normal_form not lower triangular.\")\n",
    "    if not np.allclose(np.matmul(n,b),hnf): #pragma: no cover\n",
    "        raise ValueError(\"End Part 1: Transformation matrix failed in hermite_normal_form\")\n",
    "    #Now that the matrix is lower triangular we need to make sure that\n",
    "    #the off diagonal elemnts are less than the diagonal elements.\n",
    "    while (hnf[1,1] <= hnf[1,0] or hnf[1,0]<0):\n",
    "        multiple = -1\n",
    "        if hnf[1,1] <= hnf[1,0]:\n",
    "            multiple = 1\n",
    "        hnf[:,0] = hnf[:,0] - multiple*hnf[:,1]\n",
    "        b[:,0] = b[:,0] - multiple*b[:,1]\n",
    "    for j in [0,1]:\n",
    "        while (hnf[2,2] <= hnf[2,j] or hnf[2,j]<0):\n",
    "            multiple = -1\n",
    "            if hnf[2,2] <= hnf[2,j]:\n",
    "                multiple = 1\n",
    "            hnf[:,j] = hnf[:,j] - multiple*hnf[:,2]\n",
    "            b[:,j] = b[:,j] - multiple*b[:,2]\n",
    "    if not np.allclose(np.matmul(n,b),hnf): #pragma: no cover\n",
    "        raise ValueError(\"End: Transformation matrix failed in hermite_normal_form\")\n",
    "        \n",
    "    if not (np.allclose([hnf[0,1],hnf[0,2],hnf[1,2]],0)): #pragma: no cover\n",
    "        raise ValueError(\"END: hermite_normal_form not lower triangular.\")\n",
    "    if (hnf[1,2]<0 and hnf[2,1]<0 or hnf[2,1]<0): #pragma: no cover\n",
    "        print(hnf[1,2],hnf[2,1])\n",
    "        raise ValueError(\"END: negative off diagonals (hermite_normal_form).\")\n",
    "    if (hnf[1,0]>hnf[1,1] or hnf[2,0]>hnf[2,2] or hnf[2,1]>hnf[2,2]): #pragma: no cover\n",
    "        raise ValueError(\"END: off diagonals larger than diagonals (hermite_normal_form).\")\n",
    "    \n",
    "    return hnf, b\n",
    "\n",
    "def swap_column(hnf, b, row):\n",
    "    \"\"\"Swaps the non-zero element in the designated row for both hnf and b\n",
    "    matrices.\n",
    "    Args:\n",
    "        hnf (numpy.ndarray): an integer matrix.\n",
    "        b (numpy.ndarray): an integer matrix.\n",
    "        row (int): the row that the swap will be centered on.\n",
    "    \n",
    "    Returns:\n",
    "        The hnf and b matrices with their columns swapped so that hnf[row,row] is \n",
    "        non-zero.\n",
    "    \"\"\"\n",
    "    min_idx, max_idx = _find_minmax_indices(abs(hnf[row,row:]))\n",
    "    max_idx += row\n",
    "    temp_col = deepcopy(hnf[:,row])\n",
    "    hnf[:,row] = hnf[:,max_idx]\n",
    "    hnf[:,max_idx] = temp_col\n",
    "    temp_col = deepcopy(b[:,row])\n",
    "    b[:,row] = b[:,max_idx]\n",
    "    b[:,max_idx] = temp_col\n",
    "    return hnf, b\n"
   ]
  },
  {
   "cell_type": "code",
   "execution_count": 138,
   "metadata": {
    "collapsed": false
   },
   "outputs": [],
   "source": [
    "hnf, b = hermite_normal_form(N)"
   ]
  },
  {
   "cell_type": "code",
   "execution_count": 234,
   "metadata": {
    "collapsed": false
   },
   "outputs": [
    {
     "data": {
      "text/plain": [
       "array([[ 7., -0., -0.],\n",
       "       [ 2.,  4., -0.],\n",
       "       [ 2.,  4.,  6.]])"
      ]
     },
     "execution_count": 234,
     "metadata": {},
     "output_type": "execute_result"
    }
   ],
   "source": [
    "np.round(hnf)"
   ]
  },
  {
   "cell_type": "code",
   "execution_count": 145,
   "metadata": {
    "collapsed": true
   },
   "outputs": [],
   "source": [
    "B = np.dot(lat,hnf)"
   ]
  },
  {
   "cell_type": "code",
   "execution_count": 148,
   "metadata": {
    "collapsed": false
   },
   "outputs": [
    {
     "data": {
      "text/plain": [
       "array([ 30.1166917 ,  25.56764734,  34.30259848])"
      ]
     },
     "execution_count": 148,
     "metadata": {},
     "output_type": "execute_result"
    }
   ],
   "source": [
    "np.linalg.norm(4.0426*_minkowski_reduce_basis(B,1E-3),axis=0)"
   ]
  },
  {
   "cell_type": "markdown",
   "metadata": {},
   "source": [
    "## Debugging Niggli case #40 \n"
   ]
  },
  {
   "cell_type": "code",
   "execution_count": 181,
   "metadata": {
    "collapsed": true
   },
   "outputs": [],
   "source": [
    "from opf_python.base_ortho import base_ortho_40\n",
    "from opf_python.niggli_lat_id import niggli_id\n",
    "from opf_python.pyniggli import reduced_cell"
   ]
  },
  {
   "cell_type": "code",
   "execution_count": 205,
   "metadata": {
    "collapsed": true
   },
   "outputs": [],
   "source": [
    "spHNFs = base_ortho_40(168)"
   ]
  },
  {
   "cell_type": "code",
   "execution_count": 206,
   "metadata": {
    "collapsed": false
   },
   "outputs": [
    {
     "data": {
      "text/plain": [
       "array([[ 1.      ,  1.61803 , -1.05557 ],\n",
       "       [ 1.      , -0.618034,  1.99895 ],\n",
       "       [ 1.      , -1.      , -0.943376]])"
      ]
     },
     "execution_count": 206,
     "metadata": {},
     "output_type": "execute_result"
    }
   ],
   "source": [
    "Ac = np.transpose([[1.0, 1.0, 1.0], \n",
    "      [1.61803, -0.618034, -1.0], \n",
    "      [-1.05557, 1.99895, -0.943376]])\n",
    "temp = reduced_cell(Ac)\n",
    "Nc=temp.niggli\n",
    "Nc"
   ]
  },
  {
   "cell_type": "code",
   "execution_count": 207,
   "metadata": {
    "collapsed": false
   },
   "outputs": [],
   "source": [
    "Hn = []\n",
    "for h in spHNFs:\n",
    "    temph = hermite_normal_form(np.round(np.matmul(np.linalg.inv(Nc),\n",
    "                                                   np.matmul(Ac,h)),2))\n",
    "    Hn.append(temph[0])"
   ]
  },
  {
   "cell_type": "code",
   "execution_count": 208,
   "metadata": {
    "collapsed": false
   },
   "outputs": [
    {
     "data": {
      "text/plain": [
       "array([[ 0.5,  0.5,  0. ],\n",
       "       [-1. ,  1. ,  0. ],\n",
       "       [ 0.5, -0.5,  2. ]])"
      ]
     },
     "execution_count": 208,
     "metadata": {},
     "output_type": "execute_result"
    }
   ],
   "source": [
    "U = np.transpose([[0.50000000,  0.50000000,  0.00000000],\n",
    "                  [0.50000000, -0.50000000,  2.00000000],\n",
    "                  [1.00000000, -1.00000000,  0.00000000]])\n",
    "Ur = reduced_cell(U)\n",
    "Nu = Ur.niggli\n",
    "np.transpose(Nu)"
   ]
  },
  {
   "cell_type": "code",
   "execution_count": 209,
   "metadata": {
    "collapsed": false
   },
   "outputs": [],
   "source": [
    "Uh=[]\n",
    "for h in Hn:\n",
    "    S = np.matmul(Nu, h)\n",
    "    Hu = hermite_normal_form(np.matmul(np.linalg.inv(U),S))\n",
    "    Uh.append(Hu[0])\n",
    "    t = Hu[0]\n",
    "    a = t[0][0]\n",
    "    b = t[1][0]\n",
    "    c = t[1][1]\n",
    "    d = t[2][0]\n",
    "    e = t[2][1]\n",
    "    f = t[2][2]\n",
    "    assert np.allclose((2*b)%c,0)\n",
    "    assert np.allclose((b+2*d)%f,0)\n",
    "    assert np.allclose((-b-(2*b*e)/c)%f,0)\n",
    "    assert np.allclose((c+2*e)%f,0)\n",
    "    assert np.allclose((-c-2*e)%f,0)"
   ]
  },
  {
   "cell_type": "code",
   "execution_count": 235,
   "metadata": {
    "collapsed": false
   },
   "outputs": [
    {
     "name": "stdout",
     "output_type": "stream",
     "text": [
      "138\n"
     ]
    }
   ],
   "source": [
    "for i, h in enumerate(Uh):\n",
    "    if np.allclose(h,hnf):\n",
    "        print(i)"
   ]
  },
  {
   "cell_type": "code",
   "execution_count": 247,
   "metadata": {
    "collapsed": false
   },
   "outputs": [],
   "source": [
    "rat2 = np.linalg.inv(np.transpose(np.matmul(lat,Uh[138])))\n",
    "rat3 = np.linalg.inv(np.transpose(np.matmul(Nu,Hn[138])))"
   ]
  },
  {
   "cell_type": "code",
   "execution_count": 248,
   "metadata": {
    "collapsed": false
   },
   "outputs": [
    {
     "data": {
      "text/plain": [
       "array([[ 7.,  0.,  0.],\n",
       "       [ 2.,  4.,  0.],\n",
       "       [ 2.,  4.,  6.]])"
      ]
     },
     "execution_count": 248,
     "metadata": {},
     "output_type": "execute_result"
    }
   ],
   "source": [
    "Uh[138]"
   ]
  },
  {
   "cell_type": "code",
   "execution_count": 241,
   "metadata": {
    "collapsed": true
   },
   "outputs": [],
   "source": [
    "from phenum.grouptheory import _is_equiv_lattice"
   ]
  },
  {
   "cell_type": "code",
   "execution_count": 249,
   "metadata": {
    "collapsed": false
   },
   "outputs": [
    {
     "name": "stdout",
     "output_type": "stream",
     "text": [
      "True\n",
      "True\n",
      "True\n"
     ]
    }
   ],
   "source": [
    "print(_is_equiv_lattice(grid,rat2,1E-3))\n",
    "print(_is_equiv_lattice(grid,rat3,1E-3))\n",
    "print(_is_equiv_lattice(rat2,rat3,1E-3))"
   ]
  },
  {
   "cell_type": "code",
   "execution_count": 250,
   "metadata": {
    "collapsed": false
   },
   "outputs": [
    {
     "data": {
      "text/plain": [
       "array([[ 0.14285714,  0.14285714,  0.        ],\n",
       "       [-0.25      ,  0.25      ,  0.125     ],\n",
       "       [ 0.01190476, -0.1547619 ,  0.        ]])"
      ]
     },
     "execution_count": 250,
     "metadata": {},
     "output_type": "execute_result"
    }
   ],
   "source": [
    "np.transpose(rat3)"
   ]
  },
  {
   "cell_type": "code",
   "execution_count": 265,
   "metadata": {
    "collapsed": false
   },
   "outputs": [
    {
     "name": "stdout",
     "output_type": "stream",
     "text": [
      "[[  7.   0.   0.]\n",
      " [  6.   4.  12.]\n",
      " [  0.  -2.   0.]]\n"
     ]
    }
   ],
   "source": [
    "temp_h = np.round(np.matmul(np.transpose(rlat),np.linalg.inv(np.transpose(rat3))),6)\n",
    "print(temp_h)"
   ]
  },
  {
   "cell_type": "code",
   "execution_count": 266,
   "metadata": {
    "collapsed": false
   },
   "outputs": [
    {
     "data": {
      "text/plain": [
       "(array([[ 7.,  0.,  0.],\n",
       "        [ 2.,  4.,  0.],\n",
       "        [ 2.,  4.,  6.]]), array([[ 1.,  0.,  0.],\n",
       "        [-1., -2., -3.],\n",
       "        [ 0.,  1.,  1.]]))"
      ]
     },
     "execution_count": 266,
     "metadata": {},
     "output_type": "execute_result"
    }
   ],
   "source": [
    "hermite_normal_form(temp_h)"
   ]
  },
  {
   "cell_type": "code",
   "execution_count": null,
   "metadata": {
    "collapsed": true
   },
   "outputs": [],
   "source": []
  }
 ],
 "metadata": {
  "kernelspec": {
   "display_name": "Python 2",
   "language": "python",
   "name": "python2"
  },
  "language_info": {
   "codemirror_mode": {
    "name": "ipython",
    "version": 2
   },
   "file_extension": ".py",
   "mimetype": "text/x-python",
   "name": "python",
   "nbconvert_exporter": "python",
   "pygments_lexer": "ipython2",
   "version": "2.7.9"
  }
 },
 "nbformat": 4,
 "nbformat_minor": 2
}
