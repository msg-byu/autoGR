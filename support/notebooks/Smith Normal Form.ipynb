{
 "cells": [
  {
   "cell_type": "code",
   "execution_count": 7,
   "metadata": {
    "collapsed": true
   },
   "outputs": [],
   "source": [
    "import numpy as np\n",
    "from fractions import gcd"
   ]
  },
  {
   "cell_type": "code",
   "execution_count": 13,
   "metadata": {
    "collapsed": true
   },
   "outputs": [],
   "source": [
    "def psi(a,b):\n",
    "    temp = int(np.floor(a/b))\n",
    "    r = a-temp*b\n",
    "    return r"
   ]
  },
  {
   "cell_type": "code",
   "execution_count": 37,
   "metadata": {
    "collapsed": true
   },
   "outputs": [],
   "source": [
    "def LHNF(H,A):\n",
    "    LH = np.transpose(H)\n",
    "    U = np.matmul(H,np.linalg.inv(A))\n",
    "    return  (LH, U)"
   ]
  },
  {
   "cell_type": "code",
   "execution_count": 122,
   "metadata": {
    "collapsed": false
   },
   "outputs": [],
   "source": [
    "def HNF(A, V):\n",
    "    \"\"\"\n",
    "    Args:\n",
    "        A (list): a 3x3 input matrix.\n",
    "        V (list): a 3x3 input matrix.\n",
    "        \n",
    "    Returns:\n",
    "        A (list): a 3x3 input matrix.\n",
    "        V (list): a 3x3 input matrix.\n",
    "    \"\"\"\n",
    "    A = np.array(A)\n",
    "    V = np.array(V)\n",
    "    for t in range(3):\n",
    "        r = -1\n",
    "        for s in range(3):\n",
    "            if A[s][r+1]!=0 or A[s][t]!=0:\n",
    "                r += 1\n",
    "                ir = s\n",
    "                if t== r and A[s][t] < 0:\n",
    "                    V[:,t] = np.sign(A[s][t])*V[:,t]\n",
    "                    A[:,t] = np.sign(A[s][t])*A[:,t]\n",
    "                else:\n",
    "                    A,V = row_one_gcd(A,V,s,r,t)\n",
    "                for l in range(r-1):\n",
    "                    V[:,l] = V[:,l] - psi(A[s][l],A[s][r])*V[:,r]\n",
    "                    A[:,l] = A[:,l] - psi(A[s][l],A[s][r])*A[:,r]\n",
    "                if t==r:\n",
    "                    break\n",
    "    return (A,V)    "
   ]
  },
  {
   "cell_type": "code",
   "execution_count": 123,
   "metadata": {
    "collapsed": false
   },
   "outputs": [],
   "source": [
    "def row_one_gcd(A,V,i,j,l):\n",
    "    from fractions import gcd\n",
    "    if A[i][j] != 0 and A[i][l] !=0 and j!=l:\n",
    "        d = gcd(A[i][j],A[i][l])\n",
    "        uv_found = False\n",
    "        u=0\n",
    "        v=0\n",
    "        while not uv_found:\n",
    "            v = (d-u*A[i][j])/float(A[i][l])\n",
    "            if v%1 == 0:\n",
    "                v = int(v)\n",
    "                uv_found = True\n",
    "            else: \n",
    "                u += 1\n",
    "        temp = np.transpose(np.dot(np.transpose([V[:,j],V[:,l]]),[[u, -A[i][l]/d],[v, A[i][j]/d]]))\n",
    "        V[:,j] = temp[0]\n",
    "        V[:,l] = temp[1]\n",
    "        temp = np.transpose(np.dot(np.transpose([A[:,j],A[:,l]]),[[u, -A[i][l]/d],[v, A[i][j]/d]]))\n",
    "        A[:,j] = temp[0]\n",
    "        A[:,l] = temp[1]\n",
    "    return (A,V)"
   ]
  },
  {
   "cell_type": "code",
   "execution_count": 159,
   "metadata": {
    "collapsed": true
   },
   "outputs": [],
   "source": [
    "def diagtosmith(A,U,V):\n",
    "    \"\"\"\n",
    "    Args:\n",
    "        A (list): a 3x3 input matrix.\n",
    "        U (list): a vector of 3 elements.\n",
    "        V (list): a vector of 3 elements.    \n",
    "        \n",
    "    Returns:\n",
    "        A (list): a 3x3 input matrix.\n",
    "        U (list): a 3x3 input matrix.\n",
    "        V (list): a 3x3 input matrix.\n",
    "    \"\"\"\n",
    "    U = np.array(U)\n",
    "    A = np.array(A)\n",
    "    V = np.array(V)\n",
    "    for k in range(2):\n",
    "        for l in reversed(range(k,2)):\n",
    "            if not A[l+1][l+1]%A[l][l]==0:\n",
    "                g = A[l][l]*A[l+1][l+1]\n",
    "                A[l][l]=gcd(A[l][l],A[l+1][l+1])\n",
    "                A[l+1][l+1] = g/A[l][l]\n",
    "                d = gcd(A[l][l],A[l+1][l+1])\n",
    "                uv_found = False\n",
    "                u=0\n",
    "                v=0\n",
    "                while not uv_found:\n",
    "                    v = (d-u*A[l][l])/float(A[l+1][l+1])\n",
    "                    if v%1 == 0:\n",
    "                        uv_found = True\n",
    "                    else: \n",
    "                        u += 1\n",
    "                un = np.matmul([[u,v],[-A[l+1][l+1]/d, A[l][l]/d]],[U[:,l],U[:,l+1]])\n",
    "                U[:,l] = un[0]\n",
    "                U[:,l+1] = un[1]\n",
    "                vn = np.transpose(np.matmul(np.transpose([V[:,l],V[:,l+1]]),[[1,-v*A[l+1][l+1]/d],[1, u*A[l][l]/d]]))\n",
    "                V[:,l] = vn[0]\n",
    "                V[:,l+1] = vn[1]\n",
    "    for l in range(3):\n",
    "        if A[l][l] !=0:\n",
    "            beta = np.sign(A[l][l])\n",
    "            V[:,l] = V[:,l]*beta\n",
    "            A[l][l] = A[l][l]*beta\n",
    "    return (A,U,V)"
   ]
  },
  {
   "cell_type": "code",
   "execution_count": 180,
   "metadata": {
    "collapsed": true
   },
   "outputs": [],
   "source": [
    "def SNF(A):\n",
    "    U = [[1,0,0],[0,1,0],[0,0,1]]\n",
    "    V = [[1,0,0],[0,1,0],[0,0,1]]\n",
    "    count = 0\n",
    "    while not np.allclose([A[0][1],A[0][2],A[1][2],A[1][0],A[2][0],A[2][1]],0):\n",
    "        print(\"count\",count)\n",
    "        A, V = HNF(A, V)\n",
    "        A, U = LHNF(A, U)\n",
    "        count += 1\n",
    "    #A, U, V = diagtosmith(A,U,V)\n",
    "    return A, U, V"
   ]
  },
  {
   "cell_type": "code",
   "execution_count": 190,
   "metadata": {
    "collapsed": false
   },
   "outputs": [
    {
     "name": "stdout",
     "output_type": "stream",
     "text": [
      "74025.0\n",
      "('count', 0)\n",
      "('count', 1)\n"
     ]
    },
    {
     "data": {
      "text/plain": [
       "array([[  63,    0,    0],\n",
       "       [   0,    1,    0],\n",
       "       [   0,    0, 1175]])"
      ]
     },
     "execution_count": 190,
     "metadata": {},
     "output_type": "execute_result"
    }
   ],
   "source": [
    "A = [[63,0,0],[0,1,0],[0,432,1175]]\n",
    "print(np.linalg.det(A))\n",
    "S,U,V = SNF(A)\n",
    "S"
   ]
  },
  {
   "cell_type": "code",
   "execution_count": 189,
   "metadata": {
    "collapsed": false
   },
   "outputs": [
    {
     "data": {
      "text/plain": [
       "array([[  63,    0,    0],\n",
       "       [   0,    1, -432],\n",
       "       [   0,    0, 1175]])"
      ]
     },
     "execution_count": 189,
     "metadata": {},
     "output_type": "execute_result"
    }
   ],
   "source": [
    "np.round(np.matmul(U,np.matmul(A,V)),1).astype(int)"
   ]
  },
  {
   "cell_type": "code",
   "execution_count": 170,
   "metadata": {
    "collapsed": false
   },
   "outputs": [
    {
     "data": {
      "text/plain": [
       "array([[       1,      -63,  4663575],\n",
       "       [       0,        1,   -74025],\n",
       "       [       0,     -432, 31978801]])"
      ]
     },
     "execution_count": 170,
     "metadata": {},
     "output_type": "execute_result"
    }
   ],
   "source": [
    "np.round(U).astype(int)"
   ]
  },
  {
   "cell_type": "code",
   "execution_count": 179,
   "metadata": {
    "collapsed": false
   },
   "outputs": [
    {
     "data": {
      "text/plain": [
       "(array([[  63,    0,    0],\n",
       "        [   0,    1,    0],\n",
       "        [   0,  432, 1175]]), array([[1, 0, 0],\n",
       "        [0, 1, 0],\n",
       "        [0, 0, 1]]))"
      ]
     },
     "execution_count": 179,
     "metadata": {},
     "output_type": "execute_result"
    }
   ],
   "source": [
    "HNF(A,[[1,0,0],[0,1,0],[0,0,1]])"
   ]
  },
  {
   "cell_type": "code",
   "execution_count": 191,
   "metadata": {
    "collapsed": true
   },
   "outputs": [],
   "source": [
    "temp = [[3,      0,      0],\n",
    "        [0,      1,      0],\n",
    "        [717,    707,    830]]"
   ]
  },
  {
   "cell_type": "code",
   "execution_count": 344,
   "metadata": {
    "collapsed": false
   },
   "outputs": [],
   "source": [
    "def get_min_val(N):\n",
    "    \"\"\"Finds the minimum value of a matrix that's not in a row or\n",
    "    column of zeros.\n",
    "    \n",
    "    Args:\n",
    "        N (list): The input matrix.\n",
    "    Returns:\n",
    "        The minimum value in the matrix that isn't already in\n",
    "        a zeroed row or column.\"\"\"\n",
    "    \n",
    "    temp_N = abs(N)\n",
    "    list_N = sorted(temp_N.flatten())\n",
    "    for v in list_N:\n",
    "        if v == 0:\n",
    "            continue\n",
    "        row, col = np.argwhere(temp_N==v)[0]\n",
    "        if (list(temp_N[:,col]).count(0) < 2 or \n",
    "            list(temp_N[row,:]).count(0) < 2):\n",
    "            return N[row,col], row, col\n",
    "        else:\n",
    "            temp_N[row,col] = -1\n",
    "    print(\"N\",N)\n",
    "    print(\"temp_N\",temp_N)"
   ]
  },
  {
   "cell_type": "code",
   "execution_count": 355,
   "metadata": {
    "collapsed": false
   },
   "outputs": [],
   "source": [
    "def Rods_way(N):\n",
    "    \"\"\"Finds the SmithNormalForm by reducing starting with the \n",
    "    smallest entry in the matrix.\n",
    "    \n",
    "    Args:\n",
    "        N (list): An integer 3x3 matrix.\n",
    "        \n",
    "    Returns:\n",
    "        L,S,R: the left transform, the SNF and the right \n",
    "        transform.\n",
    "    \"\"\"\n",
    "    from copy import deepcopy\n",
    "    S = np.array(N)\n",
    "    L = np.identity(3)\n",
    "    R = np.identity(3)\n",
    "    \n",
    "    is_snf = False\n",
    "    cur_diag = 0\n",
    "    count = 0\n",
    "    while not is_snf and count < 100:\n",
    "        min_val, row, col = get_min_val(S)\n",
    "        #First reduce the row\n",
    "        for j in range(3):\n",
    "            if j == col:\n",
    "                continue\n",
    "            multiple = int(S[row,j]/min_val)\n",
    "            if multiple==0:\n",
    "                continue\n",
    "            S[:,j] = S[:,j]-multiple*S[:,col]\n",
    "            R[:,j] = R[:,j]-multiple*R[:,col]\n",
    "            \n",
    "        #then reduce the column\n",
    "        for j in range(3):\n",
    "            if j == row:\n",
    "                continue\n",
    "            multiple = int(S[j,col]/min_val)\n",
    "            if multiple==0:\n",
    "                continue\n",
    "            S[j,:] = S[j,:]-multiple*S[row,:]\n",
    "            L[j,:] = L[j,:]-multiple*L[row,:]\n",
    "\n",
    "        if (np.allclose(S[cur_diag:,cur_diag:]%min_val,0)):\n",
    "            if cur_diag != col:\n",
    "                #Swap rows and columns\n",
    "                tmp_col = deepcopy(S[:,cur_diag])\n",
    "                S[:,cur_diag] = deepcopy(S[:,col])\n",
    "                S[:,col] = tmp_col\n",
    "                tmp_col = deepcopy(R[:,cur_diag])\n",
    "                R[:,cur_diag] = deepcopy(R[:,col]) \n",
    "                R[:,col] = tmp_col\n",
    "            if cur_diag != row:\n",
    "                tmp_row = deepcopy(S[cur_diag,:])\n",
    "                S[cur_diag,:] = deepcopy(S[row,:])\n",
    "                S[row,:] = tmp_row\n",
    "                tmp_row = deepcopy(L[cur_diag,:])\n",
    "                L[cur_diag,:] = deepcopy(L[row,:])\n",
    "                L[row,:] = tmp_row     \n",
    "            cur_diag += 1\n",
    "\n",
    "        count += 1\n",
    "        if ((S[0][1]==0 and S[0][2]==0 and S[1][0]==0 and S[1][2]==0\n",
    "            and S[2][0]==0 and S[2][1]==0)  and S[2][2]%S[1][1]==0 \n",
    "            and S[1][1]%S[0][0]==0):\n",
    "            is_snf = True\n",
    "        if (cur_diag==0 and row == 0 and col == 0 and\n",
    "            list(S[0,:]).count(0)==2 and list(S[:,0]).count(0)==2 and\n",
    "            not sp.allclose(S%min_val,0)):\n",
    "                mrow, mcol = np.argwhere(S==S.max())\n",
    "                S[0,:] = S[0, :] + S[mrow,:]\n",
    "                L[0,:] = L[0, :] + L[mrow,:]\n",
    "        if ((cur_diag==1) and\n",
    "            list(S[1,:]).count(0)==2 and list(S[:,1]).count(0)==2 and\n",
    "            not np.allclose(S[1:,1:]%min_val,0)):\n",
    "                S[1,:] = S[1, :] + S[2,:]\n",
    "                L[1,:] = L[1, :] + L[2,:]\n",
    "        for j in range(3):\n",
    "            if S[j,j] < 0:\n",
    "                S[j,:] = -S[j,:]\n",
    "                L[j,:] = -L[j,:]\n",
    "    if count == 100:\n",
    "        print(\"Failed to find SNF in 100 iterations.\")\n",
    "    if not np.allclose(np.matmul(np.matmul(L,N),R),S):\n",
    "        print(\"Transformation failed in SNF.\")\n",
    "            \n",
    "    return L, S, R"
   ]
  },
  {
   "cell_type": "code",
   "execution_count": 356,
   "metadata": {
    "collapsed": false
   },
   "outputs": [
    {
     "name": "stdout",
     "output_type": "stream",
     "text": [
      "[[      0.       1.       0.]\n",
      " [   -238.    -707.       1.]\n",
      " [-197779. -587517.     831.]]\n",
      "[[   1    0    0]\n",
      " [   0    1    0]\n",
      " [   0    0 2490]]\n",
      "[[   0.  277. -830.]\n",
      " [   1.    0.    0.]\n",
      " [   0.   -1.    3.]]\n"
     ]
    }
   ],
   "source": [
    "np.set_printoptions(suppress=True)\n",
    "N = np.array([[3,0,0],[0,1,0],[717,707,830]])\n",
    "L,S,R = Rods_way(N)\n",
    "print(L)\n",
    "print(S)\n",
    "print(R)"
   ]
  },
  {
   "cell_type": "code",
   "execution_count": 353,
   "metadata": {
    "collapsed": false
   },
   "outputs": [
    {
     "data": {
      "text/plain": [
       "array([[    1.,     0.,     0.],\n",
       "       [    0.,     1.,     0.],\n",
       "       [    0.,     0.,  2910.]])"
      ]
     },
     "execution_count": 353,
     "metadata": {},
     "output_type": "execute_result"
    }
   ],
   "source": [
    "np.matmul(np.matmul(L,N),R)\n"
   ]
  },
  {
   "cell_type": "code",
   "execution_count": 247,
   "metadata": {
    "collapsed": false
   },
   "outputs": [
    {
     "data": {
      "text/plain": [
       "[1, 2, 3, 4, 5, 6, 7, 8, 9]"
      ]
     },
     "execution_count": 247,
     "metadata": {},
     "output_type": "execute_result"
    }
   ],
   "source": [
    "sorted(abs(N).flatten())"
   ]
  },
  {
   "cell_type": "code",
   "execution_count": 249,
   "metadata": {
    "collapsed": false
   },
   "outputs": [
    {
     "data": {
      "text/plain": [
       "2"
      ]
     },
     "execution_count": 249,
     "metadata": {},
     "output_type": "execute_result"
    }
   ],
   "source": [
    "a = [0,1,0]\n",
    "a.count(0)"
   ]
  },
  {
   "cell_type": "code",
   "execution_count": 273,
   "metadata": {
    "collapsed": false
   },
   "outputs": [
    {
     "data": {
      "text/plain": [
       "-3.0000000000000018"
      ]
     },
     "execution_count": 273,
     "metadata": {},
     "output_type": "execute_result"
    }
   ],
   "source": [
    "np.linalg.det(N)"
   ]
  },
  {
   "cell_type": "code",
   "execution_count": 275,
   "metadata": {
    "collapsed": false
   },
   "outputs": [
    {
     "data": {
      "text/plain": [
       "True"
      ]
     },
     "execution_count": 275,
     "metadata": {},
     "output_type": "execute_result"
    }
   ],
   "source": [
    "np.allclose(N%1,0)"
   ]
  },
  {
   "cell_type": "code",
   "execution_count": 278,
   "metadata": {
    "collapsed": false
   },
   "outputs": [
    {
     "data": {
      "text/plain": [
       "array([[5, 6],\n",
       "       [8, 9]])"
      ]
     },
     "execution_count": 278,
     "metadata": {},
     "output_type": "execute_result"
    }
   ],
   "source": [
    "N[1:,1:]"
   ]
  },
  {
   "cell_type": "code",
   "execution_count": 347,
   "metadata": {
    "collapsed": false
   },
   "outputs": [
    {
     "data": {
      "text/plain": [
       "950"
      ]
     },
     "execution_count": 347,
     "metadata": {},
     "output_type": "execute_result"
    }
   ],
   "source": [
    "N.max()"
   ]
  },
  {
   "cell_type": "code",
   "execution_count": 357,
   "metadata": {
    "collapsed": false
   },
   "outputs": [
    {
     "data": {
      "text/plain": [
       "'/Users/wileymorgan/codes/opf_kgrids/support/notebooks'"
      ]
     },
     "execution_count": 357,
     "metadata": {},
     "output_type": "execute_result"
    }
   ],
   "source": [
    "from os import getcwd\n",
    "getcwd()"
   ]
  },
  {
   "cell_type": "code",
   "execution_count": null,
   "metadata": {
    "collapsed": true
   },
   "outputs": [],
   "source": []
  }
 ],
 "metadata": {
  "kernelspec": {
   "display_name": "Python 2",
   "language": "python",
   "name": "python2"
  },
  "language_info": {
   "codemirror_mode": {
    "name": "ipython",
    "version": 2
   },
   "file_extension": ".py",
   "mimetype": "text/x-python",
   "name": "python",
   "nbconvert_exporter": "python",
   "pygments_lexer": "ipython2",
   "version": "2.7.9"
  }
 },
 "nbformat": 4,
 "nbformat_minor": 2
}
