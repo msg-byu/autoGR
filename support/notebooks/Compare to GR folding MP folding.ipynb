{
 "cells": [
  {
   "cell_type": "code",
   "execution_count": 2,
   "metadata": {
    "collapsed": true,
    "deletable": true,
    "editable": true
   },
   "outputs": [],
   "source": [
    "import numpy as np\n",
    "import matplotlib.pyplot as plt"
   ]
  },
  {
   "cell_type": "code",
   "execution_count": 3,
   "metadata": {
    "collapsed": false,
    "deletable": true,
    "editable": true
   },
   "outputs": [
    {
     "name": "stdout",
     "output_type": "stream",
     "text": [
      "('MP', array([ 35.2,  10.3,  37.2,  13.8,   3.8,   6.4,   2. ,  35.9,   2.1,\n",
      "        14.4,  11.1,  10.9,   7.5,   3.9,   6.4,   3.8,   3.8,   6.9,\n",
      "         7. ,  35.1,   2. ,   3.8,  34.4,   6.6,   6.8,   3.8,   6.6,\n",
      "         4. ,   3.8,  12.8,   3.8,   6.7,   2. ,   2. ,  19.6,   3.8,\n",
      "         3.8,   3.8,   2. ,   2. ,   2. ]))\n",
      "('GR', array([ 40.9,  14.7,  40.9,  15.5,   4. ,   6.4,   2. ,  40.9,   4. ,\n",
      "        43.5,  10.3,  11.2,   8. ,  10.8,   8. ,   7.8,   8. ,   7.7,\n",
      "         8. ,  40.9,   2. ,   4. ,  36.6,   7.8,  12.2,   7.4,   7.6,\n",
      "         8. ,   9.6,  12.7,   4. ,  16.7,   2. ,   2. ,  17.9,   8.7,\n",
      "         4. ,   4. ,   2. ,   2. ,   2. ]))\n"
     ]
    }
   ],
   "source": [
    "# Omitted: 8 (POSCAR), 11 (SYM: VASP: 2 US: 4), 20 (SYM: VASP: 4 US: 8), 40 (SYM: VASP: 4, US: 8)\n",
    "MP = [21952./624., 2028./196., 27000./752., 35937./2601., \n",
    "      6859./1810., 2197./343., 9261./4631., 27000./752.,\n",
    "     7600./3700., 103823./7200. , 50653./4579.,\n",
    "     35937./3292., 27000./3615., 19683./5110., 17576./2744.,\n",
    "     10648./2783.,9261./2431., 8000./1166., 12167./1728., \n",
    "      46656./1330., 8000./4000., 6859./1810., 17576./511.,\n",
    "     8000./1210., 5832./855., 4096./1088., 3375./512.,\n",
    "      2744./686., 10648./2783., 9261./726., 9261./2431., \n",
    "     4913./729., 3375./1688., 3375./1688., 35937./1836.,\n",
    "     17576./4576., 12167./3180., 6859./1810., 5832./2916.,\n",
    "     4913./2457., 4096./2048.]\n",
    "GR = [23328./570.,2116./144., 27436./670., 35912./2312.,\n",
    "      6924./1731., 2197./343., 9375./4688., 27436./670.,\n",
    "     7512./1878.,  108000./2480., 51623./5010.,\n",
    "     34425./3080., 25804./3226., 20655./1920., 17212./2158.,\n",
    "     10736./1384., 9388./1174., 8346./1080., 12676./1585, \n",
    "     46656./1140., 7750./3875., 7094./1774., 18522./506.,\n",
    "     8378./1080, 5600./459., 4182./567., 3362./441., \n",
    "     2792./350., 11154./1162., 9747./770., 8668./2167.,\n",
    "     5120./306., 3502./1751., 3136./1568., 35017./1960.,\n",
    "     17520./2011., 11672./2918., 7002./1751., 5824./2912., \n",
    "     5002./2501., 4352./2176.]\n",
    "sym_ops = [48, 16, 48, 16, 4, 8, 2, 48, 4, 48, 12, 12, 8, \n",
    "           12, 8, 8, 8, 8, 8, 48, 2, 4, 48, 8, 16, 8, 8,\n",
    "          8, 12, 16, 4, 24, 2, 2, 24, 12, 4, 4, 2, 2, 2]\n",
    "print(\"MP\",np.round(MP,1))\n",
    "print(\"GR\",np.round(GR,1))"
   ]
  },
  {
   "cell_type": "code",
   "execution_count": 223,
   "metadata": {
    "collapsed": false,
    "deletable": true,
    "editable": true
   },
   "outputs": [
    {
     "name": "stdout",
     "output_type": "stream",
     "text": [
      "('Averages: ', 0.92077340654542272, 0.74970732484604319)\n",
      "('max: ', 1.0, 1.0)\n",
      "('min: ', 0.6971677559912854, 0.28080704160951075)\n"
     ]
    }
   ],
   "source": [
    "GR_frac = []\n",
    "MP_frac = []\n",
    "for i in range(len(MP)):\n",
    "    GR_frac.append(GR[i]/float(sym_ops[i])) \n",
    "    MP_frac.append(MP[i]/float(sym_ops[i]))\n",
    "print(\"Averages: \",np.mean(GR_frac), np.mean(MP_frac))\n",
    "print(\"max: \", max(GR_frac), max(MP_frac))\n",
    "print(\"min: \", min(GR_frac), min(MP_frac))"
   ]
  },
  {
   "cell_type": "code",
   "execution_count": 224,
   "metadata": {
    "collapsed": false,
    "deletable": true,
    "editable": true
   },
   "outputs": [
    {
     "data": {
      "image/png": "[encoded data removed]",
      "text/plain": [
       "<matplotlib.figure.Figure at 0x1149e0510>"
      ]
     },
     "metadata": {},
     "output_type": "display_data"
    }
   ],
   "source": [
    "plt.plot(GR_frac, label=\"GR\")\n",
    "plt.plot(MP_frac, label=\"MP\")\n",
    "plt.ylim(0,1)\n",
    "plt.legend()\n",
    "plt.show()"
   ]
  },
  {
   "cell_type": "markdown",
   "metadata": {
    "deletable": true,
    "editable": true
   },
   "source": [
    "Double check space group size of case 25."
   ]
  },
  {
   "cell_type": "code",
   "execution_count": 227,
   "metadata": {
    "collapsed": false,
    "deletable": true,
    "editable": true
   },
   "outputs": [
    {
     "data": {
      "text/plain": [
       "41"
      ]
     },
     "execution_count": 227,
     "metadata": {},
     "output_type": "execute_result"
    }
   ],
   "source": [
    "len(sym_ops)"
   ]
  },
  {
   "cell_type": "code",
   "execution_count": 182,
   "metadata": {
    "collapsed": false,
    "deletable": true,
    "editable": true
   },
   "outputs": [
    {
     "data": {
      "text/plain": [
       "13"
      ]
     },
     "execution_count": 182,
     "metadata": {},
     "output_type": "execute_result"
    }
   ],
   "source": [
    "GR_frac.index(max(GR_frac))"
   ]
  },
  {
   "cell_type": "code",
   "execution_count": 178,
   "metadata": {
    "collapsed": false,
    "deletable": true,
    "editable": true
   },
   "outputs": [
    {
     "data": {
      "text/plain": [
       "14.41986111111111"
      ]
     },
     "execution_count": 178,
     "metadata": {},
     "output_type": "execute_result"
    }
   ],
   "source": [
    "MP[9]"
   ]
  },
  {
   "cell_type": "code",
   "execution_count": 179,
   "metadata": {
    "collapsed": false,
    "deletable": true,
    "editable": true
   },
   "outputs": [
    {
     "data": {
      "text/plain": [
       "0.30041377314814816"
      ]
     },
     "execution_count": 179,
     "metadata": {},
     "output_type": "execute_result"
    }
   ],
   "source": [
    "MP_frac[9]"
   ]
  },
  {
   "cell_type": "code",
   "execution_count": 183,
   "metadata": {
    "collapsed": false,
    "deletable": true,
    "editable": true
   },
   "outputs": [
    {
     "data": {
      "text/plain": [
       "8"
      ]
     },
     "execution_count": 183,
     "metadata": {},
     "output_type": "execute_result"
    }
   ],
   "source": [
    "sym_ops[13]"
   ]
  },
  {
   "cell_type": "code",
   "execution_count": 228,
   "metadata": {
    "collapsed": true,
    "deletable": true,
    "editable": true
   },
   "outputs": [],
   "source": [
    "from os import getcwd"
   ]
  },
  {
   "cell_type": "code",
   "execution_count": 229,
   "metadata": {
    "collapsed": false,
    "deletable": true,
    "editable": true
   },
   "outputs": [
    {
     "data": {
      "text/plain": [
       "'/Users/wileymorgan/codes/opf_kgrids/src/opf_python'"
      ]
     },
     "execution_count": 229,
     "metadata": {},
     "output_type": "execute_result"
    }
   ],
   "source": [
    "getcwd()"
   ]
  },
  {
   "cell_type": "code",
   "execution_count": 4,
   "metadata": {
    "collapsed": false,
    "deletable": true,
    "editable": true
   },
   "outputs": [
    {
     "data": {
      "text/plain": [
       "41"
      ]
     },
     "execution_count": 4,
     "metadata": {},
     "output_type": "execute_result"
    }
   ],
   "source": [
    "len(GR)"
   ]
  },
  {
   "cell_type": "code",
   "execution_count": null,
   "metadata": {
    "collapsed": true
   },
   "outputs": [],
   "source": []
  }
 ],
 "metadata": {
  "kernelspec": {
   "display_name": "Python 2",
   "language": "python",
   "name": "python2"
  },
  "language_info": {
   "codemirror_mode": {
    "name": "ipython",
    "version": 2
   },
   "file_extension": ".py",
   "mimetype": "text/x-python",
   "name": "python",
   "nbconvert_exporter": "python",
   "pygments_lexer": "ipython2",
   "version": "2.7.9"
  }
 },
 "nbformat": 4,
 "nbformat_minor": 2
}
