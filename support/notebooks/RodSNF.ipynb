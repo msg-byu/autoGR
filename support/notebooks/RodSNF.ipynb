{
 "cells": [
  {
   "cell_type": "code",
   "execution_count": 1,
   "metadata": {
    "collapsed": true,
    "deletable": true,
    "editable": true
   },
   "outputs": [],
   "source": [
    "import numpy as np\n",
    "from fractions import gcd"
   ]
  },
  {
   "cell_type": "code",
   "execution_count": 2,
   "metadata": {
    "collapsed": false,
    "deletable": true,
    "editable": true
   },
   "outputs": [],
   "source": [
    "def get_min_val(N, diag):\n",
    "    \"\"\"Finds the minimum value of a matrix that's not in a row or\n",
    "    column of zeros.\n",
    "    \n",
    "    Args:\n",
    "        N (list): The input matrix.\n",
    "        diag (int): Specifiec index for submatrix.\n",
    "    Returns:\n",
    "        The minimum value in the matrix that isn't already in\n",
    "        a zeroed row or column.\"\"\"\n",
    "    \n",
    "    temp_N = abs(N)\n",
    "    list_N = sorted(temp_N.flatten())\n",
    "    for v in list_N:\n",
    "        if v == 0:\n",
    "            continue\n",
    "        row, col = np.argwhere(temp_N==v)[0]\n",
    "        if ((row >= diag and col >= diag)):\n",
    "            return N[row,col], row, col\n",
    "        else:\n",
    "            temp_N[row,col] = -1"
   ]
  },
  {
   "cell_type": "code",
   "execution_count": 3,
   "metadata": {
    "collapsed": false,
    "deletable": true,
    "editable": true
   },
   "outputs": [],
   "source": [
    "def get_min_loc(M, S, diag):\n",
    "    \"\"\"Finds the location of the maximum value of a matrix that's not in a row or\n",
    "    column of zeros.\n",
    "    \n",
    "    Args:\n",
    "        M (list): The modulus matrix.\n",
    "        S (list): The input matrix.\n",
    "        diag (int): Specifiec index for submatrix.\n",
    "    Returns:\n",
    "        The location of the maximum value in the matrix that isn't already in\n",
    "        a zeroed row or column.\"\"\"\n",
    "    \n",
    "    temp_S = abs(S)\n",
    "    list_S = sorted(temp_S.flatten())\n",
    "    for v in list_S:\n",
    "        if v == 0:\n",
    "            continue\n",
    "        row, col = np.argwhere(temp_S==v)[0]\n",
    "        if (row >= diag and col >= diag and M[row,col]!=0):\n",
    "            return row\n",
    "        else:\n",
    "            temp_S[row,col] = -1"
   ]
  },
  {
   "cell_type": "code",
   "execution_count": 37,
   "metadata": {
    "collapsed": false,
    "deletable": true,
    "editable": true
   },
   "outputs": [],
   "source": [
    "def Rods_way(N):\n",
    "    \"\"\"Finds the SmithNormalForm by reducing starting with the \n",
    "    smallest entry in the matrix.\n",
    "    \n",
    "    Args:\n",
    "        N (list): An integer 3x3 matrix.\n",
    "        \n",
    "    Returns:\n",
    "        L,S,R: the left transform, the SNF and the right \n",
    "        transform.\n",
    "    \"\"\"\n",
    "    from copy import deepcopy\n",
    "    S = np.array(N)\n",
    "    L = np.identity(3)\n",
    "    R = np.identity(3)\n",
    "    \n",
    "    is_snf = False\n",
    "    cur_diag = 0\n",
    "    count = 0\n",
    "    new_pivot = True\n",
    "    # First get the top right corner correct. Steps 1 and 2\n",
    "    while (not is_snf) and count<100:\n",
    "        count += 1\n",
    "        # IF we need a new pivot find it step 1\n",
    "        if new_pivot:\n",
    "            min_val, row, col = get_min_val(S, cur_diag)\n",
    "            \n",
    "        print(\"count\", count)\n",
    "        print(\"S\",S)\n",
    "        print(\"L\",L)\n",
    "        print(\"R\",R)\n",
    "        print(\"curr diag\", cur_diag)\n",
    "        print(\"min_val\", min_val, \"row\", row, \"col\", col)\n",
    "        # step 2\n",
    "        #reduce the column\n",
    "        for j in range(3):\n",
    "            if j == col:\n",
    "                continue\n",
    "            multiple = int(np.round(S[row,j]/min_val))\n",
    "            if multiple==0:\n",
    "                continue\n",
    "            S[:,j] = S[:,j]-multiple*S[:,col]\n",
    "            R[:,j] = R[:,j]-multiple*R[:,col]\n",
    "            \n",
    "        #then reduce the row\n",
    "        for j in range(3):\n",
    "            print(\"reducing row: \",j)            \n",
    "            if j == row:\n",
    "                continue\n",
    "            multiple = int(np.round(S[j,col]/min_val))\n",
    "            if multiple==0:\n",
    "                continue\n",
    "            print(\"multiple\",multiple)\n",
    "            S[j,:] = S[j,:]-multiple*S[row,:]\n",
    "            L[j,:] = L[j,:]-multiple*L[row,:]\n",
    "        \n",
    "        print(\"S2\",S)\n",
    "        print(\"L\",L)\n",
    "        print(\"R\",R)\n",
    "        # Determine which case of 2a-2c we have.\n",
    "        new_pivot=True\n",
    "        if ((list(S[row,:]).count(0)==2) and \n",
    "            list(S[:,col]).count(0)==2): # If this condition is false the we have case \n",
    "                                         # 2a and need a new pivot\n",
    "            # This is either b or c.\n",
    "            if (np.allclose(S[cur_diag:,cur_diag:]%min_val,0)):\n",
    "                #This is 2c move the entry to the top left \n",
    "                if cur_diag < col:\n",
    "                    #Swap rows and columns\n",
    "                    tmp_col = deepcopy(S[:,cur_diag])\n",
    "                    S[:,cur_diag] = deepcopy(S[:,col])\n",
    "                    S[:,col] = tmp_col\n",
    "                    tmp_col = deepcopy(R[:,cur_diag])\n",
    "                    R[:,cur_diag] = deepcopy(R[:,col]) \n",
    "                    R[:,col] = tmp_col\n",
    "                if cur_diag < row:\n",
    "                    tmp_row = deepcopy(S[cur_diag,:])\n",
    "                    S[cur_diag,:] = deepcopy(S[row,:])\n",
    "                    S[row,:] = tmp_row\n",
    "                    tmp_row = deepcopy(L[cur_diag,:])\n",
    "                    L[cur_diag,:] = deepcopy(L[row,:])\n",
    "                    L[row,:] = tmp_row\n",
    "                cur_diag += 1\n",
    "            else:\n",
    "                # This is 2b, find the smallest entry that the pivot\n",
    "                # doesn't divide and add it's row to the pivot row\n",
    "                mods = S%min_val\n",
    "                new_pivot = False\n",
    "                min_row = get_min_loc(mods, S, cur_diag)\n",
    "                S[row,:] = S[row,:] + S[min_row,:]\n",
    "                L[row,:] = L[row,:] + L[min_row,:]  \n",
    "        print(\"S3\",S)\n",
    "        print(\"L\",L)\n",
    "        print(\"R\",R)\n",
    "        \n",
    "        if (np.allclose([S[0][1],S[0][2],S[1][0],S[1][2],\n",
    "                         S[2][0],S[2][1]], 0) and \n",
    "            S[1][1]%S[0][0]==0 and S[2][2]%S[1][1]==0):\n",
    "            is_snf = True\n",
    "            \n",
    "    for j in range(3):\n",
    "        if S[j,j] < 0:\n",
    "            S[j,:] = -S[j,:]\n",
    "            L[j,:] = -L[j,:]\n",
    "            \n",
    "    if count == 100:\n",
    "        print(\"Failed to find SNF in 100 iterations.\")\n",
    "    if not np.allclose(np.matmul(np.matmul(L,N),R),S):\n",
    "        print(\"Transformation failed in SNF.\")\n",
    "            \n",
    "    return L, S, R"
   ]
  },
  {
   "cell_type": "code",
   "execution_count": 38,
   "metadata": {
    "collapsed": false,
    "deletable": true,
    "editable": true
   },
   "outputs": [
    {
     "name": "stdout",
     "output_type": "stream",
     "text": [
      "('count', 1)\n",
      "('S', array([[  2,   0,   0],\n",
      "       [  0,   9,   0],\n",
      "       [120,   7, 139]]))\n",
      "('L', array([[ 1.,  0.,  0.],\n",
      "       [ 0.,  1.,  0.],\n",
      "       [ 0.,  0.,  1.]]))\n",
      "('R', array([[ 1.,  0.,  0.],\n",
      "       [ 0.,  1.,  0.],\n",
      "       [ 0.,  0.,  1.]]))\n",
      "('curr diag', 0)\n",
      "('min_val', 2, 'row', 0, 'col', 0)\n",
      "('reducing row: ', 0)\n",
      "('reducing row: ', 1)\n",
      "('reducing row: ', 2)\n",
      "('multiple', 60)\n",
      "('S2', array([[  2,   0,   0],\n",
      "       [  0,   9,   0],\n",
      "       [  0,   7, 139]]))\n",
      "('L', array([[  1.,   0.,   0.],\n",
      "       [  0.,   1.,   0.],\n",
      "       [-60.,   0.,   1.]]))\n",
      "('R', array([[ 1.,  0.,  0.],\n",
      "       [ 0.,  1.,  0.],\n",
      "       [ 0.,  0.,  1.]]))\n",
      "('S3', array([[  2,   7, 139],\n",
      "       [  0,   9,   0],\n",
      "       [  0,   7, 139]]))\n",
      "('L', array([[-59.,   0.,   1.],\n",
      "       [  0.,   1.,   0.],\n",
      "       [-60.,   0.,   1.]]))\n",
      "('R', array([[ 1.,  0.,  0.],\n",
      "       [ 0.,  1.,  0.],\n",
      "       [ 0.,  0.,  1.]]))\n",
      "('count', 2)\n",
      "('S', array([[  2,   7, 139],\n",
      "       [  0,   9,   0],\n",
      "       [  0,   7, 139]]))\n",
      "('L', array([[-59.,   0.,   1.],\n",
      "       [  0.,   1.,   0.],\n",
      "       [-60.,   0.,   1.]]))\n",
      "('R', array([[ 1.,  0.,  0.],\n",
      "       [ 0.,  1.,  0.],\n",
      "       [ 0.,  0.,  1.]]))\n",
      "('curr diag', 0)\n",
      "('min_val', 2, 'row', 0, 'col', 0)\n",
      "('reducing row: ', 0)\n",
      "('reducing row: ', 1)\n",
      "('reducing row: ', 2)\n",
      "('S2', array([[  2,   1,   1],\n",
      "       [  0,   9,   0],\n",
      "       [  0,   7, 139]]))\n",
      "('L', array([[-59.,   0.,   1.],\n",
      "       [  0.,   1.,   0.],\n",
      "       [-60.,   0.,   1.]]))\n",
      "('R', array([[  1.,  -3., -69.],\n",
      "       [  0.,   1.,   0.],\n",
      "       [  0.,   0.,   1.]]))\n",
      "('S3', array([[  2,   1,   1],\n",
      "       [  0,   9,   0],\n",
      "       [  0,   7, 139]]))\n",
      "('L', array([[-59.,   0.,   1.],\n",
      "       [  0.,   1.,   0.],\n",
      "       [-60.,   0.,   1.]]))\n",
      "('R', array([[  1.,  -3., -69.],\n",
      "       [  0.,   1.,   0.],\n",
      "       [  0.,   0.,   1.]]))\n",
      "('count', 3)\n",
      "('S', array([[  2,   1,   1],\n",
      "       [  0,   9,   0],\n",
      "       [  0,   7, 139]]))\n",
      "('L', array([[-59.,   0.,   1.],\n",
      "       [  0.,   1.,   0.],\n",
      "       [-60.,   0.,   1.]]))\n",
      "('R', array([[  1.,  -3., -69.],\n",
      "       [  0.,   1.,   0.],\n",
      "       [  0.,   0.,   1.]]))\n",
      "('curr diag', 0)\n",
      "('min_val', 1, 'row', 0, 'col', 1)\n",
      "('reducing row: ', 0)\n",
      "('reducing row: ', 1)\n",
      "('multiple', 9)\n",
      "('reducing row: ', 2)\n",
      "('multiple', 7)\n",
      "('S2', array([[  0,   1,   0],\n",
      "       [-18,   0,  -9],\n",
      "       [-14,   0, 132]]))\n",
      "('L', array([[ -59.,    0.,    1.],\n",
      "       [ 531.,    1.,   -9.],\n",
      "       [ 353.,    0.,   -6.]]))\n",
      "('R', array([[  7.,  -3., -66.],\n",
      "       [ -2.,   1.,  -1.],\n",
      "       [  0.,   0.,   1.]]))\n",
      "('S3', array([[  1,   0,   0],\n",
      "       [  0, -18,  -9],\n",
      "       [  0, -14, 132]]))\n",
      "('L', array([[ -59.,    0.,    1.],\n",
      "       [ 531.,    1.,   -9.],\n",
      "       [ 353.,    0.,   -6.]]))\n",
      "('R', array([[ -3.,   7., -66.],\n",
      "       [  1.,  -2.,  -1.],\n",
      "       [  0.,   0.,   1.]]))\n",
      "('count', 4)\n",
      "('S', array([[  1,   0,   0],\n",
      "       [  0, -18,  -9],\n",
      "       [  0, -14, 132]]))\n",
      "('L', array([[ -59.,    0.,    1.],\n",
      "       [ 531.,    1.,   -9.],\n",
      "       [ 353.,    0.,   -6.]]))\n",
      "('R', array([[ -3.,   7., -66.],\n",
      "       [  1.,  -2.,  -1.],\n",
      "       [  0.,   0.,   1.]]))\n",
      "('curr diag', 1)\n",
      "('min_val', -9, 'row', 1, 'col', 2)\n",
      "('reducing row: ', 0)\n",
      "('reducing row: ', 1)\n",
      "('reducing row: ', 2)\n",
      "('multiple', -15)\n",
      "('S2', array([[   1,    0,    0],\n",
      "       [   0,    0,   -9],\n",
      "       [   0, -278,   -3]]))\n",
      "('L', array([[  -59.,     0.,     1.],\n",
      "       [  531.,     1.,    -9.],\n",
      "       [ 8318.,    15.,  -141.]]))\n",
      "('R', array([[  -3.,  139.,  -66.],\n",
      "       [   1.,    0.,   -1.],\n",
      "       [   0.,   -2.,    1.]]))\n",
      "('S3', array([[   1,    0,    0],\n",
      "       [   0,    0,   -9],\n",
      "       [   0, -278,   -3]]))\n",
      "('L', array([[  -59.,     0.,     1.],\n",
      "       [  531.,     1.,    -9.],\n",
      "       [ 8318.,    15.,  -141.]]))\n",
      "('R', array([[  -3.,  139.,  -66.],\n",
      "       [   1.,    0.,   -1.],\n",
      "       [   0.,   -2.,    1.]]))\n",
      "('count', 5)\n",
      "('S', array([[   1,    0,    0],\n",
      "       [   0,    0,   -9],\n",
      "       [   0, -278,   -3]]))\n",
      "('L', array([[  -59.,     0.,     1.],\n",
      "       [  531.,     1.,    -9.],\n",
      "       [ 8318.,    15.,  -141.]]))\n",
      "('R', array([[  -3.,  139.,  -66.],\n",
      "       [   1.,    0.,   -1.],\n",
      "       [   0.,   -2.,    1.]]))\n",
      "('curr diag', 1)\n",
      "('min_val', -3, 'row', 2, 'col', 2)\n",
      "('reducing row: ', 0)\n",
      "('reducing row: ', 1)\n",
      "('multiple', 3)\n",
      "('reducing row: ', 2)\n",
      "('S2', array([[  1,   0,   0],\n",
      "       [  0, 834,   0],\n",
      "       [  0,  -2,  -3]]))\n",
      "('L', array([[   -59.,      0.,      1.],\n",
      "       [-24423.,    -44.,    414.],\n",
      "       [  8318.,     15.,   -141.]]))\n",
      "('R', array([[   -3.,  6211.,   -66.],\n",
      "       [    1.,    92.,    -1.],\n",
      "       [    0.,   -94.,     1.]]))\n",
      "('S3', array([[  1,   0,   0],\n",
      "       [  0, 834,   0],\n",
      "       [  0,  -2,  -3]]))\n",
      "('L', array([[   -59.,      0.,      1.],\n",
      "       [-24423.,    -44.,    414.],\n",
      "       [  8318.,     15.,   -141.]]))\n",
      "('R', array([[   -3.,  6211.,   -66.],\n",
      "       [    1.,    92.,    -1.],\n",
      "       [    0.,   -94.,     1.]]))\n",
      "('count', 6)\n",
      "('S', array([[  1,   0,   0],\n",
      "       [  0, 834,   0],\n",
      "       [  0,  -2,  -3]]))\n",
      "('L', array([[   -59.,      0.,      1.],\n",
      "       [-24423.,    -44.,    414.],\n",
      "       [  8318.,     15.,   -141.]]))\n",
      "('R', array([[   -3.,  6211.,   -66.],\n",
      "       [    1.,    92.,    -1.],\n",
      "       [    0.,   -94.,     1.]]))\n",
      "('curr diag', 1)\n",
      "('min_val', -2, 'row', 2, 'col', 1)\n",
      "('reducing row: ', 0)\n",
      "('reducing row: ', 1)\n",
      "('multiple', -417)\n",
      "('reducing row: ', 2)\n",
      "('S2', array([[    1,     0,     0],\n",
      "       [    0,     0, -1251],\n",
      "       [    0,    -2,    -1]]))\n",
      "('L', array([[     -59.,        0.,        1.],\n",
      "       [ 3444183.,     6211.,   -58383.],\n",
      "       [    8318.,       15.,     -141.]]))\n",
      "('R', array([[   -3.,  6211., -6277.],\n",
      "       [    1.,    92.,   -93.],\n",
      "       [    0.,   -94.,    95.]]))\n",
      "('S3', array([[    1,     0,     0],\n",
      "       [    0,     0, -1251],\n",
      "       [    0,    -2,    -1]]))\n",
      "('L', array([[     -59.,        0.,        1.],\n",
      "       [ 3444183.,     6211.,   -58383.],\n",
      "       [    8318.,       15.,     -141.]]))\n",
      "('R', array([[   -3.,  6211., -6277.],\n",
      "       [    1.,    92.,   -93.],\n",
      "       [    0.,   -94.,    95.]]))\n",
      "('count', 7)\n",
      "('S', array([[    1,     0,     0],\n",
      "       [    0,     0, -1251],\n",
      "       [    0,    -2,    -1]]))\n",
      "('L', array([[     -59.,        0.,        1.],\n",
      "       [ 3444183.,     6211.,   -58383.],\n",
      "       [    8318.,       15.,     -141.]]))\n",
      "('R', array([[   -3.,  6211., -6277.],\n",
      "       [    1.,    92.,   -93.],\n",
      "       [    0.,   -94.,    95.]]))\n",
      "('curr diag', 1)\n",
      "('min_val', -1, 'row', 2, 'col', 2)\n",
      "('reducing row: ', 0)\n",
      "('reducing row: ', 1)\n",
      "('multiple', 1251)\n",
      "('reducing row: ', 2)\n",
      "('S2', array([[   1,    0,    0],\n",
      "       [   0, 2502,    0],\n",
      "       [   0,    0,   -1]]))\n",
      "('L', array([[     -59.,        0.,        1.],\n",
      "       [-6961635.,   -12554.,   118008.],\n",
      "       [    8318.,       15.,     -141.]]))\n",
      "('R', array([[    -3.,  18765.,  -6277.],\n",
      "       [     1.,    278.,    -93.],\n",
      "       [     0.,   -284.,     95.]]))\n",
      "('S3', array([[   1,    0,    0],\n",
      "       [   0,   -1,    0],\n",
      "       [   0,    0, 2502]]))\n",
      "('L', array([[     -59.,        0.,        1.],\n",
      "       [    8318.,       15.,     -141.],\n",
      "       [-6961635.,   -12554.,   118008.]]))\n",
      "('R', array([[    -3.,  -6277.,  18765.],\n",
      "       [     1.,    -93.,    278.],\n",
      "       [     0.,     95.,   -284.]]))\n",
      "[[     -59.        0.        1.]\n",
      " [   -8318.      -15.      141.]\n",
      " [-6961635.   -12554.   118008.]]\n",
      "[[   1    0    0]\n",
      " [   0    1    0]\n",
      " [   0    0 2502]]\n",
      "[[    -3.  -6277.  18765.]\n",
      " [     1.    -93.    278.]\n",
      " [     0.     95.   -284.]]\n"
     ]
    }
   ],
   "source": [
    "np.set_printoptions(suppress=True)\n",
    "#N = np.array([[63,0,0],[0,1,0],[0,424,1175]])\n",
    "N = np.array([[2,0,0],[0,9,0],[120,7,139]])\n",
    "L,S,R = Rods_way(N)\n",
    "print(L)\n",
    "print(S)\n",
    "print(R)"
   ]
  },
  {
   "cell_type": "code",
   "execution_count": 32,
   "metadata": {
    "collapsed": false,
    "deletable": true,
    "editable": true
   },
   "outputs": [
    {
     "data": {
      "text/plain": [
       "array([[    1.,     0.,     0.],\n",
       "       [    0.,     1.,     0.],\n",
       "       [    0.,     0.,  2502.]])"
      ]
     },
     "execution_count": 32,
     "metadata": {},
     "output_type": "execute_result"
    }
   ],
   "source": [
    "np.matmul(np.matmul(L,N),R)\n"
   ]
  },
  {
   "cell_type": "code",
   "execution_count": 194,
   "metadata": {
    "collapsed": false,
    "deletable": true,
    "editable": true
   },
   "outputs": [
    {
     "data": {
      "text/plain": [
       "2502.0"
      ]
     },
     "execution_count": 194,
     "metadata": {},
     "output_type": "execute_result"
    }
   ],
   "source": [
    "np.round(np.linalg.det(N))"
   ]
  },
  {
   "cell_type": "code",
   "execution_count": 64,
   "metadata": {
    "collapsed": false,
    "deletable": true,
    "editable": true
   },
   "outputs": [
    {
     "data": {
      "text/plain": [
       "[2, 1, 0]"
      ]
     },
     "execution_count": 64,
     "metadata": {},
     "output_type": "execute_result"
    }
   ],
   "source": [
    "list(reversed(range(3)))"
   ]
  },
  {
   "cell_type": "code",
   "execution_count": 134,
   "metadata": {
    "collapsed": false,
    "deletable": true,
    "editable": true
   },
   "outputs": [
    {
     "data": {
      "text/plain": [
       "True"
      ]
     },
     "execution_count": 134,
     "metadata": {},
     "output_type": "execute_result"
    }
   ],
   "source": [
    "False and False or True"
   ]
  },
  {
   "cell_type": "code",
   "execution_count": 192,
   "metadata": {
    "collapsed": false,
    "deletable": true,
    "editable": true
   },
   "outputs": [
    {
     "data": {
      "text/plain": [
       "-4982.0"
      ]
     },
     "execution_count": 192,
     "metadata": {},
     "output_type": "execute_result"
    }
   ],
   "source": [
    "np.round(np.linalg.det([[-1,0,0],[0,2,0],[0,-1244,2491]]))"
   ]
  },
  {
   "cell_type": "code",
   "execution_count": 29,
   "metadata": {
    "collapsed": false,
    "deletable": true,
    "editable": true
   },
   "outputs": [
    {
     "data": {
      "text/plain": [
       "-14"
      ]
     },
     "execution_count": 29,
     "metadata": {},
     "output_type": "execute_result"
    }
   ],
   "source": [
    "int(abs(-132)//9.)*np.sign(-132)"
   ]
  },
  {
   "cell_type": "code",
   "execution_count": null,
   "metadata": {
    "collapsed": true
   },
   "outputs": [],
   "source": []
  }
 ],
 "metadata": {
  "kernelspec": {
   "display_name": "Python 2",
   "language": "python",
   "name": "python2"
  },
  "language_info": {
   "codemirror_mode": {
    "name": "ipython",
    "version": 2
   },
   "file_extension": ".py",
   "mimetype": "text/x-python",
   "name": "python",
   "nbconvert_exporter": "python",
   "pygments_lexer": "ipython2",
   "version": "2.7.9"
  }
 },
 "nbformat": 4,
 "nbformat_minor": 2
}
