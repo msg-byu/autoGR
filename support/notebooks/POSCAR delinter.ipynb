{
 "cells": [
  {
   "cell_type": "code",
   "execution_count": 1,
   "metadata": {
    "collapsed": true
   },
   "outputs": [],
   "source": [
    "import numpy as np\n",
    "import math as mt\n",
    "from itertools import combinations\n",
    "from random import randint, random"
   ]
  },
  {
   "cell_type": "code",
   "execution_count": 2,
   "metadata": {
    "collapsed": true
   },
   "outputs": [],
   "source": [
    "rad = 180./mt.pi\n",
    "def mag(x):\n",
    "    return np.sqrt(np.dot(x,x))\n",
    "def cosang(x,y):\n",
    "    return np.dot(x,y)/(mag(x)*mag(y))\n",
    "def averg(xlist):\n",
    "    return sum(np.array(xlist))/len(xlist)\n",
    "def deg2rad(cell):\n",
    "    return cell*np.array([1,1,1,1./rad, 1./rad, 1./rad])\n",
    "def rad2deg(cell):\n",
    "    return cell*np.array([1,1,1,rad, rad, rad])"
   ]
  },
  {
   "cell_type": "code",
   "execution_count": 3,
   "metadata": {
    "collapsed": true
   },
   "outputs": [],
   "source": [
    "def basis2cell(basis):\n",
    "    \"\"\"Takes crystal basis as columns of a matrix\"\"\"\n",
    "    tbasis = np.transpose(basis)\n",
    "    lengths = [mag(i) for i in tbasis]\n",
    "    cosangs = [cosang(tbasis[i],tbasis[j]) for i,j in \n",
    "               [[1,2],[0,2],[0,1]]]\n",
    "    angs = [np.arccos(i) for i in cosangs]\n",
    "    lengths.extend(angs)\n",
    "    return lengths"
   ]
  },
  {
   "cell_type": "code",
   "execution_count": 4,
   "metadata": {},
   "outputs": [],
   "source": [
    "def dcell2dbasis(a,b,c,alpha,beta,gamma):\n",
    "    \"\"\"Returns basis as rows of a matrix.\"\"\"\n",
    "    temp = (np.cos(alpha)-np.cos(beta)*np.cos(gamma))/np.sin(gamma)\n",
    "    return [[a,b*np.cos(gamma),c*np.cos(beta)],\n",
    "            [0,b*np.sin(gamma),c*temp],\n",
    "           [0,0,c*np.sqrt(1-(np.cos(beta)**2)-temp**2)]]"
   ]
  },
  {
   "cell_type": "code",
   "execution_count": 5,
   "metadata": {
    "collapsed": true
   },
   "outputs": [],
   "source": [
    "def rcell2rbasis(a,b,c,alpha,beta,gamma):\n",
    "    \"\"\"Returns reciprocal lattice as columns of matrix\"\"\"\n",
    "    temp = (np.cos(gamma)-np.cos(beta)*np.cos(alpha))/np.sin(alpha)\n",
    "    return [[a*np.sqrt(1-(np.cos(beta)**2))-temp**2, 0, 0],\n",
    "            [a*temp, b*np.sin(alpha),0],\n",
    "            [a*np.cos(beta), b*np.cos(alpha), c]]"
   ]
  },
  {
   "cell_type": "code",
   "execution_count": 6,
   "metadata": {
    "collapsed": true
   },
   "outputs": [],
   "source": [
    "def dspace(hkl, dcell):\n",
    "    \"\"\"Returns the d-spacing of a RL point given cell params\"\"\"\n",
    "    dbasis = dcell2dbasis(dcell)\n",
    "    gmat = np.matmul(np.transpose(dbasis), dbasis)\n",
    "    gmatstar = np.linalg.inv(gmat)\n",
    "    return 1./np.sqrt(np.matmul(np.matmul(hkl,gmatstar),hkl))"
   ]
  },
  {
   "cell_type": "code",
   "execution_count": 7,
   "metadata": {
    "collapsed": true
   },
   "outputs": [],
   "source": [
    "def basis2basis(basis):\n",
    "    return np.linalg.inv(np.transpose(basis))"
   ]
  },
  {
   "cell_type": "code",
   "execution_count": 8,
   "metadata": {
    "collapsed": true
   },
   "outputs": [],
   "source": [
    "def distance(pos1, pos2, dcell):\n",
    "    \"\"\"Measures the separation given two lattice-coordinate \n",
    "    positions and the cell parameters.\"\"\"\n",
    "    dbasis = dcell2dbasis(*dcell)\n",
    "    gmat = np.matmul(np.transpose(dbasis),dbasis)\n",
    "    diff = np.array(pos2)-np.array(pos1)\n",
    "    return np.sqrt(np.dot(diff,np.matmul(gmat,diff)))"
   ]
  },
  {
   "cell_type": "code",
   "execution_count": 9,
   "metadata": {},
   "outputs": [],
   "source": [
    "a=[[-3.23277, -3.92086, -0.947768], \n",
    "   [-1.07693, 3.13812, 4.91741], \n",
    "   [2.73895, 1.08678, -1.2721]]"
   ]
  },
  {
   "cell_type": "code",
   "execution_count": 10,
   "metadata": {},
   "outputs": [],
   "source": [
    "dcell0 = [5.00, 5.05, 4.97, mt.pi/2. - 0.025, mt.pi/2. + 0.012, mt.pi/2. + 0.018 ]"
   ]
  },
  {
   "cell_type": "code",
   "execution_count": 11,
   "metadata": {},
   "outputs": [
    {
     "data": {
      "text/plain": [
       "array([[ 1.,  0., -0.],\n",
       "       [ 0.,  1.,  0.],\n",
       "       [-0.,  0.,  1.]])"
      ]
     },
     "execution_count": 11,
     "metadata": {},
     "output_type": "execute_result"
    }
   ],
   "source": [
    "randrot = [[-0.739464, -0.246336, 0.626508], \n",
    "           [0.428713, -0.889847, 0.15613], \n",
    "            [0.519036, 0.384045, 0.763617]]\n",
    "np.round(np.matmul(np.transpose(randrot),randrot))"
   ]
  },
  {
   "cell_type": "code",
   "execution_count": 12,
   "metadata": {},
   "outputs": [],
   "source": [
    "dbasis0 = np.matmul(randrot, dcell2dbasis(*dcell0))"
   ]
  },
  {
   "cell_type": "code",
   "execution_count": 13,
   "metadata": {},
   "outputs": [
    {
     "data": {
      "text/plain": [
       "[5.0000005324024714,\n",
       " 5.0499990946308815,\n",
       " 4.9709117226840673,\n",
       " 1.5458009148872118,\n",
       " 1.5827945446888554,\n",
       " 1.5887955243261072]"
      ]
     },
     "execution_count": 13,
     "metadata": {},
     "output_type": "execute_result"
    }
   ],
   "source": [
    "# dbasis0 is now a random cell with a random orientation \n",
    "# in the plane.\n",
    "# First we want to extract it's parameters\n",
    "dcell1 = basis2cell(dbasis0)\n",
    "dcell1"
   ]
  },
  {
   "cell_type": "code",
   "execution_count": 14,
   "metadata": {},
   "outputs": [
    {
     "data": {
      "text/plain": [
       "[[5.0000005324024714, -0.090891023373546917, -0.059640651005852342],\n",
       " [0, 5.0491810898048444, 0.12318357603766673],\n",
       " [0, 0, 4.969939835523963]]"
      ]
     },
     "execution_count": 14,
     "metadata": {},
     "output_type": "execute_result"
    }
   ],
   "source": [
    "# Now we find the basis in the canonical orientation\n",
    "dbasis1 = dcell2dbasis(*dcell1)\n",
    "dbasis1"
   ]
  },
  {
   "cell_type": "code",
   "execution_count": 15,
   "metadata": {},
   "outputs": [
    {
     "name": "stdout",
     "output_type": "stream",
     "text": [
      "[[-0.739464 -0.246335  0.626393]\n",
      " [ 0.428713 -0.889847  0.156102]\n",
      " [ 0.519036  0.384045  0.763477]]\n",
      "[[  9.99856130e-01  -3.61690010e-05  -1.75513318e-04]\n",
      " [ -3.61690010e-05   9.99990354e-01  -4.35237930e-05]\n",
      " [ -1.75513318e-04  -4.35237930e-05   9.99786061e-01]]\n"
     ]
    }
   ],
   "source": [
    "# find the rotation from original\n",
    "rotation = np.round(np.matmul(dbasis0, np.linalg.inv(dbasis1)),6)\n",
    "validate = np.matmul(rotation, np.transpose(rotation))\n",
    "print(rotation)\n",
    "print(validate)"
   ]
  },
  {
   "cell_type": "code",
   "execution_count": 16,
   "metadata": {},
   "outputs": [
    {
     "data": {
      "text/plain": [
       "5.0069704499058068"
      ]
     },
     "execution_count": 16,
     "metadata": {},
     "output_type": "execute_result"
    }
   ],
   "source": [
    "# symmetrize the cell parameters (this assumes a cubic lattice)\n",
    "alatt = np.mean(dcell1[:3])\n",
    "alatt"
   ]
  },
  {
   "cell_type": "code",
   "execution_count": 17,
   "metadata": {
    "collapsed": true
   },
   "outputs": [],
   "source": [
    "alpha = mt.pi/2."
   ]
  },
  {
   "cell_type": "code",
   "execution_count": 18,
   "metadata": {},
   "outputs": [],
   "source": [
    "dcell2 = [alatt,alatt,alatt,alpha,alpha,alpha]"
   ]
  },
  {
   "cell_type": "code",
   "execution_count": 19,
   "metadata": {},
   "outputs": [
    {
     "data": {
      "text/plain": [
       "[[5.0069704499058068, 3.0658851674512647e-16, 3.0658851674512647e-16],\n",
       " [0, 5.0069704499058068, 3.0658851674512647e-16],\n",
       " [0, 0, 5.0069704499058068]]"
      ]
     },
     "execution_count": 19,
     "metadata": {},
     "output_type": "execute_result"
    }
   ],
   "source": [
    "dbasis2 = dcell2dbasis(*dcell2)\n",
    "dbasis2"
   ]
  },
  {
   "cell_type": "code",
   "execution_count": 20,
   "metadata": {},
   "outputs": [
    {
     "data": {
      "text/plain": [
       "array([[-3.7024744 , -1.23339207,  3.13633124],\n",
       "       [ 2.14655332, -4.45543763,  0.7815981 ],\n",
       "       [ 2.59879791,  1.92290197,  3.82270678]])"
      ]
     },
     "execution_count": 20,
     "metadata": {},
     "output_type": "execute_result"
    }
   ],
   "source": [
    "dbasis3 = np.matmul(rotation,dbasis2)\n",
    "dbasis3"
   ]
  },
  {
   "cell_type": "code",
   "execution_count": 21,
   "metadata": {},
   "outputs": [
    {
     "data": {
      "text/plain": [
       "array([[-0.0051544 , -0.05681044,  0.00943952],\n",
       "       [ 0.00298832,  0.07652966,  0.14096615],\n",
       "       [ 0.00361791,  0.03096672,  0.01191917]])"
      ]
     },
     "execution_count": 21,
     "metadata": {},
     "output_type": "execute_result"
    }
   ],
   "source": [
    "dbasis3-dbasis0"
   ]
  },
  {
   "cell_type": "code",
   "execution_count": 22,
   "metadata": {
    "collapsed": true
   },
   "outputs": [],
   "source": [
    "import pyniggli"
   ]
  },
  {
   "cell_type": "code",
   "execution_count": 23,
   "metadata": {
    "collapsed": true
   },
   "outputs": [],
   "source": [
    "temp = pyniggli.reduced_cell(dbasis3)"
   ]
  },
  {
   "cell_type": "code",
   "execution_count": 24,
   "metadata": {},
   "outputs": [
    {
     "data": {
      "text/plain": [
       "(25.060556357165929,\n",
       " 25.069758425109644,\n",
       " 25.069732470344139,\n",
       " 3.4169572113995628e-06,\n",
       " 5.4359247041446679e-06,\n",
       " -3.4322497484140513e-06,\n",
       " 0,\n",
       " 0,\n",
       " 0)"
      ]
     },
     "execution_count": 24,
     "metadata": {},
     "output_type": "execute_result"
    }
   ],
   "source": [
    "temp._get_params()"
   ]
  },
  {
   "cell_type": "code",
   "execution_count": 9,
   "metadata": {},
   "outputs": [],
   "source": [
    "def symmetrize(cell_params, case):\n",
    "    a0, b0, c0, alpha0, beta0, gamma0 = cell_params\n",
    "    if case == 1:\n",
    "        a =b = c = np.mean(cell_params[:3])\n",
    "        alpha = beta = gamma = mt.pi/3.\n",
    "    elif case == 2 or case == 4:\n",
    "        a =b = c = np.mean(cell_params[:3])\n",
    "        alpha = beta = gamma = np.mean(cell_params[3:])\n",
    "    elif case == 3:\n",
    "        a =b = c = np.mean(cell_params[:3])\n",
    "        alpha = beta = gamma = mt.pi/2.\n",
    "    elif case == 5:\n",
    "        a =b = c = np.mean(cell_params[:3])\n",
    "        alpha = beta = gamma = 1.910633236249019\n",
    "    elif case == 6:\n",
    "        a =b = c = np.mean(cell_params[:3])\n",
    "        alpha = beta = np.arccos(((((a**2+b**2)/2.)-np.cos(gamma0)*a*c)/2.)/(b*c)) \n",
    "        gamma = cell_params[5]\n",
    "    elif case == 7:\n",
    "        a = b = c = np.mean(cell_params[:3])\n",
    "        alpha = np.arccos(((((a**2+b**2)/2.)-2*np.cos(gamma0)*a*c))/(b*c)) \n",
    "        beta = gamma = np.mean([beta0, gamma0])\n",
    "    elif case == 8:\n",
    "        a =b = c = np.mean(cell_params[:3])\n",
    "        alpha = np.arccos((((a**2+b**2)/2.)-np.cos(gamma0)*a*c-np.cos(beta0)*a*b)/(b*c))\n",
    "        beta = beta0\n",
    "        gamma = gamma0\n",
    "    elif case == 9:\n",
    "        a =b = np.mean([a0,b0])\n",
    "        c = c0\n",
    "        alpha = np.arccos((a*a)/(2*b*c))\n",
    "        beta = np.arccos((a*a)/(2*a*c))\n",
    "        gamma = mt.pi/3\n",
    "    elif case == 10:\n",
    "        a =b = np.mean([a0,b0])\n",
    "        c = c0\n",
    "        alpha = beta = np.mean([alpha0, beta0])\n",
    "        gamma = gamma0\n",
    "    elif case == 11:\n",
    "        a =b = np.mean([a0,b0])\n",
    "        c = c0\n",
    "        alpha = beta = gamma = mt.pi/2.\n",
    "    elif case == 12:\n",
    "        a =b = np.mean([a0,b0])\n",
    "        c = c0\n",
    "        alpha = beta = mt.pi/2.\n",
    "        gamma = 2*mt.pi/3.\n",
    "    elif case == 13:\n",
    "        a =b = np.mean([a0,b0])\n",
    "        c = c0\n",
    "        alpha = beta = mt.pi/2.\n",
    "        gamma = gamma0\n",
    "    elif case == 15:\n",
    "        a =b = np.mean([a0,b0])\n",
    "        c = c0\n",
    "        alpha = np.arccos(-(a*a)/(2*b*c))\n",
    "        beta = np.arccos(-(a*a)/(2*a*c))\n",
    "        gamma = mt.pi/2.\n",
    "    elif case == 16:\n",
    "        a =b = np.mean([a0,b0])\n",
    "        c = c0\n",
    "        gamma = mt.pi/2.\n",
    "        alpha = np.arccos(((((a**2+b**2)/2.)-np.cos(gamma)*a*c)/2.)/(b*c))\n",
    "        beta = np.arccos(((((a**2+b**2)/2.)-np.cos(gamma)*a*c)/2.)/(a*c))\n",
    "    elif case == 14:\n",
    "        a =b = np.mean([a0,b0])\n",
    "        c = c0\n",
    "        alpha = beta = np.mean([alpha0,beta0])\n",
    "        gamma = gamma0\n",
    "    elif case == 17:\n",
    "        a =b = np.mean([a0,b0])\n",
    "        c = c0\n",
    "        alpha = np.arccos((((a**2+b**2)/2.)-np.cos(gamma0)*a*c-np.cos(beta0)*a*b)/(b*c))\n",
    "        beta = beta0\n",
    "        gamma = gamma0\n",
    "    elif case == 18:\n",
    "        a = a0\n",
    "        b = c = np.mean([c0,b0])\n",
    "        alpha = np.arccos((a*a)/(4*b*c))\n",
    "        beta = np.arccos((a*a)/(2*a*c))\n",
    "        gamma = np.arccos((a*a)/(2*a*b))\n",
    "    elif case == 19:\n",
    "        a = a0\n",
    "        b = c = np.mean([c0,b0])\n",
    "        alpha = alpha0\n",
    "        beta = np.arccos((a*a)/(2*a*c))\n",
    "        gamma = np.arccos((a*a)/(2*a*b))\n",
    "    elif case == 20 or case == 25:\n",
    "        a = a0\n",
    "        b = c = np.mean([c0,b0])\n",
    "        alpha = alpha0\n",
    "        beta = gamma = np.mean([beta0,gamma0])\n",
    "    elif case == 21:\n",
    "        a = a0\n",
    "        b = c = np.mean([c0,b0])\n",
    "        alpha = beta = gamma = mt.pi/2\n",
    "    elif case == 22:\n",
    "        a = a0\n",
    "        b = c = np.mean([c0,b0])\n",
    "        alpha = np.arccos(-(b*b)/(2*b*c))\n",
    "        beta = gamma = mt.pi/2.\n",
    "    elif case == 23:\n",
    "        a = a0\n",
    "        b = c = np.mean([c0,b0])\n",
    "        alpha = alpha0\n",
    "        beta = gamma = mt.pi/2.\n",
    "    elif case == 24:\n",
    "        a = a0\n",
    "        b = c = np.mean([c0,b0])\n",
    "        beta = np.arccos(-(a*a)/(3*a*c))\n",
    "        gamma = np.arccos(-(a*a)/(3*a*b))\n",
    "        alpha = np.arccos((((a**2+b**2)/2.)-np.cos(gamma)*a*c-np.cos(beta)*a*b)/(b*c))\n",
    "    elif case == 26:\n",
    "        a = a0\n",
    "        b = b0\n",
    "        c = c0\n",
    "        alpha = np.arccos((a*a)/(4*b*c))\n",
    "        beta = np.arccos((a*a)/(2*a*c))\n",
    "        gamma = np.arccos((a*a)/(2*a*b))\n",
    "    elif case == 27:\n",
    "        a = a0\n",
    "        b = b0\n",
    "        c = c0\n",
    "        alpha = alpha0\n",
    "        beta = np.arccos((a*a)/(2*a*c))\n",
    "        gamma = np.arccos((a*a)/(2*a*b))\n",
    "    elif case == 28:\n",
    "        a = a0\n",
    "        b = b0\n",
    "        c = c0\n",
    "        alpha = alpha0\n",
    "        beta = np.arccos((a*a)/(2*a*c))\n",
    "        gamma = np.arccos(2*np.cos(alpha)*b*c/(a*b))\n",
    "    elif case == 29:\n",
    "        a = a0\n",
    "        b = b0\n",
    "        c = c0\n",
    "        alpha = alpha0\n",
    "        beta = np.arccos(2*np.cos(alpha)*b*c/(a*c))\n",
    "        gamma = np.arccos((a*a)/(2*a*b))\n",
    "    elif case == 30:\n",
    "        a = a0\n",
    "        b = b0\n",
    "        c = c0\n",
    "        alpha = np.arccos((b*b)/(2*b*c))\n",
    "        beta = beta0\n",
    "        gamma = np.arccos(2*np.cos(beta)*a*c/(a*b))\n",
    "    elif case == 31 or case == 44:\n",
    "        a = a0\n",
    "        b = b0\n",
    "        c = c0\n",
    "        alpha = alpha0\n",
    "        beta = beta0\n",
    "        gamma = gamma0\n",
    "    elif case == 32:\n",
    "        a = a0\n",
    "        b = b0\n",
    "        c = c0\n",
    "        alpha = beta = gamma = mt.pi/2.\n",
    "    elif case == 40:\n",
    "        a = a0\n",
    "        b = b0\n",
    "        c = c0\n",
    "        alpha = np.arccos(-(b*b)/(2*b*c))\n",
    "        beta = gamma = mt.pi/2.\n",
    "    elif case == 35:\n",
    "        a = a0\n",
    "        b = b0\n",
    "        c = c0\n",
    "        alpha = alpha0\n",
    "        beta = gamma = mt.pi/2.\n",
    "    elif case == 36:\n",
    "        a = a0\n",
    "        b = b0\n",
    "        c = c0\n",
    "        alpha = gamma = mt.pi/2.\n",
    "        beta = np.arccos(-(a*a)/(2*a*c))\n",
    "    elif case == 33:\n",
    "        a = a0\n",
    "        b = b0\n",
    "        c = c0\n",
    "        alpha = gamma = mt.pi/2.\n",
    "        beta = beta0\n",
    "    elif case == 38:\n",
    "        a = a0\n",
    "        b = b0\n",
    "        c = c0\n",
    "        alpha = beta = mt.pi/2.\n",
    "        gamma = np.arccos(-(a*a)/(2*a*b))\n",
    "    elif case == 34:\n",
    "        a = a0\n",
    "        b = b0\n",
    "        c = c0\n",
    "        alpha = beta = mt.pi/2.\n",
    "        gamma = gamma0\n",
    "    elif case == 42:\n",
    "        a = a0\n",
    "        b = b0\n",
    "        c = c0\n",
    "        alpha = np.arccos(-(b*b)/(2*b*c))\n",
    "        beta = np.arccos(-(a*a)/(2*a*c))\n",
    "        gamma = mt.pi/2.\n",
    "    elif case == 41:\n",
    "        a = a0\n",
    "        b = b0\n",
    "        c = c0\n",
    "        alpha = np.arccos(-(b*b)/(2*b*c))\n",
    "        beta = beta0\n",
    "        gamma = mt.pi/2.\n",
    "    elif case == 37:\n",
    "        a = a0\n",
    "        b = b0\n",
    "        c = c0\n",
    "        alpha = alpha0\n",
    "        beta = np.arccos(-(a*a)/(2*a*c))\n",
    "        gamma = mt.pi/2.\n",
    "    elif case == 39:\n",
    "        a = a0\n",
    "        b = b0\n",
    "        c = c0\n",
    "        alpha = alpha0\n",
    "        beta = mt.pi/2.\n",
    "        gamma = np.arccos(-(a*a)/(2*a*b))\n",
    "    elif case == 43:\n",
    "        a = a0\n",
    "        b = b0\n",
    "        c = c0\n",
    "        D = ((a**2+b**2)/2.)-np.cos(gamma)*a*c-np.cos(beta)*a*b\n",
    "        if np.abs(2*D+np.cos(gamma0)*a*b)==b*b:\n",
    "            alpha = np.arccos(D/(b*c))\n",
    "            beta = beta0\n",
    "            gamma = gamma0\n",
    "        else:\n",
    "            D = (-(a**2+b**2)/2.)-np.cos(gamma)*a*c-np.cos(beta)*a*b\n",
    "            alpha = np.arccos(D/(b*c))\n",
    "            beta = beta0\n",
    "            gamma = gamma0\n",
    "    else:\n",
    "        raise IOError(\"Case {} not found\".format(case))\n",
    "\n",
    "    return [a, b, c, alpha, beta, gamma]"
   ]
  },
  {
   "cell_type": "code",
   "execution_count": 10,
   "metadata": {
    "collapsed": true
   },
   "outputs": [],
   "source": [
    "def delinter(obasis,case):\n",
    "    \"\"\"Takes the original basis as columns of a matrix and the \n",
    "    niggli case number. Returns the 'corrected' basis.\"\"\"\n",
    "    ocell_params = basis2cell(obasis)\n",
    "    canonical_basis = dcell2dbasis(*ocell_params)\n",
    "    rot = np.matmul(obasis, np.linalg.inv(canonical_basis))\n",
    "    val = np.round(np.matmul(rot, np.transpose(rot)),3)\n",
    "    if not np.allclose(val, [[1,0,0],[0,1,0],[0,0,1]],1E-3):\n",
    "        print(val)\n",
    "        raise ValueError(\"Rotation matrix in delinter \"\n",
    "                        \"is not correct.\")\n",
    "    canonical_params = symmetrize(ocell_params, case)\n",
    "    fixed_canonical_basis = dcell2dbasis(*canonical_params)\n",
    "    fixed_basis = np.matmul(rot,fixed_canonical_basis)\n",
    "    \n",
    "    return fixed_basis\n",
    "    \n",
    "    \n",
    "    "
   ]
  },
  {
   "cell_type": "code",
   "execution_count": 11,
   "metadata": {
    "collapsed": true
   },
   "outputs": [],
   "source": [
    "A = np.transpose([[  6.99989831031789,   0.00001427664054,   0.],\n",
    "                  [3.49996141765365,   6.06195444738213,   0.0],\n",
    "                  [0.0,   0.0,   4.74600387583220]])"
   ]
  },
  {
   "cell_type": "code",
   "execution_count": 13,
   "metadata": {},
   "outputs": [],
   "source": [
    "from opf_python.niggli_lat_id import niggli_id\n",
    "from pyniggli import reduced_cell"
   ]
  },
  {
   "cell_type": "code",
   "execution_count": 14,
   "metadata": {},
   "outputs": [
    {
     "name": "stdout",
     "output_type": "stream",
     "text": [
      "('mat', array([[  6.99989831e+00,   3.49996142e+00,   0.00000000e+00],\n",
      "       [  1.42766405e-05,   6.06195445e+00,   0.00000000e+00],\n",
      "       [  0.00000000e+00,   0.00000000e+00,   4.74600388e+00]]))\n",
      "('mat', array([[ -3.49996142e+00,  -6.99989831e+00,   0.00000000e+00],\n",
      "       [ -6.06195445e+00,  -1.42766405e-05,   0.00000000e+00],\n",
      "       [  0.00000000e+00,   0.00000000e+00,  -4.74600388e+00]]))\n",
      "('mat', array([[  3.49996142e+00,   0.00000000e+00,   6.99989831e+00],\n",
      "       [  6.06195445e+00,   0.00000000e+00,   1.42766405e-05],\n",
      "       [  0.00000000e+00,   4.74600388e+00,   0.00000000e+00]]))\n",
      "('mat', array([[  0.00000000e+00,  -3.49996142e+00,  -6.99989831e+00],\n",
      "       [  0.00000000e+00,  -6.06195445e+00,  -1.42766405e-05],\n",
      "       [ -4.74600388e+00,   0.00000000e+00,   0.00000000e+00]]))\n",
      "('mat', array([[  0.00000000e+00,  -3.49996142e+00,   6.99989831e+00],\n",
      "       [  0.00000000e+00,  -6.06195445e+00,   1.42766405e-05],\n",
      "       [  4.74600388e+00,   0.00000000e+00,   0.00000000e+00]]))\n",
      "('mat', array([[ 0.        , -3.49996142,  3.49993689],\n",
      "       [ 0.        , -6.06195445, -6.06194017],\n",
      "       [ 4.74600388,  0.        ,  0.        ]]))\n",
      "('mat', array([[ 0.        , -3.49993689,  3.49996142],\n",
      "       [ 0.        ,  6.06194017,  6.06195445],\n",
      "       [-4.74600388,  0.        ,  0.        ]]))\n",
      "('mat', array([[ 0.        , -3.49993689, -3.49996142],\n",
      "       [ 0.        ,  6.06194017, -6.06195445],\n",
      "       [ 4.74600388,  0.        ,  0.        ]]))\n",
      "('mat', array([[ 0.        , -3.49993689, -3.49996142],\n",
      "       [ 0.        ,  6.06194017, -6.06195445],\n",
      "       [ 4.74600388,  0.        ,  0.        ]]))\n",
      "[ 0.          0.          4.74600388]\n",
      "22.5245527894\n"
     ]
    }
   ],
   "source": [
    "(typ, case, syms, An) = niggli_id(A)\n",
    "temp = reduced_cell(A)\n",
    "An = temp.niggli\n",
    "mat = np.dot(temp.original,temp.C)\n",
    "print(mat[:,0])\n",
    "print(np.dot(mat[:,0],mat[:,0]))"
   ]
  },
  {
   "cell_type": "code",
   "execution_count": 146,
   "metadata": {},
   "outputs": [
    {
     "data": {
      "text/plain": [
       "23"
      ]
     },
     "execution_count": 146,
     "metadata": {},
     "output_type": "execute_result"
    }
   ],
   "source": [
    "case"
   ]
  },
  {
   "cell_type": "code",
   "execution_count": 15,
   "metadata": {},
   "outputs": [],
   "source": [
    "Ad = delinter(An, case)"
   ]
  },
  {
   "cell_type": "code",
   "execution_count": 170,
   "metadata": {},
   "outputs": [
    {
     "data": {
      "text/plain": [
       "('base centered orthorhombic',\n",
       " 23,\n",
       " 5,\n",
       " array([[-0.3333333,  1.       ,  2.       ],\n",
       "        [-1.54116  ,  1.       , -1.       ],\n",
       "        [ 1.87449  ,  1.       , -1.       ]]))"
      ]
     },
     "execution_count": 170,
     "metadata": {},
     "output_type": "execute_result"
    }
   ],
   "source": [
    "niggli_id(Ad)"
   ]
  },
  {
   "cell_type": "code",
   "execution_count": 171,
   "metadata": {},
   "outputs": [
    {
     "data": {
      "text/plain": [
       "array([[  0.00000000e+00,  -6.15674066e-06,   6.15676214e-06],\n",
       "       [  0.00000000e+00,   1.06635618e-05,   1.06635494e-05],\n",
       "       [  0.00000000e+00,   0.00000000e+00,   0.00000000e+00]])"
      ]
     },
     "execution_count": 171,
     "metadata": {},
     "output_type": "execute_result"
    }
   ],
   "source": [
    "Ad-An"
   ]
  },
  {
   "cell_type": "code",
   "execution_count": 172,
   "metadata": {},
   "outputs": [
    {
     "data": {
      "text/plain": [
       "array([[ -2.14805951e-11,  -6.15676214e-06,   0.00000000e+00],\n",
       "       [ -2.13271113e-05,  -1.06635494e-05,   0.00000000e+00],\n",
       "       [  0.00000000e+00,   0.00000000e+00,   0.00000000e+00]])"
      ]
     },
     "execution_count": 172,
     "metadata": {},
     "output_type": "execute_result"
    }
   ],
   "source": [
    "np.matmul(Ad,np.linalg.inv(temp.C))-A"
   ]
  },
  {
   "cell_type": "code",
   "execution_count": 174,
   "metadata": {},
   "outputs": [
    {
     "data": {
      "text/plain": [
       "array([[  6.99989800e+00,   3.49995500e+00,   0.00000000e+00],\n",
       "       [ -7.00000000e-06,   6.06194400e+00,   0.00000000e+00],\n",
       "       [  0.00000000e+00,   0.00000000e+00,   4.74600400e+00]])"
      ]
     },
     "execution_count": 174,
     "metadata": {},
     "output_type": "execute_result"
    }
   ],
   "source": [
    "np.round(np.matmul(Ad,np.linalg.inv(temp.C)),6)"
   ]
  },
  {
   "cell_type": "code",
   "execution_count": 18,
   "metadata": {},
   "outputs": [
    {
     "data": {
      "text/plain": [
       "array([[  6.99989831e+00,   3.49995526e+00,   0.00000000e+00],\n",
       "       [ -7.05047076e-06,   6.06194378e+00,   0.00000000e+00],\n",
       "       [  0.00000000e+00,   0.00000000e+00,   4.74600388e+00]])"
      ]
     },
     "execution_count": 18,
     "metadata": {},
     "output_type": "execute_result"
    }
   ],
   "source": [
    "np.matmul(Ad,np.linalg.inv(temp.C))"
   ]
  },
  {
   "cell_type": "code",
   "execution_count": 180,
   "metadata": {},
   "outputs": [
    {
     "data": {
      "text/plain": [
       "array([[ 0.        , -3.49994305, -3.49995526],\n",
       "       [ 0.        ,  6.06195083, -6.06194378],\n",
       "       [ 4.74600388,  0.        ,  0.        ]])"
      ]
     },
     "execution_count": 180,
     "metadata": {},
     "output_type": "execute_result"
    }
   ],
   "source": [
    "Ad"
   ]
  },
  {
   "cell_type": "code",
   "execution_count": 181,
   "metadata": {},
   "outputs": [
    {
     "data": {
      "text/plain": [
       "array([[  6.99989831e+00,   3.49996142e+00,   0.00000000e+00],\n",
       "       [  1.42766405e-05,   6.06195445e+00,   0.00000000e+00],\n",
       "       [  0.00000000e+00,   0.00000000e+00,   4.74600388e+00]])"
      ]
     },
     "execution_count": 181,
     "metadata": {},
     "output_type": "execute_result"
    }
   ],
   "source": [
    "A"
   ]
  },
  {
   "cell_type": "code",
   "execution_count": 132,
   "metadata": {},
   "outputs": [
    {
     "data": {
      "text/plain": [
       "True"
      ]
     },
     "execution_count": 132,
     "metadata": {},
     "output_type": "execute_result"
    }
   ],
   "source": [
    "np.allclose(np.matmul(An,np.linalg.inv(temp.C)), A)"
   ]
  },
  {
   "cell_type": "code",
   "execution_count": 177,
   "metadata": {},
   "outputs": [
    {
     "data": {
      "text/plain": [
       "1.0"
      ]
     },
     "execution_count": 177,
     "metadata": {},
     "output_type": "execute_result"
    }
   ],
   "source": [
    "np.linalg.det(np.linalg.inv(temp.C))"
   ]
  },
  {
   "cell_type": "code",
   "execution_count": 178,
   "metadata": {},
   "outputs": [
    {
     "data": {
      "text/plain": [
       "array([[ 0., -1.,  0.],\n",
       "       [ 0.,  1., -1.],\n",
       "       [ 1.,  0.,  0.]])"
      ]
     },
     "execution_count": 178,
     "metadata": {},
     "output_type": "execute_result"
    }
   ],
   "source": [
    "temp.C"
   ]
  },
  {
   "cell_type": "code",
   "execution_count": 185,
   "metadata": {},
   "outputs": [
    {
     "data": {
      "text/plain": [
       "('hexagonal', 22, 2, array([[ 0.       ,  1.       , -0.5      ],\n",
       "        [ 0.       ,  0.       ,  0.8660254],\n",
       "        [-0.5      ,  0.       ,  0.       ]]))"
      ]
     },
     "execution_count": 185,
     "metadata": {},
     "output_type": "execute_result"
    }
   ],
   "source": [
    "niggli_id(Ad,eps_=1E-1)"
   ]
  },
  {
   "cell_type": "code",
   "execution_count": 19,
   "metadata": {},
   "outputs": [
    {
     "data": {
      "text/plain": [
       "array([[ 0.        , -3.49994305, -3.49995526],\n",
       "       [ 0.        ,  6.06195083, -6.06194378],\n",
       "       [ 4.74600388,  0.        ,  0.        ]])"
      ]
     },
     "execution_count": 19,
     "metadata": {},
     "output_type": "execute_result"
    }
   ],
   "source": [
    "Ad"
   ]
  },
  {
   "cell_type": "code",
   "execution_count": 2,
   "metadata": {},
   "outputs": [],
   "source": [
    "import numpy as np"
   ]
  },
  {
   "cell_type": "code",
   "execution_count": 5,
   "metadata": {},
   "outputs": [
    {
     "data": {
      "text/plain": [
       "3.1415926535897931"
      ]
     },
     "execution_count": 5,
     "metadata": {},
     "output_type": "execute_result"
    }
   ],
   "source": [
    "np.round(np.pi,18)"
   ]
  },
  {
   "cell_type": "code",
   "execution_count": 11,
   "metadata": {},
   "outputs": [
    {
     "data": {
      "text/plain": [
       "False"
      ]
     },
     "execution_count": 11,
     "metadata": {},
     "output_type": "execute_result"
    }
   ],
   "source": [
    "any([i in [\"KPDENSITY\",\"KPPRA\"] for i in {\"NKPTS\":\"3000\"}.keys()])"
   ]
  },
  {
   "cell_type": "code",
   "execution_count": null,
   "metadata": {
    "collapsed": true
   },
   "outputs": [],
   "source": []
  }
 ],
 "metadata": {
  "kernelspec": {
   "display_name": "Python 3",
   "language": "python",
   "name": "python3"
  },
  "language_info": {
   "codemirror_mode": {
    "name": "ipython",
    "version": 3
   },
   "file_extension": ".py",
   "mimetype": "text/x-python",
   "name": "python",
   "nbconvert_exporter": "python",
   "pygments_lexer": "ipython3",
   "version": "3.4.4"
  }
 },
 "nbformat": 4,
 "nbformat_minor": 2
}
