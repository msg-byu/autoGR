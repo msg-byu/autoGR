{
 "cells": [
  {
   "cell_type": "code",
   "execution_count": 9,
   "metadata": {
    "collapsed": false,
    "deletable": true,
    "editable": true
   },
   "outputs": [],
   "source": [
    "import numpy as np\n",
    "from lat_type import lat_type\n",
    "from phenum.vector_utils import _minkowski_reduce_basis\n",
    "from phenum.symmetry import get_lattice_pointGroup\n",
    "from base_ortho import base_ortho_srHNFs as srHNFs\n",
    "from stet import stet_srHNFs as stSrHNFs\n",
    "from copy import deepcopy\n",
    "#import niggli"
   ]
  },
  {
   "cell_type": "markdown",
   "metadata": {
    "deletable": true,
    "editable": true
   },
   "source": [
    "Lets first assume two basis that are simply the rotations of each other, A=[[1,0],[0,2]] and B = [[2,0],[0,1]]. These two are equivalent by a 90 degree rotation.\n",
    "\n",
    "We need to check that we can map from one to the other properly.\n",
    "\n",
    "The issue seems to at least partially be the order of the vectors [a,b,c] if I can find a way to ensure that the users ordering matches ours then I think we have a solution.\n",
    "\n",
    "Procedure should be to minkowski reduce the users basis, find the order of the vectors for our basis, then get the user's basis into the same order. Once that is accomplished we can find the mapping from th user's basis to ours and proceed per normal.\n"
   ]
  },
  {
   "cell_type": "code",
   "execution_count": 2,
   "metadata": {
    "collapsed": false,
    "deletable": true,
    "editable": true
   },
   "outputs": [],
   "source": [
    "def get_A(A_m,order_c):\n",
    "    o_norms = list(np.linalg.norm(A_m,axis=0))\n",
    "    s_norms = sorted(o_norms)\n",
    "\n",
    "    order = []\n",
    "    for i in range(3):\n",
    "        temp = s_norms[order_c[i]]\n",
    "        \n",
    "        for j in range(3):\n",
    "            if np.allclose(o_norms[j],temp) and j not in order:\n",
    "                order.append(j)\n",
    "                break\n",
    "\n",
    "    A = np.transpose(np.transpose(A_m)[order])\n",
    "    return A"
   ]
  },
  {
   "cell_type": "code",
   "execution_count": 3,
   "metadata": {
    "collapsed": false,
    "deletable": true,
    "editable": true
   },
   "outputs": [],
   "source": [
    "    As = [[[-1,1,1],[1,-1,1],[1,1,-1]],[[1,0,0],[0,1,0],[0.5,0.5,0.5]],\n",
    "          [[1,0,0],[0.5,0.5,0.5],[0,0,1]],[[0.5,-0.5,0.5],[0,1,0],[0,0,1]],\n",
    "          [[0,0,2],[1,-1,1],[1,1,-1]],[[-1,1,1],[2,0,0],[0,2,0]],\n",
    "          [[1,-1,3],[1,-1,1],[1,1,-1]]]\n",
    "\n",
    "As = [np.transpose(i) for i in As]"
   ]
  },
  {
   "cell_type": "code",
   "execution_count": 4,
   "metadata": {
    "collapsed": false,
    "deletable": true,
    "editable": true
   },
   "outputs": [],
   "source": [
    "k= 6\n",
    "Rp = [[0.5,-0.866025404,0],[0.866025404,0.5,0],[0,0,1]]\n",
    "eps = 1E-10\n",
    "A_t = np.transpose([[0.5,0.5,-0.5],[-0.5,0.5,0.5],[1,0,1]])#np.dot(Rp,np.random.random()*As[k])\n",
    "A_m = np.transpose(_minkowski_reduce_basis(np.transpose(A_t),1E-10))\n",
    "lat_id, B, order = lat_type(np.transpose(A_t),eps=eps)\n",
    "#B = np.transpose(np.array([[-1,1,1],[1,-1,1],[1,1,-1]]))\n",
    "#lat_id = 'bo'\n",
    "#order = [0,1,2]\n",
    "B_m = np.transpose(_minkowski_reduce_basis(np.transpose(B),1E-10))\n",
    "A_m = get_A(A_m,order)\n",
    "B_m = get_A(B_m,order)\n",
    "A = deepcopy(A_t)\n",
    "A_s = get_A(A_t,order)\n",
    "HNFs = srHNFs(26)\n",
    "#print(len(HNFs))\n",
    "#lat_id"
   ]
  },
  {
   "cell_type": "code",
   "execution_count": 5,
   "metadata": {
    "collapsed": false,
    "deletable": true,
    "editable": true
   },
   "outputs": [
    {
     "data": {
      "text/plain": [
       "array([[ 0.5,  0.5,  0. ],\n",
       "       [ 1. , -1. ,  0. ],\n",
       "       [ 0. ,  0. ,  3. ]])"
      ]
     },
     "execution_count": 5,
     "metadata": {},
     "output_type": "execute_result"
    }
   ],
   "source": [
    "B"
   ]
  },
  {
   "cell_type": "code",
   "execution_count": 14,
   "metadata": {
    "collapsed": false,
    "deletable": true,
    "editable": true
   },
   "outputs": [
    {
     "name": "stdout",
     "output_type": "stream",
     "text": [
      "[[ 1.25 -0.75  0.  ]\n",
      " [-0.75  1.25  0.  ]\n",
      " [ 0.    0.    9.  ]]\n"
     ]
    },
    {
     "data": {
      "text/plain": [
       "array([[ 1.  , -0.5 ,  0.  ],\n",
       "       [-0.5 ,  1.25,  0.  ],\n",
       "       [ 0.  ,  0.  ,  9.  ]])"
      ]
     },
     "execution_count": 14,
     "metadata": {},
     "output_type": "execute_result"
    }
   ],
   "source": [
    "print(np.dot(np.transpose(B),B))\n",
    "np.dot(np.transpose(niggli.niggli_reduce(B)),niggli.niggli_reduce(B))"
   ]
  },
  {
   "cell_type": "code",
   "execution_count": 11,
   "metadata": {
    "collapsed": false,
    "deletable": true,
    "editable": true
   },
   "outputs": [
    {
     "name": "stdout",
     "output_type": "stream",
     "text": [
      "[[ 0.75 -0.25  0.  ]\n",
      " [-0.25  0.75  0.  ]\n",
      " [ 0.    0.    2.  ]]\n"
     ]
    },
    {
     "data": {
      "text/plain": [
       "array([[ 0.5, -0.5,  1. ],\n",
       "       [ 0.5,  0.5,  0. ],\n",
       "       [-0.5,  0.5,  1. ]])"
      ]
     },
     "execution_count": 11,
     "metadata": {},
     "output_type": "execute_result"
    }
   ],
   "source": [
    "print(np.dot(np.transpose(A),A))\n",
    "niggli.niggli_reduce(A)"
   ]
  },
  {
   "cell_type": "code",
   "execution_count": 6,
   "metadata": {
    "collapsed": true,
    "deletable": true,
    "editable": true
   },
   "outputs": [],
   "source": [
    "def is_orthonormal(matrix,eps=1E-6):\n",
    "    \"\"\"Determines if the input matrix is orthonormal.\n",
    "    \n",
    "    Args:\n",
    "        matrix (numpy array): The 3 by 3 matrix to check.\n",
    "        eps (float optional): Floating point tolerance, \n",
    "            default is 1E-6.\n",
    "    Returns:\n",
    "        ortho (bool): True if matrix is orthonormal.\n",
    "    \"\"\"\n",
    "    \n",
    "    matrix = np.array(matrix)\n",
    "    \n",
    "    ortho = True\n",
    "    vals = list(range(3))\n",
    "    for i in vals:\n",
    "        prod = abs(np.dot(matrix[:,i],matrix[:,i]))\n",
    "        if abs(prod-1.0) > eps:\n",
    "            print(prod)\n",
    "            print(\"F1\")\n",
    "            ortho = False\n",
    "            break\n",
    "        for j in vals:\n",
    "            if i != j:\n",
    "                prod2 = abs(np.dot(matrix[:,i],matrix[:,j]))\n",
    "                if prod2 > eps:\n",
    "                    print(\"F2\")\n",
    "                    ortho = False \n",
    "                    break\n",
    "    return ortho        "
   ]
  },
  {
   "cell_type": "code",
   "execution_count": 101,
   "metadata": {
    "collapsed": false,
    "deletable": true,
    "editable": true
   },
   "outputs": [
    {
     "data": {
      "text/plain": [
       "array([ 1.        ,  1.11803399,  3.        ])"
      ]
     },
     "execution_count": 101,
     "metadata": {},
     "output_type": "execute_result"
    }
   ],
   "source": [
    "np.linalg.norm(B_m,axis=0)"
   ]
  },
  {
   "cell_type": "code",
   "execution_count": 111,
   "metadata": {
    "collapsed": false,
    "deletable": true,
    "editable": true
   },
   "outputs": [
    {
     "data": {
      "text/plain": [
       "array([[ 0.8660254 ,  0.        ,  0.        ],\n",
       "       [ 0.        ,  0.77459667,  0.        ],\n",
       "       [ 0.        ,  0.        ,  0.47140452]])"
      ]
     },
     "execution_count": 111,
     "metadata": {},
     "output_type": "execute_result"
    }
   ],
   "source": [
    "Sc"
   ]
  },
  {
   "cell_type": "code",
   "execution_count": 114,
   "metadata": {
    "collapsed": false,
    "deletable": true,
    "editable": true
   },
   "outputs": [
    {
     "name": "stdout",
     "output_type": "stream",
     "text": [
      "(array([[ 0.57735027, -0.35682209,  0.70710678],\n",
      "       [ 0.57735027,  0.93417236,  0.        ],\n",
      "       [-0.57735027,  0.35682209,  0.70710678]]), 1.0540925533894601)\n",
      "F2\n",
      "1.12732200375\n",
      "F1\n",
      "(array([[-0.57735027,  0.35682209,  0.70710678],\n",
      "       [ 0.57735027,  0.93417236,  0.        ],\n",
      "       [ 0.57735027, -0.35682209,  0.70710678]]), -1.0540925533894601)\n",
      "F2\n",
      "1.12732200375\n",
      "F1\n",
      "(array([[-0.57735027,  1.00231931,  0.35355339],\n",
      "       [ 0.57735027,  0.28867513,  0.35355339],\n",
      "       [ 0.57735027,  1.57966958, -0.35355339]]), 1.0540925533894601)\n",
      "F2\n",
      "3.58333333333\n",
      "F1\n",
      "(array([[ 0.57735027,  1.57966958, -0.35355339],\n",
      "       [ 0.57735027,  0.28867513,  0.35355339],\n",
      "       [-0.57735027,  1.00231931,  0.35355339]]), -1.0540925533894601)\n",
      "F2\n",
      "3.58333333333\n",
      "F1\n",
      "(array([[ 1.15470054,  1.22284749, -0.35355339],\n",
      "       [ 0.        ,  0.64549722,  0.35355339],\n",
      "       [ 1.15470054, -0.06814696,  0.35355339]]), 1.0540925533894601)\n",
      "2.66666666667\n",
      "F1\n",
      "(array([[ 1.15470054, -0.06814696,  0.35355339],\n",
      "       [ 0.        ,  0.64549722,  0.35355339],\n",
      "       [ 1.15470054,  1.22284749, -0.35355339]]), -1.0540925533894601)\n",
      "2.66666666667\n",
      "F1\n",
      "H\n"
     ]
    }
   ],
   "source": [
    "Sc = np.identity(3)*np.transpose(np.linalg.norm(A_m,axis=0)/np.linalg.norm(B_m,axis=0))\n",
    "permutations = [[0,1,2],[1,0,2],[1,2,0],[0,2,1],[2,0,1],[2,1,0]]\n",
    "correct = False\n",
    "current = 0\n",
    "while not correct:\n",
    "    perm = permutations[current]\n",
    "    R = np.dot(np.transpose(np.transpose(A_m)[perm]),np.linalg.inv(np.dot(B_m,Sc)))\n",
    "    print(R,np.linalg.det(R))\n",
    "    if is_orthonormal(R,eps=1E-1):\n",
    "        correct = True\n",
    "    else:\n",
    "        current += 1\n",
    "        \n",
    "    if current == 6:\n",
    "        print(\"H\")\n",
    "        R = np.array([[1,0,0],[0,1,0],[0,0,1]])\n",
    "        correct = True\n",
    "\n",
    "R = np.dot(np.linalg.inv(B_m),A_m)        \n",
    "L = np.dot(np.linalg.inv(A_s),np.dot(R,B))\n",
    "#print(np.transpose(A_m))\n",
    "#print(np.transpose(np.dot(Sc,B_m)))\n",
    "#print(np.linalg.det(R))\n",
    "#print(R)"
   ]
  },
  {
   "cell_type": "code",
   "execution_count": 160,
   "metadata": {
    "collapsed": false,
    "deletable": true,
    "editable": true
   },
   "outputs": [],
   "source": [
    "trans = []\n",
    "for k in range(3):\n",
    "    temp = np.outer(B[:,k],A_t[:,k])/np.dot(B[:,k],B[:,k])\n",
    "    trans.append(temp)"
   ]
  },
  {
   "cell_type": "code",
   "execution_count": 10,
   "metadata": {
    "collapsed": false,
    "deletable": true,
    "editable": true
   },
   "outputs": [
    {
     "ename": "NameError",
     "evalue": "name 'trans' is not defined",
     "output_type": "error",
     "traceback": [
      "\u001b[0;31m---------------------------------------------------------------------------\u001b[0m",
      "\u001b[0;31mNameError\u001b[0m                                 Traceback (most recent call last)",
      "\u001b[0;32m<ipython-input-10-48aded202fb2>\u001b[0m in \u001b[0;36m<module>\u001b[0;34m()\u001b[0m\n\u001b[1;32m      3\u001b[0m \u001b[0mS_a\u001b[0m \u001b[0;34m=\u001b[0m \u001b[0;34m[\u001b[0m\u001b[0;34m]\u001b[0m\u001b[0;34m\u001b[0m\u001b[0m\n\u001b[1;32m      4\u001b[0m \u001b[0;32mfor\u001b[0m \u001b[0mk\u001b[0m \u001b[0;32min\u001b[0m \u001b[0mrange\u001b[0m\u001b[0;34m(\u001b[0m\u001b[0;36m3\u001b[0m\u001b[0;34m)\u001b[0m\u001b[0;34m:\u001b[0m\u001b[0;34m\u001b[0m\u001b[0m\n\u001b[0;32m----> 5\u001b[0;31m     \u001b[0mS_a\u001b[0m\u001b[0;34m.\u001b[0m\u001b[0mappend\u001b[0m\u001b[0;34m(\u001b[0m\u001b[0mnp\u001b[0m\u001b[0;34m.\u001b[0m\u001b[0mdot\u001b[0m\u001b[0;34m(\u001b[0m\u001b[0mS\u001b[0m\u001b[0;34m[\u001b[0m\u001b[0;34m:\u001b[0m\u001b[0;34m,\u001b[0m\u001b[0mk\u001b[0m\u001b[0;34m]\u001b[0m\u001b[0;34m,\u001b[0m\u001b[0mtrans\u001b[0m\u001b[0;34m[\u001b[0m\u001b[0mk\u001b[0m\u001b[0;34m]\u001b[0m\u001b[0;34m)\u001b[0m\u001b[0;34m)\u001b[0m\u001b[0;34m\u001b[0m\u001b[0m\n\u001b[0m\u001b[1;32m      6\u001b[0m \u001b[0mS_a\u001b[0m \u001b[0;34m=\u001b[0m \u001b[0mnp\u001b[0m\u001b[0;34m.\u001b[0m\u001b[0mtranspose\u001b[0m\u001b[0;34m(\u001b[0m\u001b[0mS_a\u001b[0m\u001b[0;34m)\u001b[0m\u001b[0;34m\u001b[0m\u001b[0m\n\u001b[1;32m      7\u001b[0m \u001b[0;31m#S_a=np.dot(R,np.dot(S,np.linalg.inv(L)))\u001b[0m\u001b[0;34m\u001b[0m\u001b[0;34m\u001b[0m\u001b[0m\n",
      "\u001b[0;31mNameError\u001b[0m: name 'trans' is not defined"
     ]
    }
   ],
   "source": [
    "S = np.dot(B,HNFs[5])\n",
    "#print(lat_type(np.transpose(S),eps=eps)[0])\n",
    "S_a = []\n",
    "for k in range(3):\n",
    "    S_a.append(np.dot(S[:,k],trans[k]))\n",
    "S_a = np.transpose(S_a)\n",
    "#S_a=np.dot(R,np.dot(S,np.linalg.inv(L)))\n",
    "#print(lat_type(np.transpose(S_a),eps=eps)[0])"
   ]
  },
  {
   "cell_type": "code",
   "execution_count": 11,
   "metadata": {
    "collapsed": false,
    "deletable": true,
    "editable": true
   },
   "outputs": [
    {
     "data": {
      "text/plain": [
       "array([[  6.5,   6.5,   0. ],\n",
       "       [-11. , -13. ,   0. ],\n",
       "       [  0. ,   0. ,   6. ]])"
      ]
     },
     "execution_count": 11,
     "metadata": {},
     "output_type": "execute_result"
    }
   ],
   "source": [
    "S"
   ]
  },
  {
   "cell_type": "code",
   "execution_count": 173,
   "metadata": {
    "collapsed": false,
    "deletable": true,
    "editable": true
   },
   "outputs": [
    {
     "data": {
      "text/plain": [
       "array([[ -6.2,   0. ,   0. ],\n",
       "       [  0. ,  13. ,   0. ],\n",
       "       [  0. ,   0. ,   2. ]])"
      ]
     },
     "execution_count": 173,
     "metadata": {},
     "output_type": "execute_result"
    }
   ],
   "source": [
    "g = np.transpose(np.linalg.inv(S_a))\n",
    "r = np.transpose(np.linalg.inv(A_t))\n",
    "#print(lat_type(np.transpose(g),eps=eps)[0])\n",
    "np.round(np.dot(np.linalg.inv(g),r),3)"
   ]
  },
  {
   "cell_type": "code",
   "execution_count": 82,
   "metadata": {
    "collapsed": false,
    "deletable": true,
    "editable": true
   },
   "outputs": [
    {
     "data": {
      "text/plain": [
       "array([[ 0.5, -0.5,  1. ],\n",
       "       [ 0.5,  0.5,  0. ],\n",
       "       [-0.5,  0.5,  1. ]])"
      ]
     },
     "execution_count": 82,
     "metadata": {},
     "output_type": "execute_result"
    }
   ],
   "source": [
    "A_m"
   ]
  },
  {
   "cell_type": "code",
   "execution_count": 83,
   "metadata": {
    "collapsed": false,
    "deletable": true,
    "editable": true
   },
   "outputs": [
    {
     "data": {
      "text/plain": [
       "array([[ 0.5, -0.5,  1. ],\n",
       "       [ 0.5,  0.5,  0. ],\n",
       "       [-0.5,  0.5,  1. ]])"
      ]
     },
     "execution_count": 83,
     "metadata": {},
     "output_type": "execute_result"
    }
   ],
   "source": [
    "A_s"
   ]
  },
  {
   "cell_type": "code",
   "execution_count": 84,
   "metadata": {
    "collapsed": false,
    "deletable": true,
    "editable": true
   },
   "outputs": [
    {
     "data": {
      "text/plain": [
       "array([ 0.8660254 ,  0.8660254 ,  1.41421356])"
      ]
     },
     "execution_count": 84,
     "metadata": {},
     "output_type": "execute_result"
    }
   ],
   "source": [
    "np.linalg.norm(A_s,axis=0)"
   ]
  },
  {
   "cell_type": "code",
   "execution_count": 18,
   "metadata": {
    "collapsed": false,
    "deletable": true,
    "editable": true
   },
   "outputs": [
    {
     "data": {
      "text/plain": [
       "array([[ 0.5, -0.5,  1. ],\n",
       "       [ 0.5,  0.5,  0. ],\n",
       "       [-0.5,  0.5,  1. ]])"
      ]
     },
     "execution_count": 18,
     "metadata": {},
     "output_type": "execute_result"
    }
   ],
   "source": [
    "A_t"
   ]
  },
  {
   "cell_type": "code",
   "execution_count": 119,
   "metadata": {
    "collapsed": false,
    "deletable": true,
    "editable": true
   },
   "outputs": [
    {
     "data": {
      "text/plain": [
       "array([[ 0.5,  0.5,  0. ],\n",
       "       [ 1. , -1. ,  0. ],\n",
       "       [ 0. ,  0. ,  3. ]])"
      ]
     },
     "execution_count": 119,
     "metadata": {},
     "output_type": "execute_result"
    }
   ],
   "source": [
    "B"
   ]
  },
  {
   "cell_type": "code",
   "execution_count": 120,
   "metadata": {
    "collapsed": true,
    "deletable": true,
    "editable": true
   },
   "outputs": [],
   "source": [
    "S = np.dot(A_t,np.linalg.inv(B))"
   ]
  },
  {
   "cell_type": "code",
   "execution_count": 121,
   "metadata": {
    "collapsed": false,
    "deletable": true,
    "editable": true
   },
   "outputs": [],
   "source": [
    "T = np.linalg.inv(S)"
   ]
  },
  {
   "cell_type": "code",
   "execution_count": 122,
   "metadata": {
    "collapsed": false,
    "deletable": true,
    "editable": true
   },
   "outputs": [
    {
     "data": {
      "text/plain": [
       "array([[ 0. ,  1. ,  0. ],\n",
       "       [ 1. ,  0. , -1. ],\n",
       "       [ 1.5,  0. ,  1.5]])"
      ]
     },
     "execution_count": 122,
     "metadata": {},
     "output_type": "execute_result"
    }
   ],
   "source": [
    "T"
   ]
  },
  {
   "cell_type": "code",
   "execution_count": 150,
   "metadata": {
    "collapsed": false,
    "deletable": true,
    "editable": true
   },
   "outputs": [],
   "source": [
    "Bs = np.dot(B,HNFs[2])"
   ]
  },
  {
   "cell_type": "code",
   "execution_count": 151,
   "metadata": {
    "collapsed": true,
    "deletable": true,
    "editable": true
   },
   "outputs": [],
   "source": [
    "As = np.dot(S,Bs)"
   ]
  },
  {
   "cell_type": "code",
   "execution_count": 154,
   "metadata": {
    "collapsed": false,
    "deletable": true,
    "editable": true
   },
   "outputs": [
    {
     "data": {
      "text/plain": [
       "('so', array([[1, 0, 0],\n",
       "        [0, 2, 0],\n",
       "        [0, 0, 3]]), [0, 1, 2])"
      ]
     },
     "execution_count": 154,
     "metadata": {},
     "output_type": "execute_result"
    }
   ],
   "source": [
    "lat_type(np.transpose(g))"
   ]
  },
  {
   "cell_type": "code",
   "execution_count": 153,
   "metadata": {
    "collapsed": false,
    "deletable": true,
    "editable": true
   },
   "outputs": [
    {
     "data": {
      "text/plain": [
       "array([[  1.,   1.,   0.],\n",
       "       [  0.,   2.,   0.],\n",
       "       [  0.,   0.,  13.]])"
      ]
     },
     "execution_count": 153,
     "metadata": {},
     "output_type": "execute_result"
    }
   ],
   "source": [
    "r = np.linalg.inv(np.transpose(A_t))\n",
    "g = np.linalg.inv(np.transpose(As))\n",
    "np.round(np.dot(np.linalg.inv(g),r),3)"
   ]
  },
  {
   "cell_type": "code",
   "execution_count": 25,
   "metadata": {
    "collapsed": false,
    "deletable": true,
    "editable": true
   },
   "outputs": [],
   "source": [
    "from phenum import symmetry"
   ]
  },
  {
   "cell_type": "code",
   "execution_count": 20,
   "metadata": {
    "collapsed": false,
    "deletable": true,
    "editable": true
   },
   "outputs": [
    {
     "data": {
      "text/plain": [
       "('cm', array([[ 1. ,  0. ,  0.5],\n",
       "        [ 1. ,  2. ,  0. ],\n",
       "        [ 0. ,  0. ,  2. ]]), [0, 1, 2])"
      ]
     },
     "execution_count": 20,
     "metadata": {},
     "output_type": "execute_result"
    }
   ],
   "source": [
    "lat_type([[0.06666666666667, -0.03849001811417425, -0.10206207023193052], \n",
    "          [0., -0.0769800362283485, 0.10206207023193052], \n",
    "          [-0.06666666666667, -0.03849001811417425, -0.10206207023193052]],eps=1E-10)"
   ]
  },
  {
   "cell_type": "code",
   "execution_count": 37,
   "metadata": {
    "collapsed": false,
    "deletable": true,
    "editable": true
   },
   "outputs": [
    {
     "data": {
      "text/plain": [
       "12"
      ]
     },
     "execution_count": 37,
     "metadata": {},
     "output_type": "execute_result"
    }
   ],
   "source": [
    "len(symmetry.get_lattice_pointGroup([[0.08333333333333, -0.048112522642713484, -0.040824828092772214],\n",
    "                                     [0., -0.09622504528542697, 0.040824828092772214], \n",
    "                                     [-0.08333333333333, -0.048112522642713484, -0.040824828092772214]],eps=1E-3))"
   ]
  },
  {
   "cell_type": "code",
   "execution_count": 1,
   "metadata": {
    "collapsed": false,
    "deletable": true,
    "editable": true
   },
   "outputs": [],
   "source": [
    "from pyniggli import reduced_cell\n",
    "from niggli import niggli_reduce\n",
    "import numpy as np"
   ]
  },
  {
   "cell_type": "code",
   "execution_count": 2,
   "metadata": {
    "collapsed": false,
    "deletable": true,
    "editable": true
   },
   "outputs": [
    {
     "name": "stdout",
     "output_type": "stream",
     "text": [
      "(1.01, 1.1800000000000002, 2.3500000000000001, -0.91999999999999993, -0.57999999999999996, -0.80000000000000004)\n"
     ]
    }
   ],
   "source": [
    "a = [1,-.1,0]\n",
    "b = [-0.3,1,.3]\n",
    "c = [-.3,-0.1,-1.5 ]\n",
    "print(np.dot(a,a),np.dot(b,b),np.dot(c,c),2.0*np.dot(b,c), 2.0*np.dot(c,a), 2.0*np.dot(a,b))"
   ]
  },
  {
   "cell_type": "code",
   "execution_count": 8,
   "metadata": {
    "collapsed": false,
    "deletable": true,
    "editable": true
   },
   "outputs": [
    {
     "ename": "ValueError",
     "evalue": "The input basis must be a 3 by 3 matrix with the lattice vectors as columns of the matrix.",
     "output_type": "error",
     "traceback": [
      "\u001b[0;31m------------------------------------------------------------------------\u001b[0m",
      "\u001b[0;31mValueError\u001b[0m                             Traceback (most recent call last)",
      "\u001b[0;32m<ipython-input-8-a82434f3edb8>\u001b[0m in \u001b[0;36m<module>\u001b[0;34m()\u001b[0m\n\u001b[1;32m      1\u001b[0m \u001b[0mA\u001b[0m \u001b[0;34m=\u001b[0m \u001b[0mnp\u001b[0m\u001b[0;34m.\u001b[0m\u001b[0mtranspose\u001b[0m\u001b[0;34m(\u001b[0m\u001b[0;34m[\u001b[0m\u001b[0;34m[\u001b[0m\u001b[0;36m0.5\u001b[0m\u001b[0;34m,\u001b[0m\u001b[0;36m0\u001b[0m\u001b[0;34m,\u001b[0m\u001b[0;36m0.5\u001b[0m\u001b[0;34m]\u001b[0m\u001b[0;34m,\u001b[0m\u001b[0;34m[\u001b[0m\u001b[0;36m0\u001b[0m\u001b[0;34m,\u001b[0m\u001b[0;36m3\u001b[0m\u001b[0;34m,\u001b[0m\u001b[0;36m0\u001b[0m\u001b[0;34m]\u001b[0m\u001b[0;34m]\u001b[0m\u001b[0;34m)\u001b[0m\u001b[0;34m\u001b[0m\u001b[0m\n\u001b[0;32m----> 2\u001b[0;31m \u001b[0mB\u001b[0m \u001b[0;34m=\u001b[0m \u001b[0mreduced_cell\u001b[0m\u001b[0;34m(\u001b[0m\u001b[0mA\u001b[0m\u001b[0;34m)\u001b[0m\u001b[0;34m\u001b[0m\u001b[0m\n\u001b[0m",
      "\u001b[0;32m/Users/wileymorgan/codes/pyniggli/pyniggli/niggli.py\u001b[0m in \u001b[0;36m__init__\u001b[0;34m(self, A, eps)\u001b[0m\n\u001b[1;32m     50\u001b[0m         \"\"\"\n\u001b[1;32m     51\u001b[0m \u001b[0;34m\u001b[0m\u001b[0m\n\u001b[0;32m---> 52\u001b[0;31m         \u001b[0;32mif\u001b[0m \u001b[0;32mnot\u001b[0m \u001b[0misinstance\u001b[0m\u001b[0;34m(\u001b[0m\u001b[0mA\u001b[0m\u001b[0;34m,\u001b[0m\u001b[0mnp\u001b[0m\u001b[0;34m.\u001b[0m\u001b[0mndarray\u001b[0m\u001b[0;34m)\u001b[0m\u001b[0;34m:\u001b[0m\u001b[0;34m\u001b[0m\u001b[0m\n\u001b[0m\u001b[1;32m     53\u001b[0m             \u001b[0mA\u001b[0m \u001b[0;34m=\u001b[0m \u001b[0mnp\u001b[0m\u001b[0;34m.\u001b[0m\u001b[0marray\u001b[0m\u001b[0;34m(\u001b[0m\u001b[0mA\u001b[0m\u001b[0;34m)\u001b[0m\u001b[0;34m\u001b[0m\u001b[0m\n\u001b[1;32m     54\u001b[0m         \u001b[0;32mif\u001b[0m \u001b[0mA\u001b[0m\u001b[0;34m.\u001b[0m\u001b[0mshape\u001b[0m \u001b[0;34m!=\u001b[0m \u001b[0;34m(\u001b[0m\u001b[0;36m3\u001b[0m\u001b[0;34m,\u001b[0m\u001b[0;36m3\u001b[0m\u001b[0;34m)\u001b[0m\u001b[0;34m:\u001b[0m\u001b[0;34m\u001b[0m\u001b[0m\n",
      "\u001b[0;31mValueError\u001b[0m: The input basis must be a 3 by 3 matrix with the lattice vectors as columns of the matrix."
     ]
    }
   ],
   "source": [
    "A = np.transpose([[0.5,0,0.5],[0,3,0]])\n",
    "B = reduced_cell(A)"
   ]
  },
  {
   "cell_type": "code",
   "execution_count": 7,
   "metadata": {
    "collapsed": false,
    "deletable": true,
    "editable": true,
    "scrolled": true
   },
   "outputs": [
    {
     "name": "stdout",
     "output_type": "stream",
     "text": [
      "[[-0.5  0.  -0.5]\n",
      " [-0.5  0.   0.5]\n",
      " [ 0.  -3.   0. ]]\n"
     ]
    },
    {
     "data": {
      "text/plain": [
       "array([[-0.5, -0.5,  0. ],\n",
       "       [ 0. ,  0. , -3. ],\n",
       "       [-0.5,  0.5,  0. ]])"
      ]
     },
     "execution_count": 7,
     "metadata": {},
     "output_type": "execute_result"
    }
   ],
   "source": [
    "print(np.transpose(B.niggli))\n",
    "niggli_reduce(A)"
   ]
  },
  {
   "cell_type": "code",
   "execution_count": 10,
   "metadata": {
    "collapsed": false,
    "deletable": true,
    "editable": true,
    "scrolled": true
   },
   "outputs": [
    {
     "data": {
      "text/plain": [
       "array([[ 0.,  1.,  0.],\n",
       "       [ 1.,  2.,  1.],\n",
       "       [-1., -1., -2.]])"
      ]
     },
     "execution_count": 10,
     "metadata": {},
     "output_type": "execute_result"
    }
   ],
   "source": [
    "B.C"
   ]
  },
  {
   "cell_type": "code",
   "execution_count": 48,
   "metadata": {
    "collapsed": false,
    "deletable": true,
    "editable": true
   },
   "outputs": [
    {
     "name": "stdout",
     "output_type": "stream",
     "text": [
      "('a', 1.0, 'b', 5.6666667650268803, 'c', 17.666667105991401, 'xi', -1.6666672436430421, 'eta', -1.0, 'zeta', 0.0)\n"
     ]
    }
   ],
   "source": [
    "temp = np.transpose(niggli_reduce(A))\n",
    "a = np.dot(temp[0],temp[0])\n",
    "b=np.dot(temp[1],temp[1])\n",
    "c=np.dot(temp[2],temp[2])\n",
    "xi=2.0*np.dot(temp[1],temp[2])\n",
    "eta=2.0*np.dot(temp[2],temp[0])\n",
    "zeta=2.0*np.dot(temp[0],temp[1])\n",
    "print(\"a\",a,\"b\",b,\"c\",c,\"xi\",xi,\"eta\",eta,\"zeta\",zeta)"
   ]
  },
  {
   "cell_type": "code",
   "execution_count": 24,
   "metadata": {
    "collapsed": false,
    "deletable": true,
    "editable": true
   },
   "outputs": [
    {
     "data": {
      "text/plain": [
       "array([[-0.89,  0.4 , -0.9 ],\n",
       "       [-0.84, -1.6 ,  0.3 ],\n",
       "       [-1.68,  1.5 ,  2.7 ]])"
      ]
     },
     "execution_count": 24,
     "metadata": {},
     "output_type": "execute_result"
    }
   ],
   "source": [
    "temp"
   ]
  },
  {
   "cell_type": "code",
   "execution_count": 5,
   "metadata": {
    "collapsed": false,
    "deletable": true,
    "editable": true
   },
   "outputs": [
    {
     "name": "stdout",
     "output_type": "stream",
     "text": [
      "('a', 1.0, 'b', 3.6666667846914001, 'c', 5.6666667650268803, 'xi', 2.333333608711841, 'eta', 0.0, 'zeta', 1.0)\n"
     ]
    }
   ],
   "source": [
    "temp = [[1.00000000000000, 0.00000000000000,0.00000000000000],\n",
    "                     [0.50000000000000,0.86602540000000,1.63299320000000],\n",
    "                     [0.00000000000000,-1.73205080000000,1.63299320000000]]\n",
    "a = np.dot(temp[0],temp[0])\n",
    "b=np.dot(temp[1],temp[1])\n",
    "c=np.dot(temp[2],temp[2])\n",
    "xi=2.0*np.dot(temp[1],temp[2])\n",
    "eta=2.0*np.dot(temp[2],temp[0])\n",
    "zeta=2.0*np.dot(temp[0],temp[1])\n",
    "print(\"a\",a,\"b\",b,\"c\",c,\"xi\",xi,\"eta\",eta,\"zeta\",zeta)"
   ]
  },
  {
   "cell_type": "code",
   "execution_count": 22,
   "metadata": {
    "collapsed": false,
    "deletable": true,
    "editable": true
   },
   "outputs": [
    {
     "data": {
      "text/plain": [
       "array([[ 0. ,  0.5,  0.5],\n",
       "       [ 0.5,  0. ,  0.5],\n",
       "       [ 0.5,  0.5,  0. ]])"
      ]
     },
     "execution_count": 22,
     "metadata": {},
     "output_type": "execute_result"
    }
   ],
   "source": [
    "A = np.transpose([[0,.5,.5],[.5,0,.5],[.5,.5,0]])\n",
    "B = reduced_cell(A)\n",
    "np.transpose(B.niggli)"
   ]
  },
  {
   "cell_type": "code",
   "execution_count": 23,
   "metadata": {
    "collapsed": true,
    "deletable": true,
    "editable": true
   },
   "outputs": [],
   "source": [
    "a = B.niggli[:,0]\n",
    "b = B.niggli[:,1]\n",
    "c = B.niggli[:,2]"
   ]
  },
  {
   "cell_type": "code",
   "execution_count": 24,
   "metadata": {
    "collapsed": false,
    "deletable": true,
    "editable": true
   },
   "outputs": [
    {
     "name": "stdout",
     "output_type": "stream",
     "text": [
      "(0.25, 0.25, 0.25)\n"
     ]
    }
   ],
   "source": [
    "print(np.dot(b,c),np.dot(a,c),np.dot(a,b))"
   ]
  },
  {
   "cell_type": "code",
   "execution_count": 25,
   "metadata": {
    "collapsed": false,
    "deletable": true,
    "editable": true
   },
   "outputs": [
    {
     "data": {
      "text/plain": [
       "0.25"
      ]
     },
     "execution_count": 25,
     "metadata": {},
     "output_type": "execute_result"
    }
   ],
   "source": [
    "np.dot(a,a)/2."
   ]
  },
  {
   "cell_type": "code",
   "execution_count": 11,
   "metadata": {
    "collapsed": true
   },
   "outputs": [],
   "source": [
    "import numpy as np\n",
    "from phenum.symmetry import get_lattice_pointGroup\n",
    "from opf_python.stet import stet_11"
   ]
  },
  {
   "cell_type": "code",
   "execution_count": 16,
   "metadata": {
    "collapsed": true,
    "deletable": true,
    "editable": true
   },
   "outputs": [],
   "source": [
    "At = [[-4.85960351639766, 4.86010400245928, 2.37204283593526],\n",
    "      [4.86010400245928, -4.85960351639766, 2.37204283593526],\n",
    "      [4.84101040880108, 4.84101040880108, -2.37101750239167]]\n",
    "A = np.transpose(At)"
   ]
  },
  {
   "cell_type": "code",
   "execution_count": 17,
   "metadata": {
    "collapsed": false
   },
   "outputs": [
    {
     "name": "stdout",
     "output_type": "stream",
     "text": [
      "4\n"
     ]
    }
   ],
   "source": [
    "pg = get_lattice_pointGroup(At, eps=1E-3)\n",
    "print(len(pg))"
   ]
  },
  {
   "cell_type": "code",
   "execution_count": 21,
   "metadata": {
    "collapsed": false
   },
   "outputs": [
    {
     "data": {
      "text/plain": [
       "[array([[-1.,  0.,  0.],\n",
       "        [ 0., -1.,  0.],\n",
       "        [-0.,  0., -1.]]), array([[ 0., -1.,  0.],\n",
       "        [-1.,  0.,  0.],\n",
       "        [ 0., -0., -1.]]), array([[-0.,  1., -0.],\n",
       "        [ 1.,  0., -0.],\n",
       "        [-0.,  0.,  1.]]), array([[ 1., -0., -0.],\n",
       "        [ 0.,  1., -0.],\n",
       "        [ 0., -0.,  1.]])]"
      ]
     },
     "execution_count": 21,
     "metadata": {},
     "output_type": "execute_result"
    }
   ],
   "source": [
    "pgi = [np.round(np.matmul(np.linalg.inv(A),np.matmul(g, A))) for g in pg]\n",
    "pgi"
   ]
  },
  {
   "cell_type": "code",
   "execution_count": 13,
   "metadata": {
    "collapsed": false
   },
   "outputs": [
    {
     "name": "stdout",
     "output_type": "stream",
     "text": [
      "14\n"
     ]
    }
   ],
   "source": [
    "hnfs = stet_11(1000)\n",
    "print(len(hnfs))"
   ]
  },
  {
   "cell_type": "code",
   "execution_count": 51,
   "metadata": {
    "collapsed": false
   },
   "outputs": [
    {
     "data": {
      "text/plain": [
       "array([[  1.75244756e-05,   5.14418771e-03,   2.06557774e-02],\n",
       "       [  1.03058999e-02,  -5.14418771e-03,   2.06557774e-02],\n",
       "       [  2.10777883e-02,   1.42828649e-22,  -4.35823861e-06]])"
      ]
     },
     "execution_count": 51,
     "metadata": {},
     "output_type": "execute_result"
    }
   ],
   "source": [
    "K = np.linalg.inv(np.transpose(np.matmul(A, hnfs[13])))\n",
    "K"
   ]
  },
  {
   "cell_type": "code",
   "execution_count": 52,
   "metadata": {
    "collapsed": false
   },
   "outputs": [
    {
     "data": {
      "text/plain": [
       "[array([[-1.,  0.,  0.],\n",
       "        [-0., -1.,  0.],\n",
       "        [-0.,  0., -1.]]), array([[-1., -0.,  0.],\n",
       "        [-2.,  1., -0.],\n",
       "        [-0., -0., -1.]]), array([[ 1.,  0., -0.],\n",
       "        [ 2., -1.,  0.],\n",
       "        [ 0.,  0.,  1.]]), array([[ 1., -0., -0.],\n",
       "        [ 0.,  1.,  0.],\n",
       "        [ 0., -0.,  1.]])]"
      ]
     },
     "execution_count": 52,
     "metadata": {},
     "output_type": "execute_result"
    }
   ],
   "source": [
    "pki = [np.round(np.matmul(np.linalg.inv(K),np.matmul(g, K)),3) for g in pg]\n",
    "pki"
   ]
  },
  {
   "cell_type": "code",
   "execution_count": null,
   "metadata": {
    "collapsed": true
   },
   "outputs": [],
   "source": [
    "import phenum"
   ]
  },
  {
   "cell_type": "code",
   "execution_count": null,
   "metadata": {
    "collapsed": true
   },
   "outputs": [],
   "source": []
  }
 ],
 "metadata": {
  "kernelspec": {
   "display_name": "Python 2",
   "language": "python",
   "name": "python2"
  },
  "language_info": {
   "codemirror_mode": {
    "name": "ipython",
    "version": 2
   },
   "file_extension": ".py",
   "mimetype": "text/x-python",
   "name": "python",
   "nbconvert_exporter": "python",
   "pygments_lexer": "ipython2",
   "version": "2.7.9"
  }
 },
 "nbformat": 4,
 "nbformat_minor": 2
}
