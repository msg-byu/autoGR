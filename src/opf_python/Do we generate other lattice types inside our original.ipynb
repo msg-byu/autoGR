{
 "cells": [
  {
   "cell_type": "code",
   "execution_count": 1,
   "metadata": {
    "collapsed": true,
    "deletable": true,
    "editable": true
   },
   "outputs": [],
   "source": [
    "from jeremy import spGrids\n",
    "import numpy as np\n",
    "from lat_type import lat_type"
   ]
  },
  {
   "cell_type": "markdown",
   "metadata": {},
   "source": [
    "Let's first check if we can get bcc or fcc from a simple cubic parent."
   ]
  },
  {
   "cell_type": "code",
   "execution_count": 28,
   "metadata": {
    "collapsed": true,
    "deletable": true,
    "editable": true
   },
   "outputs": [],
   "source": [
    "A = np.transpose([[1,0,0],[0,1,0],[0,0,1]])"
   ]
  },
  {
   "cell_type": "code",
   "execution_count": 29,
   "metadata": {
    "collapsed": false,
    "deletable": true,
    "editable": true
   },
   "outputs": [],
   "source": [
    "temp = spGrids(A,2)"
   ]
  },
  {
   "cell_type": "code",
   "execution_count": 30,
   "metadata": {
    "collapsed": false,
    "deletable": true,
    "editable": true
   },
   "outputs": [
    {
     "data": {
      "text/plain": [
       "array([[-0.5,  0.5, -0.5],\n",
       "       [-0.5,  0.5,  0.5],\n",
       "       [ 0.5,  0.5,  0.5]])"
      ]
     },
     "execution_count": 30,
     "metadata": {},
     "output_type": "execute_result"
    }
   ],
   "source": [
    "g = temp[0]['grid_vecs']\n",
    "g"
   ]
  },
  {
   "cell_type": "code",
   "execution_count": 31,
   "metadata": {
    "collapsed": false,
    "deletable": true,
    "editable": true
   },
   "outputs": [
    {
     "data": {
      "text/plain": [
       "('bcc', array([[-1,  1,  1],\n",
       "        [ 1, -1,  1],\n",
       "        [ 1,  1, -1]]))"
      ]
     },
     "execution_count": 31,
     "metadata": {},
     "output_type": "execute_result"
    }
   ],
   "source": [
    "lat_type(np.transpose(g))"
   ]
  },
  {
   "cell_type": "code",
   "execution_count": 32,
   "metadata": {
    "collapsed": false,
    "deletable": true,
    "editable": true
   },
   "outputs": [
    {
     "name": "stdout",
     "output_type": "stream",
     "text": [
      "('grid vecs: ', array([[-0.5,  0.5,  0. ],\n",
      "       [ 0. , -0.5,  0.5],\n",
      "       [ 0.5,  0. ,  0.5]]))\n"
     ]
    },
    {
     "data": {
      "text/plain": [
       "'fcc'"
      ]
     },
     "execution_count": 32,
     "metadata": {},
     "output_type": "execute_result"
    }
   ],
   "source": [
    "temp = spGrids(A,4)\n",
    "g = temp[0]['grid_vecs']\n",
    "print(\"grid vecs: \",np.transpose(g))\n",
    "lat_type(np.transpose(g))[0]"
   ]
  },
  {
   "cell_type": "markdown",
   "metadata": {
    "collapsed": false,
    "deletable": true,
    "editable": true
   },
   "source": [
    "Can we get simple cubic or fcc from bcc?"
   ]
  },
  {
   "cell_type": "code",
   "execution_count": 2,
   "metadata": {
    "collapsed": false,
    "deletable": true,
    "editable": true
   },
   "outputs": [],
   "source": [
    "A = np.transpose([[1,1,-1],[1,-1,1],[-1,1,1]])"
   ]
  },
  {
   "cell_type": "code",
   "execution_count": 3,
   "metadata": {
    "collapsed": false,
    "deletable": true,
    "editable": true
   },
   "outputs": [
    {
     "name": "stdout",
     "output_type": "stream",
     "text": [
      "('super cell: ', array([[-2.,  0.,  0.],\n",
      "       [ 0.,  0.,  2.],\n",
      "       [ 0.,  2.,  0.]]))\n",
      "('grid vecs: ', array([[ 0. ,  0. , -0.5],\n",
      "       [ 0. ,  0.5,  0. ],\n",
      "       [ 0.5, -0. ,  0. ]]))\n"
     ]
    },
    {
     "data": {
      "text/plain": [
       "'sc'"
      ]
     },
     "execution_count": 3,
     "metadata": {},
     "output_type": "execute_result"
    }
   ],
   "source": [
    "temp = spGrids(A,2)\n",
    "g = temp[0]['grid_vecs']\n",
    "print(\"grid vecs: \",np.transpose(g))\n",
    "lat_type(np.transpose(g))[0]"
   ]
  },
  {
   "cell_type": "code",
   "execution_count": 4,
   "metadata": {
    "collapsed": false,
    "deletable": true,
    "editable": true
   },
   "outputs": [
    {
     "name": "stdout",
     "output_type": "stream",
     "text": [
      "('super cell: ', array([[ 1., -1.,  1.],\n",
      "       [ 1.,  1.,  1.],\n",
      "       [-1.,  1.,  1.]]))\n",
      "('grid vecs: ', array([[ 0.5, -0. ,  0.5],\n",
      "       [ 0.5,  0.5,  0. ],\n",
      "       [-0.5,  0.5,  0. ]]))\n"
     ]
    },
    {
     "data": {
      "text/plain": [
       "'fcc'"
      ]
     },
     "execution_count": 4,
     "metadata": {},
     "output_type": "execute_result"
    }
   ],
   "source": [
    "temp = spGrids(A,1)\n",
    "g = temp[0]['grid_vecs']\n",
    "print(\"grid vecs: \",np.transpose(g))\n",
    "lat_type(np.transpose(g))[0]"
   ]
  },
  {
   "cell_type": "code",
   "execution_count": 3,
   "metadata": {
    "collapsed": false,
    "deletable": true,
    "editable": true
   },
   "outputs": [
    {
     "name": "stdout",
     "output_type": "stream",
     "text": [
      "('HNF', [[[1, 0, 0], [0, 1, 0], [3, 3, 4]]])\n",
      "('super cell: ', array([[ 4.,  4.,  2.],\n",
      "       [ 4.,  2.,  4.],\n",
      "       [-4., -2., -2.]]), array([[ 0.,  0.,  2.],\n",
      "       [ 0.,  2.,  0.],\n",
      "       [-4.,  0.,  0.]]))\n",
      "('grid vecs: ', array([[ 0.25,  0.25,  0.25],\n",
      "       [-0.25,  0.25, -0.25],\n",
      "       [-0.25,  0.25,  0.25]]))\n"
     ]
    },
    {
     "data": {
      "text/plain": [
       "'fcc'"
      ]
     },
     "execution_count": 3,
     "metadata": {},
     "output_type": "execute_result"
    }
   ],
   "source": [
    "temp = spGrids(A,4)\n",
    "g = temp[0]['grid_vecs']\n",
    "print(\"grid vecs: \",np.transpose(g))\n",
    "lat_type(np.transpose(np.linalg.inv(g)))[0]"
   ]
  },
  {
   "cell_type": "markdown",
   "metadata": {
    "collapsed": false,
    "deletable": true,
    "editable": true
   },
   "source": [
    "Do we get sc and bcc from fcc?"
   ]
  },
  {
   "cell_type": "code",
   "execution_count": 2,
   "metadata": {
    "collapsed": false,
    "deletable": true,
    "editable": true
   },
   "outputs": [],
   "source": [
    "A = np.transpose([[1,1,0],[1,0,1],[0,1,1]])"
   ]
  },
  {
   "cell_type": "code",
   "execution_count": 3,
   "metadata": {
    "collapsed": false,
    "deletable": true,
    "editable": true
   },
   "outputs": [
    {
     "name": "stdout",
     "output_type": "stream",
     "text": [
      "('super cell: ', array([[ 1.,  1.,  0.],\n",
      "       [ 1.,  0.,  1.],\n",
      "       [ 0.,  1.,  1.]]), array([[ 1.,  0.,  1.],\n",
      "       [ 1.,  1.,  0.],\n",
      "       [-1.,  1.,  0.]]))\n",
      "('lat type: ', ('fcc', array([[0, 1, 1],\n",
      "       [1, 0, 1],\n",
      "       [1, 1, 0]])))\n",
      "('grid vecs: ', array([[ 0.5, -0.5,  0.5],\n",
      "       [ 0.5,  0.5,  0.5],\n",
      "       [-0.5,  0.5,  0.5]]))\n"
     ]
    },
    {
     "data": {
      "text/plain": [
       "'bcc'"
      ]
     },
     "execution_count": 3,
     "metadata": {},
     "output_type": "execute_result"
    }
   ],
   "source": [
    "temp = spGrids(A,1)\n",
    "g = temp[0]['grid_vecs']\n",
    "print(\"grid vecs: \",np.transpose(g))\n",
    "lat_type(np.transpose(g))[0]"
   ]
  },
  {
   "cell_type": "code",
   "execution_count": 4,
   "metadata": {
    "collapsed": false
   },
   "outputs": [
    {
     "name": "stdout",
     "output_type": "stream",
     "text": [
      "('super cell: ', array([[ 2.,  2.,  2.],\n",
      "       [ 2.,  0.,  2.],\n",
      "       [ 0.,  2.,  2.]]), array([[ 0.,  2.,  0.],\n",
      "       [-2.,  0.,  0.],\n",
      "       [ 0.,  0.,  2.]]))\n",
      "('lat type: ', ('sc', array([[1, 0, 0],\n",
      "       [0, 1, 0],\n",
      "       [0, 0, 1]])))\n",
      "('grid vecs: ', array([[ 0.5,  0. ,  0. ],\n",
      "       [ 0. ,  0. ,  0.5],\n",
      "       [ 0. , -0.5,  0. ]]))\n"
     ]
    },
    {
     "data": {
      "text/plain": [
       "'sc'"
      ]
     },
     "execution_count": 4,
     "metadata": {},
     "output_type": "execute_result"
    }
   ],
   "source": [
    "temp = spGrids(A,4)\n",
    "g = temp[0]['grid_vecs']\n",
    "print(\"grid vecs: \",np.transpose(g))\n",
    "lat_type(np.transpose(g))[0]"
   ]
  },
  {
   "cell_type": "code",
   "execution_count": 5,
   "metadata": {
    "collapsed": false
   },
   "outputs": [
    {
     "name": "stdout",
     "output_type": "stream",
     "text": [
      "('super cell: ', array([[ 4.,  4.,  2.],\n",
      "       [ 4.,  0.,  2.],\n",
      "       [ 0.,  4.,  2.]]), array([[ 0.,  0., -2.],\n",
      "       [ 0.,  4.,  0.],\n",
      "       [ 4.,  0.,  0.]]))\n",
      "('lat type: ', ('bcc', array([[-1,  1,  1],\n",
      "       [ 1, -1,  1],\n",
      "       [ 1,  1, -1]])))\n",
      "('grid vecs: ', array([[ 0.25,  0.  , -0.25],\n",
      "       [ 0.25,  0.  ,  0.25],\n",
      "       [ 0.  , -0.25,  0.25]]))\n"
     ]
    },
    {
     "data": {
      "text/plain": [
       "'fcc'"
      ]
     },
     "execution_count": 5,
     "metadata": {},
     "output_type": "execute_result"
    }
   ],
   "source": [
    "temp = spGrids(A,16)\n",
    "g = temp[0]['grid_vecs']\n",
    "print(\"grid vecs: \",np.transpose(g))\n",
    "lat_type(np.transpose(g))[0]"
   ]
  },
  {
   "cell_type": "markdown",
   "metadata": {},
   "source": [
    "Does this trend hold for orthorhombic cells?"
   ]
  },
  {
   "cell_type": "code",
   "execution_count": 48,
   "metadata": {
    "collapsed": false
   },
   "outputs": [
    {
     "name": "stdout",
     "output_type": "stream",
     "text": [
      "[[ 1.          0.          0.        ]\n",
      " [ 0.          0.5         0.        ]\n",
      " [ 0.          0.          0.33333333]]\n"
     ]
    }
   ],
   "source": [
    "A = np.transpose([[1,0,0],[0,2,0],[0,0,3]])\n",
    "print(np.linalg.inv(A))"
   ]
  },
  {
   "cell_type": "code",
   "execution_count": 45,
   "metadata": {
    "collapsed": false
   },
   "outputs": [
    {
     "name": "stdout",
     "output_type": "stream",
     "text": [
      "('grid vecs: ', array([[ 0.        ,  0.        ,  0.16666667],\n",
      "       [ 1.        ,  0.        ,  0.        ],\n",
      "       [ 0.        ,  0.5       ,  0.        ]]))\n",
      "('lat_type: ', 'so')\n",
      "('grid vecs: ', array([[ 0.        ,  0.        ,  0.33333333],\n",
      "       [ 0.        ,  0.5       ,  0.        ],\n",
      "       [-0.5       , -0.        ,  0.16666667]]))\n",
      "('lat_type: ', 'co')\n",
      "('grid vecs: ', array([[-0.        , -0.25      ,  0.16666667],\n",
      "       [ 1.        ,  0.        ,  0.        ],\n",
      "       [ 0.        ,  0.25      ,  0.16666667]]))\n",
      "('lat_type: ', 'co')\n",
      "('grid vecs: ', array([[ 0.        ,  0.        ,  0.33333333],\n",
      "       [ 0.        ,  0.5       ,  0.        ],\n",
      "       [-0.5       ,  0.25      ,  0.16666667]]))\n",
      "('lat_type: ', 'fo')\n",
      "('grid vecs: ', array([[ 0.        ,  0.25      ,  0.        ],\n",
      "       [ 0.        ,  0.        ,  0.33333333],\n",
      "       [ 1.        ,  0.        ,  0.        ]]))\n",
      "('lat_type: ', 'so')\n",
      "('grid vecs: ', array([[ 0.        ,  0.        ,  0.33333333],\n",
      "       [ 0.        ,  0.5       ,  0.        ],\n",
      "       [-0.5       ,  0.25      , -0.        ]]))\n",
      "('lat_type: ', 'co')\n",
      "('grid vecs: ', array([[ 0.        ,  0.        ,  0.33333333],\n",
      "       [ 0.5       ,  0.        ,  0.        ],\n",
      "       [ 0.        ,  0.5       ,  0.        ]]))\n",
      "('lat_type: ', 'stet')\n"
     ]
    }
   ],
   "source": [
    "temp = spGrids(A,2)\n",
    "for t in temp:\n",
    "    g = t['grid_vecs']\n",
    "    print(\"grid vecs: \",np.transpose(g))\n",
    "    print('lat_type: ',lat_type(np.transpose(g))[0])"
   ]
  },
  {
   "cell_type": "code",
   "execution_count": 47,
   "metadata": {
    "collapsed": false
   },
   "outputs": [
    {
     "name": "stdout",
     "output_type": "stream",
     "text": [
      "('grid vecs: ', array([[ 0.        ,  0.        ,  0.08333333],\n",
      "       [ 1.        ,  0.        ,  0.        ],\n",
      "       [ 0.        ,  0.5       ,  0.        ]]))\n",
      "('lat_type: ', 'so')\n",
      "('grid vecs: ', array([[ 0.        ,  0.        ,  0.16666667],\n",
      "       [ 0.        ,  0.5       ,  0.        ],\n",
      "       [-0.5       , -0.        ,  0.08333333]]))\n",
      "('lat_type: ', 'co')\n",
      "('grid vecs: ', array([[ 0.        ,  0.        ,  0.16666667],\n",
      "       [-0.        , -0.25      , -0.08333333],\n",
      "       [ 1.        ,  0.        ,  0.        ]]))\n",
      "('lat_type: ', 'co')\n",
      "('grid vecs: ', array([[ 0.        ,  0.        ,  0.16666667],\n",
      "       [ 0.        ,  0.5       ,  0.        ],\n",
      "       [-0.5       ,  0.25      ,  0.08333333]]))\n",
      "('lat_type: ', 'fo')\n",
      "('grid vecs: ', array([[ 0.        ,  0.        ,  0.16666667],\n",
      "       [ 1.        ,  0.        ,  0.        ],\n",
      "       [ 0.        ,  0.25      ,  0.        ]]))\n",
      "('lat_type: ', 'so')\n",
      "('grid vecs: ', array([[ 0.        ,  0.25      ,  0.        ],\n",
      "       [-0.5       , -0.        ,  0.16666667],\n",
      "       [ 0.        ,  0.        ,  0.33333333]]))\n",
      "('lat_type: ', 'co')\n",
      "('grid vecs: ', array([[ 0.        , -0.125     ,  0.16666667],\n",
      "       [ 1.        ,  0.        ,  0.        ],\n",
      "       [ 0.        ,  0.125     ,  0.16666667]]))\n",
      "('lat_type: ', 'co')\n",
      "('grid vecs: ', array([[ 0.        ,  0.25      ,  0.        ],\n",
      "       [-0.5       ,  0.125     ,  0.16666667],\n",
      "       [ 0.        ,  0.        ,  0.33333333]]))\n",
      "('lat_type: ', 'fo')\n",
      "('grid vecs: ', array([[ 0.        ,  0.        ,  0.16666667],\n",
      "       [ 0.        ,  0.5       ,  0.        ],\n",
      "       [-0.5       ,  0.25      , -0.        ]]))\n",
      "('lat_type: ', 'co')\n",
      "('grid vecs: ', array([[ 0.        ,  0.25      , -0.16666667],\n",
      "       [-0.5       , -0.        ,  0.16666667],\n",
      "       [ 0.        ,  0.25      ,  0.16666667]]))\n",
      "('lat_type: ', 'bo')\n",
      "('grid vecs: ', array([[ 0.        ,  0.125     ,  0.        ],\n",
      "       [ 0.        ,  0.        ,  0.33333333],\n",
      "       [ 1.        ,  0.        ,  0.        ]]))\n",
      "('lat_type: ', 'so')\n",
      "('grid vecs: ', array([[ 0.        ,  0.25      ,  0.        ],\n",
      "       [-0.5       ,  0.125     , -0.        ],\n",
      "       [ 0.        ,  0.        ,  0.33333333]]))\n",
      "('lat_type: ', 'co')\n",
      "('grid vecs: ', array([[ 0.        ,  0.        ,  0.16666667],\n",
      "       [ 0.5       ,  0.        ,  0.        ],\n",
      "       [ 0.        ,  0.5       ,  0.        ]]))\n",
      "('lat_type: ', 'stet')\n",
      "('grid vecs: ', array([[-0.25      , -0.        ,  0.16666667],\n",
      "       [ 0.25      ,  0.        ,  0.16666667],\n",
      "       [ 0.        ,  0.5       ,  0.        ]]))\n",
      "('lat_type: ', 'co')\n",
      "('grid vecs: ', array([[-0.        , -0.25      ,  0.16666667],\n",
      "       [ 0.5       ,  0.        ,  0.        ],\n",
      "       [ 0.        ,  0.25      ,  0.16666667]]))\n",
      "('lat_type: ', 'co')\n",
      "('grid vecs: ', array([[ 0.        ,  0.        ,  0.33333333],\n",
      "       [-0.25      ,  0.25      , -0.16666667],\n",
      "       [-0.25      , -0.25      ,  0.16666667]]))\n",
      "('lat_type: ', 'btet')\n",
      "('grid vecs: ', array([[ 0.        ,  0.25      ,  0.        ],\n",
      "       [ 0.        ,  0.        ,  0.33333333],\n",
      "       [ 0.5       ,  0.        ,  0.        ]]))\n",
      "('lat_type: ', 'so')\n",
      "('grid vecs: ', array([[ 0.        ,  0.        ,  0.33333333],\n",
      "       [ 0.25      ,  0.25      ,  0.        ],\n",
      "       [-0.25      ,  0.25      ,  0.        ]]))\n",
      "('lat_type: ', 'stet')\n",
      "('grid vecs: ', array([[ 0.25      ,  0.        ,  0.        ],\n",
      "       [ 0.        ,  0.5       ,  0.        ],\n",
      "       [ 0.        ,  0.        ,  0.33333333]]))\n",
      "('lat_type: ', 'so')\n"
     ]
    }
   ],
   "source": [
    "temp = spGrids(A,4)\n",
    "for t in temp:\n",
    "    g = t['grid_vecs']\n",
    "    print(\"grid vecs: \",np.transpose(g))\n",
    "    print('lat_type: ',lat_type(np.transpose(g))[0])"
   ]
  },
  {
   "cell_type": "markdown",
   "metadata": {},
   "source": [
    "Now for base centered ortho"
   ]
  },
  {
   "cell_type": "code",
   "execution_count": 49,
   "metadata": {
    "collapsed": false
   },
   "outputs": [
    {
     "name": "stdout",
     "output_type": "stream",
     "text": [
      "[[ 1.          0.5         0.        ]\n",
      " [ 1.         -0.5         0.        ]\n",
      " [ 0.          0.          0.33333333]]\n"
     ]
    }
   ],
   "source": [
    "A = np.transpose([[0.5,1,0],[0.5,-1,0],[0,0,3]])\n",
    "print(np.linalg.inv(A))"
   ]
  },
  {
   "cell_type": "code",
   "execution_count": 50,
   "metadata": {
    "collapsed": false
   },
   "outputs": [
    {
     "name": "stdout",
     "output_type": "stream",
     "text": [
      "('grid vecs: ', array([[ 0.        ,  0.        ,  0.16666667],\n",
      "       [ 1.        ,  0.5       ,  0.        ],\n",
      "       [ 0.        ,  1.        ,  0.        ]]))\n",
      "('lat_type: ', 'co')\n",
      "('grid vecs: ', array([[ 0.        ,  0.        ,  0.33333333],\n",
      "       [-1.        ,  0.        ,  0.16666667],\n",
      "       [ 0.        , -0.5       , -0.16666667]]))\n",
      "('lat_type: ', 'fo')\n",
      "('grid vecs: ', array([[ 0.        ,  0.        ,  0.33333333],\n",
      "       [-0.        , -0.5       , -0.        ],\n",
      "       [ 1.        ,  0.        ,  0.        ]]))\n",
      "('lat_type: ', 'so')\n"
     ]
    }
   ],
   "source": [
    "temp = spGrids(A,2)\n",
    "for t in temp:\n",
    "    g = t['grid_vecs']\n",
    "    print(\"grid vecs: \",np.transpose(g))\n",
    "    print('lat_type: ',lat_type(np.transpose(g))[0])"
   ]
  },
  {
   "cell_type": "code",
   "execution_count": 56,
   "metadata": {
    "collapsed": false
   },
   "outputs": [
    {
     "name": "stdout",
     "output_type": "stream",
     "text": [
      "('grid vecs: ', array([[ 0.        ,  0.        ,  0.04166667],\n",
      "       [ 1.        ,  0.5       ,  0.        ],\n",
      "       [ 0.        ,  1.        ,  0.        ]]))\n",
      "('lat_type: ', 'co')\n",
      "('grid vecs: ', array([[ 0.        ,  0.        ,  0.08333333],\n",
      "       [-1.        ,  0.        ,  0.04166667],\n",
      "       [ 0.        , -0.5       , -0.04166667]]))\n",
      "('lat_type: ', 'fo')\n",
      "('grid vecs: ', array([[ 0.        ,  0.        ,  0.08333333],\n",
      "       [-0.        , -0.5       , -0.        ],\n",
      "       [ 1.        ,  0.        ,  0.        ]]))\n",
      "('lat_type: ', 'so')\n",
      "('grid vecs: ', array([[ 0.        ,  0.        ,  0.16666667],\n",
      "       [-0.5       , -0.25      ,  0.08333333],\n",
      "       [-0.        , -0.5       , -0.        ]]))\n",
      "('lat_type: ', 'fo')\n",
      "('grid vecs: ', array([[ 0.        ,  0.        ,  0.16666667],\n",
      "       [ 1.        ,  0.        ,  0.        ],\n",
      "       [ 0.        ,  0.25      , -0.08333333]]))\n",
      "('lat_type: ', 'co')\n",
      "('grid vecs: ', array([[ 0.        ,  0.        ,  0.16666667],\n",
      "       [-0.5       ,  0.        ,  0.08333333],\n",
      "       [-0.        , -0.5       , -0.        ]]))\n",
      "('lat_type: ', 'co')\n",
      "('grid vecs: ', array([[ 0.        ,  0.        ,  0.16666667],\n",
      "       [-0.        , -0.25      , -0.        ],\n",
      "       [ 1.        ,  0.        ,  0.        ]]))\n",
      "('lat_type: ', 'so')\n",
      "('grid vecs: ', array([[-0.        , -0.25      , -0.        ],\n",
      "       [ 0.        ,  0.        ,  0.33333333],\n",
      "       [-0.5       ,  0.        ,  0.16666667]]))\n",
      "('lat_type: ', 'co')\n",
      "('grid vecs: ', array([[ 0.        ,  0.125     ,  0.16666667],\n",
      "       [ 0.        , -0.125     ,  0.16666667],\n",
      "       [ 1.        ,  0.        ,  0.        ]]))\n",
      "('lat_type: ', 'co')\n",
      "('grid vecs: ', array([[-0.        , -0.25      , -0.        ],\n",
      "       [ 0.        ,  0.        ,  0.33333333],\n",
      "       [-0.5       , -0.125     ,  0.16666667]]))\n",
      "('lat_type: ', 'fo')\n",
      "('grid vecs: ', array([[ 0.        ,  0.        ,  0.16666667],\n",
      "       [-0.5       ,  0.        , -0.        ],\n",
      "       [ 0.        , -0.5       ,  0.        ]]))\n",
      "('lat_type: ', 'stet')\n",
      "('grid vecs: ', array([[ 0.        , -0.25      , -0.16666667],\n",
      "       [ 0.        , -0.25      ,  0.16666667],\n",
      "       [-0.5       ,  0.        ,  0.        ]]))\n",
      "('lat_type: ', 'co')\n",
      "('grid vecs: ', array([[ 0.        ,  0.        ,  0.33333333],\n",
      "       [ 0.25      , -0.25      , -0.16666667],\n",
      "       [ 0.25      ,  0.25      , -0.16666667]]))\n",
      "('lat_type: ', 'btet')\n",
      "('grid vecs: ', array([[-0.25      , -0.        ,  0.16666667],\n",
      "       [ 0.        , -0.5       ,  0.        ],\n",
      "       [ 0.25      ,  0.        ,  0.16666667]]))\n",
      "('lat_type: ', 'co')\n",
      "('grid vecs: ', array([[-0.        , -0.125     , -0.        ],\n",
      "       [ 1.        ,  0.        ,  0.        ],\n",
      "       [ 0.        ,  0.        ,  0.33333333]]))\n",
      "('lat_type: ', 'so')\n",
      "('grid vecs: ', array([[ 0.        ,  0.        ,  0.33333333],\n",
      "       [-0.25      , -0.25      , -0.        ],\n",
      "       [ 0.25      , -0.25      ,  0.        ]]))\n",
      "('lat_type: ', 'stet')\n",
      "('grid vecs: ', array([[ 0.        , -0.25      , -0.        ],\n",
      "       [ 0.        ,  0.        ,  0.33333333],\n",
      "       [-0.5       , -0.125     , -0.        ]]))\n",
      "('lat_type: ', 'co')\n",
      "('grid vecs: ', array([[  2.50000000e-01,   0.00000000e+00,  -0.00000000e+00],\n",
      "       [  0.00000000e+00,   0.00000000e+00,   3.33333333e-01],\n",
      "       [ -2.22044605e-16,  -5.00000000e-01,  -0.00000000e+00]]))\n",
      "('lat_type: ', 'so')\n",
      "('grid vecs: ', array([[ 0.        ,  0.        ,  0.16666667],\n",
      "       [ 0.5       ,  0.25      ,  0.        ],\n",
      "       [ 0.        ,  0.5       ,  0.        ]]))\n",
      "('lat_type: ', 'co')\n",
      "('grid vecs: ', array([[ 0.        , -0.25      ,  0.16666667],\n",
      "       [ 0.        ,  0.25      ,  0.16666667],\n",
      "       [-0.5       ,  0.        ,  0.16666667]]))\n",
      "('lat_type: ', 'bo')\n",
      "('grid vecs: ', array([[-0.        , -0.25      , -0.        ],\n",
      "       [ 0.5       ,  0.        ,  0.        ],\n",
      "       [ 0.        ,  0.        ,  0.33333333]]))\n",
      "('lat_type: ', 'so')\n"
     ]
    }
   ],
   "source": [
    "temp = spGrids(A,8)\n",
    "for t in temp:\n",
    "    g = t['grid_vecs']\n",
    "    print(\"grid vecs: \",np.transpose(g))\n",
    "    print('lat_type: ',lat_type(np.transpose(g))[0])"
   ]
  },
  {
   "cell_type": "markdown",
   "metadata": {},
   "source": [
    "Now for body centered othor:"
   ]
  },
  {
   "cell_type": "code",
   "execution_count": 60,
   "metadata": {
    "collapsed": false
   },
   "outputs": [
    {
     "name": "stdout",
     "output_type": "stream",
     "text": [
      "[[ 1.          0.5        -0.        ]\n",
      " [ 1.          0.          0.33333333]\n",
      " [ 0.          0.5         0.33333333]]\n",
      "bo\n"
     ]
    }
   ],
   "source": [
    "A = np.transpose([[0.5,1,-1.5],[0.5,-1,1.5],[-0.5,1,1.5]])\n",
    "print(np.linalg.inv(A))\n",
    "print(lat_type(np.linalg.inv(A))[0])"
   ]
  },
  {
   "cell_type": "code",
   "execution_count": 63,
   "metadata": {
    "collapsed": false
   },
   "outputs": [
    {
     "name": "stdout",
     "output_type": "stream",
     "text": [
      "('grid vecs: ', array([[ 0.        ,  0.        ,  0.33333333],\n",
      "       [ 0.        ,  0.5       ,  0.        ],\n",
      "       [-1.        ,  0.        ,  0.        ]]))\n",
      "('lat_type: ', 'so')\n"
     ]
    }
   ],
   "source": [
    "temp = spGrids(A,2)\n",
    "for t in temp:\n",
    "    g = t['grid_vecs']\n",
    "    print(\"grid vecs: \",np.transpose(g))\n",
    "    print('lat_type: ',lat_type(np.transpose(g))[0])"
   ]
  },
  {
   "cell_type": "code",
   "execution_count": 64,
   "metadata": {
    "collapsed": false
   },
   "outputs": [
    {
     "name": "stdout",
     "output_type": "stream",
     "text": [
      "('grid vecs: ', array([[ 0.        ,  0.        , -0.22222222],\n",
      "       [ 0.        ,  0.5       ,  0.11111111],\n",
      "       [ 1.        ,  0.        , -0.11111111]]))\n",
      "('lat_type: ', 'fo')\n",
      "('grid vecs: ', array([[ 0.        , -0.33333333,  0.        ],\n",
      "       [ 1.        , -0.16666667,  0.        ],\n",
      "       [ 0.        ,  0.16666667,  0.33333333]]))\n",
      "('lat_type: ', 'fo')\n",
      "('grid vecs: ', array([[ -3.33333333e-01,   0.00000000e+00,   3.33333333e-01],\n",
      "       [  3.33333333e-01,   5.00000000e-01,   1.11022302e-16],\n",
      "       [ -3.33333333e-01,   0.00000000e+00,  -3.33333333e-01]]))\n",
      "('lat_type: ', 'btet')\n"
     ]
    }
   ],
   "source": [
    "temp = spGrids(A,3)\n",
    "for t in temp:\n",
    "    g = t['grid_vecs']\n",
    "    print(\"grid vecs: \",np.transpose(g))\n",
    "    print('lat_type: ',lat_type(np.transpose(g))[0])"
   ]
  },
  {
   "cell_type": "code",
   "execution_count": 65,
   "metadata": {
    "collapsed": false
   },
   "outputs": [
    {
     "name": "stdout",
     "output_type": "stream",
     "text": [
      "('grid vecs: ', array([[ 0.        ,  0.        ,  0.33333333],\n",
      "       [ 0.5       ,  0.        ,  0.16666667],\n",
      "       [-0.        ,  0.5       , -0.        ]]))\n",
      "('lat_type: ', 'co')\n",
      "('grid vecs: ', array([[ 0.        ,  0.        ,  0.16666667],\n",
      "       [ 0.        ,  0.5       ,  0.        ],\n",
      "       [-1.        ,  0.        ,  0.        ]]))\n",
      "('lat_type: ', 'so')\n",
      "('grid vecs: ', array([[ 0.        ,  0.25      ,  0.16666667],\n",
      "       [ 1.        ,  0.        ,  0.        ],\n",
      "       [-0.        ,  0.25      , -0.16666667]]))\n",
      "('lat_type: ', 'co')\n",
      "('grid vecs: ', array([[ 0.        ,  0.        ,  0.33333333],\n",
      "       [ 0.        ,  0.5       ,  0.        ],\n",
      "       [-0.5       ,  0.25      ,  0.16666667]]))\n",
      "('lat_type: ', 'fo')\n",
      "('grid vecs: ', array([[ 0.        ,  0.        ,  0.33333333],\n",
      "       [ 0.5       ,  0.25      ,  0.        ],\n",
      "       [ 0.        ,  0.5       ,  0.        ]]))\n",
      "('lat_type: ', 'co')\n",
      "('grid vecs: ', array([[ 0.        ,  0.25      ,  0.        ],\n",
      "       [-1.        ,  0.        ,  0.        ],\n",
      "       [ 0.        ,  0.        ,  0.33333333]]))\n",
      "('lat_type: ', 'so')\n",
      "('grid vecs: ', array([[ -2.22044605e-16,   0.00000000e+00,  -3.33333333e-01],\n",
      "       [ -5.00000000e-01,   0.00000000e+00,  -5.55111512e-17],\n",
      "       [  1.66533454e-16,   5.00000000e-01,   0.00000000e+00]]))\n",
      "('lat_type: ', 'stet')\n"
     ]
    }
   ],
   "source": [
    "temp = spGrids(A,4)\n",
    "for t in temp:\n",
    "    g = t['grid_vecs']\n",
    "    print(\"grid vecs: \",np.transpose(g))\n",
    "    print('lat_type: ',lat_type(np.transpose(g))[0])"
   ]
  },
  {
   "cell_type": "markdown",
   "metadata": {},
   "source": [
    "Now for face centere ortho:"
   ]
  },
  {
   "cell_type": "code",
   "execution_count": 66,
   "metadata": {
    "collapsed": false
   },
   "outputs": [
    {
     "name": "stdout",
     "output_type": "stream",
     "text": [
      "[[ 1.          0.5        -0.33333333]\n",
      " [ 1.         -0.5         0.33333333]\n",
      " [-1.          0.5         0.33333333]]\n",
      "fo\n"
     ]
    }
   ],
   "source": [
    "A = np.transpose([[0.5,1,0],[0.5,0,1.5],[0,1,1.5]])\n",
    "print(np.linalg.inv(A))\n",
    "print(lat_type(np.linalg.inv(A))[0])"
   ]
  },
  {
   "cell_type": "code",
   "execution_count": 68,
   "metadata": {
    "collapsed": false
   },
   "outputs": [
    {
     "name": "stdout",
     "output_type": "stream",
     "text": [
      "('grid vecs: ', array([[-0.        , -0.5       ,  0.33333333],\n",
      "       [ 0.        ,  0.5       ,  0.33333333],\n",
      "       [-1.        ,  0.        ,  0.        ]]))\n",
      "('lat_type: ', 'co')\n",
      "('grid vecs: ', array([[  0.00000000e+00,   0.00000000e+00,   3.33333333e-01],\n",
      "       [ -1.00000000e+00,  -5.00000000e-01,  -1.66533454e-16],\n",
      "       [ -0.00000000e+00,  -1.00000000e+00,  -1.11022302e-16]]))\n",
      "('lat_type: ', 'co')\n",
      "('grid vecs: ', array([[ 0.        ,  0.5       ,  0.        ],\n",
      "       [-1.        ,  0.        ,  0.33333333],\n",
      "       [ 0.        ,  0.        ,  0.66666667]]))\n",
      "('lat_type: ', 'co')\n"
     ]
    }
   ],
   "source": [
    "temp = spGrids(A,2)\n",
    "for t in temp:\n",
    "    g = t['grid_vecs']\n",
    "    print(\"grid vecs: \",np.transpose(g))\n",
    "    print('lat_type: ',lat_type(np.transpose(g))[0])"
   ]
  },
  {
   "cell_type": "code",
   "execution_count": 70,
   "metadata": {
    "collapsed": false
   },
   "outputs": [
    {
     "name": "stdout",
     "output_type": "stream",
     "text": [
      "('grid vecs: ', array([[ 0.        ,  0.        ,  0.33333333],\n",
      "       [-0.        , -0.5       , -0.16666667],\n",
      "       [ 1.        ,  0.        , -0.16666667]]))\n",
      "('lat_type: ', 'fo')\n",
      "('grid vecs: ', array([[  0.00000000e+00,   0.00000000e+00,   1.66666667e-01],\n",
      "       [ -1.00000000e+00,  -5.00000000e-01,  -8.32667268e-17],\n",
      "       [ -0.00000000e+00,  -1.00000000e+00,  -5.55111512e-17]]))\n",
      "('lat_type: ', 'co')\n",
      "('grid vecs: ', array([[  5.00000000e-01,   0.00000000e+00,   5.55111512e-17],\n",
      "       [  0.00000000e+00,   5.00000000e-01,   3.33333333e-01],\n",
      "       [  0.00000000e+00,  -5.00000000e-01,   3.33333333e-01]]))\n",
      "('lat_type: ', 'co')\n",
      "('grid vecs: ', array([[ -5.00000000e-01,   1.11022302e-16,   3.33333333e-01],\n",
      "       [  0.00000000e+00,  -5.00000000e-01,  -3.33333333e-01],\n",
      "       [  0.00000000e+00,  -5.00000000e-01,   3.33333333e-01]]))\n",
      "('lat_type: ', 'btet')\n",
      "('grid vecs: ', array([[ 0.        ,  0.        ,  0.33333333],\n",
      "       [-1.        ,  0.        ,  0.        ],\n",
      "       [-0.        , -0.5       ,  0.        ]]))\n",
      "('lat_type: ', 'so')\n",
      "('grid vecs: ', array([[ 0.        , -0.25      ,  0.33333333],\n",
      "       [-1.        , -0.25      ,  0.        ],\n",
      "       [-0.        , -0.25      , -0.33333333]]))\n",
      "('lat_type: ', 'bo')\n",
      "('grid vecs: ', array([[  2.22044605e-16,   2.50000000e-01,   5.55111512e-17],\n",
      "       [ -1.00000000e+00,   0.00000000e+00,   3.33333333e-01],\n",
      "       [  4.44089210e-16,   2.22044605e-16,   6.66666667e-01]]))\n",
      "('lat_type: ', 'co')\n"
     ]
    }
   ],
   "source": [
    "temp = spGrids(A,4)\n",
    "for t in temp:\n",
    "    g = t['grid_vecs']\n",
    "    print(\"grid vecs: \",np.transpose(g))\n",
    "    print('lat_type: ',lat_type(np.transpose(g))[0])"
   ]
  },
  {
   "cell_type": "code",
   "execution_count": null,
   "metadata": {
    "collapsed": true
   },
   "outputs": [],
   "source": []
  }
 ],
 "metadata": {
  "kernelspec": {
   "display_name": "Python 2",
   "language": "python",
   "name": "python2"
  },
  "language_info": {
   "codemirror_mode": {
    "name": "ipython",
    "version": 2
   },
   "file_extension": ".py",
   "mimetype": "text/x-python",
   "name": "python",
   "nbconvert_exporter": "python",
   "pygments_lexer": "ipython2",
   "version": "2.7.9"
  }
 },
 "nbformat": 4,
 "nbformat_minor": 2
}
