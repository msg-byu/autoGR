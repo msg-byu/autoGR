{
 "cells": [
  {
   "cell_type": "markdown",
   "metadata": {},
   "source": [
    "This notebook is a basic check that the basis transformation we're proposing will work in practice over a wide range of possible cells. The approach is going to be to enumerate all supercells of a simple cubic lattice up to some determinant so that all possible niggli cells are hit. Then ensure that all the possible grids for those cells are symmetry preserving after the transformation up to a certain k-point density."
   ]
  },
  {
   "cell_type": "code",
   "execution_count": 1,
   "metadata": {
    "collapsed": false
   },
   "outputs": [],
   "source": [
    "import numpy as np\n",
    "from phenum.HNFs import get_HNFs\n",
    "from opf_python.basis_check import cell_test\n",
    "vf = 10\n",
    "kpd = 100\n",
    "count = {}\n",
    "for i in range(1,45):\n",
    "    count[str(i)] = 0"
   ]
  },
  {
   "cell_type": "code",
   "execution_count": 2,
   "metadata": {
    "collapsed": false
   },
   "outputs": [],
   "source": [
    "As = [[[2,0,0],[0,2,0],[0.5,0,2]],\n",
    "      [[1,1,1],[1.61803,-0.618034,-1],\n",
    "       [-0.668912,1.96676,-1.29785]],\n",
    "      [[1,1,1],[1.22474487,-1.22474487,-1],\n",
    "       [-0.16598509,-1.64308297,1.80906806]],\n",
    "      [[0,0.5,0.5],[0.5,0.5,0],[0.5,0,0.5]],\n",
    "      [[1,0,0],[0,1,0],[1,0,1]],\n",
    "      [[-1,1,1],[1,1,-1],[1,-1,1]],\n",
    "      [[1, 0, 0],[0.5, -0.8660254037844386, 0],\n",
    "       [0, 0, 2]],\n",
    "      [[0, 0, -0.5],[1, 0, 0],\n",
    "       [-0.5, 0.8660254, -0.5]],\n",
    "      [[-1, 0, -1],[0, -1.32288, -0.5],\n",
    "       [-2.11652, -0.610985, -0.383485]],\n",
    "      [[-1, 0, -1],[0, -1.32288, 0.5],\n",
    "       [-1.548584, 0.774292, 0.04858]],\n",
    "      [[-1, 0, -1],[1.51184, 0, -0.845178],\n",
    "       [-1.255922, -1.44338, -0.07741]],\n",
    "      [[1,2,2],[2,1,2],[2,2,1]],\n",
    "      [[1, 0, 0],[0, 1, 0],[1, 0, 2]],\n",
    "      [[0, 0, 0.5],[1, 0, 0],[0, 1, 0.5]],\n",
    "      [[2,0,0],[0,2,0],[-1,-1,2]],\n",
    "      [[-1.95095, 1.41625, -0.433603],\n",
    "       [1, -1, -2],[0, 2.60788, 0.44606]],\n",
    "      [[-1, 1, 2],[1, 1.60788, -1.55394],\n",
    "       [0.80278, -0.47253, 2.762655]],\n",
    "      [[0, 0, 2],[1, -2, 1],[-2, -1,3]],\n",
    "      [[1, 0, 0],[0, 2, 0],[1, 0, 3]],\n",
    "      [[0.5, 1, 0],[0.5, -1, 0],[0.5, 1, 3]],\n",
    "      [[1, 1, 1],[1, -1, -1],\n",
    "       [1, -0.73205, 2.73205]],\n",
    "      [[-0.3333333, -1.54116, 1.87449],\n",
    "       [1, 1, 1],[1.6666667, -2.54116, 0.87449]],\n",
    "      [[1, 1, 1],[1.61803, -0.618034, -1],\n",
    "       [-0.05557, 2.99895, 0.056624]],\n",
    "      [[1, 1, 1],[1.41421, -1.41421, 0],\n",
    "       [-0.43541, -0.43541, 2.37083]],\n",
    "      [[0.5, 1, 1.5],[0, 2, 0],[0.5, 1, 4.5]],\n",
    "      [[1.41144, 0.0885622, -2],\n",
    "       [-0.99868, 2.21232, 1.268178],\n",
    "       [4.82156, -1.0351956, -3.268178]],\n",
    "      [[-1.53633, 1.36706, -1.33073],\n",
    "       [1, 1, 1],[0.0817, 0.74903, -2.33073]],\n",
    "      [[0, 1, 1.5],[0.5, 0, 1.5],[0, 1, 4.5]],\n",
    "      [[1, 1, -1],[-1.779796, 0.1798, 0],\n",
    "       [1.735376, -0.61953, -2.68415]],\n",
    "      [[2, 0, 0],[0, 2, 0],[2.5, 0, 2]],\n",
    "      [[1, 1, 1],[1.61803, -0.618034, -1],\n",
    "       [0.331088, 2.96676, -0.29785]],\n",
    "      [[1, 1, 1],[1.22474487, -1.22474487, -1],\n",
    "       [0.83401491, -0.64308297, 2.80906806]],\n",
    "      [[1, 1, 0],[0, 2, 0],[1.5, 1, 2]],\n",
    "      [[-1.46391, 0, 1.96391],[1, 1, 1],\n",
    "       [-1.46391, 2, 1.96391]],\n",
    "      [[-0.05387, -0.61088, 2.51474],[1, 1, 1],\n",
    "       [1.755698, -0.77045, 2.51474]],\n",
    "      [[1, 1, 1],[1.70119, -1.45119, 1],\n",
    "       [1.69779, -0.4322505, 4.23446]],\n",
    "      [[1, 1, 1],[1.45119, -1.70119, -1],\n",
    "       [1.28878, -2.26895, 1.48018]],\n",
    "      [[0.464824, -1.464824, -1.907413],\n",
    "       [-1.618033, 0.618033, -1],\n",
    "       [-0.535176, -2.464824, -1.907413]],\n",
    "      [[-1.44896, 0.948958, -1],[-1, -1, 0],\n",
    "       [-1.106536, -0.393466, -3.02006]],\n",
    "      [[-0.666125, 1.16613, 2.04852],[1, 1, 0],\n",
    "       [0.951905, 0.548096, 3.04852]],\n",
    "      [[1, 1, 0],[1.61803, -0.618034, 1],\n",
    "       [0.9638627, 1.536137, 2.38982]],\n",
    "      [[-1, 0, -1],[1.85397, 0.854143, -1.35397],\n",
    "       [-2, 1.41421, 0]],\n",
    "      [[-1.79092, -1.47209, 0.790922],\n",
    "       [1, 0, 1],[-0.79092, -2.8863, -0.209078]],\n",
    "      [[0, 1.73205, 1],[-1, 0, -1],\n",
    "       [1.66542, 2.404907, -0.66542]],\n",
    "      [[-0.39716, -0.34718, 2.49434],\n",
    "       [2.64194, -0.14194, 0],\n",
    "       [-1.79432, -1.69436, 3.98868]]]\n",
    "As = [np.transpose(i) for i in As]"
   ]
  },
  {
   "cell_type": "code",
   "execution_count": 3,
   "metadata": {
    "collapsed": false
   },
   "outputs": [
    {
     "name": "stdout",
     "output_type": "stream",
     "text": [
      "0\n",
      "1\n",
      "2\n",
      "3\n",
      "4\n",
      "5\n",
      "6\n",
      "7\n",
      "8\n",
      "9\n",
      "10\n",
      "11\n",
      "12\n",
      "13\n",
      "14\n",
      "15\n",
      "16\n",
      "17\n",
      "18\n",
      "19\n",
      "20\n",
      "21\n",
      "22\n",
      "23\n",
      "24\n",
      "25\n",
      "26\n",
      "27\n",
      "28\n",
      "29\n",
      "30\n",
      "31\n",
      "32\n",
      "33\n",
      "34\n",
      "35\n",
      "36\n",
      "37\n",
      "38\n",
      "39\n",
      "40\n",
      "41\n",
      "42\n",
      "43\n",
      "44\n"
     ]
    }
   ],
   "source": [
    "t = 0\n",
    "for U in As:\n",
    "    print(t)\n",
    "    if t not in [70]:\n",
    "        worked, count = cell_test(U,count,max_kpd_=kpd)\n",
    "        if not worked:\n",
    "            print(\"failed on basis: \",np.transpose(U))\n",
    "            break\n",
    "    t += 1"
   ]
  },
  {
   "cell_type": "code",
   "execution_count": 4,
   "metadata": {
    "collapsed": false
   },
   "outputs": [
    {
     "ename": "NameError",
     "evalue": "name 'B' is not defined",
     "output_type": "error",
     "traceback": [
      "\u001b[0;31m---------------------------------------------------------------------------\u001b[0m",
      "\u001b[0;31mNameError\u001b[0m                                 Traceback (most recent call last)",
      "\u001b[0;32m<ipython-input-4-ea22be958849>\u001b[0m in \u001b[0;36m<module>\u001b[0;34m()\u001b[0m\n\u001b[1;32m      1\u001b[0m \u001b[0;32mfrom\u001b[0m \u001b[0mopf_python\u001b[0m\u001b[0;34m.\u001b[0m\u001b[0mniggli_lat_id\u001b[0m \u001b[0;32mimport\u001b[0m \u001b[0mniggli_id\u001b[0m\u001b[0;34m\u001b[0m\u001b[0m\n\u001b[0;32m----> 2\u001b[0;31m \u001b[0mAt\u001b[0m \u001b[0;34m=\u001b[0m \u001b[0mnp\u001b[0m\u001b[0;34m.\u001b[0m\u001b[0mdot\u001b[0m\u001b[0;34m(\u001b[0m\u001b[0mB\u001b[0m\u001b[0;34m.\u001b[0m\u001b[0mniggli\u001b[0m\u001b[0;34m,\u001b[0m\u001b[0;34m[\u001b[0m\u001b[0;34m[\u001b[0m\u001b[0;36m1\u001b[0m\u001b[0;34m,\u001b[0m\u001b[0;36m0\u001b[0m\u001b[0;34m,\u001b[0m\u001b[0;36m0\u001b[0m\u001b[0;34m]\u001b[0m\u001b[0;34m,\u001b[0m\u001b[0;34m[\u001b[0m\u001b[0;36m0\u001b[0m\u001b[0;34m,\u001b[0m\u001b[0;36m1\u001b[0m\u001b[0;34m,\u001b[0m\u001b[0;36m0\u001b[0m\u001b[0;34m]\u001b[0m\u001b[0;34m,\u001b[0m\u001b[0;34m[\u001b[0m\u001b[0;36m1\u001b[0m\u001b[0;34m,\u001b[0m\u001b[0;36m77\u001b[0m\u001b[0;34m,\u001b[0m\u001b[0;36m78\u001b[0m\u001b[0;34m]\u001b[0m\u001b[0;34m]\u001b[0m\u001b[0;34m)\u001b[0m\u001b[0;34m\u001b[0m\u001b[0m\n\u001b[0m\u001b[1;32m      3\u001b[0m \u001b[0mniggli_id\u001b[0m\u001b[0;34m(\u001b[0m\u001b[0mAt\u001b[0m\u001b[0;34m,\u001b[0m\u001b[0meps_\u001b[0m\u001b[0;34m=\u001b[0m\u001b[0;36m1E-4\u001b[0m\u001b[0;34m)\u001b[0m\u001b[0;34m\u001b[0m\u001b[0m\n",
      "\u001b[0;31mNameError\u001b[0m: name 'B' is not defined"
     ]
    }
   ],
   "source": [
    "from opf_python.niggli_lat_id import niggli_id\n",
    "At = np.dot(B.niggli,[[1,0,0],[0,1,0],[1,77,78]])\n",
    "niggli_id(At,eps_=1E-4)"
   ]
  },
  {
   "cell_type": "code",
   "execution_count": 6,
   "metadata": {
    "collapsed": false
   },
   "outputs": [
    {
     "data": {
      "text/plain": [
       "('simple tetragonal', 11, 4, array([[1, 0, 0],\n",
       "        [0, 1, 0],\n",
       "        [0, 0, 2]]))"
      ]
     },
     "execution_count": 6,
     "metadata": {},
     "output_type": "execute_result"
    }
   ],
   "source": [
    "niggli_id(np.transpose([[ -7.89509500e+01,  -1.22390510e+02,   1.19219777e+02],\n",
    "       [ -2.18713936e-14,  -2.60788000e+00,  -4.46060000e-01],\n",
    "       [  7.80000000e+01,   1.28022520e+02,  -1.20761260e+02]]),eps_=1E-2)"
   ]
  },
  {
   "cell_type": "code",
   "execution_count": 4,
   "metadata": {
    "collapsed": false
   },
   "outputs": [
    {
     "name": "stdout",
     "output_type": "stream",
     "text": [
      "35144\n"
     ]
    },
    {
     "data": {
      "text/plain": [
       "array([[ 1.      , -1.      , -2.      ],\n",
       "       [-1.95095 ,  1.41625 , -0.433603],\n",
       "       [-1.      , -1.60788 ,  1.55394 ]])"
      ]
     },
     "execution_count": 4,
     "metadata": {},
     "output_type": "execute_result"
    }
   ],
   "source": [
    "from opf_python.pyniggli import reduced_cell\n",
    "B = reduced_cell(As[15],path_=True)\n",
    "np.transpose(B.niggli)"
   ]
  },
  {
   "cell_type": "code",
   "execution_count": 5,
   "metadata": {
    "collapsed": false
   },
   "outputs": [
    {
     "data": {
      "text/plain": [
       "array([[-1.95095 ,  1.41625 , -0.433603],\n",
       "       [ 1.      , -1.      , -2.      ],\n",
       "       [ 1.95095 ,  1.19163 ,  0.879663]])"
      ]
     },
     "execution_count": 5,
     "metadata": {},
     "output_type": "execute_result"
    }
   ],
   "source": [
    "from niggli import niggli_reduce\n",
    "np.transpose(niggli_reduce(As[15]))"
   ]
  },
  {
   "cell_type": "code",
   "execution_count": 4,
   "metadata": {
    "collapsed": false
   },
   "outputs": [
    {
     "data": {
      "image/png": "[encoded data removed]",
      "text/plain": [
       "<matplotlib.figure.Figure at 0x105313f50>"
      ]
     },
     "metadata": {},
     "output_type": "display_data"
    }
   ],
   "source": [
    "import matplotlib.pyplot as plt\n",
    "kys = [int(i) for i in count.keys()]\n",
    "plt.bar(kys, count.values())\n",
    "plt.show()"
   ]
  },
  {
   "cell_type": "code",
   "execution_count": 5,
   "metadata": {
    "collapsed": false
   },
   "outputs": [
    {
     "name": "stdout",
     "output_type": "stream",
     "text": [
      "44\n",
      "31\n"
     ]
    }
   ],
   "source": [
    "for k in count.keys():\n",
    "    if count[k] == 0:\n",
    "        print(k)"
   ]
  },
  {
   "cell_type": "code",
   "execution_count": 5,
   "metadata": {
    "collapsed": false
   },
   "outputs": [
    {
     "data": {
      "text/plain": [
       "45"
      ]
     },
     "execution_count": 5,
     "metadata": {},
     "output_type": "execute_result"
    }
   ],
   "source": [
    "len(As)"
   ]
  },
  {
   "cell_type": "code",
   "execution_count": null,
   "metadata": {
    "collapsed": true
   },
   "outputs": [],
   "source": []
  }
 ],
 "metadata": {
  "kernelspec": {
   "display_name": "Python 2",
   "language": "python",
   "name": "python2"
  },
  "language_info": {
   "codemirror_mode": {
    "name": "ipython",
    "version": 2
   },
   "file_extension": ".py",
   "mimetype": "text/x-python",
   "name": "python",
   "nbconvert_exporter": "python",
   "pygments_lexer": "ipython2",
   "version": "2.7.9"
  }
 },
 "nbformat": 4,
 "nbformat_minor": 2
}
