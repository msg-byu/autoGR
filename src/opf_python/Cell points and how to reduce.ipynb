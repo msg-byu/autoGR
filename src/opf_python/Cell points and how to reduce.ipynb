{
 "cells": [
  {
   "cell_type": "code",
   "execution_count": 1,
   "metadata": {
    "collapsed": false,
    "deletable": true,
    "editable": true
   },
   "outputs": [],
   "source": [
    "from jeremy import spGrids\n",
    "import numpy as np"
   ]
  },
  {
   "cell_type": "code",
   "execution_count": 2,
   "metadata": {
    "collapsed": true
   },
   "outputs": [],
   "source": [
    "A = np.array([[-1,1,1],[1,-1,1],[1,1,-1]])\n",
    "H = np.array([[2,0,0],[1,2,0],[1,1,2]])\n",
    "B = np.dot(A,H)\n",
    "G = np.transpose(np.linalg.inv(B))"
   ]
  },
  {
   "cell_type": "code",
   "execution_count": 3,
   "metadata": {
    "collapsed": false,
    "deletable": true,
    "editable": true
   },
   "outputs": [],
   "source": [
    "def make_cell_points(HNF_diags,lat_vecs,grid_vecs):\n",
    "    \"\"\"Makes the points of grid inside the volume of the lattice vecs.\n",
    "    \n",
    "    Args:\n",
    "        HNF_diags (list of int): The diagonals of the HNF.\n",
    "        grid_vecs (numpy ndarray): A matrix whose columns hold the basis vectors \n",
    "            of the lattice, in cartesian coordinates.\n",
    "        grid_vecs (numpy ndarray): A matrix whose columns hold the basis vectors \n",
    "            of the grid, in cartesian coordinates.\n",
    "            \n",
    "    Returns:\n",
    "        points (numpy ndarray): The points of the grid inside the lattice expressed in\n",
    "            lattice coordinates.\n",
    "    \"\"\"\n",
    "    \n",
    "    v1 = grid_vecs[:,0]\n",
    "    v2 = grid_vecs[:,1]\n",
    "    v3 = grid_vecs[:,2]\n",
    "    \n",
    "    points = []\n",
    "    for i in range(HNF_diags[0]):\n",
    "        for j in range(HNF_diags[1]):\n",
    "            for k in range(HNF_diags[2]):\n",
    "                points.append(np.dot(np.linalg.inv(lat_vecs),v1*i+v2*j+v3*k))\n",
    "\n",
    "    points = np.array(points)%1\n",
    "    return np.array([np.dot(lat_vecs,i) for i in points])"
   ]
  },
  {
   "cell_type": "code",
   "execution_count": 4,
   "metadata": {
    "collapsed": true
   },
   "outputs": [],
   "source": [
    "def get_ijk(G,point):\n",
    "    \"\"\"Finds the integer multiple of the grid vectors to reach the desired point.\n",
    "    \n",
    "    Args:\n",
    "        G (numpy.ndarray): The grid vectors as columns of a matrix.\n",
    "        point (numpy.ndarray): The point to in question.\n",
    "        \n",
    "    Returns:\n",
    "        ijk (list of int): The integers needed to multiply the grid vectors by to make \n",
    "            the point.\n",
    "    \"\"\"\n",
    "    \n",
    "    ijk = np.dot(np.linalg.inv(G),point)\n",
    "\n",
    "    a1 = G[:,0]\n",
    "    a2 = G[:,1]\n",
    "    a3 = G[:,2]\n",
    "    \n",
    "    return tuple(ijk)"
   ]
  },
  {
   "cell_type": "code",
   "execution_count": 34,
   "metadata": {
    "collapsed": false
   },
   "outputs": [],
   "source": [
    "def find_irreducible_points(grid_points,parent,grid_vecs,offset=None):\n",
    "    \"\"\"Finds the irreducible grid points from the original grid.\n",
    "    \n",
    "    Args:\n",
    "        grid_points (numpy.ndarray): The array of points in cartesian coordinates.\n",
    "        parent (numpy.ndarray): The parent lattice vectors as columns of a matrix.\n",
    "        grid_vecs (numpy.ndarray): The generating vectors of the grid as columns of a matrix.\n",
    "        offset (optional, float): The grid offset as fractions of the parent lattice.\n",
    "        \n",
    "    Returns:\n",
    "        irreducible_points (numpy.ndarray): The irreducibel points in the array and their weights.\n",
    "    \"\"\"\n",
    "    \n",
    "    from phenum.symmetry import _get_lattice_pointGroup\n",
    "    \n",
    "    if offset is None:\n",
    "        offset = np.array([0,0,0])\n",
    "    else:\n",
    "        offset = np.dot(parent,offset)\n",
    "    \n",
    "    pgOps = _get_lattice_pointGroup(np.transpose(parent))\n",
    "    \n",
    "    hash_list = {}\n",
    "    grid_points = np.array([point+offset for point in grid_points])\n",
    "    grid_points = np.array([np.dot(np.linalg.inv(parent),point) for point in grid_points])%1\n",
    "    grid_points = np.array([np.dot(parent,point) for point in grid_points])\n",
    "    for p in grid_points:\n",
    "        hash_list[hash(get_ijk(grid_vecs,p))] = 0\n",
    "    \n",
    "    irreducibel_points = []\n",
    "    \n",
    "    for p in grid_points:\n",
    "        weight = 1\n",
    "        if hash_list[hash(get_ijk(grid_vecs,p))] == 0:\n",
    "            for Op in pgOps:\n",
    "                new_p = np.dot(Op,p)\n",
    "                new_p = np.dot(np.linalg.inv(parent),new_p)%1\n",
    "                new_p = np.dot(parent,new_p)\n",
    "                new_hash = hash(get_ijk(grid_vecs,new_p))\n",
    "                if new_hash in hash_list and new_hash != hash(get_ijk(grid_vecs,p)):\n",
    "                    if hash_list[new_hash] != 0:\n",
    "                        break\n",
    "                    else:\n",
    "                        hash_list[new_hash] = 1\n",
    "                        weight += 1\n",
    "            irreducibel_points.append([p,weight])\n",
    "        \n",
    "    return irreducibel_points                "
   ]
  },
  {
   "cell_type": "code",
   "execution_count": 110,
   "metadata": {
    "collapsed": false
   },
   "outputs": [
    {
     "name": "stdout",
     "output_type": "stream",
     "text": [
      "('name', 'fcc')\n",
      "('HNF', [[6, 0, 0], [0, 6, 0], [0, 0, 6]])\n"
     ]
    }
   ],
   "source": [
    "G = spGrids(A,216)\n",
    "G = G[0]\n",
    "G = G[\"grid_vecs\"]\n",
    "pnts = make_cell_points([6,6,6],np.transpose(np.linalg.inv(A)),G)\n",
    "irpnts=find_irreducible_points(pnts,np.transpose(np.linalg.inv(A)),G)#,offset=np.array([0.5,0.5,0.5]))"
   ]
  },
  {
   "cell_type": "code",
   "execution_count": 111,
   "metadata": {
    "collapsed": false
   },
   "outputs": [
    {
     "data": {
      "text/plain": [
       "1.6875"
      ]
     },
     "execution_count": 111,
     "metadata": {},
     "output_type": "execute_result"
    }
   ],
   "source": [
    "len(pnts)/float(len(irpnts))"
   ]
  },
  {
   "cell_type": "code",
   "execution_count": 112,
   "metadata": {
    "collapsed": false
   },
   "outputs": [
    {
     "data": {
      "text/plain": [
       "128"
      ]
     },
     "execution_count": 112,
     "metadata": {},
     "output_type": "execute_result"
    }
   ],
   "source": [
    "len(irpnts)"
   ]
  },
  {
   "cell_type": "code",
   "execution_count": 113,
   "metadata": {
    "collapsed": false
   },
   "outputs": [
    {
     "data": {
      "text/plain": [
       "[[array([ 0.,  0.,  0.]), 1],\n",
       " [array([ 0.        ,  0.08333333,  0.08333333]), 2],\n",
       " [array([ 0.        ,  0.16666667,  0.16666667]), 2],\n",
       " [array([ 0.  ,  0.25,  0.25]), 5],\n",
       " [array([ 0.5       ,  0.08333333,  0.41666667]), 4],\n",
       " [array([ 0.5       ,  0.16666667,  0.5       ]), 2],\n",
       " [array([ 0.5       ,  0.25      ,  0.58333333]), 2],\n",
       " [array([ 0.5       ,  0.33333333,  0.66666667]), 3],\n",
       " [array([ 0.5       ,  0.41666667,  0.75      ]), 3],\n",
       " [array([ 0.5       ,  0.5       ,  0.83333333]), 2],\n",
       " [array([ 0.5       ,  0.16666667,  0.33333333]), 3],\n",
       " [array([ 0.5       ,  0.25      ,  0.41666667]), 3],\n",
       " [array([ 0.5       ,  0.33333333,  0.5       ]), 2],\n",
       " [array([ 0.5       ,  0.41666667,  0.58333333]), 2],\n",
       " [array([ 0.5       ,  0.5       ,  0.66666667]), 1],\n",
       " [array([ 0.5 ,  0.25,  0.25]), 1],\n",
       " [array([ 0.5       ,  0.33333333,  0.33333333]), 1],\n",
       " [array([ 0.5       ,  0.41666667,  0.41666667]), 4],\n",
       " [array([ 0.5,  0.5,  0.5]), 1],\n",
       " [array([ 0.5       ,  0.58333333,  0.58333333]), 2],\n",
       " [array([ 0.5       ,  0.66666667,  0.66666667]), 2],\n",
       " [array([ 0.5       ,  0.33333333,  0.16666667]), 2],\n",
       " [array([ 0.5       ,  0.41666667,  0.25      ]), 1],\n",
       " [array([ 0.5       ,  0.5       ,  0.33333333]), 1],\n",
       " [array([ 0.5       ,  0.41666667,  0.08333333]), 1],\n",
       " [array([ 0.5       ,  0.5       ,  0.16666667]), 2],\n",
       " [array([ 0.5       ,  0.58333333,  0.25      ]), 1],\n",
       " [array([ 0.5       ,  0.66666667,  0.33333333]), 1],\n",
       " [array([ 0.08333333,  0.        ,  0.08333333]), 1],\n",
       " [array([ 0.58333333,  0.58333333,  0.16666667]), 2],\n",
       " [array([ 0.08333333,  0.16666667,  0.25      ]), 19],\n",
       " [array([ 0.08333333,  0.33333333,  0.41666667]), 9],\n",
       " [array([ 0.08333333,  0.08333333,  0.        ]), 1],\n",
       " [array([ 0.08333333,  0.16666667,  0.08333333]), 1],\n",
       " [array([ 0.08333333,  0.25      ,  0.16666667]), 1],\n",
       " [array([ 0.08333333,  0.41666667,  0.33333333]), 1],\n",
       " [array([ 0.08333333,  0.5       ,  0.41666667]), 4],\n",
       " [array([ 0.58333333,  0.66666667,  0.91666667]), 1],\n",
       " [array([ 0.58333333,  0.25      ,  0.5       ]), 2],\n",
       " [array([ 0.58333333,  0.33333333,  0.58333333]), 4],\n",
       " [array([ 0.58333333,  0.41666667,  0.66666667]), 5],\n",
       " [array([ 0.58333333,  0.25      ,  0.33333333]), 1],\n",
       " [array([ 0.58333333,  0.33333333,  0.41666667]), 2],\n",
       " [array([ 0.58333333,  0.5       ,  0.58333333]), 1],\n",
       " [array([ 0.58333333,  0.33333333,  0.25      ]), 1],\n",
       " [array([ 0.58333333,  0.41666667,  0.33333333]), 3],\n",
       " [array([ 0.58333333,  0.58333333,  0.5       ]), 2],\n",
       " [array([ 0.58333333,  0.66666667,  0.58333333]), 3],\n",
       " [array([ 0.58333333,  0.75      ,  0.66666667]), 1],\n",
       " [array([ 0.58333333,  0.41666667,  0.16666667]), 1],\n",
       " [array([ 0.58333333,  0.5       ,  0.25      ]), 1],\n",
       " [array([ 0.58333333,  0.75      ,  0.5       ]), 1],\n",
       " [array([ 0.16666667,  0.        ,  0.16666667]), 1],\n",
       " [array([ 0.16666667,  0.08333333,  0.25      ]), 3],\n",
       " [array([ 0.66666667,  0.66666667,  0.33333333]), 3],\n",
       " [array([ 0.16666667,  0.33333333,  0.5       ]), 1],\n",
       " [array([ 0.16666667,  0.58333333,  0.58333333]), 1],\n",
       " [array([ 0.16666667,  0.16666667,  0.16666667]), 2],\n",
       " [array([ 0.16666667,  0.25      ,  0.25      ]), 2],\n",
       " [array([ 0.16666667,  0.41666667,  0.41666667]), 3],\n",
       " [array([ 0.16666667,  0.5       ,  0.5       ]), 1],\n",
       " [array([ 0.16666667,  0.16666667,  0.        ]), 1],\n",
       " [array([ 0.16666667,  0.25      ,  0.08333333]), 1],\n",
       " [array([ 0.16666667,  0.33333333,  0.16666667]), 1],\n",
       " [array([ 0.16666667,  0.58333333,  0.41666667]), 1],\n",
       " [array([ 0.66666667,  0.33333333,  0.5       ]), 1],\n",
       " [array([ 0.66666667,  0.58333333,  0.75      ]), 1],\n",
       " [array([ 0.66666667,  0.66666667,  0.83333333]), 2],\n",
       " [array([ 0.66666667,  0.83333333,  0.83333333]), 1],\n",
       " [array([ 0.66666667,  0.41666667,  0.41666667]), 1],\n",
       " [array([ 0.66666667,  0.5       ,  0.5       ]), 1],\n",
       " [array([ 0.66666667,  0.75      ,  0.75      ]), 2],\n",
       " [array([ 0.66666667,  0.5       ,  0.33333333]), 1],\n",
       " [array([ 0.66666667,  0.58333333,  0.41666667]), 2],\n",
       " [array([ 0.66666667,  0.75      ,  0.58333333]), 1],\n",
       " [array([ 0.66666667,  0.83333333,  0.66666667]), 2],\n",
       " [array([ 0.25      ,  0.08333333,  0.33333333]), 1],\n",
       " [array([ 0.25      ,  0.16666667,  0.41666667]), 2],\n",
       " [array([ 0.25      ,  0.33333333,  0.58333333]), 2],\n",
       " [array([ 0.25      ,  0.16666667,  0.25      ]), 6],\n",
       " [array([ 0.25      ,  0.41666667,  0.5       ]), 2],\n",
       " [array([ 0.25      ,  0.5       ,  0.58333333]), 2],\n",
       " [array([ 0.25      ,  0.16666667,  0.08333333]), 1],\n",
       " [array([ 0.25      ,  0.25      ,  0.16666667]), 1],\n",
       " [array([ 0.25      ,  0.5       ,  0.41666667]), 1],\n",
       " [array([ 0.25      ,  0.58333333,  0.5       ]), 3],\n",
       " [array([ 0.25      ,  0.41666667,  0.16666667]), 1],\n",
       " [array([ 0.25      ,  0.58333333,  0.33333333]), 1],\n",
       " [array([ 0.75      ,  0.33333333,  0.41666667]), 1],\n",
       " [array([ 0.75      ,  0.66666667,  0.75      ]), 1],\n",
       " [array([ 0.75      ,  0.41666667,  0.33333333]), 3],\n",
       " [array([ 0.75      ,  0.5       ,  0.41666667]), 1],\n",
       " [array([ 0.75      ,  0.66666667,  0.58333333]), 1],\n",
       " [array([ 0.75      ,  0.75      ,  0.66666667]), 1],\n",
       " [array([ 0.33333333,  0.08333333,  0.41666667]), 1],\n",
       " [array([ 0.33333333,  0.16666667,  0.5       ]), 1],\n",
       " [array([ 0.33333333,  0.25      ,  0.58333333]), 1],\n",
       " [array([ 0.83333333,  0.83333333,  0.66666667]), 1],\n",
       " [array([ 0.83333333,  0.91666667,  0.75      ]), 1],\n",
       " [array([ 0.33333333,  0.08333333,  0.25      ]), 1],\n",
       " [array([ 0.33333333,  0.16666667,  0.33333333]), 2],\n",
       " [array([ 0.33333333,  0.5       ,  0.66666667]), 3],\n",
       " [array([ 0.33333333,  0.66666667,  0.66666667]), 1],\n",
       " [array([ 0.33333333,  0.33333333,  0.33333333]), 1],\n",
       " [array([ 0.33333333,  0.5       ,  0.5       ]), 1],\n",
       " [array([ 0.33333333,  0.58333333,  0.58333333]), 2],\n",
       " [array([ 0.33333333,  0.33333333,  0.16666667]), 2],\n",
       " [array([ 0.33333333,  0.41666667,  0.25      ]), 1],\n",
       " [array([ 0.33333333,  0.66666667,  0.5       ]), 1],\n",
       " [array([ 0.33333333,  0.41666667,  0.08333333]), 1],\n",
       " [array([ 0.33333333,  0.5       ,  0.16666667]), 1],\n",
       " [array([ 0.33333333,  0.58333333,  0.25      ]), 1],\n",
       " [array([ 0.83333333,  0.41666667,  0.41666667]), 1],\n",
       " [array([ 0.83333333,  0.83333333,  0.83333333]), 1],\n",
       " [array([ 0.41666667,  0.16666667,  0.58333333]), 1],\n",
       " [array([ 0.41666667,  0.33333333,  0.75      ]), 1],\n",
       " [array([ 0.41666667,  0.41666667,  0.83333333]), 1],\n",
       " [array([ 0.41666667,  0.25      ,  0.5       ]), 1],\n",
       " [array([ 0.41666667,  0.33333333,  0.58333333]), 1],\n",
       " [array([ 0.41666667,  0.41666667,  0.66666667]), 1],\n",
       " [array([ 0.41666667,  0.5       ,  0.75      ]), 2],\n",
       " [array([ 0.41666667,  0.16666667,  0.25      ]), 1],\n",
       " [array([ 0.41666667,  0.33333333,  0.41666667]), 1],\n",
       " [array([ 0.41666667,  0.5       ,  0.58333333]), 1],\n",
       " [array([ 0.41666667,  0.33333333,  0.25      ]), 3],\n",
       " [array([ 0.41666667,  0.41666667,  0.33333333]), 2],\n",
       " [array([ 0.41666667,  0.58333333,  0.5       ]), 1],\n",
       " [array([ 0.41666667,  0.5       ,  0.25      ]), 2]]"
      ]
     },
     "execution_count": 113,
     "metadata": {},
     "output_type": "execute_result"
    }
   ],
   "source": [
    "irpnts"
   ]
  },
  {
   "cell_type": "code",
   "execution_count": 114,
   "metadata": {
    "collapsed": false
   },
   "outputs": [
    {
     "data": {
      "text/plain": [
       "216"
      ]
     },
     "execution_count": 114,
     "metadata": {},
     "output_type": "execute_result"
    }
   ],
   "source": [
    "len(pnts)"
   ]
  },
  {
   "cell_type": "code",
   "execution_count": null,
   "metadata": {
    "collapsed": true
   },
   "outputs": [],
   "source": []
  }
 ],
 "metadata": {
  "kernelspec": {
   "display_name": "Python 2",
   "language": "python",
   "name": "python2"
  },
  "language_info": {
   "codemirror_mode": {
    "name": "ipython",
    "version": 2
   },
   "file_extension": ".py",
   "mimetype": "text/x-python",
   "name": "python",
   "nbconvert_exporter": "python",
   "pygments_lexer": "ipython2",
   "version": "2.7.9"
  }
 },
 "nbformat": 4,
 "nbformat_minor": 2
}
