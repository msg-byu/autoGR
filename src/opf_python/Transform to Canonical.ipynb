{
 "cells": [
  {
   "cell_type": "markdown",
   "metadata": {
    "deletable": true,
    "editable": true
   },
   "source": [
    "I need to verify which transform works, is it:\n",
    "Ac = Au.M\n",
    "or:\n",
    "Ac = Au.M?"
   ]
  },
  {
   "cell_type": "code",
   "execution_count": 1,
   "metadata": {
    "collapsed": true,
    "deletable": true,
    "editable": true
   },
   "outputs": [],
   "source": [
    "import numpy as np\n",
    "import lat_type as lt"
   ]
  },
  {
   "cell_type": "code",
   "execution_count": 2,
   "metadata": {
    "collapsed": false,
    "deletable": true,
    "editable": true
   },
   "outputs": [],
   "source": [
    "A_u = np.transpose([[0.5,0.5,0],[0,0,3],[0.5,-0.5,0]])\n",
    "R_u = np.transpose(np.linalg.inv(A_u))"
   ]
  },
  {
   "cell_type": "code",
   "execution_count": 3,
   "metadata": {
    "collapsed": false,
    "deletable": true,
    "editable": true
   },
   "outputs": [],
   "source": [
    "lat_id, A_c = lt.lat_type(np.transpose(A_u))\n",
    "R_c = np.transpose(np.linalg.inv(A_c))"
   ]
  },
  {
   "cell_type": "code",
   "execution_count": 5,
   "metadata": {
    "collapsed": false,
    "deletable": true,
    "editable": true
   },
   "outputs": [],
   "source": [
    "from stet import stet_srHNFs"
   ]
  },
  {
   "cell_type": "code",
   "execution_count": 6,
   "metadata": {
    "collapsed": false,
    "deletable": true,
    "editable": true
   },
   "outputs": [],
   "source": [
    "spHNFs = stet_srHNFs(28)"
   ]
  },
  {
   "cell_type": "code",
   "execution_count": 78,
   "metadata": {
    "collapsed": false,
    "deletable": true,
    "editable": true
   },
   "outputs": [],
   "source": [
    "M = np.dot(np.linalg.inv(A_u),A_c)"
   ]
  },
  {
   "cell_type": "code",
   "execution_count": 7,
   "metadata": {
    "collapsed": false,
    "deletable": true,
    "editable": true
   },
   "outputs": [
    {
     "data": {
      "text/plain": [
       "5"
      ]
     },
     "execution_count": 7,
     "metadata": {},
     "output_type": "execute_result"
    }
   ],
   "source": [
    "len(spHNFs)"
   ]
  },
  {
   "cell_type": "code",
   "execution_count": 8,
   "metadata": {
    "collapsed": false,
    "deletable": true,
    "editable": true
   },
   "outputs": [
    {
     "name": "stdout",
     "output_type": "stream",
     "text": [
      "[[1, 0, 0], [0, 1, 0], [0, 0, 28]]\n",
      "[[ 1.          0.          0.03571429]\n",
      " [ 1.          0.         -0.03571429]\n",
      " [ 0.          0.33333333 -0.        ]]\n",
      "[[1, 0, 0], [0, 1, 0], [14, 14, 28]]\n",
      "[[ 1.          0.         -0.46428571]\n",
      " [ 1.          0.         -0.53571429]\n",
      " [ 0.          0.33333333 -0.16666667]]\n",
      "[[1, 0, 0], [1, 2, 0], [0, 0, 14]]\n",
      "[[ 1.         -0.5         0.07142857]\n",
      " [ 1.         -0.5        -0.07142857]\n",
      " [ 0.          0.16666667  0.        ]]\n",
      "[[1, 0, 0], [1, 2, 0], [7, 0, 14]]\n",
      "[[ 1.         -0.5        -0.42857143]\n",
      " [ 1.         -0.5        -0.57142857]\n",
      " [ 0.          0.16666667 -0.        ]]\n",
      "[[2, 0, 0], [0, 2, 0], [0, 0, 7]]\n",
      "[[ 0.5         0.          0.14285714]\n",
      " [ 0.5         0.         -0.14285714]\n",
      " [ 0.          0.16666667 -0.        ]]\n"
     ]
    }
   ],
   "source": [
    "grids = []\n",
    "for HNF in spHNFs:\n",
    "    print(HNF)\n",
    "    B = np.dot(A_u,HNF)\n",
    "    grid = np.transpose(np.linalg.inv(B))\n",
    "#    grid = np.dot(B_c,np.linalg.inv(R_c))\n",
    "#    grid = np.dot(grid,R_u)\n",
    "    print(grid)\n",
    "#    print(np.transpose(np.dot(np.linalg.inv(grid),R_u)))\n",
    "    #temp_id, temp_basis = lt.lat_type(np.transpose(grid))\n",
    "    #supers.append(np.transpose(B_u))\n",
    "    grids.append(grid)"
   ]
  },
  {
   "cell_type": "code",
   "execution_count": 9,
   "metadata": {
    "collapsed": false,
    "deletable": true,
    "editable": true
   },
   "outputs": [
    {
     "data": {
      "text/plain": [
       "('co', array([[ 0.5,  0.5,  0. ],\n",
       "        [ 1. , -1. ,  0. ],\n",
       "        [ 0. ,  0. ,  3. ]]))"
      ]
     },
     "execution_count": 9,
     "metadata": {},
     "output_type": "execute_result"
    }
   ],
   "source": [
    "lt.lat_type(grids[2])"
   ]
  },
  {
   "cell_type": "code",
   "execution_count": 88,
   "metadata": {
    "collapsed": false
   },
   "outputs": [
    {
     "name": "stdout",
     "output_type": "stream",
     "text": [
      "[[  1.    0.    0. ]\n",
      " [  0.    0.5   0. ]\n",
      " [  0.    0.   56. ]]\n",
      "[[  1.    0.   28. ]\n",
      " [  0.    0.5  28. ]\n",
      " [  0.    0.   56. ]]\n",
      "[[  1.    0.5   0. ]\n",
      " [  0.    1.    0. ]\n",
      " [  0.    0.   28. ]]\n",
      "[[  1.00000000e+00   5.00000000e-01   1.40000000e+01]\n",
      " [  0.00000000e+00   1.00000000e+00   0.00000000e+00]\n",
      " [  0.00000000e+00  -1.55431223e-15   2.80000000e+01]]\n",
      "[[  2.   0.   0.]\n",
      " [  0.   1.   0.]\n",
      " [  0.   0.  14.]]\n"
     ]
    }
   ],
   "source": [
    "for grid in grids:\n",
    "    print(np.dot(np.linalg.inv(grid),R_u))"
   ]
  },
  {
   "cell_type": "code",
   "execution_count": 117,
   "metadata": {
    "collapsed": false,
    "deletable": true,
    "editable": true
   },
   "outputs": [
    {
     "name": "stdout",
     "output_type": "stream",
     "text": [
      "[[ 2.          0.          0.        ]\n",
      " [-1.          0.5         0.        ]\n",
      " [-1.         -0.          0.03703704]]\n"
     ]
    }
   ],
   "source": [
    "Bu = np.dot(Bc,M)\n",
    "gridu = np.linalg.solve(Bc,[[1,0,0],[0,1,0],[0,0,1]])#/rat\n",
    "print(gridu)"
   ]
  },
  {
   "cell_type": "code",
   "execution_count": 118,
   "metadata": {
    "collapsed": false,
    "deletable": true,
    "editable": true
   },
   "outputs": [
    {
     "name": "stdout",
     "output_type": "stream",
     "text": [
      "('Nb', array([[  0.25,   0.  ,   0.  ],\n",
      "       [  2.5 ,   4.  ,   0.  ],\n",
      "       [ 47.25,   0.  ,  81.  ]]))\n"
     ]
    }
   ],
   "source": [
    "print(\"Nb\",np.dot(np.linalg.inv(gridu),Ac))"
   ]
  },
  {
   "cell_type": "code",
   "execution_count": 124,
   "metadata": {
    "collapsed": false,
    "deletable": true,
    "editable": true
   },
   "outputs": [
    {
     "name": "stdout",
     "output_type": "stream",
     "text": [
      "[[  4.64158883e+00   0.00000000e+00  -2.29031058e-16]\n",
      " [  0.00000000e+00   4.64158883e+00   9.66224774e-17]\n",
      " [ -2.06292837e+00   0.00000000e+00   5.15732093e-01]]\n",
      "[[ -1.00000000e+00   0.00000000e+00   4.44089210e-16]\n",
      " [ -9.36750677e-17  -1.00000000e+00  -1.87350135e-16]\n",
      " [  0.00000000e+00   0.00000000e+00  -1.00000000e+00]]\n",
      "[[  1.00000000e+00   0.00000000e+00   4.44089210e-16]\n",
      " [ -1.00000000e+00  -1.00000000e+00  -1.87350135e-16]\n",
      " [ -1.00000000e+00   0.00000000e+00  -1.00000000e+00]]\n",
      "[[ -1.00000000e+00   0.00000000e+00   4.44089210e-16]\n",
      " [  1.00000000e+00   1.00000000e+00  -1.87350135e-16]\n",
      " [  0.00000000e+00   0.00000000e+00  -1.00000000e+00]]\n"
     ]
    }
   ],
   "source": [
    "grid = np.array(Bc)/(10.**(2/3.))#np.transpose(np.linalg.inv(np.dot(Ac,H)))\n",
    "print(np.dot(np.linalg.inv(grid),Ac))\n",
    "#for g in gens:\n",
    "#    Buinv = np.linalg.inv(Bu)\n",
    "#    test = np.dot(Buinv,np.dot(g,Bu))\n",
    "#    print(test)\n",
    "for g in gens:\n",
    "    gridinv = np.linalg.inv(grid)\n",
    "    test = np.dot(gridinv,np.dot(g,grid))\n",
    "    print(test)    "
   ]
  },
  {
   "cell_type": "markdown",
   "metadata": {
    "deletable": true,
    "editable": true
   },
   "source": [
    "# Ac = M. Au"
   ]
  },
  {
   "cell_type": "code",
   "execution_count": 14,
   "metadata": {
    "collapsed": true,
    "deletable": true,
    "editable": true
   },
   "outputs": [],
   "source": [
    "M = np.dot(Ac,np.linalg.inv(Au))"
   ]
  },
  {
   "cell_type": "code",
   "execution_count": 15,
   "metadata": {
    "collapsed": true,
    "deletable": true,
    "editable": true
   },
   "outputs": [],
   "source": [
    "Bu = np.dot(np.linalg.inv(M),Bc)"
   ]
  },
  {
   "cell_type": "code",
   "execution_count": 16,
   "metadata": {
    "collapsed": false,
    "deletable": true,
    "editable": true
   },
   "outputs": [
    {
     "data": {
      "text/plain": [
       "array([[ 3. ,  1. ,  2.5],\n",
       "       [ 6. ,  0. ,  5. ],\n",
       "       [-3. ,  0. , -7.5]])"
      ]
     },
     "execution_count": 16,
     "metadata": {},
     "output_type": "execute_result"
    }
   ],
   "source": [
    "Bu"
   ]
  },
  {
   "cell_type": "code",
   "execution_count": 17,
   "metadata": {
    "collapsed": false,
    "deletable": true,
    "editable": true
   },
   "outputs": [
    {
     "name": "stdout",
     "output_type": "stream",
     "text": [
      "[[-1.  0.  0.]\n",
      " [ 0. -1.  0.]\n",
      " [ 0.  0. -1.]]\n",
      "[[-1.  0.  0.]\n",
      " [ 6.  1.  5.]\n",
      " [ 0.  0. -1.]]\n",
      "[[ 2.   0.   2.5]\n",
      " [-6.  -1.  -5. ]\n",
      " [-1.2  0.  -2. ]]\n"
     ]
    }
   ],
   "source": [
    "for g in gens:\n",
    "    Buinv = np.linalg.inv(Bu)\n",
    "    test = np.dot(Buinv,np.dot(g,Bu))\n",
    "    print(test)"
   ]
  },
  {
   "cell_type": "markdown",
   "metadata": {
    "deletable": true,
    "editable": true
   },
   "source": [
    "# Conclusion\n",
    "\n",
    "Clearly the transformation needs to be applied on the right not the left."
   ]
  },
  {
   "cell_type": "code",
   "execution_count": 18,
   "metadata": {
    "collapsed": true,
    "deletable": true,
    "editable": true
   },
   "outputs": [],
   "source": [
    "A = np.array([[1,2,3],[4,5,6],[7,8,9]])"
   ]
  },
  {
   "cell_type": "code",
   "execution_count": 25,
   "metadata": {
    "collapsed": false,
    "deletable": true,
    "editable": true
   },
   "outputs": [],
   "source": [
    "ns = [np.linalg.norm([A[i,j] for i in range(3)]) for j in range(3)]"
   ]
  },
  {
   "cell_type": "code",
   "execution_count": 26,
   "metadata": {
    "collapsed": false,
    "deletable": true,
    "editable": true
   },
   "outputs": [
    {
     "data": {
      "text/plain": [
       "[8.1240384046359608, 9.6436507609929549, 11.224972160321824]"
      ]
     },
     "execution_count": 26,
     "metadata": {},
     "output_type": "execute_result"
    }
   ],
   "source": [
    "ns"
   ]
  },
  {
   "cell_type": "code",
   "execution_count": 23,
   "metadata": {
    "collapsed": false,
    "deletable": true,
    "editable": true
   },
   "outputs": [
    {
     "data": {
      "text/plain": [
       "[1, 2, 3]"
      ]
     },
     "execution_count": 23,
     "metadata": {},
     "output_type": "execute_result"
    }
   ],
   "source": [
    "[A[0,i] for i in range(3)]"
   ]
  },
  {
   "cell_type": "code",
   "execution_count": 29,
   "metadata": {
    "collapsed": false,
    "deletable": true,
    "editable": true
   },
   "outputs": [
    {
     "data": {
      "text/plain": [
       "array([  8.1240384 ,   9.64365076,  11.22497216])"
      ]
     },
     "execution_count": 29,
     "metadata": {},
     "output_type": "execute_result"
    }
   ],
   "source": [
    "np.linalg.norm(A,axis=0)"
   ]
  },
  {
   "cell_type": "code",
   "execution_count": null,
   "metadata": {
    "collapsed": true,
    "deletable": true,
    "editable": true
   },
   "outputs": [],
   "source": []
  }
 ],
 "metadata": {
  "kernelspec": {
   "display_name": "Python 2",
   "language": "python",
   "name": "python2"
  },
  "language_info": {
   "codemirror_mode": {
    "name": "ipython",
    "version": 2
   },
   "file_extension": ".py",
   "mimetype": "text/x-python",
   "name": "python",
   "nbconvert_exporter": "python",
   "pygments_lexer": "ipython2",
   "version": "2.7.9"
  }
 },
 "nbformat": 4,
 "nbformat_minor": 2
}
