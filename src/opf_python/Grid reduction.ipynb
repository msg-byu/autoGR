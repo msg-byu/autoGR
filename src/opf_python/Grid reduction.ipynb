{
 "cells": [
  {
   "cell_type": "code",
   "execution_count": 5,
   "metadata": {
    "collapsed": true,
    "deletable": true,
    "editable": true
   },
   "outputs": [],
   "source": [
    "import numpy as np\n",
    "from jeremy import spGrids\n",
    "from BZI.sampling import make_grid\n",
    "from BZI.symmetry import find_orbitals\n",
    "from lat_type import lat_type"
   ]
  },
  {
   "cell_type": "markdown",
   "metadata": {
    "deletable": true,
    "editable": true
   },
   "source": [
    "We want to know what the optimal offset for any given lattice is. We believe that in order to preserve symmetry we must offset to a high symmetry point, i.e., the body center, face center, edge center of a cell but at times these shifts won't buy us anything. For example, if we offset to the body center of a BCC cell then we gain nothing because we've swapped the gamma point and the point at the body center."
   ]
  },
  {
   "cell_type": "markdown",
   "metadata": {
    "deletable": true,
    "editable": true
   },
   "source": [
    "# BCC case"
   ]
  },
  {
   "cell_type": "code",
   "execution_count": 26,
   "metadata": {
    "collapsed": false,
    "deletable": true,
    "editable": true
   },
   "outputs": [],
   "source": [
    "bcc = np.transpose([[1,1,0],[1,0,1],[0,1,1]])\n",
    "bccr = np.transpose(np.linalg.inv(bcc))\n",
    "kpd = 4**3"
   ]
  },
  {
   "cell_type": "code",
   "execution_count": 32,
   "metadata": {
    "collapsed": false,
    "deletable": true,
    "editable": true
   },
   "outputs": [],
   "source": [
    "grids = spGrids(bcc,kpd)"
   ]
  },
  {
   "cell_type": "code",
   "execution_count": 33,
   "metadata": {
    "collapsed": false,
    "deletable": true,
    "editable": true
   },
   "outputs": [
    {
     "name": "stdout",
     "output_type": "stream",
     "text": [
      "bcc\n"
     ]
    }
   ],
   "source": [
    "g_vecs = grids[0]['grid_vecs']\n",
    "print(lat_type(np.transpose(g_vecs))[0])"
   ]
  },
  {
   "cell_type": "code",
   "execution_count": 34,
   "metadata": {
    "collapsed": false,
    "deletable": true,
    "editable": true
   },
   "outputs": [],
   "source": [
    "grid_pnts_gamma = make_grid(bccr,g_vecs,np.array([0,0,0]))"
   ]
  },
  {
   "cell_type": "code",
   "execution_count": 35,
   "metadata": {
    "collapsed": false,
    "deletable": true,
    "editable": true
   },
   "outputs": [],
   "source": [
    "bcc_gamma = find_orbitals(grid_pnts_gamma,bccr)"
   ]
  },
  {
   "cell_type": "code",
   "execution_count": 36,
   "metadata": {
    "collapsed": false,
    "deletable": true,
    "editable": true
   },
   "outputs": [
    {
     "data": {
      "text/plain": [
       "20"
      ]
     },
     "execution_count": 36,
     "metadata": {},
     "output_type": "execute_result"
    }
   ],
   "source": [
    "len(bcc_gamma)"
   ]
  },
  {
   "cell_type": "code",
   "execution_count": 37,
   "metadata": {
    "collapsed": true,
    "deletable": true,
    "editable": true
   },
   "outputs": [],
   "source": [
    "grid_pnts_bc = make_grid(bccr,g_vecs,np.dot([0.5,0.5,0.5],bccr))\n",
    "bcc_bc = find_orbitals(grid_pnts_bc,bccr)"
   ]
  },
  {
   "cell_type": "code",
   "execution_count": 38,
   "metadata": {
    "collapsed": false,
    "deletable": true,
    "editable": true
   },
   "outputs": [
    {
     "data": {
      "text/plain": [
       "10"
      ]
     },
     "execution_count": 38,
     "metadata": {},
     "output_type": "execute_result"
    }
   ],
   "source": [
    "len(bcc_bc)"
   ]
  },
  {
   "cell_type": "code",
   "execution_count": 39,
   "metadata": {
    "collapsed": true,
    "deletable": true,
    "editable": true
   },
   "outputs": [],
   "source": [
    "grid_pnts_fc = make_grid(bccr,g_vecs,np.dot([0.5,0.5,0],bccr))\n",
    "bcc_fc = find_orbitals(grid_pnts_fc,bccr)"
   ]
  },
  {
   "cell_type": "code",
   "execution_count": 40,
   "metadata": {
    "collapsed": false,
    "deletable": true,
    "editable": true
   },
   "outputs": [
    {
     "data": {
      "text/plain": [
       "16"
      ]
     },
     "execution_count": 40,
     "metadata": {},
     "output_type": "execute_result"
    }
   ],
   "source": [
    "len(bcc_fc)"
   ]
  },
  {
   "cell_type": "code",
   "execution_count": 41,
   "metadata": {
    "collapsed": true,
    "deletable": true,
    "editable": true
   },
   "outputs": [],
   "source": [
    "grid_pnts_sc = make_grid(bccr,g_vecs,np.dot([0.5,0,0],bccr))\n",
    "bcc_sc = find_orbitals(grid_pnts_sc,bccr)"
   ]
  },
  {
   "cell_type": "code",
   "execution_count": 45,
   "metadata": {
    "collapsed": false,
    "deletable": true,
    "editable": true
   },
   "outputs": [
    {
     "data": {
      "text/plain": [
       "19"
      ]
     },
     "execution_count": 45,
     "metadata": {},
     "output_type": "execute_result"
    }
   ],
   "source": [
    "len(bcc_sc)"
   ]
  },
  {
   "cell_type": "markdown",
   "metadata": {
    "deletable": true,
    "editable": true
   },
   "source": [
    "So far we find that for a bcc parent lattice the best offset is to the body center of the reciprocal cell (which is fcc). Let's check this for two more densities to be sure:"
   ]
  },
  {
   "cell_type": "code",
   "execution_count": 46,
   "metadata": {
    "collapsed": true,
    "deletable": true,
    "editable": true
   },
   "outputs": [],
   "source": [
    "kpd = [4**3,4*4**3,2*4**3]"
   ]
  },
  {
   "cell_type": "code",
   "execution_count": 47,
   "metadata": {
    "collapsed": true,
    "deletable": true,
    "editable": true
   },
   "outputs": [],
   "source": [
    "bcc_g = []\n",
    "bcc_bc = []\n",
    "bcc_fc = []\n",
    "bcc_sc = []"
   ]
  },
  {
   "cell_type": "code",
   "execution_count": 48,
   "metadata": {
    "collapsed": false,
    "deletable": true,
    "editable": true
   },
   "outputs": [],
   "source": [
    "for d in kpd:\n",
    "    grids = spGrids(bcc,d)\n",
    "    g_vecs = grids[0]['grid_vecs']\n",
    "    grid_pnts_gamma = make_grid(bccr,g_vecs,np.array([0,0,0]))\n",
    "    bcc_g.append(len(find_orbitals(grid_pnts_gamma,bccr)))\n",
    "    grid_pnts_bc = make_grid(bccr,g_vecs,np.dot([0.5,0.5,0.5],bccr))\n",
    "    bcc_bc.append(len(find_orbitals(grid_pnts_bc,bccr)))\n",
    "    grid_pnts_fc = make_grid(bccr,g_vecs,np.dot([0.5,0.5,0],bccr))\n",
    "    bcc_fc.append(len(find_orbitals(grid_pnts_fc,bccr)))\n",
    "    grid_pnts_sc = make_grid(bccr,g_vecs,np.dot([0.5,0,0],bccr))\n",
    "    bcc_sc.append(len(find_orbitals(grid_pnts_sc,bccr)))"
   ]
  },
  {
   "cell_type": "code",
   "execution_count": 49,
   "metadata": {
    "collapsed": false,
    "deletable": true,
    "editable": true
   },
   "outputs": [
    {
     "name": "stdout",
     "output_type": "stream",
     "text": [
      "[20, 89, 40]\n",
      "[10, 34, 14]\n",
      "[16, 86, 26]\n",
      "[19, 115, 35]\n"
     ]
    }
   ],
   "source": [
    "print(bcc_g)\n",
    "print(bcc_bc)\n",
    "print(bcc_fc)\n",
    "print(bcc_sc)"
   ]
  },
  {
   "cell_type": "markdown",
   "metadata": {
    "deletable": true,
    "editable": true
   },
   "source": [
    "Here we can clearly see that for an BCC parent cell, with an FCC reciprocal cell the best choice of offset is the body center. Meanwhile shifting to a face center buys next to nothing and a side center is worse than the gamma point."
   ]
  },
  {
   "cell_type": "markdown",
   "metadata": {
    "deletable": true,
    "editable": true
   },
   "source": [
    "# FCC grid"
   ]
  },
  {
   "cell_type": "code",
   "execution_count": 50,
   "metadata": {
    "collapsed": true,
    "deletable": true,
    "editable": true
   },
   "outputs": [],
   "source": [
    "fcc = np.transpose([[0.0,0.5,0.5],[0.5,0.0,0.5],[0.5,0.5,0.0]])\n",
    "fccr = np.transpose(np.linalg.inv(fcc))"
   ]
  },
  {
   "cell_type": "code",
   "execution_count": 51,
   "metadata": {
    "collapsed": true,
    "deletable": true,
    "editable": true
   },
   "outputs": [],
   "source": [
    "kpd = [4**3,4*4**3,16*4**3]\n",
    "fcc_g = []\n",
    "fcc_bc = []\n",
    "fcc_fc = []\n",
    "fcc_sc = []"
   ]
  },
  {
   "cell_type": "code",
   "execution_count": 52,
   "metadata": {
    "collapsed": true,
    "deletable": true,
    "editable": true
   },
   "outputs": [],
   "source": [
    "for d in kpd:\n",
    "    grids = spGrids(fcc,d)\n",
    "    g_vecs = grids[0]['grid_vecs']\n",
    "    grid_pnts_gamma = make_grid(fccr,g_vecs,np.array([0,0,0]))\n",
    "    fcc_g.append(len(find_orbitals(grid_pnts_gamma,fccr)))\n",
    "    grid_pnts_bc = make_grid(fccr,g_vecs,np.dot([0.5,0.5,0.5],fccr))\n",
    "    fcc_bc.append(len(find_orbitals(grid_pnts_bc,fccr)))\n",
    "    grid_pnts_fc = make_grid(fccr,g_vecs,np.dot([0.5,0.5,0],fccr))\n",
    "    fcc_fc.append(len(find_orbitals(grid_pnts_fc,fccr)))\n",
    "    grid_pnts_sc = make_grid(fccr,g_vecs,np.dot([0.5,0,0],fccr))\n",
    "    fcc_sc.append(len(find_orbitals(grid_pnts_sc,fccr)))"
   ]
  },
  {
   "cell_type": "code",
   "execution_count": 53,
   "metadata": {
    "collapsed": false,
    "deletable": true,
    "editable": true
   },
   "outputs": [
    {
     "name": "stdout",
     "output_type": "stream",
     "text": [
      "[20, 60, 204]\n",
      "[10, 19, 69]\n",
      "[16, 40, 200]\n",
      "[19, 56, 288]\n"
     ]
    }
   ],
   "source": [
    "print(fcc_g)\n",
    "print(fcc_bc)\n",
    "print(fcc_fc)\n",
    "print(fcc_sc)"
   ]
  },
  {
   "cell_type": "code",
   "execution_count": null,
   "metadata": {
    "collapsed": true,
    "deletable": true,
    "editable": true
   },
   "outputs": [],
   "source": []
  }
 ],
 "metadata": {
  "kernelspec": {
   "display_name": "Python 2",
   "language": "python",
   "name": "python2"
  },
  "language_info": {
   "codemirror_mode": {
    "name": "ipython",
    "version": 2
   },
   "file_extension": ".py",
   "mimetype": "text/x-python",
   "name": "python",
   "nbconvert_exporter": "python",
   "pygments_lexer": "ipython2",
   "version": "2.7.9"
  }
 },
 "nbformat": 4,
 "nbformat_minor": 2
}
