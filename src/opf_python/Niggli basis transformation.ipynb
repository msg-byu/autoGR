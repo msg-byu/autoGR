{
 "cells": [
  {
   "cell_type": "code",
   "execution_count": 2,
   "metadata": {
    "collapsed": false,
    "deletable": true,
    "editable": true
   },
   "outputs": [],
   "source": [
    "import numpy as np\n",
    "import pyniggli\n",
    "from opf_python.lat_type import lat_type\n",
    "from opf_python.niggli_lat_id import niggli_id\n",
    "from opf_python.test_basis import test_cell"
   ]
  },
  {
   "cell_type": "code",
   "execution_count": 3,
   "metadata": {
    "collapsed": true,
    "deletable": true,
    "editable": true
   },
   "outputs": [],
   "source": [
    "def niggli_setting(A):\n",
    "    \"\"\"Finds the corrdinates in G6 for the lattice A. Where G6 is\n",
    "    [A[:,0].A[:,0],A[:,1].A[:,1],A[:,2].A[:,2],\n",
    "    2*A[:,1].A[:,2],2*A[:,2].A[:,0],2*A[:,0].A[:,1]]\n",
    "    \n",
    "    Args:\n",
    "        A (numpy array): The lattice vectors as columns of a matrix.\n",
    "        \n",
    "    Returns:\n",
    "        G (list): The coordinates on G6 space.\n",
    "    \"\"\"\n",
    "    \n",
    "    a = A[:,0]\n",
    "    b = A[:,1]\n",
    "    c = A[:,2]\n",
    "    A = np.dot(a,a)\n",
    "    B = np.dot(b,b)\n",
    "    C = np.dot(c,c)\n",
    "    xi = np.dot(b,c)\n",
    "    eta = np.dot(a,c)\n",
    "    zeta = np.dot(a,b)\n",
    "    \n",
    "    G = [A,B,C,xi,eta,zeta]\n",
    "    return G"
   ]
  },
  {
   "cell_type": "markdown",
   "metadata": {
    "deletable": true,
    "editable": true
   },
   "source": [
    "# The Idea\n",
    "\n",
    "The idea here is to try and see if we can figure out a method to transform the symmetry preserving supercell from our basis to the users basis by using the niggli reduced cell. The workflow would be as follows:\n",
    "\n",
    "1) identify which of the 44 niggli cells is in use (there are two triclinic cells included in those 44 which we'll disregard)\n",
    "\n",
    "2) Find the Supercell in the niggli basis\n",
    "\n",
    "3) Transform back to the users basis.\n",
    "\n",
    "UC = N\n",
    "\n",
    "S = NHCinv\n",
    "\n",
    "# Face centered cubic\n",
    "\n",
    "## First basis\n",
    "\n",
    "Face centered cubic makes a good test case for the cubic cells, all cubic cells have a single unique niggli cell."
   ]
  },
  {
   "cell_type": "code",
   "execution_count": 4,
   "metadata": {
    "collapsed": false,
    "deletable": true,
    "editable": true
   },
   "outputs": [],
   "source": [
    "U = np.transpose([[0.5,0,0.5],[0.5,0.5,0],[0,0,1]])\n",
    "B = pyniggli.reduced_cell(U)\n",
    "N = B.niggli\n",
    "C = B.C"
   ]
  },
  {
   "cell_type": "markdown",
   "metadata": {
    "deletable": true,
    "editable": true
   },
   "source": [
    "Using the brute force method I've now confirmed that this niggli cell has the same symmetry preserving HNFs as our original basis choice."
   ]
  },
  {
   "cell_type": "code",
   "execution_count": 5,
   "metadata": {
    "collapsed": false,
    "deletable": true,
    "editable": true
   },
   "outputs": [
    {
     "name": "stdout",
     "output_type": "stream",
     "text": [
      "('Users niggli number: ', 1)\n"
     ]
    },
    {
     "data": {
      "text/plain": [
       "True"
      ]
     },
     "execution_count": 5,
     "metadata": {},
     "output_type": "execute_result"
    }
   ],
   "source": [
    "test_cell(U)"
   ]
  },
  {
   "cell_type": "markdown",
   "metadata": {
    "deletable": true,
    "editable": true
   },
   "source": [
    "## Second FCC basis\n",
    "\n",
    "Let's do a second basis just to be sure."
   ]
  },
  {
   "cell_type": "code",
   "execution_count": 6,
   "metadata": {
    "collapsed": true,
    "deletable": true,
    "editable": true
   },
   "outputs": [],
   "source": [
    "U = np.transpose([[1,1,2],[1,0,1],[2,1,1]])"
   ]
  },
  {
   "cell_type": "code",
   "execution_count": 7,
   "metadata": {
    "collapsed": false,
    "deletable": true,
    "editable": true
   },
   "outputs": [
    {
     "name": "stdout",
     "output_type": "stream",
     "text": [
      "('Users niggli number: ', 1)\n"
     ]
    },
    {
     "data": {
      "text/plain": [
       "True"
      ]
     },
     "execution_count": 7,
     "metadata": {},
     "output_type": "execute_result"
    }
   ],
   "source": [
    "test_cell(U)"
   ]
  },
  {
   "cell_type": "markdown",
   "metadata": {
    "deletable": true,
    "editable": true
   },
   "source": [
    "## FCC rotated basis (10 degrees about the z-axis)"
   ]
  },
  {
   "cell_type": "code",
   "execution_count": 8,
   "metadata": {
    "collapsed": true,
    "deletable": true,
    "editable": true
   },
   "outputs": [],
   "source": [
    "R = [[np.cos(10.*np.pi/180.),-np.sin(10.*np.pi/180.),0],\n",
    "     [np.sin(10.*np.pi/180.),np.cos(10.*np.pi/180.),0],\n",
    "    [0,0,1]]\n",
    "U = np.dot(R,U)"
   ]
  },
  {
   "cell_type": "code",
   "execution_count": 9,
   "metadata": {
    "collapsed": false,
    "deletable": true,
    "editable": true
   },
   "outputs": [
    {
     "name": "stdout",
     "output_type": "stream",
     "text": [
      "('Users niggli number: ', 1)\n"
     ]
    },
    {
     "data": {
      "text/plain": [
       "True"
      ]
     },
     "execution_count": 9,
     "metadata": {},
     "output_type": "execute_result"
    }
   ],
   "source": [
    "test_cell(U)"
   ]
  },
  {
   "cell_type": "markdown",
   "metadata": {},
   "source": [
    "# Simple Cubic"
   ]
  },
  {
   "cell_type": "code",
   "execution_count": 10,
   "metadata": {
    "collapsed": true
   },
   "outputs": [],
   "source": [
    "As = [[[1,0,0],[0,1,0],[0,0,1]], [[1,0,0],[1,1,0],[0,0,1]],\n",
    "        [[1,0,1],[1,1,0],[0,0,1]],[[1,1,1],[0,1,1],[1,0,1]],[[1,0,2],[0,1,0],[0,1,1]]]\n",
    "As = [np.transpose(i) for i in As]"
   ]
  },
  {
   "cell_type": "code",
   "execution_count": 11,
   "metadata": {
    "collapsed": false
   },
   "outputs": [
    {
     "name": "stdout",
     "output_type": "stream",
     "text": [
      "('Users niggli number: ', 3)\n",
      "(array([[1, 0, 0],\n",
      "       [0, 1, 0],\n",
      "       [0, 0, 1]]), True)\n",
      "('Users niggli number: ', 3)\n",
      "(array([[1, 1, 0],\n",
      "       [0, 1, 0],\n",
      "       [0, 0, 1]]), True)\n",
      "('Users niggli number: ', 3)\n",
      "(array([[1, 1, 0],\n",
      "       [0, 1, 0],\n",
      "       [1, 0, 1]]), True)\n",
      "('Users niggli number: ', 3)\n",
      "(array([[1, 0, 1],\n",
      "       [1, 1, 0],\n",
      "       [1, 1, 1]]), True)\n",
      "('Users niggli number: ', 3)\n",
      "(array([[1, 0, 0],\n",
      "       [0, 1, 1],\n",
      "       [2, 0, 1]]), True)\n"
     ]
    }
   ],
   "source": [
    "for U in As:\n",
    "    print(U,test_cell(U))"
   ]
  },
  {
   "cell_type": "markdown",
   "metadata": {},
   "source": [
    "# Body Centered Cubic"
   ]
  },
  {
   "cell_type": "code",
   "execution_count": 12,
   "metadata": {
    "collapsed": true
   },
   "outputs": [],
   "source": [
    "As = [[[-1,1,1],[1,-1,1],[1,1,-1]],[[1,0,0],[0,1,0],[0.5,0.5,0.5]],\n",
    "        [[1,0,0],[0.5,0.5,0.5],[0,0,1]],[[0.5,-0.5,0.5],[0,1,0],[0,0,1]],\n",
    "        [[0,0,2],[1,-1,1],[1,1,-1]],[[-1,1,1],[2,0,0],[0,2,0]],\n",
    "        [[1,-1,3],[1,-1,1],[1,1,-1]]]\n",
    "As = [np.transpose(i) for i in As]"
   ]
  },
  {
   "cell_type": "code",
   "execution_count": 14,
   "metadata": {
    "collapsed": false
   },
   "outputs": [
    {
     "name": "stdout",
     "output_type": "stream",
     "text": [
      "('Users niggli number: ', 5)\n",
      "True\n",
      "('Users niggli number: ', 5)\n",
      "True\n",
      "('Users niggli number: ', 5)\n",
      "True\n",
      "('Users niggli number: ', 5)\n",
      "True\n",
      "('Users niggli number: ', 5)\n",
      "True\n",
      "('Users niggli number: ', 5)\n",
      "True\n",
      "('Users niggli number: ', 5)\n",
      "True\n"
     ]
    }
   ],
   "source": [
    "for U in As:\n",
    "    print(test_cell(U))"
   ]
  },
  {
   "cell_type": "markdown",
   "metadata": {
    "deletable": true,
    "editable": true
   },
   "source": [
    "# Simple Tetragonal\n",
    "\n",
    "Now we should check a second crystal choice. Simple tetragonal cell's are another where we already have the symmetry preserving HNFs for one of the two niggli cells. We'll have to restrict ourselves to the niggli setting with lattice norms of [A,A,C] where C > A for these tests. The following 4 lattices satisfy that condition."
   ]
  },
  {
   "cell_type": "code",
   "execution_count": 16,
   "metadata": {
    "collapsed": true,
    "deletable": true,
    "editable": true
   },
   "outputs": [],
   "source": [
    "a1 = np.array([1,0,0])\n",
    "a2 = np.array([0,1,0])\n",
    "a3 = np.array([0,0,2])\n",
    "\n",
    "As = [[a1+a2,a2,a3+a1],[a1+a2+a3,a2+a3,a1+a2],[a1,a2+a1,a3+a3],[-a1,-a2+a3,a3]]\n",
    "As = [np.transpose(i) for i in As]"
   ]
  },
  {
   "cell_type": "code",
   "execution_count": 17,
   "metadata": {
    "collapsed": false,
    "deletable": true,
    "editable": true
   },
   "outputs": [
    {
     "name": "stdout",
     "output_type": "stream",
     "text": [
      "('Users niggli number: ', 11)\n",
      "True\n",
      "('Users niggli number: ', 11)\n",
      "True\n",
      "('Users niggli number: ', 11)\n",
      "True\n",
      "('Users niggli number: ', 11)\n",
      "True\n"
     ]
    }
   ],
   "source": [
    "for U in As:\n",
    "    print(test_cell(U))"
   ]
  },
  {
   "cell_type": "markdown",
   "metadata": {
    "deletable": true,
    "editable": true
   },
   "source": [
    "## Third Basis Choice (rotated by 15 degrees)"
   ]
  },
  {
   "cell_type": "code",
   "execution_count": 18,
   "metadata": {
    "collapsed": false,
    "deletable": true,
    "editable": true
   },
   "outputs": [],
   "source": [
    "R = [[np.cos(15.*np.pi/180.),-np.sin(15.*np.pi/180.),0],\n",
    "     [np.sin(15.*np.pi/180.),np.cos(15.*np.pi/180.),0],\n",
    "    [0,0,1]]\n",
    "U = np.random.random()*np.transpose(As[2])\n",
    "U = np.dot(R,U)"
   ]
  },
  {
   "cell_type": "code",
   "execution_count": 19,
   "metadata": {
    "collapsed": false,
    "deletable": true,
    "editable": true
   },
   "outputs": [
    {
     "name": "stdout",
     "output_type": "stream",
     "text": [
      "('Users niggli number: ', 11)\n"
     ]
    },
    {
     "data": {
      "text/plain": [
       "True"
      ]
     },
     "execution_count": 19,
     "metadata": {},
     "output_type": "execute_result"
    }
   ],
   "source": [
    "test_cell(U)"
   ]
  },
  {
   "cell_type": "markdown",
   "metadata": {
    "deletable": true,
    "editable": true
   },
   "source": [
    "## Fourth Basis Choice (rotated by 27 degrees)"
   ]
  },
  {
   "cell_type": "code",
   "execution_count": 23,
   "metadata": {
    "collapsed": true,
    "deletable": true,
    "editable": true
   },
   "outputs": [],
   "source": [
    "R = [[np.cos(27.*np.pi/180.),-np.sin(27.*np.pi/180.),0],\n",
    "     [np.sin(27.*np.pi/180.),np.cos(27.*np.pi/180.),0],\n",
    "    [0,0,1]]\n",
    "U = np.random.random()*np.transpose(As[3])\n",
    "U = np.dot(R,U)"
   ]
  },
  {
   "cell_type": "code",
   "execution_count": 24,
   "metadata": {
    "collapsed": false,
    "deletable": true,
    "editable": true
   },
   "outputs": [
    {
     "name": "stdout",
     "output_type": "stream",
     "text": [
      "('Users niggli number: ', 11)\n"
     ]
    },
    {
     "data": {
      "text/plain": [
       "True"
      ]
     },
     "execution_count": 24,
     "metadata": {},
     "output_type": "execute_result"
    }
   ],
   "source": [
    "test_cell(U)"
   ]
  },
  {
   "cell_type": "markdown",
   "metadata": {
    "deletable": true,
    "editable": true
   },
   "source": [
    "# Simple Orthorhombic"
   ]
  },
  {
   "cell_type": "code",
   "execution_count": 3,
   "metadata": {
    "collapsed": false,
    "deletable": true,
    "editable": true
   },
   "outputs": [],
   "source": [
    "As = [[[1.00000000, 0.00000000, 0.00000000],\n",
    "       [0.00000000, 1.73205080, 0.00000000],\n",
    "       [0.00000000, 0.00000000, 3.26598640]],\n",
    "      [[0.50000000, 0.50000000, 0.00000000],\n",
    "      [0.00000000, 0.00000000, 1.00000000],\n",
    "      [1.50000000, -1.50000000, 0.00000000]],\n",
    "      [[0.50000000, 0.50000000, 0.00000000],\n",
    "      [0.00000000, 0.00000000, 1.00000000],\n",
    "      [2.00000000, -2.00000000, 0.00000000]]]\n",
    "As = [np.transpose(i) for i in As]"
   ]
  },
  {
   "cell_type": "code",
   "execution_count": 4,
   "metadata": {
    "collapsed": false,
    "deletable": true,
    "editable": true
   },
   "outputs": [
    {
     "name": "stdout",
     "output_type": "stream",
     "text": [
      "('Users niggli number: ', 32)\n",
      "True\n",
      "('Users niggli number: ', 32)\n",
      "True\n",
      "('Users niggli number: ', 32)\n",
      "True\n"
     ]
    }
   ],
   "source": [
    "for U in As:\n",
    "    print(test_cell(U,eps=1E-8))"
   ]
  },
  {
   "cell_type": "markdown",
   "metadata": {
    "deletable": true,
    "editable": true
   },
   "source": [
    "# Conclusion\n",
    "\n",
    "The tests so far indicate that the transformation to the Niggli cell will work. However there are still 39 cases to check and verify in addition to a more detailed study even of these systems.\n",
    "\n",
    "What I need to do is find a way to quickly identify the lattice type, this can be accomplished via niggli faster than the current method, then verify that the supercell's retain symmetry for a larger test case.\n",
    "\n",
    "In other words I need a far more extensive testing suite that gets wrapped into a subroutine so that it will automatically generate supercells for multiple densities for a given cell and for each supercell verify that the cell has equal or greater symmetry than the parent. If ever this isn't the case then we'll need to have it stop and report the error, i.e., let us know that the method doesn't actually work."
   ]
  },
  {
   "cell_type": "markdown",
   "metadata": {},
   "source": [
    "# Finding the rhombohedral basis\n",
    "\n",
    "Now we need to find the 4 different rhombohedral basis cases and code up their HNFs. We should also check to see how these basis compare to our original choices when it comes to efficiency."
   ]
  },
  {
   "cell_type": "code",
   "execution_count": 1,
   "metadata": {
    "collapsed": false
   },
   "outputs": [
    {
     "data": {
      "text/plain": [
       "867"
      ]
     },
     "execution_count": 1,
     "metadata": {},
     "output_type": "execute_result"
    }
   ],
   "source": [
    "from opf_python.trig import rhom_2_4\n",
    "count = 0\n",
    "for i in range(501):\n",
    "    count += len(rhom_2_4(i))\n",
    "count"
   ]
  },
  {
   "cell_type": "code",
   "execution_count": 2,
   "metadata": {
    "collapsed": false
   },
   "outputs": [
    {
     "name": "stdout",
     "output_type": "stream",
     "text": [
      "0.56950712204\n"
     ]
    }
   ],
   "source": [
    "import time\n",
    "start = time.time()\n",
    "rhom_2_4(100000)\n",
    "end = time.time()\n",
    "print(end-start)"
   ]
  },
  {
   "cell_type": "code",
   "execution_count": 1,
   "metadata": {
    "collapsed": false
   },
   "outputs": [
    {
     "data": {
      "text/plain": [
       "867"
      ]
     },
     "execution_count": 1,
     "metadata": {},
     "output_type": "execute_result"
    }
   ],
   "source": [
    "from opf_python.trig import rhom_9\n",
    "count = 0\n",
    "for i in range(501):\n",
    "    count += len(rhom_9(i))\n",
    "count"
   ]
  },
  {
   "cell_type": "code",
   "execution_count": 2,
   "metadata": {
    "collapsed": false
   },
   "outputs": [
    {
     "name": "stdout",
     "output_type": "stream",
     "text": [
      "0.0615818500519\n"
     ]
    }
   ],
   "source": [
    "import time\n",
    "start = time.time()\n",
    "rhom_9(100000)\n",
    "end = time.time()\n",
    "print(end-start)"
   ]
  },
  {
   "cell_type": "code",
   "execution_count": 1,
   "metadata": {
    "collapsed": false
   },
   "outputs": [
    {
     "name": "stdout",
     "output_type": "stream",
     "text": [
      "(0, 0.00016999244689941406)\n",
      "(100, 0.005535125732421875)\n",
      "(200, 0.00962209701538086)\n",
      "(300, 0.01246786117553711)\n",
      "(400, 0.027656078338623047)\n",
      "(500, 0.02443981170654297)\n"
     ]
    },
    {
     "data": {
      "text/plain": [
       "867"
      ]
     },
     "execution_count": 1,
     "metadata": {},
     "output_type": "execute_result"
    }
   ],
   "source": [
    "from opf_python.trig import rhom_24\n",
    "import time\n",
    "start = time.time()\n",
    "count = 0\n",
    "for i in range(501):\n",
    "    if i%100==0:\n",
    "        end = time.time()\n",
    "        print(i,end-start)\n",
    "        start = time.time()\n",
    "    count += len(rhom_24(i))\n",
    "count"
   ]
  },
  {
   "cell_type": "code",
   "execution_count": 2,
   "metadata": {
    "collapsed": false
   },
   "outputs": [
    {
     "name": "stdout",
     "output_type": "stream",
     "text": [
      "0.151079893112\n"
     ]
    }
   ],
   "source": [
    "import time\n",
    "start = time.time()\n",
    "rhom_24(100000)\n",
    "end = time.time()\n",
    "print(end-start)"
   ]
  },
  {
   "cell_type": "markdown",
   "metadata": {},
   "source": [
    "# Transformation Approach\n",
    "\n",
    "Since solving for the HNFs in the Niggli basis is slow, 20+ times slower than in our basis choices, I'm curious if we can do something in which we map our supercells to the niggli supercell then the users supercell without having to deal with scaling or rotations. In essenc is:\n",
    "\n",
    "S_u = N_u C_oinv H C_o C_uinv \n",
    "\n",
    "A symmetry preserving super cell of the users parent cell, where N_u is the niggli cell from the users basis, C_o is the transformation form our basis to the niggli cell, H is the HNF, C_u is the transformation form the users basis to the niggli cell, and S_u is the supercell."
   ]
  },
  {
   "cell_type": "code",
   "execution_count": 3,
   "metadata": {
    "collapsed": true
   },
   "outputs": [],
   "source": [
    "from opf_python.trig import trig_spHNFs\n",
    "import numpy as np\n",
    "from opf_python.pyniggli import reduced_cell\n",
    "from opf_python.niggli_lat_id import niggli_id"
   ]
  },
  {
   "cell_type": "code",
   "execution_count": 4,
   "metadata": {
    "collapsed": false
   },
   "outputs": [],
   "source": [
    "A = np.transpose([[1,2,2],[2,1,2],[4,3,3]])\n",
    "B = reduced_cell(A)\n",
    "Co = B.C\n",
    "#print(B.C)\n",
    "#print(niggli_id(A))\n",
    "#print(niggli_setting(B.niggli))\n",
    "#print(np.transpose(B.niggli))"
   ]
  },
  {
   "cell_type": "code",
   "execution_count": 5,
   "metadata": {
    "collapsed": false
   },
   "outputs": [
    {
     "name": "stdout",
     "output_type": "stream",
     "text": [
      "('Failed lat_fam', 2, 'int?', array([[ 0.4,  0.4,  0.4],\n",
      "       [ 0.4,  0.4,  0.4],\n",
      "       [ 0.6,  0.6,  0.6]]))\n",
      "('Failed lat_fam', 3, 'int?', array([[ 0.8,  0.8,  0.8],\n",
      "       [ 0.8,  0.8,  0.8],\n",
      "       [ 0.2,  0.2,  0.2]]))\n",
      "('Failed lat_fam', 2, 'int?', array([[ 0.2,  0.2,  0.2],\n",
      "       [ 0. ,  0. ,  0. ],\n",
      "       [ 0.6,  0.6,  0.6]]))\n",
      "('Failed lat_fam', 3, 'int?', array([[ 0.6,  0.6,  0.6],\n",
      "       [ 0.2,  0.2,  0.2],\n",
      "       [ 0. ,  0. ,  0. ]]))\n",
      "('Failed lat_fam', 2, 'int?', array([[ 0. ,  0. ,  0. ],\n",
      "       [ 0.8,  0.8,  0.8],\n",
      "       [ 0.8,  0.8,  0.8]]))\n",
      "('Failed lat_fam', 2, 'int?', array([[ 0. ,  0. ,  0. ],\n",
      "       [ 0.8,  0.8,  0.8],\n",
      "       [ 0.8,  0.8,  0.8]]))\n",
      "('Failed lat_fam', 3, 'int?', array([[ 0.2,  0.2,  0.2],\n",
      "       [ 0.4,  0.4,  0.4],\n",
      "       [ 0.8,  0.8,  0.8]]))\n"
     ]
    }
   ],
   "source": [
    "a1 = np.array([1,2,2])\n",
    "a2 = np.array([2,1,2])\n",
    "a3 = np.array([2,2,1])\n",
    "\n",
    "As = [[a1,a2,a3],[a2+a1,a2+a3,a1+a3],[-a1,a2+a1+a1,a3-a1],[a1+a2+a3,a1+a2,a2+a3],\n",
    "        [a1+a1,a2+a2,a3+a3]]\n",
    "crystal_fam=3\n",
    "\n",
    "for U in As:\n",
    "    kpd = np.random.randint(10,100)\n",
    "    HNFs = trig_spHNFs(kpd)\n",
    "    #print(kpd,len(HNFs))\n",
    "    Bu = reduced_cell(np.transpose(U))\n",
    "    Cu = Bu.C\n",
    "    Nu = Bu.niggli\n",
    "    #print(\"Nu\",np.transpose(Nu))\n",
    "    #print(niggli_setting(Nu))\n",
    "    for H in HNFs:\n",
    "        S = np.dot(np.dot(np.dot(np.dot(Nu,np.linalg.inv(Co)),\n",
    "                                 H),Co),np.linalg.inv(Cu))\n",
    "        lat_name, niggli_n, lat_fam = niggli_id(S)\n",
    "        r = np.linalg.inv(np.transpose(U))\n",
    "        g = np.linalg.inv(np.transpose(S))\n",
    "        temp = np.round(np.dot(np.linalg.inv(g),r),3)\n",
    "        if lat_fam > crystal_fam or not np.allclose(temp%1,0):\n",
    "            print(\"Failed lat_fam\",lat_fam,\"int?\",temp%1)"
   ]
  },
  {
   "cell_type": "markdown",
   "metadata": {},
   "source": [
    "Clearly this didn't work. Apparently, even though we can map from the niggli super cell to the users supercell this more complex evaluation fails to preserve the commensurability of the grid and the cell."
   ]
  },
  {
   "cell_type": "markdown",
   "metadata": {},
   "source": [
    "# Finding the 2 Hexagonal Niggli cells\n",
    "\n",
    "We'll follow the same procedure as above to find and test the Hexagonal Niggli Cells."
   ]
  },
  {
   "cell_type": "code",
   "execution_count": 7,
   "metadata": {
    "collapsed": false
   },
   "outputs": [
    {
     "data": {
      "text/plain": [
       "[1.0, 0.99999999999999989, 4.0, 0.0, 0.0, -0.5]"
      ]
     },
     "execution_count": 7,
     "metadata": {},
     "output_type": "execute_result"
    }
   ],
   "source": [
    "A = np.transpose([[1,0,0],[-0.5,0.8660254037844386,0],[0,0,-2]])\n",
    "niggli_setting(A)"
   ]
  },
  {
   "cell_type": "code",
   "execution_count": 8,
   "metadata": {
    "collapsed": false
   },
   "outputs": [
    {
     "data": {
      "text/plain": [
       "[0.25, 1.0, 0.99999999999999989, -0.5, 0.0, 0.0]"
      ]
     },
     "execution_count": 8,
     "metadata": {},
     "output_type": "execute_result"
    }
   ],
   "source": [
    "A = np.transpose([[0,0,-0.5],[1,0,0],[-0.5,0.8660254037844386,0]])\n",
    "niggli_setting(A)"
   ]
  },
  {
   "cell_type": "code",
   "execution_count": 11,
   "metadata": {
    "collapsed": false
   },
   "outputs": [
    {
     "data": {
      "text/plain": [
       "1047"
      ]
     },
     "execution_count": 11,
     "metadata": {},
     "output_type": "execute_result"
    }
   ],
   "source": [
    "from opf_python.hx import hex_12\n",
    "count = 0\n",
    "for i in range(501):\n",
    "    count += len(hex_12(i))\n",
    "count"
   ]
  },
  {
   "cell_type": "code",
   "execution_count": 12,
   "metadata": {
    "collapsed": false
   },
   "outputs": [
    {
     "name": "stdout",
     "output_type": "stream",
     "text": [
      "0.381227016449\n"
     ]
    }
   ],
   "source": [
    "import time\n",
    "start = time.time()\n",
    "hex_12(100000)\n",
    "end = time.time()\n",
    "print(end-start)"
   ]
  },
  {
   "cell_type": "code",
   "execution_count": 1,
   "metadata": {
    "collapsed": false
   },
   "outputs": [
    {
     "data": {
      "text/plain": [
       "1047"
      ]
     },
     "execution_count": 1,
     "metadata": {},
     "output_type": "execute_result"
    }
   ],
   "source": [
    "from opf_python.hx import hex_22\n",
    "count = 0\n",
    "for i in range(501):\n",
    "    count += len(hex_22(i))\n",
    "count"
   ]
  },
  {
   "cell_type": "code",
   "execution_count": 2,
   "metadata": {
    "collapsed": false
   },
   "outputs": [
    {
     "name": "stdout",
     "output_type": "stream",
     "text": [
      "0.17823600769\n"
     ]
    }
   ],
   "source": [
    "import time\n",
    "start = time.time()\n",
    "hex_22(100000)\n",
    "end = time.time()\n",
    "print(end-start)"
   ]
  },
  {
   "cell_type": "markdown",
   "metadata": {},
   "source": [
    "# Finding the Second Simple Tetragonal Niggli Cell\n",
    "\n",
    "The first niggli cell (11) for simple tetragonal was one we were already using. Now we just need the second (21)."
   ]
  },
  {
   "cell_type": "code",
   "execution_count": 4,
   "metadata": {
    "collapsed": false
   },
   "outputs": [
    {
     "data": {
      "text/plain": [
       "[0.25, 1.0, 1.0, 0.0, 0.0, 0.0]"
      ]
     },
     "execution_count": 4,
     "metadata": {},
     "output_type": "execute_result"
    }
   ],
   "source": [
    "A = np.transpose([[0,0,0.5],[1,0,0],[0,1,0]])\n",
    "niggli_setting(A)"
   ]
  },
  {
   "cell_type": "code",
   "execution_count": 7,
   "metadata": {
    "collapsed": false
   },
   "outputs": [
    {
     "data": {
      "text/plain": [
       "array([[ 0. ,  0. ,  0.5],\n",
       "       [ 1. ,  0. ,  0. ],\n",
       "       [ 0. ,  1. ,  0. ]])"
      ]
     },
     "execution_count": 7,
     "metadata": {},
     "output_type": "execute_result"
    }
   ],
   "source": [
    "from opf_python.pyniggli import reduced_cell\n",
    "B = reduced_cell(A)\n",
    "np.transpose(B.niggli)"
   ]
  },
  {
   "cell_type": "code",
   "execution_count": 5,
   "metadata": {
    "collapsed": false
   },
   "outputs": [
    {
     "data": {
      "text/plain": [
       "1760"
      ]
     },
     "execution_count": 5,
     "metadata": {},
     "output_type": "execute_result"
    }
   ],
   "source": [
    "from opf_python.stet import stet_21\n",
    "count = 0\n",
    "for i in range(501):\n",
    "    count += len(stet_21(i))\n",
    "count"
   ]
  },
  {
   "cell_type": "code",
   "execution_count": 4,
   "metadata": {
    "collapsed": false
   },
   "outputs": [
    {
     "name": "stdout",
     "output_type": "stream",
     "text": [
      "0.0382399559021\n"
     ]
    }
   ],
   "source": [
    "import time\n",
    "start = time.time()\n",
    "stet_21(100000)\n",
    "end = time.time()\n",
    "print(end-start)"
   ]
  },
  {
   "cell_type": "markdown",
   "metadata": {},
   "source": [
    "# Finding the 4 Body Centered Tetragonal Cells"
   ]
  },
  {
   "cell_type": "code",
   "execution_count": null,
   "metadata": {
    "collapsed": true
   },
   "outputs": [],
   "source": []
  }
 ],
 "metadata": {
  "kernelspec": {
   "display_name": "Python 2",
   "language": "python",
   "name": "python2"
  },
  "language_info": {
   "codemirror_mode": {
    "name": "ipython",
    "version": 2
   },
   "file_extension": ".py",
   "mimetype": "text/x-python",
   "name": "python",
   "nbconvert_exporter": "python",
   "pygments_lexer": "ipython2",
   "version": "2.7.9"
  }
 },
 "nbformat": 4,
 "nbformat_minor": 2
}
