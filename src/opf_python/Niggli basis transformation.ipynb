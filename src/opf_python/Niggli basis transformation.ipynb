{
 "cells": [
  {
   "cell_type": "code",
   "execution_count": 1,
   "metadata": {
    "collapsed": false,
    "deletable": true,
    "editable": true
   },
   "outputs": [],
   "source": [
    "import numpy as np\n",
    "from opf_python.pyniggli import reduced_cell\n",
    "from opf_python.niggli_lat_id import niggli_id\n",
    "from opf_python.basis_check import cell_test"
   ]
  },
  {
   "cell_type": "code",
   "execution_count": 18,
   "metadata": {
    "collapsed": true,
    "deletable": true,
    "editable": true
   },
   "outputs": [],
   "source": [
    "def niggli_setting(A):\n",
    "    \"\"\"Finds the corrdinates in G6 for the lattice A. Where G6 is\n",
    "    [A[:,0].A[:,0],A[:,1].A[:,1],A[:,2].A[:,2],\n",
    "    2*A[:,1].A[:,2],2*A[:,2].A[:,0],2*A[:,0].A[:,1]]\n",
    "    \n",
    "    Args:\n",
    "        A (numpy array): The lattice vectors as columns of a matrix.\n",
    "        \n",
    "    Returns:\n",
    "        G (list): The coordinates on G6 space.\n",
    "    \"\"\"\n",
    "    \n",
    "    a = A[:,0]\n",
    "    b = A[:,1]\n",
    "    c = A[:,2]\n",
    "    A = np.dot(a,a)\n",
    "    B = np.dot(b,b)\n",
    "    C = np.dot(c,c)\n",
    "    xi = np.dot(b,c)\n",
    "    eta = np.dot(a,c)\n",
    "    zeta = np.dot(a,b)\n",
    "    \n",
    "    G = [A,B,C,xi,eta,zeta]\n",
    "    return G"
   ]
  },
  {
   "cell_type": "markdown",
   "metadata": {
    "deletable": true,
    "editable": true
   },
   "source": [
    "# The Idea\n",
    "\n",
    "The idea here is to try and see if we can figure out a method to transform the symmetry preserving supercell from our basis to the users basis by using the niggli reduced cell. The workflow would be as follows:\n",
    "\n",
    "1) identify which of the 44 niggli cells is in use (there are two triclinic cells included in those 44 which we'll disregard)\n",
    "\n",
    "2) Find the Supercell in the niggli basis\n",
    "\n",
    "3) Transform back to the users basis.\n",
    "\n",
    "UC = N\n",
    "\n",
    "S = NHCinv\n",
    "\n",
    "# Face centered cubic\n",
    "\n",
    "## First basis\n",
    "\n",
    "Face centered cubic makes a good test case for the cubic cells, all cubic cells have a single unique niggli cell."
   ]
  },
  {
   "cell_type": "code",
   "execution_count": 4,
   "metadata": {
    "collapsed": true,
    "deletable": true,
    "editable": true
   },
   "outputs": [],
   "source": [
    "U = np.transpose([[0.5,0,0.5],[0.5,0.5,0],[0,0,1]])\n",
    "B = pyniggli.reduced_cell(U)\n",
    "N = B.niggli\n",
    "C = B.C"
   ]
  },
  {
   "cell_type": "markdown",
   "metadata": {
    "deletable": true,
    "editable": true
   },
   "source": [
    "Using the brute force method I've now confirmed that this niggli cell has the same symmetry preserving HNFs as our original basis choice."
   ]
  },
  {
   "cell_type": "code",
   "execution_count": 5,
   "metadata": {
    "collapsed": false,
    "deletable": true,
    "editable": true
   },
   "outputs": [
    {
     "name": "stdout",
     "output_type": "stream",
     "text": [
      "('Users niggli number: ', 1)\n"
     ]
    },
    {
     "data": {
      "text/plain": [
       "True"
      ]
     },
     "execution_count": 5,
     "metadata": {},
     "output_type": "execute_result"
    }
   ],
   "source": [
    "test_cell(U)"
   ]
  },
  {
   "cell_type": "markdown",
   "metadata": {
    "deletable": true,
    "editable": true
   },
   "source": [
    "## Second FCC basis\n",
    "\n",
    "Let's do a second basis just to be sure."
   ]
  },
  {
   "cell_type": "code",
   "execution_count": 6,
   "metadata": {
    "collapsed": true,
    "deletable": true,
    "editable": true
   },
   "outputs": [],
   "source": [
    "U = np.transpose([[1,1,2],[1,0,1],[2,1,1]])"
   ]
  },
  {
   "cell_type": "code",
   "execution_count": 7,
   "metadata": {
    "collapsed": false,
    "deletable": true,
    "editable": true
   },
   "outputs": [
    {
     "name": "stdout",
     "output_type": "stream",
     "text": [
      "('Users niggli number: ', 1)\n"
     ]
    },
    {
     "data": {
      "text/plain": [
       "True"
      ]
     },
     "execution_count": 7,
     "metadata": {},
     "output_type": "execute_result"
    }
   ],
   "source": [
    "test_cell(U)"
   ]
  },
  {
   "cell_type": "markdown",
   "metadata": {
    "deletable": true,
    "editable": true
   },
   "source": [
    "## FCC rotated basis (10 degrees about the z-axis)"
   ]
  },
  {
   "cell_type": "code",
   "execution_count": 8,
   "metadata": {
    "collapsed": true,
    "deletable": true,
    "editable": true
   },
   "outputs": [],
   "source": [
    "R = [[np.cos(10.*np.pi/180.),-np.sin(10.*np.pi/180.),0],\n",
    "     [np.sin(10.*np.pi/180.),np.cos(10.*np.pi/180.),0],\n",
    "    [0,0,1]]\n",
    "U = np.dot(R,U)"
   ]
  },
  {
   "cell_type": "code",
   "execution_count": 9,
   "metadata": {
    "collapsed": false,
    "deletable": true,
    "editable": true
   },
   "outputs": [
    {
     "name": "stdout",
     "output_type": "stream",
     "text": [
      "('Users niggli number: ', 1)\n"
     ]
    },
    {
     "data": {
      "text/plain": [
       "True"
      ]
     },
     "execution_count": 9,
     "metadata": {},
     "output_type": "execute_result"
    }
   ],
   "source": [
    "test_cell(U)"
   ]
  },
  {
   "cell_type": "markdown",
   "metadata": {
    "deletable": true,
    "editable": true
   },
   "source": [
    "# Simple Cubic"
   ]
  },
  {
   "cell_type": "code",
   "execution_count": 10,
   "metadata": {
    "collapsed": true,
    "deletable": true,
    "editable": true
   },
   "outputs": [],
   "source": [
    "As = [[[1,0,0],[0,1,0],[0,0,1]], [[1,0,0],[1,1,0],[0,0,1]],\n",
    "        [[1,0,1],[1,1,0],[0,0,1]],[[1,1,1],[0,1,1],[1,0,1]],[[1,0,2],[0,1,0],[0,1,1]]]\n",
    "As = [np.transpose(i) for i in As]"
   ]
  },
  {
   "cell_type": "code",
   "execution_count": 11,
   "metadata": {
    "collapsed": false,
    "deletable": true,
    "editable": true
   },
   "outputs": [
    {
     "name": "stdout",
     "output_type": "stream",
     "text": [
      "('Users niggli number: ', 3)\n",
      "(array([[1, 0, 0],\n",
      "       [0, 1, 0],\n",
      "       [0, 0, 1]]), True)\n",
      "('Users niggli number: ', 3)\n",
      "(array([[1, 1, 0],\n",
      "       [0, 1, 0],\n",
      "       [0, 0, 1]]), True)\n",
      "('Users niggli number: ', 3)\n",
      "(array([[1, 1, 0],\n",
      "       [0, 1, 0],\n",
      "       [1, 0, 1]]), True)\n",
      "('Users niggli number: ', 3)\n",
      "(array([[1, 0, 1],\n",
      "       [1, 1, 0],\n",
      "       [1, 1, 1]]), True)\n",
      "('Users niggli number: ', 3)\n",
      "(array([[1, 0, 0],\n",
      "       [0, 1, 1],\n",
      "       [2, 0, 1]]), True)\n"
     ]
    }
   ],
   "source": [
    "for U in As:\n",
    "    print(U,test_cell(U))"
   ]
  },
  {
   "cell_type": "markdown",
   "metadata": {
    "deletable": true,
    "editable": true
   },
   "source": [
    "# Body Centered Cubic"
   ]
  },
  {
   "cell_type": "code",
   "execution_count": 12,
   "metadata": {
    "collapsed": true,
    "deletable": true,
    "editable": true
   },
   "outputs": [],
   "source": [
    "As = [[[-1,1,1],[1,-1,1],[1,1,-1]],[[1,0,0],[0,1,0],[0.5,0.5,0.5]],\n",
    "        [[1,0,0],[0.5,0.5,0.5],[0,0,1]],[[0.5,-0.5,0.5],[0,1,0],[0,0,1]],\n",
    "        [[0,0,2],[1,-1,1],[1,1,-1]],[[-1,1,1],[2,0,0],[0,2,0]],\n",
    "        [[1,-1,3],[1,-1,1],[1,1,-1]]]\n",
    "As = [np.transpose(i) for i in As]"
   ]
  },
  {
   "cell_type": "code",
   "execution_count": 14,
   "metadata": {
    "collapsed": false,
    "deletable": true,
    "editable": true
   },
   "outputs": [
    {
     "name": "stdout",
     "output_type": "stream",
     "text": [
      "('Users niggli number: ', 5)\n",
      "True\n",
      "('Users niggli number: ', 5)\n",
      "True\n",
      "('Users niggli number: ', 5)\n",
      "True\n",
      "('Users niggli number: ', 5)\n",
      "True\n",
      "('Users niggli number: ', 5)\n",
      "True\n",
      "('Users niggli number: ', 5)\n",
      "True\n",
      "('Users niggli number: ', 5)\n",
      "True\n"
     ]
    }
   ],
   "source": [
    "for U in As:\n",
    "    print(test_cell(U))"
   ]
  },
  {
   "cell_type": "markdown",
   "metadata": {
    "deletable": true,
    "editable": true
   },
   "source": [
    "# Simple Tetragonal\n",
    "\n",
    "Now we should check a second crystal choice. Simple tetragonal cell's are another where we already have the symmetry preserving HNFs for one of the two niggli cells. We'll have to restrict ourselves to the niggli setting with lattice norms of [A,A,C] where C > A for these tests. The following 4 lattices satisfy that condition."
   ]
  },
  {
   "cell_type": "code",
   "execution_count": 16,
   "metadata": {
    "collapsed": true,
    "deletable": true,
    "editable": true
   },
   "outputs": [],
   "source": [
    "a1 = np.array([1,0,0])\n",
    "a2 = np.array([0,1,0])\n",
    "a3 = np.array([0,0,2])\n",
    "\n",
    "As = [[a1+a2,a2,a3+a1],[a1+a2+a3,a2+a3,a1+a2],[a1,a2+a1,a3+a3],[-a1,-a2+a3,a3]]\n",
    "As = [np.transpose(i) for i in As]"
   ]
  },
  {
   "cell_type": "code",
   "execution_count": 17,
   "metadata": {
    "collapsed": false,
    "deletable": true,
    "editable": true
   },
   "outputs": [
    {
     "name": "stdout",
     "output_type": "stream",
     "text": [
      "('Users niggli number: ', 11)\n",
      "True\n",
      "('Users niggli number: ', 11)\n",
      "True\n",
      "('Users niggli number: ', 11)\n",
      "True\n",
      "('Users niggli number: ', 11)\n",
      "True\n"
     ]
    }
   ],
   "source": [
    "for U in As:\n",
    "    print(test_cell(U))"
   ]
  },
  {
   "cell_type": "markdown",
   "metadata": {
    "deletable": true,
    "editable": true
   },
   "source": [
    "## Third Basis Choice (rotated by 15 degrees)"
   ]
  },
  {
   "cell_type": "code",
   "execution_count": 18,
   "metadata": {
    "collapsed": true,
    "deletable": true,
    "editable": true
   },
   "outputs": [],
   "source": [
    "R = [[np.cos(15.*np.pi/180.),-np.sin(15.*np.pi/180.),0],\n",
    "     [np.sin(15.*np.pi/180.),np.cos(15.*np.pi/180.),0],\n",
    "    [0,0,1]]\n",
    "U = np.random.random()*np.transpose(As[2])\n",
    "U = np.dot(R,U)"
   ]
  },
  {
   "cell_type": "code",
   "execution_count": 19,
   "metadata": {
    "collapsed": false,
    "deletable": true,
    "editable": true
   },
   "outputs": [
    {
     "name": "stdout",
     "output_type": "stream",
     "text": [
      "('Users niggli number: ', 11)\n"
     ]
    },
    {
     "data": {
      "text/plain": [
       "True"
      ]
     },
     "execution_count": 19,
     "metadata": {},
     "output_type": "execute_result"
    }
   ],
   "source": [
    "test_cell(U)"
   ]
  },
  {
   "cell_type": "markdown",
   "metadata": {
    "deletable": true,
    "editable": true
   },
   "source": [
    "## Fourth Basis Choice (rotated by 27 degrees)"
   ]
  },
  {
   "cell_type": "code",
   "execution_count": 23,
   "metadata": {
    "collapsed": true,
    "deletable": true,
    "editable": true
   },
   "outputs": [],
   "source": [
    "R = [[np.cos(27.*np.pi/180.),-np.sin(27.*np.pi/180.),0],\n",
    "     [np.sin(27.*np.pi/180.),np.cos(27.*np.pi/180.),0],\n",
    "    [0,0,1]]\n",
    "U = np.random.random()*np.transpose(As[3])\n",
    "U = np.dot(R,U)"
   ]
  },
  {
   "cell_type": "code",
   "execution_count": 24,
   "metadata": {
    "collapsed": false,
    "deletable": true,
    "editable": true
   },
   "outputs": [
    {
     "name": "stdout",
     "output_type": "stream",
     "text": [
      "('Users niggli number: ', 11)\n"
     ]
    },
    {
     "data": {
      "text/plain": [
       "True"
      ]
     },
     "execution_count": 24,
     "metadata": {},
     "output_type": "execute_result"
    }
   ],
   "source": [
    "test_cell(U)"
   ]
  },
  {
   "cell_type": "markdown",
   "metadata": {
    "deletable": true,
    "editable": true
   },
   "source": [
    "# Simple Orthorhombic"
   ]
  },
  {
   "cell_type": "code",
   "execution_count": 3,
   "metadata": {
    "collapsed": true,
    "deletable": true,
    "editable": true
   },
   "outputs": [],
   "source": [
    "As = [[[1.00000000, 0.00000000, 0.00000000],\n",
    "       [0.00000000, 1.73205080, 0.00000000],\n",
    "       [0.00000000, 0.00000000, 3.26598640]],\n",
    "      [[0.50000000, 0.50000000, 0.00000000],\n",
    "      [0.00000000, 0.00000000, 1.00000000],\n",
    "      [1.50000000, -1.50000000, 0.00000000]],\n",
    "      [[0.50000000, 0.50000000, 0.00000000],\n",
    "      [0.00000000, 0.00000000, 1.00000000],\n",
    "      [2.00000000, -2.00000000, 0.00000000]]]\n",
    "As = [np.transpose(i) for i in As]"
   ]
  },
  {
   "cell_type": "code",
   "execution_count": 4,
   "metadata": {
    "collapsed": false,
    "deletable": true,
    "editable": true
   },
   "outputs": [
    {
     "name": "stdout",
     "output_type": "stream",
     "text": [
      "('Users niggli number: ', 32)\n",
      "True\n",
      "('Users niggli number: ', 32)\n",
      "True\n",
      "('Users niggli number: ', 32)\n",
      "True\n"
     ]
    }
   ],
   "source": [
    "for U in As:\n",
    "    print(test_cell(U,eps=1E-8))"
   ]
  },
  {
   "cell_type": "markdown",
   "metadata": {
    "deletable": true,
    "editable": true
   },
   "source": [
    "# Conclusion\n",
    "\n",
    "The tests so far indicate that the transformation to the Niggli cell will work. However there are still 39 cases to check and verify in addition to a more detailed study even of these systems.\n",
    "\n",
    "What I need to do is find a way to quickly identify the lattice type, this can be accomplished via niggli faster than the current method, then verify that the supercell's retain symmetry for a larger test case.\n",
    "\n",
    "In other words I need a far more extensive testing suite that gets wrapped into a subroutine so that it will automatically generate supercells for multiple densities for a given cell and for each supercell verify that the cell has equal or greater symmetry than the parent. If ever this isn't the case then we'll need to have it stop and report the error, i.e., let us know that the method doesn't actually work."
   ]
  },
  {
   "cell_type": "markdown",
   "metadata": {
    "deletable": true,
    "editable": true
   },
   "source": [
    "# Finding the rhombohedral basis\n",
    "\n",
    "Now we need to find the 4 different rhombohedral basis cases and code up their HNFs. We should also check to see how these basis compare to our original choices when it comes to efficiency."
   ]
  },
  {
   "cell_type": "code",
   "execution_count": 11,
   "metadata": {
    "collapsed": false,
    "deletable": true,
    "editable": true
   },
   "outputs": [
    {
     "data": {
      "text/plain": [
       "('rhombohedral', 9, 3)"
      ]
     },
     "execution_count": 11,
     "metadata": {},
     "output_type": "execute_result"
    }
   ],
   "source": [
    "A = np.transpose([[1,2,2],[2,1,2],[4,3,3]])\n",
    "niggli_id(A)"
   ]
  },
  {
   "cell_type": "code",
   "execution_count": 1,
   "metadata": {
    "collapsed": false,
    "deletable": true,
    "editable": true
   },
   "outputs": [
    {
     "data": {
      "text/plain": [
       "867"
      ]
     },
     "execution_count": 1,
     "metadata": {},
     "output_type": "execute_result"
    }
   ],
   "source": [
    "from opf_python.trig import rhom_2_4\n",
    "count = 0\n",
    "for i in range(501):\n",
    "    count += len(rhom_2_4(i))\n",
    "count"
   ]
  },
  {
   "cell_type": "code",
   "execution_count": 2,
   "metadata": {
    "collapsed": false,
    "deletable": true,
    "editable": true
   },
   "outputs": [
    {
     "name": "stdout",
     "output_type": "stream",
     "text": [
      "0.56950712204\n"
     ]
    }
   ],
   "source": [
    "import time\n",
    "start = time.time()\n",
    "rhom_2_4(100000)\n",
    "end = time.time()\n",
    "print(end-start)"
   ]
  },
  {
   "cell_type": "code",
   "execution_count": 1,
   "metadata": {
    "collapsed": false,
    "deletable": true,
    "editable": true
   },
   "outputs": [
    {
     "data": {
      "text/plain": [
       "867"
      ]
     },
     "execution_count": 1,
     "metadata": {},
     "output_type": "execute_result"
    }
   ],
   "source": [
    "from opf_python.trig import rhom_9\n",
    "count = 0\n",
    "for i in range(501):\n",
    "    count += len(rhom_9(i))\n",
    "count"
   ]
  },
  {
   "cell_type": "code",
   "execution_count": 2,
   "metadata": {
    "collapsed": false,
    "deletable": true,
    "editable": true
   },
   "outputs": [
    {
     "name": "stdout",
     "output_type": "stream",
     "text": [
      "0.0615818500519\n"
     ]
    }
   ],
   "source": [
    "import time\n",
    "start = time.time()\n",
    "rhom_9(100000)\n",
    "end = time.time()\n",
    "print(end-start)"
   ]
  },
  {
   "cell_type": "code",
   "execution_count": 1,
   "metadata": {
    "collapsed": false,
    "deletable": true,
    "editable": true
   },
   "outputs": [
    {
     "name": "stdout",
     "output_type": "stream",
     "text": [
      "(0, 0.00016999244689941406)\n",
      "(100, 0.005535125732421875)\n",
      "(200, 0.00962209701538086)\n",
      "(300, 0.01246786117553711)\n",
      "(400, 0.027656078338623047)\n",
      "(500, 0.02443981170654297)\n"
     ]
    },
    {
     "data": {
      "text/plain": [
       "867"
      ]
     },
     "execution_count": 1,
     "metadata": {},
     "output_type": "execute_result"
    }
   ],
   "source": [
    "from opf_python.trig import rhom_24\n",
    "import time\n",
    "start = time.time()\n",
    "count = 0\n",
    "for i in range(501):\n",
    "    if i%100==0:\n",
    "        end = time.time()\n",
    "        print(i,end-start)\n",
    "        start = time.time()\n",
    "    count += len(rhom_24(i))\n",
    "count"
   ]
  },
  {
   "cell_type": "code",
   "execution_count": 2,
   "metadata": {
    "collapsed": false,
    "deletable": true,
    "editable": true
   },
   "outputs": [
    {
     "name": "stdout",
     "output_type": "stream",
     "text": [
      "0.151079893112\n"
     ]
    }
   ],
   "source": [
    "import time\n",
    "start = time.time()\n",
    "rhom_24(100000)\n",
    "end = time.time()\n",
    "print(end-start)"
   ]
  },
  {
   "cell_type": "markdown",
   "metadata": {
    "deletable": true,
    "editable": true
   },
   "source": [
    "# Transformation Approach\n",
    "\n",
    "Since solving for the HNFs in the Niggli basis is slow, 20+ times slower than in our basis choices, I'm curious if we can do something in which we map our supercells to the niggli supercell then the users supercell without having to deal with scaling or rotations. In essenc is:\n",
    "\n",
    "S_u = N_u C_oinv H C_o C_uinv \n",
    "\n",
    "A symmetry preserving super cell of the users parent cell, where N_u is the niggli cell from the users basis, C_o is the transformation form our basis to the niggli cell, H is the HNF, C_u is the transformation form the users basis to the niggli cell, and S_u is the supercell."
   ]
  },
  {
   "cell_type": "code",
   "execution_count": 3,
   "metadata": {
    "collapsed": true,
    "deletable": true,
    "editable": true
   },
   "outputs": [],
   "source": [
    "from opf_python.trig import trig_spHNFs,rhom_9\n",
    "import numpy as np\n",
    "from opf_python.pyniggli import reduced_cell\n",
    "from opf_python.niggli_lat_id import niggli_id"
   ]
  },
  {
   "cell_type": "code",
   "execution_count": 2,
   "metadata": {
    "collapsed": true,
    "deletable": true,
    "editable": true
   },
   "outputs": [],
   "source": [
    "O = np.transpose([[1,2,2],[2,1,2],[4,3,3]])\n",
    "B = reduced_cell(O)\n",
    "No = B.niggli\n",
    "Co = B.C"
   ]
  },
  {
   "cell_type": "code",
   "execution_count": 3,
   "metadata": {
    "collapsed": true,
    "deletable": true,
    "editable": true
   },
   "outputs": [],
   "source": [
    "def find_transformations(Nu,No):\n",
    "    \"\"\"Finds the S and R matrices that transform Nu to No.\n",
    "    \n",
    "    Args:\n",
    "        Nu (numpy array): The users niggli cell.\n",
    "        No (numpy array): Our niggli cell.\n",
    "        \n",
    "    Returns:\n",
    "        R (numpy array): The rotation matrix.\n",
    "        S (numpy array): The scaling matrix.\n",
    "        \n",
    "    Raises:\n",
    "        ValueError if the determinant of R is not +/-1.\n",
    "    \"\"\"\n",
    "    \n",
    "    S = np.array([[np.linalg.norm(Nu[:,0])/np.linalg.norm(No[:,0]),0,0],\n",
    "                 [0,np.linalg.norm(Nu[:,1])/np.linalg.norm(No[:,1]),0],\n",
    "                 [0,0,np.linalg.norm(Nu[:,2])/np.linalg.norm(No[:,2])]])\n",
    "    R = np.dot(np.dot(No,S),np.linalg.inv(Nu))\n",
    "    \n",
    "    #if not np.allclose(abs(np.linalg.det(R)),1):\n",
    "    #    raise ValueError(\"The transformation found an \"\n",
    "    #                     \"incorrect rotation vector.\")\n",
    "    return S, R"
   ]
  },
  {
   "cell_type": "code",
   "execution_count": 11,
   "metadata": {
    "collapsed": false,
    "deletable": true,
    "editable": true
   },
   "outputs": [
    {
     "name": "stdout",
     "output_type": "stream",
     "text": [
      "0\n"
     ]
    }
   ],
   "source": [
    "a1 = np.array([1,2,2])\n",
    "a2 = np.array([2,1,2])\n",
    "a3 = np.array([2,2,1])\n",
    "\n",
    "As = [[a1,a2,a3],[a2+a1,a2+a3,a1+a3],[-a1,a2+a1+a1,a3-a1],[a1+a2+a3,a1+a2,a2+a3],\n",
    "        [a1+a1,a2+a2,a3+a3]]\n",
    "As = [np.transpose(i) for i in As]\n",
    "crystal_fam=3\n",
    "f_count = 0\n",
    "for U in As:\n",
    "    for kpd in range(1,501):\n",
    "        HNFs = trig_spHNFs(kpd)\n",
    "        #HNFs = rhom_9(kpd)\n",
    "        Bu = reduced_cell(U)\n",
    "        Cu = Bu.C\n",
    "        Nu = Bu.niggli\n",
    "        #S, R = find_transformations(Nu,No)\n",
    "        for H in HNFs:\n",
    "            L = np.dot(np.dot(O,H),np.linalg.inv(O))\n",
    "            F = np.dot(np.linalg.inv(No),np.dot(np.dot(L,O),Co))\n",
    "            Su = np.dot(np.dot(Nu,F),np.linalg.inv(Cu))\n",
    "            #Su = np.dot(np.dot(np.linalg.inv(R),\n",
    "            #                   np.dot(np.dot(np.dot(O,H),Co),S)),\n",
    "            #            np.linalg.inv(Cu))\n",
    "            #Su = np.dot(np.dot(Nu,H),np.linalg.inv(Cu))\n",
    "            lat_name, niggli_n, lat_fam = niggli_id(Su)#,eps_=1E-3)\n",
    "            r = np.linalg.inv(np.transpose(U))\n",
    "            g = np.linalg.inv(np.transpose(Su))\n",
    "            temp = np.round(np.dot(np.linalg.inv(g),r),3)\n",
    "            if lat_fam > crystal_fam or not np.allclose(temp%1,0):\n",
    "                f_count+=1\n",
    "                print(\"Failed lat_fam\",lat_fam,\"int?\",temp%1,'nn',niggli_n)\n",
    "                SB = reduced_cell(Su)\n",
    "                print(\"Su\",Su)\n",
    "                print(\"Su niggli\",SB.niggli)\n",
    "print(f_count)"
   ]
  },
  {
   "cell_type": "code",
   "execution_count": 5,
   "metadata": {
    "collapsed": false,
    "deletable": true,
    "editable": true
   },
   "outputs": [
    {
     "name": "stdout",
     "output_type": "stream",
     "text": [
      "[[   2.    2.  258.]\n",
      " [  -2.    0.  256.]\n",
      " [   0.   -2.  256.]]\n",
      "('rhombohedral', 9, 3)\n"
     ]
    }
   ],
   "source": [
    "Su = np.array([[ 230.,  232.,  232.],\n",
    "       [ 308.,  306.,  308.],\n",
    "       [ 232.,  232.,  230.]])\n",
    "SB = reduced_cell(Su)\n",
    "print(SB.niggli)\n",
    "print(niggli_id(Su))"
   ]
  },
  {
   "cell_type": "code",
   "execution_count": 5,
   "metadata": {
    "collapsed": false,
    "deletable": true,
    "editable": true
   },
   "outputs": [
    {
     "data": {
      "text/plain": [
       "array([[-1.,  0., -2.],\n",
       "       [ 0.,  1.,  0.],\n",
       "       [ 0.,  0.,  1.]])"
      ]
     },
     "execution_count": 5,
     "metadata": {},
     "output_type": "execute_result"
    }
   ],
   "source": [
    "A = np.array([[  1.,  -1.,  37.],\n",
    "       [  1.,   0.,  26.],\n",
    "       [  0.,   1., -12.]])\n",
    "B = np.array([[ -1.,  -1., -13.],\n",
    "       [  1.,   0.,  26.],\n",
    "       [  0.,   1., -12.]])\n",
    "np.dot(A,np.linalg.inv(B))"
   ]
  },
  {
   "cell_type": "markdown",
   "metadata": {
    "deletable": true,
    "editable": true
   },
   "source": [
    "Clearly this didn't work. Apparently, even though we can map from the niggli super cell to the users supercell this more complex evaluation fails to preserve the commensurability of the grid and the cell."
   ]
  },
  {
   "cell_type": "markdown",
   "metadata": {
    "deletable": true,
    "editable": true
   },
   "source": [
    "# Finding the 2 Hexagonal Niggli cells\n",
    "\n",
    "We'll follow the same procedure as above to find and test the Hexagonal Niggli Cells."
   ]
  },
  {
   "cell_type": "code",
   "execution_count": 12,
   "metadata": {
    "collapsed": false,
    "deletable": true,
    "editable": true
   },
   "outputs": [
    {
     "data": {
      "text/plain": [
       "('hexagonal', 12, 2)"
      ]
     },
     "execution_count": 12,
     "metadata": {},
     "output_type": "execute_result"
    }
   ],
   "source": [
    "A = np.transpose([[1,0,0],[0.5,-0.8660254037844386,0],[0,0,2]])\n",
    "niggli_id(A)"
   ]
  },
  {
   "cell_type": "code",
   "execution_count": 20,
   "metadata": {
    "collapsed": false,
    "deletable": true,
    "editable": true
   },
   "outputs": [
    {
     "data": {
      "text/plain": [
       "[1.0, 0.99999999999999989, 4.0, 0.0, 0.0, -0.5]"
      ]
     },
     "execution_count": 20,
     "metadata": {},
     "output_type": "execute_result"
    }
   ],
   "source": [
    "A = np.transpose([[1,0,0],[-0.5,0.8660254037844386,0],[0,0,-2]])\n",
    "niggli_setting(A)"
   ]
  },
  {
   "cell_type": "code",
   "execution_count": 8,
   "metadata": {
    "collapsed": false,
    "deletable": true,
    "editable": true
   },
   "outputs": [
    {
     "data": {
      "text/plain": [
       "[0.25, 1.0, 0.99999999999999989, -0.5, 0.0, 0.0]"
      ]
     },
     "execution_count": 8,
     "metadata": {},
     "output_type": "execute_result"
    }
   ],
   "source": [
    "A = np.transpose([[0,0,-0.5],[1,0,0],[-0.5,0.8660254037844386,0]])\n",
    "niggli_setting(A)"
   ]
  },
  {
   "cell_type": "code",
   "execution_count": 11,
   "metadata": {
    "collapsed": false,
    "deletable": true,
    "editable": true
   },
   "outputs": [
    {
     "data": {
      "text/plain": [
       "1047"
      ]
     },
     "execution_count": 11,
     "metadata": {},
     "output_type": "execute_result"
    }
   ],
   "source": [
    "from opf_python.hx import hex_12\n",
    "count = 0\n",
    "for i in range(501):\n",
    "    count += len(hex_12(i))\n",
    "count"
   ]
  },
  {
   "cell_type": "code",
   "execution_count": 12,
   "metadata": {
    "collapsed": false,
    "deletable": true,
    "editable": true
   },
   "outputs": [
    {
     "name": "stdout",
     "output_type": "stream",
     "text": [
      "0.381227016449\n"
     ]
    }
   ],
   "source": [
    "import time\n",
    "start = time.time()\n",
    "hex_12(100000)\n",
    "end = time.time()\n",
    "print(end-start)"
   ]
  },
  {
   "cell_type": "code",
   "execution_count": 1,
   "metadata": {
    "collapsed": false,
    "deletable": true,
    "editable": true
   },
   "outputs": [
    {
     "data": {
      "text/plain": [
       "1047"
      ]
     },
     "execution_count": 1,
     "metadata": {},
     "output_type": "execute_result"
    }
   ],
   "source": [
    "from opf_python.hx import hex_22\n",
    "count = 0\n",
    "for i in range(501):\n",
    "    count += len(hex_22(i))\n",
    "count"
   ]
  },
  {
   "cell_type": "code",
   "execution_count": 2,
   "metadata": {
    "collapsed": false,
    "deletable": true,
    "editable": true
   },
   "outputs": [
    {
     "name": "stdout",
     "output_type": "stream",
     "text": [
      "0.17823600769\n"
     ]
    }
   ],
   "source": [
    "import time\n",
    "start = time.time()\n",
    "hex_22(100000)\n",
    "end = time.time()\n",
    "print(end-start)"
   ]
  },
  {
   "cell_type": "markdown",
   "metadata": {
    "deletable": true,
    "editable": true
   },
   "source": [
    "# Finding the Second Simple Tetragonal Niggli Cell\n",
    "\n",
    "The first niggli cell (11) for simple tetragonal was one we were already using. Now we just need the second (21)."
   ]
  },
  {
   "cell_type": "code",
   "execution_count": 21,
   "metadata": {
    "collapsed": false,
    "deletable": true,
    "editable": true
   },
   "outputs": [
    {
     "data": {
      "text/plain": [
       "('simple tetragonal', 21, 4)"
      ]
     },
     "execution_count": 21,
     "metadata": {},
     "output_type": "execute_result"
    }
   ],
   "source": [
    "A = np.transpose([[0,0,0.5],[1,0,0],[0,1,0]])\n",
    "niggli_setting(A)\n",
    "niggli_id(A)"
   ]
  },
  {
   "cell_type": "code",
   "execution_count": 7,
   "metadata": {
    "collapsed": false,
    "deletable": true,
    "editable": true
   },
   "outputs": [
    {
     "data": {
      "text/plain": [
       "array([[ 0. ,  0. ,  0.5],\n",
       "       [ 1. ,  0. ,  0. ],\n",
       "       [ 0. ,  1. ,  0. ]])"
      ]
     },
     "execution_count": 7,
     "metadata": {},
     "output_type": "execute_result"
    }
   ],
   "source": [
    "from opf_python.pyniggli import reduced_cell\n",
    "B = reduced_cell(A)\n",
    "np.transpose(B.niggli)"
   ]
  },
  {
   "cell_type": "code",
   "execution_count": 16,
   "metadata": {
    "collapsed": false,
    "deletable": true,
    "editable": true
   },
   "outputs": [
    {
     "data": {
      "text/plain": [
       "1760"
      ]
     },
     "execution_count": 16,
     "metadata": {},
     "output_type": "execute_result"
    }
   ],
   "source": [
    "from opf_python.stet import stet_11\n",
    "count = 0\n",
    "for i in range(501):\n",
    "    count += len(stet_11(i))\n",
    "count"
   ]
  },
  {
   "cell_type": "code",
   "execution_count": 4,
   "metadata": {
    "collapsed": false,
    "deletable": true,
    "editable": true
   },
   "outputs": [
    {
     "name": "stdout",
     "output_type": "stream",
     "text": [
      "0.0382399559021\n"
     ]
    }
   ],
   "source": [
    "import time\n",
    "start = time.time()\n",
    "stet_21(100000)\n",
    "end = time.time()\n",
    "print(end-start)"
   ]
  },
  {
   "cell_type": "markdown",
   "metadata": {
    "deletable": true,
    "editable": true
   },
   "source": [
    "# Finding the 4 Body Centered Tetragonal Cells"
   ]
  },
  {
   "cell_type": "code",
   "execution_count": 3,
   "metadata": {
    "collapsed": true,
    "deletable": true,
    "editable": true
   },
   "outputs": [],
   "source": [
    "import numpy as np\n",
    "from opf_python.pyniggli import reduced_cell\n",
    "from opf_python.niggli_lat_id import niggli_id"
   ]
  },
  {
   "cell_type": "code",
   "execution_count": 5,
   "metadata": {
    "collapsed": false,
    "deletable": true,
    "editable": true
   },
   "outputs": [
    {
     "data": {
      "text/plain": [
       "('body centered tetragonal', 15, 4)"
      ]
     },
     "execution_count": 5,
     "metadata": {},
     "output_type": "execute_result"
    }
   ],
   "source": [
    "A = np.transpose([[-1,1,2],[1,-1,2],[1,1,-2]])\n",
    "niggli_id(A)"
   ]
  },
  {
   "cell_type": "markdown",
   "metadata": {
    "deletable": true,
    "editable": true
   },
   "source": [
    "## Number 15"
   ]
  },
  {
   "cell_type": "code",
   "execution_count": 6,
   "metadata": {
    "collapsed": false,
    "deletable": true,
    "editable": true
   },
   "outputs": [
    {
     "data": {
      "text/plain": [
       "array([[ 2.,  0.,  0.],\n",
       "       [ 0.,  2.,  0.],\n",
       "       [-1., -1.,  2.]])"
      ]
     },
     "execution_count": 6,
     "metadata": {},
     "output_type": "execute_result"
    }
   ],
   "source": [
    "B = reduced_cell(A)\n",
    "np.transpose(B.niggli)"
   ]
  },
  {
   "cell_type": "code",
   "execution_count": 1,
   "metadata": {
    "collapsed": false,
    "deletable": true,
    "editable": true
   },
   "outputs": [
    {
     "data": {
      "text/plain": [
       "1162"
      ]
     },
     "execution_count": 1,
     "metadata": {},
     "output_type": "execute_result"
    }
   ],
   "source": [
    "from opf_python.body_tet import body_tet_15\n",
    "count = 0\n",
    "for i in range(501):\n",
    "    count += len(body_tet_15(i))\n",
    "count"
   ]
  },
  {
   "cell_type": "code",
   "execution_count": 2,
   "metadata": {
    "collapsed": false,
    "deletable": true,
    "editable": true
   },
   "outputs": [
    {
     "name": "stdout",
     "output_type": "stream",
     "text": [
      "1.80545282364\n"
     ]
    }
   ],
   "source": [
    "import time\n",
    "start = time.time()\n",
    "body_tet_15(100000)\n",
    "end = time.time()\n",
    "print(end-start)"
   ]
  },
  {
   "cell_type": "markdown",
   "metadata": {
    "deletable": true,
    "editable": true
   },
   "source": [
    "## Niggli 7"
   ]
  },
  {
   "cell_type": "code",
   "execution_count": 28,
   "metadata": {
    "collapsed": false,
    "deletable": true,
    "editable": true
   },
   "outputs": [
    {
     "data": {
      "text/plain": [
       "('body centered tetragonal', 7, 4)"
      ]
     },
     "execution_count": 28,
     "metadata": {},
     "output_type": "execute_result"
    }
   ],
   "source": [
    "A = np.transpose([[-1, 1, 2],[1, 1.60788, -1.55394],\n",
    "                     [1.95095, -1.41625, 0.433603]])\n",
    "niggli_id(A)"
   ]
  },
  {
   "cell_type": "code",
   "execution_count": 29,
   "metadata": {
    "collapsed": false,
    "deletable": true,
    "editable": true
   },
   "outputs": [
    {
     "data": {
      "text/plain": [
       "array([[-1.95095 ,  1.41625 , -0.433603],\n",
       "       [ 1.      , -1.      , -2.      ],\n",
       "       [ 1.95095 ,  1.19163 ,  0.879663]])"
      ]
     },
     "execution_count": 29,
     "metadata": {},
     "output_type": "execute_result"
    }
   ],
   "source": [
    "B = reduced_cell(A)\n",
    "np.transpose(B.niggli)"
   ]
  },
  {
   "cell_type": "code",
   "execution_count": 1,
   "metadata": {
    "collapsed": false,
    "deletable": true,
    "editable": true
   },
   "outputs": [
    {
     "data": {
      "text/plain": [
       "1162"
      ]
     },
     "execution_count": 1,
     "metadata": {},
     "output_type": "execute_result"
    }
   ],
   "source": [
    "from opf_python.body_tet import body_tet_7\n",
    "count = 0\n",
    "for i in range(1,501):\n",
    "    count += len(body_tet_7(i))\n",
    "count"
   ]
  },
  {
   "cell_type": "code",
   "execution_count": 2,
   "metadata": {
    "collapsed": false,
    "deletable": true,
    "editable": true
   },
   "outputs": [
    {
     "name": "stdout",
     "output_type": "stream",
     "text": [
      "0.460477113724\n"
     ]
    }
   ],
   "source": [
    "import time\n",
    "start = time.time()\n",
    "body_tet_7(100000)\n",
    "end = time.time()\n",
    "print(end-start)"
   ]
  },
  {
   "cell_type": "markdown",
   "metadata": {
    "deletable": true,
    "editable": true
   },
   "source": [
    "## Niggli 6"
   ]
  },
  {
   "cell_type": "code",
   "execution_count": 4,
   "metadata": {
    "collapsed": false,
    "deletable": true,
    "editable": true
   },
   "outputs": [
    {
     "data": {
      "text/plain": [
       "('body centered tetragonal', 6, 4)"
      ]
     },
     "execution_count": 4,
     "metadata": {},
     "output_type": "execute_result"
    }
   ],
   "source": [
    "A = np.transpose([[-1, 1, 2],[1, 1.60788, -1.55394],\n",
    "                     [1.80278, -1.47253, 0.762655]])\n",
    "niggli_id(A)"
   ]
  },
  {
   "cell_type": "code",
   "execution_count": 5,
   "metadata": {
    "collapsed": false,
    "deletable": true,
    "editable": true
   },
   "outputs": [
    {
     "data": {
      "text/plain": [
       "array([[-1.      ,  1.      ,  2.      ],\n",
       "       [ 1.      ,  1.60788 , -1.55394 ],\n",
       "       [ 1.80278 , -1.47253 ,  0.762655]])"
      ]
     },
     "execution_count": 5,
     "metadata": {},
     "output_type": "execute_result"
    }
   ],
   "source": [
    "B = reduced_cell(A)\n",
    "np.transpose(B.niggli)"
   ]
  },
  {
   "cell_type": "code",
   "execution_count": 1,
   "metadata": {
    "collapsed": false,
    "deletable": true,
    "editable": true
   },
   "outputs": [
    {
     "data": {
      "text/plain": [
       "1162"
      ]
     },
     "execution_count": 1,
     "metadata": {},
     "output_type": "execute_result"
    }
   ],
   "source": [
    "from opf_python.body_tet import body_tet_6\n",
    "count = 0\n",
    "for i in range(1,501):\n",
    "    count += len(body_tet_6(i))\n",
    "count"
   ]
  },
  {
   "cell_type": "code",
   "execution_count": 2,
   "metadata": {
    "collapsed": false,
    "deletable": true,
    "editable": true
   },
   "outputs": [
    {
     "name": "stdout",
     "output_type": "stream",
     "text": [
      "1.17160606384\n"
     ]
    }
   ],
   "source": [
    "import time\n",
    "start = time.time()\n",
    "body_tet_6(100000)\n",
    "end = time.time()\n",
    "print(end-start)"
   ]
  },
  {
   "cell_type": "markdown",
   "metadata": {
    "deletable": true,
    "editable": true
   },
   "source": [
    "## Niggli 18"
   ]
  },
  {
   "cell_type": "code",
   "execution_count": 8,
   "metadata": {
    "collapsed": false,
    "deletable": true,
    "editable": true
   },
   "outputs": [
    {
     "data": {
      "text/plain": [
       "('body centered tetragonal', 18, 4)"
      ]
     },
     "execution_count": 8,
     "metadata": {},
     "output_type": "execute_result"
    }
   ],
   "source": [
    "A = np.transpose([[0,0,2],[1,-2,1],\n",
    "                  [-2,-1,1]])\n",
    "niggli_id(A)"
   ]
  },
  {
   "cell_type": "code",
   "execution_count": 9,
   "metadata": {
    "collapsed": false,
    "deletable": true,
    "editable": true
   },
   "outputs": [
    {
     "data": {
      "text/plain": [
       "array([[ 0,  0,  2],\n",
       "       [ 1, -2,  1],\n",
       "       [-2, -1,  1]])"
      ]
     },
     "execution_count": 9,
     "metadata": {},
     "output_type": "execute_result"
    }
   ],
   "source": [
    "B = reduced_cell(A)\n",
    "np.transpose(B.niggli)"
   ]
  },
  {
   "cell_type": "code",
   "execution_count": 1,
   "metadata": {
    "collapsed": false,
    "deletable": true,
    "editable": true
   },
   "outputs": [
    {
     "data": {
      "text/plain": [
       "1162"
      ]
     },
     "execution_count": 1,
     "metadata": {},
     "output_type": "execute_result"
    }
   ],
   "source": [
    "from opf_python.body_tet import body_tet_18\n",
    "count = 0\n",
    "for i in range(1,501):\n",
    "    count += len(body_tet_18(i))\n",
    "count"
   ]
  },
  {
   "cell_type": "code",
   "execution_count": 2,
   "metadata": {
    "collapsed": false,
    "deletable": true,
    "editable": true
   },
   "outputs": [
    {
     "name": "stdout",
     "output_type": "stream",
     "text": [
      "1.24094605446\n"
     ]
    }
   ],
   "source": [
    "import time\n",
    "start = time.time()\n",
    "body_tet_18(100000)\n",
    "end = time.time()\n",
    "print(end-start)"
   ]
  },
  {
   "cell_type": "markdown",
   "metadata": {
    "deletable": true,
    "editable": true
   },
   "source": [
    "# Body Centered Ortho"
   ]
  },
  {
   "cell_type": "code",
   "execution_count": 13,
   "metadata": {
    "collapsed": false,
    "deletable": true,
    "editable": true
   },
   "outputs": [
    {
     "data": {
      "text/plain": [
       "('simple orthorhombic', 32, 5)"
      ]
     },
     "execution_count": 13,
     "metadata": {},
     "output_type": "execute_result"
    }
   ],
   "source": [
    "A = np.transpose([[1,0,0],[0,2,0],[0,0,3]])\n",
    "niggli_id(A)"
   ]
  },
  {
   "cell_type": "code",
   "execution_count": 4,
   "metadata": {
    "collapsed": true,
    "deletable": true,
    "editable": true
   },
   "outputs": [],
   "source": [
    "import numpy as np\n",
    "from opf_python.pyniggli import reduced_cell\n",
    "from opf_python.niggli_lat_id import niggli_id"
   ]
  },
  {
   "cell_type": "markdown",
   "metadata": {
    "deletable": true,
    "editable": true
   },
   "source": [
    "## Niggli 19"
   ]
  },
  {
   "cell_type": "code",
   "execution_count": 5,
   "metadata": {
    "collapsed": false,
    "deletable": true,
    "editable": true
   },
   "outputs": [
    {
     "data": {
      "text/plain": [
       "('body centered orthorhombic', 19, 5)"
      ]
     },
     "execution_count": 5,
     "metadata": {},
     "output_type": "execute_result"
    }
   ],
   "source": [
    "A = np.transpose([[-0.5,1,1.5],[0.5,-1,1.5],[0.5,1,-1.5]])\n",
    "niggli_id(A)"
   ]
  },
  {
   "cell_type": "code",
   "execution_count": 6,
   "metadata": {
    "collapsed": false,
    "deletable": true,
    "editable": true
   },
   "outputs": [
    {
     "data": {
      "text/plain": [
       "array([[-1. ,  0. ,  0. ],\n",
       "       [-0.5, -1. ,  1.5],\n",
       "       [-0.5,  1. ,  1.5]])"
      ]
     },
     "execution_count": 6,
     "metadata": {},
     "output_type": "execute_result"
    }
   ],
   "source": [
    "B = reduced_cell(A)\n",
    "np.transpose(B.niggli)"
   ]
  },
  {
   "cell_type": "code",
   "execution_count": 3,
   "metadata": {
    "collapsed": false,
    "deletable": true,
    "editable": true
   },
   "outputs": [
    {
     "data": {
      "text/plain": [
       "15972"
      ]
     },
     "execution_count": 3,
     "metadata": {},
     "output_type": "execute_result"
    }
   ],
   "source": [
    "from opf_python.body_ortho import body_ortho_19\n",
    "count = 0\n",
    "for i in range(1,501):\n",
    "    count += len(body_ortho_19(i))\n",
    "count"
   ]
  },
  {
   "cell_type": "code",
   "execution_count": 2,
   "metadata": {
    "collapsed": false,
    "deletable": true,
    "editable": true
   },
   "outputs": [
    {
     "name": "stdout",
     "output_type": "stream",
     "text": [
      "0.218292951584\n"
     ]
    }
   ],
   "source": [
    "import time\n",
    "start = time.time()\n",
    "body_ortho_19(100000)\n",
    "end = time.time()\n",
    "print(end-start)"
   ]
  },
  {
   "cell_type": "markdown",
   "metadata": {
    "deletable": true,
    "editable": true
   },
   "source": [
    "## Niggli 8"
   ]
  },
  {
   "cell_type": "code",
   "execution_count": 6,
   "metadata": {
    "collapsed": false,
    "deletable": true,
    "editable": true
   },
   "outputs": [
    {
     "data": {
      "text/plain": [
       "('body centered orthorhombic', 8, 5)"
      ]
     },
     "execution_count": 6,
     "metadata": {},
     "output_type": "execute_result"
    }
   ],
   "source": [
    "A = np.transpose([[1, 1, 2],[1.41144,0.0885622,-2],\n",
    "                 [-1.99868,1.21232,-0.731822]])\n",
    "niggli_id(A)"
   ]
  },
  {
   "cell_type": "code",
   "execution_count": 46,
   "metadata": {
    "collapsed": false,
    "deletable": true,
    "editable": true
   },
   "outputs": [
    {
     "data": {
      "text/plain": [
       "array([[ 1.       ,  1.       ,  2.       ],\n",
       "       [ 1.41144  ,  0.0885622, -2.       ],\n",
       "       [-1.99868  ,  1.21232  , -0.731822 ]])"
      ]
     },
     "execution_count": 46,
     "metadata": {},
     "output_type": "execute_result"
    }
   ],
   "source": [
    "B = reduced_cell(A,eps=1E-4)\n",
    "np.transpose(B.niggli)"
   ]
  },
  {
   "cell_type": "code",
   "execution_count": 1,
   "metadata": {
    "collapsed": false,
    "deletable": true,
    "editable": true
   },
   "outputs": [
    {
     "data": {
      "text/plain": [
       "15972"
      ]
     },
     "execution_count": 1,
     "metadata": {},
     "output_type": "execute_result"
    }
   ],
   "source": [
    "from opf_python.body_ortho import body_ortho_8\n",
    "count = 0\n",
    "for i in range(1,501):\n",
    "    count += len(body_ortho_8(i))\n",
    "count"
   ]
  },
  {
   "cell_type": "code",
   "execution_count": 2,
   "metadata": {
    "collapsed": false,
    "deletable": true,
    "editable": true
   },
   "outputs": [
    {
     "name": "stdout",
     "output_type": "stream",
     "text": [
      "4.48952507973\n"
     ]
    }
   ],
   "source": [
    "import time\n",
    "start = time.time()\n",
    "body_ortho_8(100000)\n",
    "end = time.time()\n",
    "print(end-start)"
   ]
  },
  {
   "cell_type": "markdown",
   "metadata": {
    "deletable": true,
    "editable": true
   },
   "source": [
    "Looking into alternative basis choices."
   ]
  },
  {
   "cell_type": "code",
   "execution_count": 12,
   "metadata": {
    "collapsed": false,
    "deletable": true,
    "editable": true
   },
   "outputs": [
    {
     "data": {
      "text/plain": [
       "array([[-1.,  0.,  0.],\n",
       "       [ 1.,  1.,  1.],\n",
       "       [ 0.,  0., -1.]])"
      ]
     },
     "execution_count": 12,
     "metadata": {},
     "output_type": "execute_result"
    }
   ],
   "source": [
    "a1 = np.transpose([[-0.5,1,1.5],[0.5,1,1.5],[0.5,1,-1.5]])\n",
    "b1 = np.transpose([[1,0,0],[0.5,1,1.5],[0,0,3]])\n",
    "np.dot(np.linalg.inv(a1),b1)"
   ]
  },
  {
   "cell_type": "code",
   "execution_count": 44,
   "metadata": {
    "collapsed": false,
    "deletable": true,
    "editable": true
   },
   "outputs": [
    {
     "data": {
      "text/plain": [
       "1.0"
      ]
     },
     "execution_count": 44,
     "metadata": {},
     "output_type": "execute_result"
    }
   ],
   "source": [
    "temp = [[ 0.,  1.,  0.],[ 1.,  0.,  1.],[ 0.,  1., -1.]]\n",
    "np.linalg.det(temp)"
   ]
  },
  {
   "cell_type": "code",
   "execution_count": 47,
   "metadata": {
    "collapsed": false,
    "deletable": true,
    "editable": true
   },
   "outputs": [
    {
     "data": {
      "text/plain": [
       "array([[ 1.41144  ,  0.0885622, -2.       ],\n",
       "       [-0.99868  ,  2.21232  ,  1.268178 ],\n",
       "       [ 3.41012  , -1.1237578, -1.268178 ]])"
      ]
     },
     "execution_count": 47,
     "metadata": {},
     "output_type": "execute_result"
    }
   ],
   "source": [
    "Ap = np.dot(A,temp)\n",
    "niggli_id(Ap)\n",
    "np.transpose(Ap)"
   ]
  },
  {
   "cell_type": "markdown",
   "metadata": {
    "deletable": true,
    "editable": true
   },
   "source": [
    "## Niggli 42"
   ]
  },
  {
   "cell_type": "code",
   "execution_count": 5,
   "metadata": {
    "collapsed": false,
    "deletable": true,
    "editable": true
   },
   "outputs": [
    {
     "data": {
      "text/plain": [
       "('body centered orthorhombic', 42, 5)"
      ]
     },
     "execution_count": 5,
     "metadata": {},
     "output_type": "execute_result"
    }
   ],
   "source": [
    "A = np.transpose([[1, 1, 1],[1.61803,-0.61803,-1],\n",
    "                 [-1.53633,1.36706,-1.33073]])\n",
    "niggli_id(A)"
   ]
  },
  {
   "cell_type": "code",
   "execution_count": 5,
   "metadata": {
    "collapsed": false,
    "deletable": true,
    "editable": true
   },
   "outputs": [
    {
     "data": {
      "text/plain": [
       "array([[ 1.     ,  1.     ,  1.     ],\n",
       "       [ 1.61803, -0.61803, -1.     ],\n",
       "       [-1.53633,  1.36706, -1.33073]])"
      ]
     },
     "execution_count": 5,
     "metadata": {},
     "output_type": "execute_result"
    }
   ],
   "source": [
    "B = reduced_cell(A,eps=1E-4)\n",
    "np.transpose(B.niggli)"
   ]
  },
  {
   "cell_type": "code",
   "execution_count": 1,
   "metadata": {
    "collapsed": false,
    "deletable": true,
    "editable": true
   },
   "outputs": [
    {
     "data": {
      "text/plain": [
       "15972"
      ]
     },
     "execution_count": 1,
     "metadata": {},
     "output_type": "execute_result"
    }
   ],
   "source": [
    "from opf_python.body_ortho import body_ortho_42\n",
    "count = 0\n",
    "for i in range(1,501):\n",
    "    count += len(body_ortho_42(i))\n",
    "count"
   ]
  },
  {
   "cell_type": "code",
   "execution_count": 2,
   "metadata": {
    "collapsed": false,
    "deletable": true,
    "editable": true
   },
   "outputs": [
    {
     "name": "stdout",
     "output_type": "stream",
     "text": [
      "0.819437026978\n"
     ]
    }
   ],
   "source": [
    "import time\n",
    "start = time.time()\n",
    "body_ortho_42(100000)\n",
    "end = time.time()\n",
    "print(end-start)"
   ]
  },
  {
   "cell_type": "markdown",
   "metadata": {
    "deletable": true,
    "editable": true
   },
   "source": [
    "Looking for alternative basis set."
   ]
  },
  {
   "cell_type": "code",
   "execution_count": 47,
   "metadata": {
    "collapsed": false,
    "deletable": true,
    "editable": true
   },
   "outputs": [
    {
     "data": {
      "text/plain": [
       "1.0"
      ]
     },
     "execution_count": 47,
     "metadata": {},
     "output_type": "execute_result"
    }
   ],
   "source": [
    "#temp =[[-1.,  0.,  0.],\n",
    "#       [ 1.,  1.,  1.],\n",
    "#       [ 0.,  0., -1.]]\n",
    "temp = [[-1,0,0],[0,0,-1],[0,-1,0]]\n",
    "temp = np.dot(temp,[[0,-1,0],[-1,0,0],[0,0,-1]])\n",
    "np.linalg.det(temp)"
   ]
  },
  {
   "cell_type": "code",
   "execution_count": 48,
   "metadata": {
    "collapsed": false,
    "deletable": true,
    "editable": true
   },
   "outputs": [
    {
     "name": "stdout",
     "output_type": "stream",
     "text": [
      "('body centered orthorhombic', 42, 5)\n"
     ]
    },
    {
     "data": {
      "text/plain": [
       "array([[-1.53633,  1.36706, -1.33073],\n",
       "       [ 1.     ,  1.     ,  1.     ],\n",
       "       [ 1.61803, -0.61803, -1.     ]])"
      ]
     },
     "execution_count": 48,
     "metadata": {},
     "output_type": "execute_result"
    }
   ],
   "source": [
    "Ap = np.dot(A,temp)\n",
    "print(niggli_id(Ap))\n",
    "np.transpose(Ap)"
   ]
  },
  {
   "cell_type": "code",
   "execution_count": 27,
   "metadata": {
    "collapsed": false,
    "deletable": true,
    "editable": true
   },
   "outputs": [
    {
     "data": {
      "text/plain": [
       "array([[-1.,  0., -1.],\n",
       "       [ 1.,  1.,  2.],\n",
       "       [ 0.,  0., -1.]])"
      ]
     },
     "execution_count": 27,
     "metadata": {},
     "output_type": "execute_result"
    }
   ],
   "source": [
    "temp"
   ]
  },
  {
   "cell_type": "markdown",
   "metadata": {
    "deletable": true,
    "editable": true
   },
   "source": [
    "# Face centered Orthorhombic\n",
    "\n",
    "## Niggli Cell 26"
   ]
  },
  {
   "cell_type": "code",
   "execution_count": 4,
   "metadata": {
    "collapsed": true,
    "deletable": true,
    "editable": true
   },
   "outputs": [],
   "source": [
    "import numpy as np\n",
    "from opf_python.pyniggli import reduced_cell\n",
    "from opf_python.niggli_lat_id import niggli_id"
   ]
  },
  {
   "cell_type": "code",
   "execution_count": 15,
   "metadata": {
    "collapsed": false,
    "deletable": true,
    "editable": true
   },
   "outputs": [
    {
     "data": {
      "text/plain": [
       "('face centered orthorhombic', 26, 5)"
      ]
     },
     "execution_count": 15,
     "metadata": {},
     "output_type": "execute_result"
    }
   ],
   "source": [
    "A = np.transpose([[0,1,1.5],[0.5,0,1.5],[0,0,3]])\n",
    "niggli_id(A)"
   ]
  },
  {
   "cell_type": "code",
   "execution_count": 4,
   "metadata": {
    "collapsed": false,
    "deletable": true,
    "editable": true
   },
   "outputs": [
    {
     "data": {
      "text/plain": [
       "('face centered orthorhombic', 26, 5)"
      ]
     },
     "execution_count": 4,
     "metadata": {},
     "output_type": "execute_result"
    }
   ],
   "source": [
    "A = np.transpose([[0,1,1.5],[0.5,0,1.5],\n",
    "                 [0.5,1,0]])\n",
    "niggli_id(A)"
   ]
  },
  {
   "cell_type": "code",
   "execution_count": 5,
   "metadata": {
    "collapsed": false,
    "deletable": true,
    "editable": true
   },
   "outputs": [
    {
     "data": {
      "text/plain": [
       "array([[ 1. ,  0. ,  0. ],\n",
       "       [ 0.5,  1. ,  0. ],\n",
       "       [ 0.5,  0. ,  1.5]])"
      ]
     },
     "execution_count": 5,
     "metadata": {},
     "output_type": "execute_result"
    }
   ],
   "source": [
    "B = reduced_cell(A,eps=1E-4)\n",
    "np.transpose(B.niggli)"
   ]
  },
  {
   "cell_type": "code",
   "execution_count": 1,
   "metadata": {
    "collapsed": false,
    "deletable": true,
    "editable": true
   },
   "outputs": [
    {
     "name": "stdout",
     "output_type": "stream",
     "text": [
      "100\n",
      "200\n",
      "300\n",
      "400\n",
      "500\n"
     ]
    },
    {
     "data": {
      "text/plain": [
       "15246"
      ]
     },
     "execution_count": 1,
     "metadata": {},
     "output_type": "execute_result"
    }
   ],
   "source": [
    "from opf_python.face_ortho import face_ortho_26\n",
    "count = 0\n",
    "for i in range(1,501):\n",
    "    if i%100==0:\n",
    "        print(i)\n",
    "    count += len(face_ortho_26(i))\n",
    "count"
   ]
  },
  {
   "cell_type": "code",
   "execution_count": 2,
   "metadata": {
    "collapsed": false,
    "deletable": true,
    "editable": true
   },
   "outputs": [
    {
     "name": "stdout",
     "output_type": "stream",
     "text": [
      "0.538698911667\n"
     ]
    }
   ],
   "source": [
    "import time\n",
    "start = time.time()\n",
    "face_ortho_26(100000)\n",
    "end = time.time()\n",
    "print(end-start)"
   ]
  },
  {
   "cell_type": "markdown",
   "metadata": {
    "deletable": true,
    "editable": true
   },
   "source": [
    "## Niggli 16"
   ]
  },
  {
   "cell_type": "code",
   "execution_count": 6,
   "metadata": {
    "collapsed": false,
    "deletable": true,
    "editable": true
   },
   "outputs": [
    {
     "data": {
      "text/plain": [
       "('face centered orthorhombic', 16, 5)"
      ]
     },
     "execution_count": 6,
     "metadata": {},
     "output_type": "execute_result"
    }
   ],
   "source": [
    "A = np.transpose([[1,1,-1],[0.779796,-1.1798,1],\n",
    "                 [-1.04442,-1.43973,-1.68415]])\n",
    "niggli_id(A)"
   ]
  },
  {
   "cell_type": "code",
   "execution_count": 21,
   "metadata": {
    "collapsed": false,
    "deletable": true,
    "editable": true
   },
   "outputs": [
    {
     "data": {
      "text/plain": [
       "array([[ 1.      ,  1.      , -1.      ],\n",
       "       [ 0.779796, -1.1798  ,  1.      ],\n",
       "       [-1.04442 , -1.43973 , -1.68415 ]])"
      ]
     },
     "execution_count": 21,
     "metadata": {},
     "output_type": "execute_result"
    }
   ],
   "source": [
    "B = reduced_cell(A)\n",
    "np.transpose(B.niggli)"
   ]
  },
  {
   "cell_type": "code",
   "execution_count": 3,
   "metadata": {
    "collapsed": false,
    "deletable": true,
    "editable": true
   },
   "outputs": [
    {
     "data": {
      "text/plain": [
       "15246"
      ]
     },
     "execution_count": 3,
     "metadata": {},
     "output_type": "execute_result"
    }
   ],
   "source": [
    "from opf_python.face_ortho import face_ortho_16\n",
    "count = 0\n",
    "for i in range(1,501):\n",
    "    count += len(face_ortho_16(i))\n",
    "count"
   ]
  },
  {
   "cell_type": "code",
   "execution_count": 4,
   "metadata": {
    "collapsed": false,
    "deletable": true,
    "editable": true
   },
   "outputs": [
    {
     "name": "stdout",
     "output_type": "stream",
     "text": [
      "2.31728506088\n"
     ]
    }
   ],
   "source": [
    "import time\n",
    "start = time.time()\n",
    "face_ortho_16(100000)\n",
    "end = time.time()\n",
    "print(end-start)"
   ]
  },
  {
   "cell_type": "markdown",
   "metadata": {
    "deletable": true,
    "editable": true
   },
   "source": [
    "Looking for alternative basis."
   ]
  },
  {
   "cell_type": "code",
   "execution_count": 5,
   "metadata": {
    "collapsed": false,
    "deletable": true,
    "editable": true
   },
   "outputs": [
    {
     "data": {
      "text/plain": [
       "1.0"
      ]
     },
     "execution_count": 5,
     "metadata": {},
     "output_type": "execute_result"
    }
   ],
   "source": [
    "temp = [[-1,0,0],[0,0,-1],[0,-1,0]]\n",
    "temp = np.dot(temp,[[0,-1,0],[-1,0,0],[0,0,-1]])\n",
    "np.linalg.det(temp)"
   ]
  },
  {
   "cell_type": "code",
   "execution_count": 9,
   "metadata": {
    "collapsed": false,
    "deletable": true,
    "editable": true
   },
   "outputs": [
    {
     "name": "stdout",
     "output_type": "stream",
     "text": [
      "12\n",
      "('face centered orthorhombic', 16, 5)\n"
     ]
    },
    {
     "data": {
      "text/plain": [
       "array([[-1.04442 , -1.43973 , -1.68415 ],\n",
       "       [ 1.      ,  1.      , -1.      ],\n",
       "       [ 0.779796, -1.1798  ,  1.      ]])"
      ]
     },
     "execution_count": 9,
     "metadata": {},
     "output_type": "execute_result"
    }
   ],
   "source": [
    "Ap = np.dot(A,temp)\n",
    "print(niggli_id(Ap))\n",
    "np.transpose(Ap)"
   ]
  },
  {
   "cell_type": "code",
   "execution_count": 133,
   "metadata": {
    "collapsed": false,
    "deletable": true,
    "editable": true,
    "scrolled": true
   },
   "outputs": [
    {
     "data": {
      "text/plain": [
       "array([[ 1.      ,  1.      , -1.      ],\n",
       "       [-1.779796,  0.1798  ,  0.      ],\n",
       "       [ 0.735376, -1.61953 , -1.68415 ]])"
      ]
     },
     "execution_count": 133,
     "metadata": {},
     "output_type": "execute_result"
    }
   ],
   "source": [
    "Ap = np.dot(A,[[1,-1,1],[0,-1,1],[0,0,1]])\n",
    "np.transpose(Ap)\n",
    "#niggli_id(Ap)"
   ]
  },
  {
   "cell_type": "markdown",
   "metadata": {
    "collapsed": true,
    "deletable": true,
    "editable": true
   },
   "source": [
    "# Base Centered Orthorhombic\n",
    "\n",
    "## Niggli Cell 38"
   ]
  },
  {
   "cell_type": "code",
   "execution_count": 1,
   "metadata": {
    "collapsed": true,
    "deletable": true,
    "editable": true
   },
   "outputs": [],
   "source": [
    "from opf_python.pyniggli import reduced_cell\n",
    "from opf_python.niggli_lat_id import niggli_id\n",
    "import numpy as np"
   ]
  },
  {
   "cell_type": "code",
   "execution_count": 2,
   "metadata": {
    "collapsed": false,
    "deletable": true,
    "editable": true
   },
   "outputs": [
    {
     "data": {
      "text/plain": [
       "('base centered orthorhombic', 38, 5)"
      ]
     },
     "execution_count": 2,
     "metadata": {},
     "output_type": "execute_result"
    }
   ],
   "source": [
    "A = np.transpose([[0.5,1,0],[0.5,-1,0],[0,0,3]])\n",
    "niggli_id(A)"
   ]
  },
  {
   "cell_type": "code",
   "execution_count": 21,
   "metadata": {
    "collapsed": false,
    "deletable": true,
    "editable": true
   },
   "outputs": [
    {
     "data": {
      "text/plain": [
       "array([[-1. ,  0. ,  0. ],\n",
       "       [ 0.5,  1. ,  0. ],\n",
       "       [ 0. ,  0. ,  3. ]])"
      ]
     },
     "execution_count": 21,
     "metadata": {},
     "output_type": "execute_result"
    }
   ],
   "source": [
    "B = reduced_cell(A)\n",
    "np.transpose(B.niggli)"
   ]
  },
  {
   "cell_type": "markdown",
   "metadata": {
    "deletable": true,
    "editable": true
   },
   "source": [
    "## Niggli Cell 13"
   ]
  },
  {
   "cell_type": "code",
   "execution_count": 32,
   "metadata": {
    "collapsed": false,
    "deletable": true,
    "editable": true
   },
   "outputs": [
    {
     "data": {
      "text/plain": [
       "('base centered orthorhombic', 13, 5)"
      ]
     },
     "execution_count": 32,
     "metadata": {},
     "output_type": "execute_result"
    }
   ],
   "source": [
    "A = np.transpose([[1,1,1],\n",
    "                  [1,-1,-1],\n",
    "                  [0,-1.73205,1.73205]])\n",
    "niggli_id(A)"
   ]
  },
  {
   "cell_type": "code",
   "execution_count": 34,
   "metadata": {
    "collapsed": false,
    "deletable": true,
    "editable": true
   },
   "outputs": [
    {
     "data": {
      "text/plain": [
       "array([[ 1.     ,  1.     ,  1.     ],\n",
       "       [ 1.     , -1.     , -1.     ],\n",
       "       [ 0.     , -1.73205,  1.73205]])"
      ]
     },
     "execution_count": 34,
     "metadata": {},
     "output_type": "execute_result"
    }
   ],
   "source": [
    "B = reduced_cell(A)\n",
    "np.transpose(B.niggli)"
   ]
  },
  {
   "cell_type": "markdown",
   "metadata": {
    "deletable": true,
    "editable": true
   },
   "source": [
    "## Niggli Cell 23"
   ]
  },
  {
   "cell_type": "code",
   "execution_count": 7,
   "metadata": {
    "collapsed": false,
    "deletable": true,
    "editable": true
   },
   "outputs": [
    {
     "name": "stdout",
     "output_type": "stream",
     "text": [
      "4\n"
     ]
    },
    {
     "data": {
      "text/plain": [
       "('base centered orthorhombic', 23, 5)"
      ]
     },
     "execution_count": 7,
     "metadata": {},
     "output_type": "execute_result"
    }
   ],
   "source": [
    "A = np.transpose([[1,1,1],\n",
    "                 [2,-1,-1],\n",
    "                 [-0.3333333,-1.54116,1.87449]])\n",
    "niggli_id(A)"
   ]
  },
  {
   "cell_type": "code",
   "execution_count": 38,
   "metadata": {
    "collapsed": false,
    "deletable": true,
    "editable": true
   },
   "outputs": [
    {
     "data": {
      "text/plain": [
       "array([[ 1.       ,  1.       ,  1.       ],\n",
       "       [ 2.       , -1.       , -1.       ],\n",
       "       [-0.3333333, -1.54116  ,  1.87449  ]])"
      ]
     },
     "execution_count": 38,
     "metadata": {},
     "output_type": "execute_result"
    }
   ],
   "source": [
    "B = reduced_cell(A)\n",
    "np.transpose(B.niggli)"
   ]
  },
  {
   "cell_type": "code",
   "execution_count": 1,
   "metadata": {
    "collapsed": false,
    "deletable": true,
    "editable": true
   },
   "outputs": [
    {
     "data": {
      "text/plain": [
       "19534"
      ]
     },
     "execution_count": 1,
     "metadata": {},
     "output_type": "execute_result"
    }
   ],
   "source": [
    "from opf_python.base_ortho import base_ortho_23\n",
    "count = 0\n",
    "for i in range(1,501):\n",
    "    count += len(base_ortho_23(i))\n",
    "count"
   ]
  },
  {
   "cell_type": "code",
   "execution_count": 2,
   "metadata": {
    "collapsed": false,
    "deletable": true,
    "editable": true
   },
   "outputs": [
    {
     "name": "stdout",
     "output_type": "stream",
     "text": [
      "1.24802517891\n"
     ]
    }
   ],
   "source": [
    "import time\n",
    "start = time.time()\n",
    "base_ortho_23(100000)\n",
    "end = time.time()\n",
    "print(end-start)"
   ]
  },
  {
   "cell_type": "markdown",
   "metadata": {
    "deletable": true,
    "editable": true
   },
   "source": [
    "Looking for better basis."
   ]
  },
  {
   "cell_type": "code",
   "execution_count": 8,
   "metadata": {
    "collapsed": false,
    "deletable": true,
    "editable": true
   },
   "outputs": [
    {
     "data": {
      "text/plain": [
       "1.0"
      ]
     },
     "execution_count": 8,
     "metadata": {},
     "output_type": "execute_result"
    }
   ],
   "source": [
    "temp = [[-1,0,0],[0,0,-1],[0,-1,0]]\n",
    "temp = np.dot(temp,[[0,-1,0],[-1,0,0],[0,0,-1]])\n",
    "np.linalg.det(temp)"
   ]
  },
  {
   "cell_type": "code",
   "execution_count": 14,
   "metadata": {
    "collapsed": false,
    "deletable": true,
    "editable": true
   },
   "outputs": [
    {
     "data": {
      "text/plain": [
       "('base centered orthorhombic', 23, 5)"
      ]
     },
     "execution_count": 14,
     "metadata": {},
     "output_type": "execute_result"
    }
   ],
   "source": [
    "A = np.transpose([[1,1,1],[2,-1,-1],[-0.33333333,-1.54116,1.87449]])\n",
    "niggli_id(A)"
   ]
  },
  {
   "cell_type": "code",
   "execution_count": 9,
   "metadata": {
    "collapsed": false,
    "deletable": true,
    "editable": true
   },
   "outputs": [
    {
     "name": "stdout",
     "output_type": "stream",
     "text": [
      "14\n",
      "('base centered orthorhombic', 23, 5)\n"
     ]
    },
    {
     "data": {
      "text/plain": [
       "array([[-0.3333333, -1.54116  ,  1.87449  ],\n",
       "       [ 1.       ,  1.       ,  1.       ],\n",
       "       [ 2.       , -1.       , -1.       ]])"
      ]
     },
     "execution_count": 9,
     "metadata": {},
     "output_type": "execute_result"
    }
   ],
   "source": [
    "Ap = np.dot(A,temp)\n",
    "print(niggli_id(Ap))\n",
    "np.transpose(Ap)"
   ]
  },
  {
   "cell_type": "markdown",
   "metadata": {
    "deletable": true,
    "editable": true
   },
   "source": [
    "## Niggli Cell 40"
   ]
  },
  {
   "cell_type": "code",
   "execution_count": 40,
   "metadata": {
    "collapsed": false,
    "deletable": true,
    "editable": true
   },
   "outputs": [
    {
     "data": {
      "text/plain": [
       "('base centered orthorhombic', 40, 5)"
      ]
     },
     "execution_count": 40,
     "metadata": {},
     "output_type": "execute_result"
    }
   ],
   "source": [
    "A = np.transpose([[1,1,1],\n",
    "                 [1.61803,-0.618034,-1],\n",
    "                 [-1.05557,1.99895,-0.943376]])\n",
    "niggli_id(A)"
   ]
  },
  {
   "cell_type": "code",
   "execution_count": 41,
   "metadata": {
    "collapsed": false,
    "deletable": true,
    "editable": true
   },
   "outputs": [
    {
     "data": {
      "text/plain": [
       "array([[ 1.      ,  1.      ,  1.      ],\n",
       "       [ 1.61803 , -0.618034, -1.      ],\n",
       "       [-1.05557 ,  1.99895 , -0.943376]])"
      ]
     },
     "execution_count": 41,
     "metadata": {},
     "output_type": "execute_result"
    }
   ],
   "source": [
    "B = reduced_cell(A)\n",
    "np.transpose(B.niggli)"
   ]
  },
  {
   "cell_type": "code",
   "execution_count": 1,
   "metadata": {
    "collapsed": false,
    "deletable": true,
    "editable": true
   },
   "outputs": [
    {
     "data": {
      "text/plain": [
       "19534"
      ]
     },
     "execution_count": 1,
     "metadata": {},
     "output_type": "execute_result"
    }
   ],
   "source": [
    "from opf_python.base_ortho import base_ortho_40\n",
    "count = 0\n",
    "for i in range(1,501):\n",
    "    count += len(base_ortho_40(i))\n",
    "count"
   ]
  },
  {
   "cell_type": "code",
   "execution_count": 2,
   "metadata": {
    "collapsed": false,
    "deletable": true,
    "editable": true
   },
   "outputs": [
    {
     "name": "stdout",
     "output_type": "stream",
     "text": [
      "1.58012008667\n"
     ]
    }
   ],
   "source": [
    "import time\n",
    "start = time.time()\n",
    "base_ortho_40(100000)\n",
    "end = time.time()\n",
    "print(end-start)"
   ]
  },
  {
   "cell_type": "markdown",
   "metadata": {
    "deletable": true,
    "editable": true
   },
   "source": [
    "## Niggli Cell 36"
   ]
  },
  {
   "cell_type": "code",
   "execution_count": 25,
   "metadata": {
    "collapsed": false,
    "deletable": true,
    "editable": true
   },
   "outputs": [
    {
     "data": {
      "text/plain": [
       "('base centered orthorhombic', 36, 5)"
      ]
     },
     "execution_count": 25,
     "metadata": {},
     "output_type": "execute_result"
    }
   ],
   "source": [
    "A = np.transpose([[1, 1, 1],\n",
    "                  [1.41421, -1.41421, 0],\n",
    "                  [-1.43541, -1.43541, 1.37083]])\n",
    "niggli_id(A)"
   ]
  },
  {
   "cell_type": "code",
   "execution_count": 27,
   "metadata": {
    "collapsed": false,
    "deletable": true,
    "editable": true
   },
   "outputs": [
    {
     "data": {
      "text/plain": [
       "19534"
      ]
     },
     "execution_count": 27,
     "metadata": {},
     "output_type": "execute_result"
    }
   ],
   "source": [
    "from opf_python.base_ortho import base_ortho_36\n",
    "count = 0\n",
    "for i in range(1,501):\n",
    "    count += len(base_ortho_36(i))\n",
    "count"
   ]
  },
  {
   "cell_type": "code",
   "execution_count": 28,
   "metadata": {
    "collapsed": false,
    "deletable": true,
    "editable": true
   },
   "outputs": [
    {
     "name": "stdout",
     "output_type": "stream",
     "text": [
      "1.27605319023\n"
     ]
    }
   ],
   "source": [
    "import time\n",
    "start = time.time()\n",
    "base_ortho_36(100000)\n",
    "end = time.time()\n",
    "print(end-start)"
   ]
  },
  {
   "cell_type": "markdown",
   "metadata": {
    "deletable": true,
    "editable": true
   },
   "source": [
    "# Simple Monoclinic\n",
    "\n",
    "## Niggli Cell 33"
   ]
  },
  {
   "cell_type": "code",
   "execution_count": 4,
   "metadata": {
    "collapsed": true,
    "deletable": true,
    "editable": true
   },
   "outputs": [],
   "source": [
    "from opf_python.pyniggli import reduced_cell\n",
    "from opf_python.niggli_lat_id import niggli_id\n",
    "import numpy as np"
   ]
  },
  {
   "cell_type": "code",
   "execution_count": 44,
   "metadata": {
    "collapsed": false,
    "deletable": true,
    "editable": true
   },
   "outputs": [
    {
     "data": {
      "text/plain": [
       "('simple monoclinic', 33, 6)"
      ]
     },
     "execution_count": 44,
     "metadata": {},
     "output_type": "execute_result"
    }
   ],
   "source": [
    "A = np.transpose([[2,0,0],\n",
    "                  [0,2,0],\n",
    "                  [0.5,0,2]])\n",
    "niggli_id(A)"
   ]
  },
  {
   "cell_type": "code",
   "execution_count": 45,
   "metadata": {
    "collapsed": false,
    "deletable": true,
    "editable": true
   },
   "outputs": [
    {
     "data": {
      "text/plain": [
       "array([[ 2. ,  0. ,  0. ],\n",
       "       [ 0. , -2. ,  0. ],\n",
       "       [-0.5,  0. , -2. ]])"
      ]
     },
     "execution_count": 45,
     "metadata": {},
     "output_type": "execute_result"
    }
   ],
   "source": [
    "B = reduced_cell(A)\n",
    "np.transpose(B.niggli)"
   ]
  },
  {
   "cell_type": "markdown",
   "metadata": {
    "deletable": true,
    "editable": true
   },
   "source": [
    "## Niggli Cell 35"
   ]
  },
  {
   "cell_type": "code",
   "execution_count": 48,
   "metadata": {
    "collapsed": false,
    "deletable": true,
    "editable": true
   },
   "outputs": [
    {
     "data": {
      "text/plain": [
       "('simple monoclinic', 35, 6)"
      ]
     },
     "execution_count": 48,
     "metadata": {},
     "output_type": "execute_result"
    }
   ],
   "source": [
    "A = np.transpose([[1,1,1],\n",
    "                  [1.61803,-0.618034,-1],\n",
    "                  [-0.668912,1.96676,-1.29785]])\n",
    "niggli_id(A)"
   ]
  },
  {
   "cell_type": "code",
   "execution_count": 49,
   "metadata": {
    "collapsed": false,
    "deletable": true,
    "editable": true
   },
   "outputs": [
    {
     "data": {
      "text/plain": [
       "array([[ 1.      ,  1.      ,  1.      ],\n",
       "       [ 1.61803 , -0.618034, -1.      ],\n",
       "       [-0.668912,  1.96676 , -1.29785 ]])"
      ]
     },
     "execution_count": 49,
     "metadata": {},
     "output_type": "execute_result"
    }
   ],
   "source": [
    "B = reduced_cell(A)\n",
    "np.transpose(B.niggli)"
   ]
  },
  {
   "cell_type": "markdown",
   "metadata": {
    "deletable": true,
    "editable": true
   },
   "source": [
    "## Niggli Cell 34"
   ]
  },
  {
   "cell_type": "code",
   "execution_count": 57,
   "metadata": {
    "collapsed": false,
    "deletable": true,
    "editable": true
   },
   "outputs": [
    {
     "data": {
      "text/plain": [
       "('simple monoclinic', 34, 6)"
      ]
     },
     "execution_count": 57,
     "metadata": {},
     "output_type": "execute_result"
    }
   ],
   "source": [
    "A = np.transpose([[1,1,1],\n",
    "                  [1.22474487,-1.22474487,-1],\n",
    "                  [-0.165985087,-1.64308297,1.80906806]])\n",
    "niggli_id(A)"
   ]
  },
  {
   "cell_type": "code",
   "execution_count": 61,
   "metadata": {
    "collapsed": false,
    "deletable": true,
    "editable": true
   },
   "outputs": [
    {
     "data": {
      "text/plain": [
       "array([[ 1.        ,  1.        ,  1.        ],\n",
       "       [ 1.22474487, -1.22474487, -1.        ],\n",
       "       [-0.16598509, -1.64308297,  1.80906806]])"
      ]
     },
     "execution_count": 61,
     "metadata": {},
     "output_type": "execute_result"
    }
   ],
   "source": [
    "B = reduced_cell(A)\n",
    "np.transpose(B.niggli)"
   ]
  },
  {
   "cell_type": "markdown",
   "metadata": {
    "deletable": true,
    "editable": true
   },
   "source": [
    "# Base Centered Monoclinic\n",
    "\n",
    "## Niggli Basis 14"
   ]
  },
  {
   "cell_type": "code",
   "execution_count": 3,
   "metadata": {
    "collapsed": true,
    "deletable": true,
    "editable": true
   },
   "outputs": [],
   "source": [
    "import numpy as np\n",
    "from opf_python.pyniggli import reduced_cell\n",
    "from opf_python.niggli_lat_id import niggli_id"
   ]
  },
  {
   "cell_type": "code",
   "execution_count": 63,
   "metadata": {
    "collapsed": false,
    "deletable": true,
    "editable": true
   },
   "outputs": [
    {
     "data": {
      "text/plain": [
       "('base centered monoclinic', 14, 6)"
      ]
     },
     "execution_count": 63,
     "metadata": {},
     "output_type": "execute_result"
    }
   ],
   "source": [
    "A = np.transpose([[1,1,0],\n",
    "                  [1,-1,0],\n",
    "                  [0.5,0,2]])\n",
    "niggli_id(A)"
   ]
  },
  {
   "cell_type": "code",
   "execution_count": 64,
   "metadata": {
    "collapsed": false,
    "deletable": true,
    "editable": true
   },
   "outputs": [
    {
     "data": {
      "text/plain": [
       "array([[-1. , -1. ,  0. ],\n",
       "       [-1. ,  1. ,  0. ],\n",
       "       [ 0.5,  0. ,  2. ]])"
      ]
     },
     "execution_count": 64,
     "metadata": {},
     "output_type": "execute_result"
    }
   ],
   "source": [
    "B = reduced_cell(A)\n",
    "np.transpose(B.niggli)"
   ]
  },
  {
   "cell_type": "markdown",
   "metadata": {
    "deletable": true,
    "editable": true
   },
   "source": [
    "## Niggli Cell 10"
   ]
  },
  {
   "cell_type": "code",
   "execution_count": 7,
   "metadata": {
    "collapsed": false,
    "deletable": true,
    "editable": true
   },
   "outputs": [
    {
     "data": {
      "text/plain": [
       "('bace centered monoclinic', 10, 6)"
      ]
     },
     "execution_count": 7,
     "metadata": {},
     "output_type": "execute_result"
    }
   ],
   "source": [
    "A = np.transpose([[1,1,1],\n",
    "                  [1,-1,1],\n",
    "                  [-1.46391,0,1.96391]])\n",
    "niggli_id(A)"
   ]
  },
  {
   "cell_type": "code",
   "execution_count": 70,
   "metadata": {
    "collapsed": false,
    "deletable": true,
    "editable": true
   },
   "outputs": [
    {
     "data": {
      "text/plain": [
       "array([[ 1.     ,  1.     ,  1.     ],\n",
       "       [ 1.     , -1.     ,  1.     ],\n",
       "       [-1.46391,  0.     ,  1.96391]])"
      ]
     },
     "execution_count": 70,
     "metadata": {},
     "output_type": "execute_result"
    }
   ],
   "source": [
    "B = reduced_cell(A)\n",
    "np.transpose(B.niggli)"
   ]
  },
  {
   "cell_type": "markdown",
   "metadata": {
    "deletable": true,
    "editable": true
   },
   "source": [
    "Looking for alternative basis."
   ]
  },
  {
   "cell_type": "code",
   "execution_count": 9,
   "metadata": {
    "collapsed": false,
    "deletable": true,
    "editable": true
   },
   "outputs": [
    {
     "name": "stdout",
     "output_type": "stream",
     "text": [
      "-1.0\n",
      "('bace centered monoclinic', 10, 6)\n"
     ]
    },
    {
     "data": {
      "text/plain": [
       "array([[-1.46391,  0.     ,  1.96391],\n",
       "       [ 1.     ,  1.     ,  1.     ],\n",
       "       [ 0.     ,  2.     ,  0.     ]])"
      ]
     },
     "execution_count": 9,
     "metadata": {},
     "output_type": "execute_result"
    }
   ],
   "source": [
    "#temp = [[1,0,0],[0,1,0],[0,0,1]]\n",
    "temp = [[1,1,0],[0,-1,0],[0,0,1]]\n",
    "temp = np.dot(temp,[[-1,0,0],[0,0,-1],[0,-1,0]])\n",
    "temp = np.dot(temp,[[0,-1,0],[-1,0,0],[0,0,-1]])\n",
    "print(np.linalg.det(temp))\n",
    "Ap = np.dot(A,temp)\n",
    "print(niggli_id(Ap))\n",
    "np.transpose(Ap)"
   ]
  },
  {
   "cell_type": "markdown",
   "metadata": {
    "deletable": true,
    "editable": true
   },
   "source": [
    "## Niggli Basis 17"
   ]
  },
  {
   "cell_type": "code",
   "execution_count": 10,
   "metadata": {
    "collapsed": false,
    "deletable": true,
    "editable": true
   },
   "outputs": [
    {
     "data": {
      "text/plain": [
       "('bace centered monoclinic', 17, 6)"
      ]
     },
     "execution_count": 10,
     "metadata": {},
     "output_type": "execute_result"
    }
   ],
   "source": [
    "A = np.transpose([[1,1,1],\n",
    "                  [0.809568,-1.15957,-1],\n",
    "                  [-1.05387,-1.61088,1.51474]])\n",
    "niggli_id(A)"
   ]
  },
  {
   "cell_type": "code",
   "execution_count": 72,
   "metadata": {
    "collapsed": false,
    "deletable": true,
    "editable": true
   },
   "outputs": [
    {
     "data": {
      "text/plain": [
       "array([[ 1.      ,  1.      ,  1.      ],\n",
       "       [ 0.809568, -1.15957 , -1.      ],\n",
       "       [-1.05387 , -1.61088 ,  1.51474 ]])"
      ]
     },
     "execution_count": 72,
     "metadata": {},
     "output_type": "execute_result"
    }
   ],
   "source": [
    "B = reduced_cell(A)\n",
    "np.transpose(B.niggli)"
   ]
  },
  {
   "cell_type": "markdown",
   "metadata": {
    "deletable": true,
    "editable": true
   },
   "source": [
    "Looking for alternative basis."
   ]
  },
  {
   "cell_type": "code",
   "execution_count": 26,
   "metadata": {
    "collapsed": false,
    "deletable": true,
    "editable": true
   },
   "outputs": [
    {
     "name": "stdout",
     "output_type": "stream",
     "text": [
      "1.0\n",
      "('bace centered monoclinic', 17, 6)\n"
     ]
    },
    {
     "data": {
      "text/plain": [
       "array([[-0.05387 , -0.61088 ,  2.51474 ],\n",
       "       [ 1.      ,  1.      ,  1.      ],\n",
       "       [ 1.809568, -0.15957 ,  0.      ]])"
      ]
     },
     "execution_count": 26,
     "metadata": {},
     "output_type": "execute_result"
    }
   ],
   "source": [
    "#temp = [[1,0,0],[0,1,0],[0,0,1]]\n",
    "temp = [[1,0,1],[0,-1,0],[0,0,1]]\n",
    "temp = np.dot(temp,[[1,1,0],[0,-1,0],[0,0,1]])\n",
    "temp = np.dot(temp,[[-1,0,0],[0,0,-1],[0,-1,0]])\n",
    "temp = np.dot(temp,[[0,-1,0],[-1,0,0],[0,0,-1]])\n",
    "print(np.linalg.det(temp))\n",
    "Ap = np.dot(A,temp)\n",
    "print(niggli_id(Ap))\n",
    "np.transpose(Ap)"
   ]
  },
  {
   "cell_type": "markdown",
   "metadata": {
    "deletable": true,
    "editable": true
   },
   "source": [
    "Now matches basis 10."
   ]
  },
  {
   "cell_type": "markdown",
   "metadata": {
    "deletable": true,
    "editable": true
   },
   "source": [
    "## Niggli Basis 20"
   ]
  },
  {
   "cell_type": "code",
   "execution_count": 27,
   "metadata": {
    "collapsed": false,
    "deletable": true,
    "editable": true
   },
   "outputs": [
    {
     "data": {
      "text/plain": [
       "('base centered monoclinic', 20, 6)"
      ]
     },
     "execution_count": 27,
     "metadata": {},
     "output_type": "execute_result"
    }
   ],
   "source": [
    "A = np.transpose([[1,1,1],\n",
    "                  [1.70119,-1.45119,1],\n",
    "                  [-1.0034,0.0189395,2.23446]])\n",
    "niggli_id(A)"
   ]
  },
  {
   "cell_type": "code",
   "execution_count": 74,
   "metadata": {
    "collapsed": false,
    "deletable": true,
    "editable": true
   },
   "outputs": [
    {
     "data": {
      "text/plain": [
       "array([[ 1.       ,  1.       ,  1.       ],\n",
       "       [ 1.70119  , -1.45119  ,  1.       ],\n",
       "       [-1.0034   ,  0.0189395,  2.23446  ]])"
      ]
     },
     "execution_count": 74,
     "metadata": {},
     "output_type": "execute_result"
    }
   ],
   "source": [
    "B = reduced_cell(A)\n",
    "np.transpose(B.niggli)"
   ]
  },
  {
   "cell_type": "markdown",
   "metadata": {
    "deletable": true,
    "editable": true
   },
   "source": [
    "Looking for alternative basis."
   ]
  },
  {
   "cell_type": "code",
   "execution_count": 35,
   "metadata": {
    "collapsed": false,
    "deletable": true,
    "editable": true
   },
   "outputs": [
    {
     "name": "stdout",
     "output_type": "stream",
     "text": [
      "1.0\n",
      "('base centered monoclinic', 20, 6)\n"
     ]
    },
    {
     "data": {
      "text/plain": [
       "array([[ 1.       ,  1.       ,  1.       ],\n",
       "       [ 1.70119  , -1.45119  ,  1.       ],\n",
       "       [ 0.69779  , -1.4322505,  3.23446  ]])"
      ]
     },
     "execution_count": 35,
     "metadata": {},
     "output_type": "execute_result"
    }
   ],
   "source": [
    "temp = [[1,0,0],[0,1,0],[0,0,1]]\n",
    "#temp = [[1,0,1],[0,-1,0],[0,0,1]]\n",
    "temp = np.dot(temp,[[1,0,0],[0,1,1],[0,0,1]])\n",
    "#temp = np.dot(temp,[[1,1,0],[0,-1,0],[0,0,1]])\n",
    "#temp = np.dot(temp,[[-1,0,0],[0,0,-1],[0,-1,0]])\n",
    "#temp = np.dot(temp,[[0,-1,0],[-1,0,0],[0,0,-1]])\n",
    "print(np.linalg.det(temp))\n",
    "Ap = np.dot(A,temp)\n",
    "print(niggli_id(Ap))\n",
    "np.transpose(Ap)"
   ]
  },
  {
   "cell_type": "code",
   "execution_count": 1,
   "metadata": {
    "collapsed": false,
    "deletable": true,
    "editable": true
   },
   "outputs": [
    {
     "data": {
      "text/plain": [
       "53842"
      ]
     },
     "execution_count": 1,
     "metadata": {},
     "output_type": "execute_result"
    }
   ],
   "source": [
    "from opf_python.base_mono import base_mono_20_25\n",
    "count = 0\n",
    "for i in range(1,201):\n",
    "    count += len(base_mono_20(i))\n",
    "count"
   ]
  },
  {
   "cell_type": "code",
   "execution_count": 2,
   "metadata": {
    "collapsed": false,
    "deletable": true,
    "editable": true
   },
   "outputs": [
    {
     "name": "stdout",
     "output_type": "stream",
     "text": [
      "2.81764507294\n"
     ]
    }
   ],
   "source": [
    "import time\n",
    "start = time.time()\n",
    "base_mono_20(100000)\n",
    "end = time.time()\n",
    "print(end-start)"
   ]
  },
  {
   "cell_type": "markdown",
   "metadata": {
    "deletable": true,
    "editable": true
   },
   "source": [
    "## Niggli Cell 25"
   ]
  },
  {
   "cell_type": "code",
   "execution_count": 2,
   "metadata": {
    "collapsed": false,
    "deletable": true,
    "editable": true
   },
   "outputs": [
    {
     "data": {
      "text/plain": [
       "('base centered monoclinic', 25, 6)"
      ]
     },
     "execution_count": 2,
     "metadata": {},
     "output_type": "execute_result"
    }
   ],
   "source": [
    "A = np.transpose([[1,1,1],\n",
    "                  [1.45119,-1.70119,-1],\n",
    "                  [-1.16241,-1.56776,1.48018]])\n",
    "niggli_id(A)"
   ]
  },
  {
   "cell_type": "code",
   "execution_count": 3,
   "metadata": {
    "collapsed": false,
    "deletable": true,
    "editable": true
   },
   "outputs": [
    {
     "data": {
      "text/plain": [
       "array([[ 1.     ,  1.     ,  1.     ],\n",
       "       [ 1.45119, -1.70119, -1.     ],\n",
       "       [-1.16241, -1.56776,  1.48018]])"
      ]
     },
     "execution_count": 3,
     "metadata": {},
     "output_type": "execute_result"
    }
   ],
   "source": [
    "B = reduced_cell(A)\n",
    "np.transpose(B.niggli)"
   ]
  },
  {
   "cell_type": "markdown",
   "metadata": {
    "deletable": true,
    "editable": true
   },
   "source": [
    "Looking for alternative basis."
   ]
  },
  {
   "cell_type": "code",
   "execution_count": 4,
   "metadata": {
    "collapsed": false,
    "deletable": true,
    "editable": true
   },
   "outputs": [
    {
     "name": "stdout",
     "output_type": "stream",
     "text": [
      "1.0\n",
      "('base centered monoclinic', 25, 6)\n"
     ]
    },
    {
     "data": {
      "text/plain": [
       "array([[ 1.     ,  1.     ,  1.     ],\n",
       "       [ 1.45119, -1.70119, -1.     ],\n",
       "       [ 0.28878, -3.26895,  0.48018]])"
      ]
     },
     "execution_count": 4,
     "metadata": {},
     "output_type": "execute_result"
    }
   ],
   "source": [
    "import numpy as np\n",
    "temp = [[1,0,0],[0,1,0],[0,0,1]]\n",
    "#temp = [[1,0,1],[0,-1,0],[0,0,1]]\n",
    "temp = np.dot(temp,[[1,0,0],[0,1,1],[0,0,1]])\n",
    "#temp = np.dot(temp,[[1,1,0],[0,-1,0],[0,0,1]])\n",
    "#temp = np.dot(temp,[[-1,0,0],[0,0,-1],[0,-1,0]])\n",
    "#temp = np.dot(temp,[[0,-1,0],[-1,0,0],[0,0,-1]])\n",
    "print(np.linalg.det(temp))\n",
    "Ap = np.dot(A,temp)\n",
    "print(niggli_id(Ap))\n",
    "np.transpose(Ap)"
   ]
  },
  {
   "cell_type": "markdown",
   "metadata": {
    "deletable": true,
    "editable": true
   },
   "source": [
    "Same as cell 20"
   ]
  },
  {
   "cell_type": "markdown",
   "metadata": {
    "deletable": true,
    "editable": true
   },
   "source": [
    "## Niggli Cell 27"
   ]
  },
  {
   "cell_type": "code",
   "execution_count": 7,
   "metadata": {
    "collapsed": false,
    "deletable": true,
    "editable": true
   },
   "outputs": [
    {
     "data": {
      "text/plain": [
       "('base centered monoclinic', 27, 6)"
      ]
     },
     "execution_count": 7,
     "metadata": {},
     "output_type": "execute_result"
    }
   ],
   "source": [
    "A = np.transpose([[1,1,0],\n",
    "                  [1.618033,-0.618033,1],\n",
    "                  [-0.464824,1.464824,1.907413]])\n",
    "niggli_id(A)"
   ]
  },
  {
   "cell_type": "code",
   "execution_count": 98,
   "metadata": {
    "collapsed": false,
    "deletable": true,
    "editable": true
   },
   "outputs": [
    {
     "data": {
      "text/plain": [
       "array([[-1.      , -1.      ,  0.      ],\n",
       "       [-1.618033,  0.618033, -1.      ],\n",
       "       [-1.464824,  0.464824,  1.907413]])"
      ]
     },
     "execution_count": 98,
     "metadata": {},
     "output_type": "execute_result"
    }
   ],
   "source": [
    "B = reduced_cell(A)\n",
    "np.transpose(B.niggli)"
   ]
  },
  {
   "cell_type": "markdown",
   "metadata": {
    "deletable": true,
    "editable": true
   },
   "source": [
    "Looking for alternative basis."
   ]
  },
  {
   "cell_type": "code",
   "execution_count": 9,
   "metadata": {
    "collapsed": false,
    "deletable": true,
    "editable": true
   },
   "outputs": [
    {
     "name": "stdout",
     "output_type": "stream",
     "text": [
      "1.0\n",
      "('base centered monoclinic', 27, 6)\n"
     ]
    },
    {
     "data": {
      "text/plain": [
       "array([[ 0.464824, -1.464824, -1.907413],\n",
       "       [-1.618033,  0.618033, -1.      ],\n",
       "       [-1.      , -1.      ,  0.      ]])"
      ]
     },
     "execution_count": 9,
     "metadata": {},
     "output_type": "execute_result"
    }
   ],
   "source": [
    "import numpy as np\n",
    "temp = [[1,0,0],[0,1,0],[0,0,1]]\n",
    "#temp = [[1,0,1],[0,-1,0],[0,0,1]]\n",
    "#temp = np.dot(temp,[[1,0,0],[0,1,1],[0,0,1]])\n",
    "#temp = np.dot(temp,[[1,1,0],[0,-1,0],[0,0,1]])\n",
    "temp = np.dot(temp,[[0,-1,0],[-1,0,0],[0,0,-1]])\n",
    "temp = np.dot(temp,[[-1,0,0],[0,0,-1],[0,-1,0]])\n",
    "temp = np.dot(temp,[[0,-1,0],[-1,0,0],[0,0,-1]])\n",
    "print(np.linalg.det(temp))\n",
    "Ap = np.dot(A,temp)\n",
    "print(niggli_id(Ap))\n",
    "np.transpose(Ap)"
   ]
  },
  {
   "cell_type": "code",
   "execution_count": 1,
   "metadata": {
    "collapsed": false,
    "deletable": true,
    "editable": true
   },
   "outputs": [
    {
     "data": {
      "text/plain": [
       "53842"
      ]
     },
     "execution_count": 1,
     "metadata": {},
     "output_type": "execute_result"
    }
   ],
   "source": [
    "from opf_python.base_mono import base_mono_27\n",
    "count = 0\n",
    "for i in range(1,201):\n",
    "    count += len(base_mono_27(i))\n",
    "count"
   ]
  },
  {
   "cell_type": "code",
   "execution_count": 2,
   "metadata": {
    "collapsed": false,
    "deletable": true,
    "editable": true
   },
   "outputs": [
    {
     "name": "stdout",
     "output_type": "stream",
     "text": [
      "4.70454502106\n"
     ]
    }
   ],
   "source": [
    "import time\n",
    "start = time.time()\n",
    "base_mono_27(100000)\n",
    "end = time.time()\n",
    "print(end-start)"
   ]
  },
  {
   "cell_type": "markdown",
   "metadata": {
    "deletable": true,
    "editable": true
   },
   "source": [
    "## Niggli Basis 28"
   ]
  },
  {
   "cell_type": "code",
   "execution_count": 8,
   "metadata": {
    "collapsed": false,
    "deletable": true,
    "editable": true
   },
   "outputs": [
    {
     "data": {
      "text/plain": [
       "('base centered monoclinic', 28, 6)"
      ]
     },
     "execution_count": 8,
     "metadata": {},
     "output_type": "execute_result"
    }
   ],
   "source": [
    "A = np.transpose([[1,1,0],\n",
    "                  [1.44896,-0.948958,1],\n",
    "                  [-0.342424,1.342424,2.02006]])\n",
    "niggli_id(A)"
   ]
  },
  {
   "cell_type": "code",
   "execution_count": 100,
   "metadata": {
    "collapsed": false,
    "deletable": true,
    "editable": true
   },
   "outputs": [
    {
     "data": {
      "text/plain": [
       "array([[ 1.      ,  1.      ,  0.      ],\n",
       "       [ 1.44896 , -0.948958,  1.      ],\n",
       "       [-0.342424,  1.342424,  2.02006 ]])"
      ]
     },
     "execution_count": 100,
     "metadata": {},
     "output_type": "execute_result"
    }
   ],
   "source": [
    "B = reduced_cell(A)\n",
    "np.transpose(B.niggli)"
   ]
  },
  {
   "cell_type": "code",
   "execution_count": 1,
   "metadata": {
    "collapsed": false,
    "deletable": true,
    "editable": true
   },
   "outputs": [
    {
     "data": {
      "text/plain": [
       "53842"
      ]
     },
     "execution_count": 1,
     "metadata": {},
     "output_type": "execute_result"
    }
   ],
   "source": [
    "from opf_python.base_mono import base_mono_28\n",
    "count = 0\n",
    "for i in range(1,201):\n",
    "    count += len(base_mono_28(i))\n",
    "count"
   ]
  },
  {
   "cell_type": "code",
   "execution_count": 2,
   "metadata": {
    "collapsed": false,
    "deletable": true,
    "editable": true
   },
   "outputs": [
    {
     "name": "stdout",
     "output_type": "stream",
     "text": [
      "4.18533301353\n"
     ]
    }
   ],
   "source": [
    "import time\n",
    "start = time.time()\n",
    "base_mono_28(100000)\n",
    "end = time.time()\n",
    "print(end-start)"
   ]
  },
  {
   "cell_type": "markdown",
   "metadata": {
    "deletable": true,
    "editable": true
   },
   "source": [
    "Looking for alternative basis."
   ]
  },
  {
   "cell_type": "code",
   "execution_count": 9,
   "metadata": {
    "collapsed": false,
    "deletable": true,
    "editable": true
   },
   "outputs": [
    {
     "name": "stdout",
     "output_type": "stream",
     "text": [
      "1.0\n",
      "('base centered monoclinic', 28, 6)\n"
     ]
    },
    {
     "data": {
      "text/plain": [
       "array([[-1.44896 ,  0.948958, -1.      ],\n",
       "       [-1.      , -1.      ,  0.      ],\n",
       "       [ 0.342424, -1.342424, -2.02006 ]])"
      ]
     },
     "execution_count": 9,
     "metadata": {},
     "output_type": "execute_result"
    }
   ],
   "source": [
    "import numpy as np\n",
    "temp = [[1,0,0],[0,1,0],[0,0,1]]\n",
    "#temp = [[1,0,1],[0,-1,0],[0,0,1]]\n",
    "#temp = np.dot(temp,[[1,0,0],[0,1,1],[0,0,1]])\n",
    "#temp = np.dot(temp,[[1,1,0],[0,-1,0],[0,0,1]])\n",
    "#temp = np.dot(temp,[[0,-1,0],[-1,0,0],[0,0,-1]])\n",
    "#temp = np.dot(temp,[[-1,0,0],[0,0,-1],[0,-1,0]])\n",
    "temp = np.dot(temp,[[0,-1,0],[-1,0,0],[0,0,-1]])\n",
    "print(np.linalg.det(temp))\n",
    "Ap = np.dot(A,temp)\n",
    "print(niggli_id(Ap))\n",
    "np.transpose(Ap)"
   ]
  },
  {
   "cell_type": "markdown",
   "metadata": {
    "deletable": true,
    "editable": true
   },
   "source": [
    "## Niggli Cell 29"
   ]
  },
  {
   "cell_type": "code",
   "execution_count": 5,
   "metadata": {
    "collapsed": false,
    "deletable": true,
    "editable": true
   },
   "outputs": [
    {
     "data": {
      "text/plain": [
       "('base centered monoclinic', 29, 6)"
      ]
     },
     "execution_count": 5,
     "metadata": {},
     "output_type": "execute_result"
    }
   ],
   "source": [
    "A = np.transpose([[1,1,0],\n",
    "                  [1.61803,-0.618034,1],\n",
    "                  [-0.666125,1.16613,2.04852]])\n",
    "niggli_id(A)"
   ]
  },
  {
   "cell_type": "code",
   "execution_count": 102,
   "metadata": {
    "collapsed": false,
    "deletable": true,
    "editable": true
   },
   "outputs": [
    {
     "data": {
      "text/plain": [
       "array([[ 1.      ,  1.      ,  0.      ],\n",
       "       [ 1.61803 , -0.618034,  1.      ],\n",
       "       [-0.666125,  1.16613 ,  2.04852 ]])"
      ]
     },
     "execution_count": 102,
     "metadata": {},
     "output_type": "execute_result"
    }
   ],
   "source": [
    "B = reduced_cell(A)\n",
    "np.transpose(B.niggli)"
   ]
  },
  {
   "cell_type": "markdown",
   "metadata": {
    "deletable": true,
    "editable": true
   },
   "source": [
    "Looking for alternative basis."
   ]
  },
  {
   "cell_type": "code",
   "execution_count": 6,
   "metadata": {
    "collapsed": false,
    "deletable": true,
    "editable": true
   },
   "outputs": [
    {
     "name": "stdout",
     "output_type": "stream",
     "text": [
      "1.0\n",
      "('base centered monoclinic', 29, 6)\n"
     ]
    },
    {
     "data": {
      "text/plain": [
       "array([[-0.666125,  1.16613 ,  2.04852 ],\n",
       "       [ 1.      ,  1.      ,  0.      ],\n",
       "       [ 1.61803 , -0.618034,  1.      ]])"
      ]
     },
     "execution_count": 6,
     "metadata": {},
     "output_type": "execute_result"
    }
   ],
   "source": [
    "import numpy as np\n",
    "temp = [[1,0,0],[0,1,0],[0,0,1]]\n",
    "#temp = [[1,0,1],[0,-1,0],[0,0,1]]\n",
    "#temp = np.dot(temp,[[1,0,0],[0,1,1],[0,0,1]])\n",
    "#temp = np.dot(temp,[[1,1,0],[0,-1,0],[0,0,1]])\n",
    "#temp = np.dot(temp,[[0,-1,0],[-1,0,0],[0,0,-1]])\n",
    "temp = np.dot(temp,[[-1,0,0],[0,0,-1],[0,-1,0]])\n",
    "temp = np.dot(temp,[[0,-1,0],[-1,0,0],[0,0,-1]])\n",
    "print(np.linalg.det(temp))\n",
    "Ap = np.dot(A,temp)\n",
    "print(niggli_id(Ap))\n",
    "np.transpose(Ap)"
   ]
  },
  {
   "cell_type": "code",
   "execution_count": 1,
   "metadata": {
    "collapsed": false,
    "deletable": true,
    "editable": true
   },
   "outputs": [
    {
     "data": {
      "text/plain": [
       "53842"
      ]
     },
     "execution_count": 1,
     "metadata": {},
     "output_type": "execute_result"
    }
   ],
   "source": [
    "from opf_python.base_mono import base_mono_29\n",
    "count = 0\n",
    "for i in range(1,201):\n",
    "    count += len(base_mono_29(i))\n",
    "count"
   ]
  },
  {
   "cell_type": "code",
   "execution_count": 2,
   "metadata": {
    "collapsed": false,
    "deletable": true,
    "editable": true
   },
   "outputs": [
    {
     "name": "stdout",
     "output_type": "stream",
     "text": [
      "3.89106893539\n"
     ]
    }
   ],
   "source": [
    "import time\n",
    "start = time.time()\n",
    "base_mono_29(100000)\n",
    "end = time.time()\n",
    "print(end-start)"
   ]
  },
  {
   "cell_type": "markdown",
   "metadata": {
    "deletable": true,
    "editable": true
   },
   "source": [
    "## Niggli Cell 30"
   ]
  },
  {
   "cell_type": "code",
   "execution_count": 105,
   "metadata": {
    "collapsed": false,
    "deletable": true,
    "editable": true
   },
   "outputs": [
    {
     "data": {
      "text/plain": [
       "('base centered monoclinic', 30, 6)"
      ]
     },
     "execution_count": 105,
     "metadata": {},
     "output_type": "execute_result"
    }
   ],
   "source": [
    "A = np.transpose([[1,1,0],\n",
    "                  [1.61803,-0.618034,1],\n",
    "                  [-0.0361373,0.536137,2.38982]])\n",
    "niggli_id(A)"
   ]
  },
  {
   "cell_type": "code",
   "execution_count": 106,
   "metadata": {
    "collapsed": false,
    "deletable": true,
    "editable": true
   },
   "outputs": [
    {
     "data": {
      "text/plain": [
       "array([[ 1.       ,  1.       ,  0.       ],\n",
       "       [ 1.61803  , -0.618034 ,  1.       ],\n",
       "       [-0.0361373,  0.536137 ,  2.38982  ]])"
      ]
     },
     "execution_count": 106,
     "metadata": {},
     "output_type": "execute_result"
    }
   ],
   "source": [
    "B = reduced_cell(A)\n",
    "np.transpose(B.niggli)"
   ]
  },
  {
   "cell_type": "markdown",
   "metadata": {
    "deletable": true,
    "editable": true
   },
   "source": [
    "Same as basis 29"
   ]
  },
  {
   "cell_type": "markdown",
   "metadata": {
    "deletable": true,
    "editable": true
   },
   "source": [
    "## Niggli Cell 41"
   ]
  },
  {
   "cell_type": "code",
   "execution_count": 4,
   "metadata": {
    "collapsed": false,
    "deletable": true,
    "editable": true
   },
   "outputs": [
    {
     "data": {
      "text/plain": [
       "('base centered monoclinic', 41, 6)"
      ]
     },
     "execution_count": 4,
     "metadata": {},
     "output_type": "execute_result"
    }
   ],
   "source": [
    "A = np.transpose([[1,0,1],\n",
    "                  [1,-1.41421,-1],\n",
    "                  [-1.85397,-0.854143,1.35397]])\n",
    "niggli_id(A)"
   ]
  },
  {
   "cell_type": "code",
   "execution_count": 110,
   "metadata": {
    "collapsed": false,
    "deletable": true,
    "editable": true
   },
   "outputs": [
    {
     "data": {
      "text/plain": [
       "array([[ 1.      ,  0.      ,  1.      ],\n",
       "       [ 1.      , -1.41421 , -1.      ],\n",
       "       [-1.85397 , -0.854143,  1.35397 ]])"
      ]
     },
     "execution_count": 110,
     "metadata": {},
     "output_type": "execute_result"
    }
   ],
   "source": [
    "B = reduced_cell(A)\n",
    "np.transpose(B.niggli)"
   ]
  },
  {
   "cell_type": "markdown",
   "metadata": {
    "deletable": true,
    "editable": true
   },
   "source": [
    "Looking for alternative basis."
   ]
  },
  {
   "cell_type": "code",
   "execution_count": 5,
   "metadata": {
    "collapsed": false,
    "deletable": true,
    "editable": true
   },
   "outputs": [
    {
     "name": "stdout",
     "output_type": "stream",
     "text": [
      "1.0\n",
      "('base centered monoclinic', 41, 6)\n"
     ]
    },
    {
     "data": {
      "text/plain": [
       "array([[-1.      ,  0.      , -1.      ],\n",
       "       [ 1.85397 ,  0.854143, -1.35397 ],\n",
       "       [-1.      ,  1.41421 ,  1.      ]])"
      ]
     },
     "execution_count": 5,
     "metadata": {},
     "output_type": "execute_result"
    }
   ],
   "source": [
    "import numpy as np\n",
    "temp = [[1,0,0],[0,1,0],[0,0,1]]\n",
    "#temp = [[1,0,1],[0,-1,0],[0,0,1]]\n",
    "#temp = np.dot(temp,[[1,0,0],[0,1,1],[0,0,1]])\n",
    "#temp = np.dot(temp,[[1,1,0],[0,-1,0],[0,0,1]])\n",
    "#temp = np.dot(temp,[[0,-1,0],[-1,0,0],[0,0,-1]])\n",
    "temp = np.dot(temp,[[-1,0,0],[0,0,-1],[0,-1,0]])\n",
    "#temp = np.dot(temp,[[0,-1,0],[-1,0,0],[0,0,-1]])\n",
    "print(np.linalg.det(temp))\n",
    "Ap = np.dot(A,temp)\n",
    "print(niggli_id(Ap))\n",
    "np.transpose(Ap)"
   ]
  },
  {
   "cell_type": "code",
   "execution_count": 1,
   "metadata": {
    "collapsed": false,
    "deletable": true,
    "editable": true
   },
   "outputs": [
    {
     "data": {
      "text/plain": [
       "53842"
      ]
     },
     "execution_count": 1,
     "metadata": {},
     "output_type": "execute_result"
    }
   ],
   "source": [
    "from opf_python.base_mono import base_mono_41\n",
    "count = 0\n",
    "for i in range(1,201):\n",
    "    count += len(base_mono_41(i))\n",
    "count"
   ]
  },
  {
   "cell_type": "code",
   "execution_count": 2,
   "metadata": {
    "collapsed": false,
    "deletable": true,
    "editable": true
   },
   "outputs": [
    {
     "name": "stdout",
     "output_type": "stream",
     "text": [
      "4.30097007751\n"
     ]
    }
   ],
   "source": [
    "import time\n",
    "start = time.time()\n",
    "base_mono_41(100000)\n",
    "end = time.time()\n",
    "print(end-start)"
   ]
  },
  {
   "cell_type": "markdown",
   "metadata": {
    "deletable": true,
    "editable": true
   },
   "source": [
    "## Niggli Cell 37"
   ]
  },
  {
   "cell_type": "code",
   "execution_count": 4,
   "metadata": {
    "collapsed": false,
    "deletable": true,
    "editable": true
   },
   "outputs": [
    {
     "data": {
      "text/plain": [
       "('base centered monoclinic', 37, 6)"
      ]
     },
     "execution_count": 4,
     "metadata": {},
     "output_type": "execute_result"
    }
   ],
   "source": [
    "A = np.transpose([[1,0,1],\n",
    "                  [1,-1.41421,-1],\n",
    "                  [-1.79092,-1.47209,0.790922]])\n",
    "niggli_id(A)"
   ]
  },
  {
   "cell_type": "code",
   "execution_count": 114,
   "metadata": {
    "collapsed": false,
    "deletable": true,
    "editable": true
   },
   "outputs": [
    {
     "data": {
      "text/plain": [
       "array([[ 1.      ,  0.      ,  1.      ],\n",
       "       [ 1.      , -1.41421 , -1.      ],\n",
       "       [-1.79092 , -1.47209 ,  0.790922]])"
      ]
     },
     "execution_count": 114,
     "metadata": {},
     "output_type": "execute_result"
    }
   ],
   "source": [
    "B = reduced_cell(A)\n",
    "np.transpose(B.niggli)"
   ]
  },
  {
   "cell_type": "markdown",
   "metadata": {
    "deletable": true,
    "editable": true
   },
   "source": [
    "Looking for alternative basis."
   ]
  },
  {
   "cell_type": "code",
   "execution_count": 5,
   "metadata": {
    "collapsed": false,
    "deletable": true,
    "editable": true
   },
   "outputs": [
    {
     "name": "stdout",
     "output_type": "stream",
     "text": [
      "1.0\n",
      "('base centered monoclinic', 37, 6)\n"
     ]
    },
    {
     "data": {
      "text/plain": [
       "array([[-1.79092 , -1.47209 ,  0.790922],\n",
       "       [ 1.      ,  0.      ,  1.      ],\n",
       "       [ 1.      , -1.41421 , -1.      ]])"
      ]
     },
     "execution_count": 5,
     "metadata": {},
     "output_type": "execute_result"
    }
   ],
   "source": [
    "import numpy as np\n",
    "temp = [[1,0,0],[0,1,0],[0,0,1]]\n",
    "#temp = [[1,0,1],[0,-1,0],[0,0,1]]\n",
    "#temp = np.dot(temp,[[1,0,0],[0,1,1],[0,0,1]])\n",
    "#temp = np.dot(temp,[[1,1,0],[0,-1,0],[0,0,1]])\n",
    "#temp = np.dot(temp,[[0,-1,0],[-1,0,0],[0,0,-1]])\n",
    "temp = np.dot(temp,[[-1,0,0],[0,0,-1],[0,-1,0]])\n",
    "temp = np.dot(temp,[[0,-1,0],[-1,0,0],[0,0,-1]])\n",
    "print(np.linalg.det(temp))\n",
    "Ap = np.dot(A,temp)\n",
    "print(niggli_id(Ap))\n",
    "np.transpose(Ap)"
   ]
  },
  {
   "cell_type": "code",
   "execution_count": 1,
   "metadata": {
    "collapsed": false,
    "deletable": true,
    "editable": true
   },
   "outputs": [
    {
     "data": {
      "text/plain": [
       "53842"
      ]
     },
     "execution_count": 1,
     "metadata": {},
     "output_type": "execute_result"
    }
   ],
   "source": [
    "from opf_python.base_mono import base_mono_37\n",
    "count = 0\n",
    "for i in range(1,201):\n",
    "    count += len(base_mono_37(i))\n",
    "count"
   ]
  },
  {
   "cell_type": "code",
   "execution_count": 2,
   "metadata": {
    "collapsed": false,
    "deletable": true,
    "editable": true
   },
   "outputs": [
    {
     "name": "stdout",
     "output_type": "stream",
     "text": [
      "2.95140385628\n"
     ]
    }
   ],
   "source": [
    "import time\n",
    "start = time.time()\n",
    "base_mono_37(100000)\n",
    "end = time.time()\n",
    "print(end-start)"
   ]
  },
  {
   "cell_type": "markdown",
   "metadata": {
    "deletable": true,
    "editable": true
   },
   "source": [
    "## Niggli Cell 39"
   ]
  },
  {
   "cell_type": "code",
   "execution_count": 5,
   "metadata": {
    "collapsed": false,
    "deletable": true,
    "editable": true
   },
   "outputs": [
    {
     "data": {
      "text/plain": [
       "('base centered monoclinic', 39, 6)"
      ]
     },
     "execution_count": 5,
     "metadata": {},
     "output_type": "execute_result"
    }
   ],
   "source": [
    "A = np.transpose([[1,0,1],\n",
    "                  [0,-1.73205,-1],\n",
    "                  [-1.66542,-0.672857,1.66542]])\n",
    "niggli_id(A)"
   ]
  },
  {
   "cell_type": "code",
   "execution_count": 117,
   "metadata": {
    "collapsed": false,
    "deletable": true,
    "editable": true
   },
   "outputs": [
    {
     "data": {
      "text/plain": [
       "array([[ 1.      ,  0.      ,  1.      ],\n",
       "       [ 0.      , -1.73205 , -1.      ],\n",
       "       [-1.66542 , -0.672857,  1.66542 ]])"
      ]
     },
     "execution_count": 117,
     "metadata": {},
     "output_type": "execute_result"
    }
   ],
   "source": [
    "B = reduced_cell(A)\n",
    "np.transpose(B.niggli)"
   ]
  },
  {
   "cell_type": "markdown",
   "metadata": {
    "deletable": true,
    "editable": true
   },
   "source": [
    "Looking for alternative basis."
   ]
  },
  {
   "cell_type": "code",
   "execution_count": 6,
   "metadata": {
    "collapsed": false,
    "deletable": true,
    "editable": true
   },
   "outputs": [
    {
     "name": "stdout",
     "output_type": "stream",
     "text": [
      "1.0\n",
      "('base centered monoclinic', 39, 6)\n"
     ]
    },
    {
     "data": {
      "text/plain": [
       "array([[ 0.      ,  1.73205 ,  1.      ],\n",
       "       [-1.      ,  0.      , -1.      ],\n",
       "       [ 1.66542 ,  0.672857, -1.66542 ]])"
      ]
     },
     "execution_count": 6,
     "metadata": {},
     "output_type": "execute_result"
    }
   ],
   "source": [
    "import numpy as np\n",
    "temp = [[1,0,0],[0,1,0],[0,0,1]]\n",
    "#temp = [[1,0,1],[0,-1,0],[0,0,1]]\n",
    "#temp = np.dot(temp,[[1,0,0],[0,1,1],[0,0,1]])\n",
    "#temp = np.dot(temp,[[1,1,0],[0,-1,0],[0,0,1]])\n",
    "#temp = np.dot(temp,[[0,-1,0],[-1,0,0],[0,0,-1]])\n",
    "#temp = np.dot(temp,[[-1,0,0],[0,0,-1],[0,-1,0]])\n",
    "temp = np.dot(temp,[[0,-1,0],[-1,0,0],[0,0,-1]])\n",
    "print(np.linalg.det(temp))\n",
    "Ap = np.dot(A,temp)\n",
    "print(niggli_id(Ap))\n",
    "np.transpose(Ap)"
   ]
  },
  {
   "cell_type": "markdown",
   "metadata": {
    "deletable": true,
    "editable": true
   },
   "source": [
    "## Niggli Cell 43"
   ]
  },
  {
   "cell_type": "code",
   "execution_count": 5,
   "metadata": {
    "collapsed": false,
    "deletable": true,
    "editable": true
   },
   "outputs": [
    {
     "data": {
      "text/plain": [
       "('body centered monoclinc', 43, 6)"
      ]
     },
     "execution_count": 5,
     "metadata": {},
     "output_type": "execute_result"
    }
   ],
   "source": [
    "A = np.transpose([[1,1,1],\n",
    "                  [1.64194,-1.14194,-1],\n",
    "                  [-1.39716,-1.34718,1.49434]])\n",
    "niggli_id(A)"
   ]
  },
  {
   "cell_type": "code",
   "execution_count": 124,
   "metadata": {
    "collapsed": false,
    "deletable": true,
    "editable": true
   },
   "outputs": [
    {
     "data": {
      "text/plain": [
       "array([[ 1.     ,  1.     ,  1.     ],\n",
       "       [ 1.64194, -1.14194, -1.     ],\n",
       "       [-1.39716, -1.34718,  1.49434]])"
      ]
     },
     "execution_count": 124,
     "metadata": {},
     "output_type": "execute_result"
    }
   ],
   "source": [
    "B = reduced_cell(A)\n",
    "np.transpose(B.niggli)"
   ]
  },
  {
   "cell_type": "markdown",
   "metadata": {
    "deletable": true,
    "editable": true
   },
   "source": [
    "Looking for alternative basis."
   ]
  },
  {
   "cell_type": "code",
   "execution_count": 9,
   "metadata": {
    "collapsed": false,
    "deletable": true,
    "editable": true
   },
   "outputs": [
    {
     "name": "stdout",
     "output_type": "stream",
     "text": [
      "1.0\n",
      "('body centered monoclinc', 43, 6)\n"
     ]
    },
    {
     "data": {
      "text/plain": [
       "array([[-0.39716, -0.34718,  2.49434],\n",
       "       [ 2.64194, -0.14194,  0.     ],\n",
       "       [-1.39716, -1.34718,  1.49434]])"
      ]
     },
     "execution_count": 9,
     "metadata": {},
     "output_type": "execute_result"
    }
   ],
   "source": [
    "#temp = [[1,0,0],[0,1,0],[0,0,1]]\n",
    "temp = [[1,1,0],[0,1,0],[1,0,1]]\n",
    "#temp = np.dot(temp,[[1,0,0],[0,1,1],[0,0,1]])\n",
    "#temp = np.dot(temp,[[1,1,0],[0,-1,0],[0,0,1]])\n",
    "#temp = np.dot(temp,[[-1,0,0],[0,0,-1],[0,-1,0]])\n",
    "#temp = np.dot(temp,[[0,-1,0],[-1,0,0],[0,0,-1]])\n",
    "#temp = np.dot(temp,[[-1,0,0],[0,0,-1],[0,-1,0]])\n",
    "#temp = np.dot(temp,[[0,-1,0],[-1,0,0],[0,0,-1]])\n",
    "print(np.linalg.det(temp))\n",
    "Ap = np.dot(A,temp)\n",
    "print(niggli_id(Ap))\n",
    "np.transpose(Ap)"
   ]
  },
  {
   "cell_type": "code",
   "execution_count": 1,
   "metadata": {
    "collapsed": false,
    "deletable": true,
    "editable": true
   },
   "outputs": [
    {
     "data": {
      "text/plain": [
       "53842"
      ]
     },
     "execution_count": 1,
     "metadata": {},
     "output_type": "execute_result"
    }
   ],
   "source": [
    "from opf_python.base_mono import base_mono_43\n",
    "count = 0\n",
    "for i in range(1,201):\n",
    "    count += len(base_mono_43(i))\n",
    "count"
   ]
  },
  {
   "cell_type": "code",
   "execution_count": 2,
   "metadata": {
    "collapsed": false,
    "deletable": true,
    "editable": true
   },
   "outputs": [
    {
     "name": "stdout",
     "output_type": "stream",
     "text": [
      "4.56314086914\n"
     ]
    }
   ],
   "source": [
    "import time\n",
    "start = time.time()\n",
    "base_mono_43(100000)\n",
    "end = time.time()\n",
    "print(end-start)"
   ]
  },
  {
   "cell_type": "code",
   "execution_count": 23,
   "metadata": {
    "collapsed": false,
    "deletable": true,
    "editable": true
   },
   "outputs": [
    {
     "data": {
      "text/plain": [
       "('triclinic', 44, 7)"
      ]
     },
     "execution_count": 23,
     "metadata": {},
     "output_type": "execute_result"
    }
   ],
   "source": [
    "niggli_id(A,G=[1,2,3,-.1,-.2,-.3])"
   ]
  },
  {
   "cell_type": "code",
   "execution_count": 2,
   "metadata": {
    "collapsed": false,
    "deletable": true,
    "editable": true
   },
   "outputs": [
    {
     "name": "stdout",
     "output_type": "stream",
     "text": [
      "[[-1.  0.  0.]\n",
      " [ 0.  1.  1.]\n",
      " [ 0.  1. -2.]]\n",
      "(1.0, 2.0, 5.0, -1.0, 0.0, 0.0)\n"
     ]
    },
    {
     "data": {
      "text/plain": [
       "('base centered orthorhombic', 40, 5, array([[ 1.      ,  1.61803 , -1.05557 ],\n",
       "        [ 1.      , -0.618034,  1.99895 ],\n",
       "        [ 1.      , -1.      , -0.943376]]))"
      ]
     },
     "execution_count": 2,
     "metadata": {},
     "output_type": "execute_result"
    }
   ],
   "source": [
    "U = [[1,0,0],[0,1,0],[0,1,3]]\n",
    "niggli_id(U)"
   ]
  },
  {
   "cell_type": "code",
   "execution_count": 3,
   "metadata": {
    "collapsed": false,
    "deletable": true,
    "editable": true
   },
   "outputs": [
    {
     "data": {
      "text/plain": [
       "array([[-1.,  0.,  0.],\n",
       "       [ 0.,  1.,  1.],\n",
       "       [ 0.,  1., -2.]])"
      ]
     },
     "execution_count": 3,
     "metadata": {},
     "output_type": "execute_result"
    }
   ],
   "source": [
    "Bu = reduced_cell(U)\n",
    "Bu.niggli"
   ]
  },
  {
   "cell_type": "code",
   "execution_count": 4,
   "metadata": {
    "collapsed": false,
    "deletable": true,
    "editable": true
   },
   "outputs": [
    {
     "data": {
      "text/plain": [
       "array([[ 1.      ,  1.61803 , -1.05557 ],\n",
       "       [ 1.      , -0.618034,  1.99895 ],\n",
       "       [ 1.      , -1.      , -0.943376]])"
      ]
     },
     "execution_count": 4,
     "metadata": {},
     "output_type": "execute_result"
    }
   ],
   "source": [
    "O = np.array([[ 1.      ,  1.61803 , -1.05557 ],\n",
    "        [ 1.      , -0.618034,  1.99895 ],\n",
    "        [ 1.      , -1.      , -0.943376]])\n",
    "Bo = reduced_cell(O)\n",
    "Bo.niggli"
   ]
  },
  {
   "cell_type": "code",
   "execution_count": 5,
   "metadata": {
    "collapsed": false,
    "deletable": true,
    "editable": true
   },
   "outputs": [],
   "source": [
    "L = np.dot(np.dot(O,[[1,0,0],[0,1,0],[0,2,3]]),np.linalg.inv(O))\n",
    "F = np.dot(np.linalg.inv(Bo.niggli),np.dot(np.dot(L,O),Bo.C))\n",
    "Su = np.dot(np.dot(Bu.niggli,F),np.linalg.inv(Bu.C))\n",
    "r = np.transpose(np.linalg.inv(U))\n",
    "g = np.linalg.inv(np.transpose(Su))\n",
    "temp = np.round(np.dot(np.linalg.inv(g),r),3)"
   ]
  },
  {
   "cell_type": "code",
   "execution_count": 6,
   "metadata": {
    "collapsed": false,
    "deletable": true,
    "editable": true
   },
   "outputs": [
    {
     "data": {
      "text/plain": [
       "array([[  1.00000000e+00,   2.22044605e-16,   6.66133815e-16],\n",
       "       [ -2.77555756e-16,   3.00000000e+00,  -8.88178420e-16],\n",
       "       [  2.22044605e-16,  -3.00000000e+00,   3.00000000e+00]])"
      ]
     },
     "execution_count": 6,
     "metadata": {},
     "output_type": "execute_result"
    }
   ],
   "source": [
    "Su"
   ]
  },
  {
   "cell_type": "code",
   "execution_count": 7,
   "metadata": {
    "collapsed": false,
    "deletable": true,
    "editable": true
   },
   "outputs": [
    {
     "data": {
      "text/plain": [
       "array([[-1.,  0.,  0.],\n",
       "       [ 0.,  0., -3.],\n",
       "       [ 0., -3.,  0.]])"
      ]
     },
     "execution_count": 7,
     "metadata": {},
     "output_type": "execute_result"
    }
   ],
   "source": [
    "bt = reduced_cell(np.round(Su,3))\n",
    "bt.niggli"
   ]
  },
  {
   "cell_type": "code",
   "execution_count": 10,
   "metadata": {
    "collapsed": false,
    "deletable": true,
    "editable": true
   },
   "outputs": [
    {
     "name": "stdout",
     "output_type": "stream",
     "text": [
      "[[ -1.00000000e+00  -6.66133815e-16  -8.88178420e-16]\n",
      " [  2.77555756e-16   8.88178420e-16  -3.00000000e+00]\n",
      " [ -2.22044605e-16  -3.00000000e+00  -2.66453526e-15]]\n",
      "(0.99999999999999956, 9.0000000000000089, 8.9999999999999893, 5.3290705182007569e-15, 5.5511151231258714e-17, 1.3322676295501882e-15)\n"
     ]
    },
    {
     "data": {
      "text/plain": [
       "('simple tetragonal', 21, 4, array([[ 0. ,  1. ,  0. ],\n",
       "        [ 0. ,  0. ,  1. ],\n",
       "        [ 0.5,  0. ,  0. ]]))"
      ]
     },
     "execution_count": 10,
     "metadata": {},
     "output_type": "execute_result"
    }
   ],
   "source": [
    "niggli_id(Su)"
   ]
  },
  {
   "cell_type": "code",
   "execution_count": 80,
   "metadata": {
    "collapsed": false,
    "deletable": true,
    "editable": true
   },
   "outputs": [
    {
     "data": {
      "text/plain": [
       "('body centered cubic', 5, 1, array([[-1,  1,  1],\n",
       "        [ 1, -1,  1],\n",
       "        [ 1,  1, -1]]))"
      ]
     },
     "execution_count": 80,
     "metadata": {},
     "output_type": "execute_result"
    }
   ],
   "source": [
    "from niggli_lat_id import niggli_id\n",
    "from fcc import fcc_1\n",
    "import numpy as np\n",
    "lat = [[0,1,1],[1,0,1],[1,1,0]]\n",
    "temp = fcc_1(16)\n",
    "lat2 = np.dot(lat,temp[0])\n",
    "niggli_id(lat2)"
   ]
  },
  {
   "cell_type": "code",
   "execution_count": 30,
   "metadata": {
    "collapsed": false,
    "deletable": true,
    "editable": true
   },
   "outputs": [
    {
     "name": "stdout",
     "output_type": "stream",
     "text": [
      "('A', 2.0, 'B', 2.0, 'C', 4.25, 'D', -0.5, 'E', -0.5, 'F', 0.0, 'pos', False, 'eps', 1e-05)\n"
     ]
    },
    {
     "data": {
      "text/plain": [
       "('base centered monoclinic', 14, 6, array([[ 1. ,  0. ,  0.5],\n",
       "        [ 1. ,  2. ,  0. ],\n",
       "        [ 0. ,  0. ,  2. ]]))"
      ]
     },
     "execution_count": 30,
     "metadata": {},
     "output_type": "execute_result"
    }
   ],
   "source": [
    "from opf_python.niggli_lat_id import niggli_id\n",
    "from opf_python.pyniggli import reduced_cell\n",
    "import numpy as np\n",
    "A = np.dot(np.transpose([[1,1,0],[0,2,0],[0.5,0,2]]),[[2,3,4],[1,0,0],[0,2,3]])\n",
    "niggli_id(A)"
   ]
  },
  {
   "cell_type": "code",
   "execution_count": 31,
   "metadata": {
    "collapsed": false,
    "deletable": true,
    "editable": true
   },
   "outputs": [
    {
     "name": "stdout",
     "output_type": "stream",
     "text": [
      "[[-1.  -1.   0.5]\n",
      " [-1.   1.   0. ]\n",
      " [ 0.   0.   2. ]]\n"
     ]
    },
    {
     "data": {
      "text/plain": [
       "array([[ 0.,  1.,  0.],\n",
       "       [-3., -9., -4.],\n",
       "       [ 2.,  6.,  3.]])"
      ]
     },
     "execution_count": 31,
     "metadata": {},
     "output_type": "execute_result"
    }
   ],
   "source": [
    "B = reduced_cell(A)\n",
    "print(B.niggli)\n",
    "B.C"
   ]
  },
  {
   "cell_type": "code",
   "execution_count": 32,
   "metadata": {
    "collapsed": false,
    "deletable": true,
    "editable": true
   },
   "outputs": [
    {
     "data": {
      "text/plain": [
       "-4.0"
      ]
     },
     "execution_count": 32,
     "metadata": {},
     "output_type": "execute_result"
    }
   ],
   "source": [
    "np.linalg.det(A)"
   ]
  },
  {
   "cell_type": "code",
   "execution_count": 87,
   "metadata": {
    "collapsed": false,
    "deletable": true,
    "editable": true
   },
   "outputs": [
    {
     "data": {
      "text/plain": [
       "2.0000103258499999"
      ]
     },
     "execution_count": 87,
     "metadata": {},
     "output_type": "execute_result"
    }
   ],
   "source": [
    "np.dot(A[:,2],A[:,2])"
   ]
  },
  {
   "cell_type": "code",
   "execution_count": 41,
   "metadata": {
    "collapsed": false,
    "deletable": true,
    "editable": true
   },
   "outputs": [
    {
     "name": "stdout",
     "output_type": "stream",
     "text": [
      "('A', 4.0, 'B', 4.25, 'C', 16.0, 'D', 0.0, 'E', 0.0, 'F', -1.0, 'pos', False, 'eps', 1e-05)\n"
     ]
    },
    {
     "data": {
      "text/plain": [
       "('simple monoclinic', 34, 6, array([[ 1.        ,  1.22474487, -0.16598509],\n",
       "        [ 1.        , -1.22474487, -1.64308297],\n",
       "        [ 1.        , -2.        ,  1.80906806]]))"
      ]
     },
     "execution_count": 41,
     "metadata": {},
     "output_type": "execute_result"
    }
   ],
   "source": [
    "A = np.array([[4,7,9.5],[12,12,16],[0,4,6]])\n",
    "niggli_id(A)"
   ]
  },
  {
   "cell_type": "code",
   "execution_count": 29,
   "metadata": {
    "collapsed": false,
    "deletable": true,
    "editable": true
   },
   "outputs": [
    {
     "data": {
      "text/plain": [
       "-16.000000000000021"
      ]
     },
     "execution_count": 29,
     "metadata": {},
     "output_type": "execute_result"
    }
   ],
   "source": [
    "np.linalg.det(A)"
   ]
  },
  {
   "cell_type": "code",
   "execution_count": 238,
   "metadata": {
    "collapsed": false,
    "deletable": true,
    "editable": true
   },
   "outputs": [
    {
     "name": "stdout",
     "output_type": "stream",
     "text": [
      "44\n"
     ]
    }
   ],
   "source": [
    "from opf_python.niggli_lat_id import niggli_id\n",
    "import numpy as np\n",
    "A = np.array([[ 2.24478,  3.48956, -1.79432],\n",
    "         [-0.48912, -1.97824, -1.69436],\n",
    "         [ 2.49434,  3.98868,  3.98868]])\n",
    "lat_name, nig_n, lat_fam, basis = niggli_id(A)\n",
    "print(nig_n)"
   ]
  },
  {
   "cell_type": "code",
   "execution_count": 239,
   "metadata": {
    "collapsed": false,
    "deletable": true,
    "editable": true
   },
   "outputs": [],
   "source": [
    "from opf_python.universal import find_volumes\n",
    "a,b = find_volumes(nig_n,5)\n",
    "#a = [5]"
   ]
  },
  {
   "cell_type": "code",
   "execution_count": 245,
   "metadata": {
    "collapsed": false,
    "deletable": true,
    "editable": true
   },
   "outputs": [],
   "source": [
    "from opf_python.base_mono import base_mono_43 as get_HNFs\n",
    "from opf_python.universal import get_HNF_diagonals\n",
    "from opf_python.universal import transform_supercells\n",
    "from opf_python.niggli_lat_id import niggli_id\n",
    "from opf_python.pyniggli import reduced_cell\n",
    "lat_name, nig_n, lat_fam, basis = niggli_id(A)\n",
    "Bu = reduced_cell(A)\n",
    "Nu = Bu.niggli\n",
    "Cu = Bu.C\n",
    "if nig_n in [44]:\n",
    "    basis = A\n",
    "Bo = reduced_cell(basis)\n",
    "No = Bo.niggli\n",
    "Co = Bo.C\n",
    "\n",
    "spHNFs = []\n",
    "count = 0\n",
    "\n",
    "if len(a) ==1 and nig_n not in [44]:\n",
    "    n = a[0]\n",
    "    spHNFs = get_HNFs(n)\n",
    "elif nig_n in [1,3,5]:\n",
    "    for n in a:\n",
    "        temp = get_HNFs(n)\n",
    "        for t in temp:\n",
    "            spHNFs.append(t) \n",
    "elif nig_n in [44]:\n",
    "    for n in a:\n",
    "        diags = get_HNF_diagonals(n)\n",
    "        for diag in diags:\n",
    "            at = diag[0]\n",
    "            c = diag[1]\n",
    "            f = diag[2]\n",
    "            for bt in range(c):\n",
    "               for d in range(f):\n",
    "                    for e in range(f):\n",
    "                        HNF = np.array([[at,0,0],[bt,c,0],[d,e,f]])\n",
    "                        spHNFs.append(HNF*b)\n",
    "\n",
    "else:\n",
    "    for n in a:\n",
    "        temp = get_HNFs(n)\n",
    "        if len(temp) >1:\n",
    "            count += 1\n",
    "            for t in temp:\n",
    "                spHNFs.append(t)\n",
    "        if count==5:\n",
    "            break\n",
    "        \n",
    "Bs = np.array(transform_supercells(spHNFs, No, Nu, Co, Cu, basis))"
   ]
  },
  {
   "cell_type": "code",
   "execution_count": 246,
   "metadata": {
    "collapsed": false,
    "deletable": true,
    "editable": true
   },
   "outputs": [
    {
     "data": {
      "text/plain": [
       "[5]"
      ]
     },
     "execution_count": 246,
     "metadata": {},
     "output_type": "execute_result"
    }
   ],
   "source": [
    "a"
   ]
  },
  {
   "cell_type": "code",
   "execution_count": 247,
   "metadata": {
    "collapsed": false,
    "deletable": true,
    "editable": true
   },
   "outputs": [
    {
     "data": {
      "text/plain": [
       "(31, 3, 3)"
      ]
     },
     "execution_count": 247,
     "metadata": {},
     "output_type": "execute_result"
    }
   ],
   "source": [
    "Bs.shape"
   ]
  },
  {
   "cell_type": "code",
   "execution_count": 248,
   "metadata": {
    "collapsed": false,
    "deletable": true,
    "editable": true
   },
   "outputs": [],
   "source": [
    "name = 'find_supercells_basis_{0}_{1}.txt'.format('44',*Bs.shape)\n",
    "np.savetxt(\"/Users/wileymorgan/codes/opf_kgrids/src/tests/test_output/\"+name,Bs.flatten())"
   ]
  },
  {
   "cell_type": "code",
   "execution_count": 60,
   "metadata": {
    "collapsed": false,
    "deletable": true,
    "editable": true
   },
   "outputs": [
    {
     "data": {
      "text/plain": [
       "('simple cubic', 3, 1, array([[1, 0, 0],\n",
       "        [0, 1, 0],\n",
       "        [0, 0, 1]]))"
      ]
     },
     "execution_count": 60,
     "metadata": {},
     "output_type": "execute_result"
    }
   ],
   "source": [
    "from opf_python.niggli_lat_id import niggli_id\n",
    "from opf_python.pyniggli import reduced_cell\n",
    "import numpy as np\n",
    "count = 1\n",
    "U = np.transpose([[1,0,0],[0,1,0],[0,0,1]])\n",
    "niggli_id(U)"
   ]
  },
  {
   "cell_type": "code",
   "execution_count": 61,
   "metadata": {
    "collapsed": false,
    "deletable": true,
    "editable": true
   },
   "outputs": [],
   "source": [
    "from opf_python.sc import sc_3 as spHNF\n",
    "Bu = reduced_cell(U)\n",
    "Cu = Bu.C\n",
    "Cu = Cu.astype(int)\n",
    "Nu = Bu.niggli\n",
    "O = niggli_id(U)[3]\n",
    "Bo = reduced_cell(O)\n",
    "Co = Bo.C\n",
    "Co = Co.astype(int)\n",
    "No = Bo.niggli\n",
    "HNF = spHNF(16)[0]"
   ]
  },
  {
   "cell_type": "code",
   "execution_count": 62,
   "metadata": {
    "collapsed": false,
    "deletable": true,
    "editable": true
   },
   "outputs": [],
   "source": [
    "base_dir = \"/Users/wileymorgan/codes/opf_kgrids/src/fortran/tests/find_kgrids/transform_supercell_{0}.{1}\"\n",
    "with open(base_dir.format(\"O.in\",count),'w+') as f:\n",
    "    for i in O:\n",
    "        f.write(\"{0} {1} {2}\\n\".format(*i))\n",
    "with open(base_dir.format(\"No.in\",count),'w+') as f:\n",
    "    for i in No:\n",
    "        f.write(\"{0} {1} {2}\\n\".format(*i))\n",
    "with open(base_dir.format(\"Co.in\",count),'w+') as f:\n",
    "    for i in Co:\n",
    "        f.write(\"{0} {1} {2}\\n\".format(*i))\n",
    "with open(base_dir.format(\"Cu.in\",count),'w+') as f:\n",
    "    for i in Cu:\n",
    "        f.write(\"{0} {1} {2}\\n\".format(*i))\n",
    "with open(base_dir.format(\"Nu.in\",count),'w+') as f:\n",
    "    for i in Nu:\n",
    "        f.write(\"{0} {1} {2}\\n\".format(*i))\n",
    "with open(base_dir.format(\"HNF.in\",count),'w+') as f:\n",
    "    for i in HNF:\n",
    "        f.write(\"{0} {1} {2}\\n\".format(*i))    "
   ]
  },
  {
   "cell_type": "code",
   "execution_count": 73,
   "metadata": {
    "collapsed": false,
    "deletable": true,
    "editable": true
   },
   "outputs": [],
   "source": [
    "L = np.dot(np.dot(O,HNF),np.linalg.inv(O))\n",
    "F = np.dot(np.linalg.inv(No),np.dot(np.dot(L,O),Co))\n",
    "Bu = np.dot(np.dot(Nu,F),np.linalg.inv(Cu))\n",
    "#with open(base_dir.format(\"Bu.out\",count),'w+') as f:\n",
    "#    for i in Bu:\n",
    "#        f.write(\"{0} {1} {2}\\n\".format(*i))    "
   ]
  },
  {
   "cell_type": "code",
   "execution_count": 78,
   "metadata": {
    "collapsed": false,
    "deletable": true,
    "editable": true
   },
   "outputs": [],
   "source": [
    "temp = np.loadtxt(\"/Users/wileymorgan/codes/opf_kgrids/src/tests/test_output/find_supercells_hex_12_14.txt\").reshape(14,3,3)"
   ]
  },
  {
   "cell_type": "code",
   "execution_count": 1,
   "metadata": {
    "collapsed": true,
    "deletable": true,
    "editable": true
   },
   "outputs": [],
   "source": [
    "count = 37"
   ]
  },
  {
   "cell_type": "code",
   "execution_count": 2,
   "metadata": {
    "collapsed": false,
    "deletable": true,
    "editable": true
   },
   "outputs": [],
   "source": [
    "from opf_python.universal import find_supercells\n",
    "import numpy as np\n",
    "\n",
    "folder = \"/Users/wileymorgan/codes/opf_kgrids/src/fortran/tests/find_kgrids/{0}.{1}\"\n",
    "\n",
    "A = [[ 2.24478,  3.48956, -1.79432],\n",
    "         [-0.48912, -1.97824, -1.69436],\n",
    "         [ 2.49434,  3.98868,  3.98868]]\n",
    "Bs = find_supercells(A,5)\n",
    "\n",
    "with open(folder.format(\"find_grids_lat_vecs.in\",count),\"w+\") as f:\n",
    "    for j in A:\n",
    "        f.write(\"    {}\\n\".format(\"    \".join([str(z) for z in j])))\n",
    "with open(folder.format(\"find_grids_kpd.in\",count),\"w+\") as f:\n",
    "    f.write(\"5\")\n",
    "        \n",
    "\n",
    "temp2 = []\n",
    "for b in Bs:\n",
    "    temp2.append(np.transpose(np.linalg.inv(b)))\n",
    "temp2 = np.array(temp2)\n",
    "temp = temp2\n",
    "temp2 = np.moveaxis(temp2,0,2)         \n",
    "\n",
    "with open(folder.format(\"grids.out\",count),\"w+\") as f:\n",
    "    f.write('# <fortpy version=\"1\" template=\"real\"></fortpy>\\n')\n",
    "    f.write(\"##               {}\\n\".format(\"               \".join([str(i) for i in temp2.shape])))\n",
    "    for i in range(len(temp2)):\n",
    "        f.write(\"##               {}               0                0\\n\".format(i+1))\n",
    "        for j in range(len(temp2[i])):\n",
    "            f.write(\"                        {}\\n\".format(\"                        \".join([str(z) for z in temp2[i,j]])))\n",
    "            \n",
    "count += 1    \n"
   ]
  },
  {
   "cell_type": "code",
   "execution_count": 3,
   "metadata": {
    "collapsed": false,
    "deletable": true,
    "editable": true
   },
   "outputs": [
    {
     "data": {
      "text/plain": [
       "38"
      ]
     },
     "execution_count": 3,
     "metadata": {},
     "output_type": "execute_result"
    }
   ],
   "source": [
    "count"
   ]
  },
  {
   "cell_type": "code",
   "execution_count": 26,
   "metadata": {
    "collapsed": true
   },
   "outputs": [],
   "source": [
    "count = 1"
   ]
  },
  {
   "cell_type": "code",
   "execution_count": 39,
   "metadata": {
    "collapsed": true
   },
   "outputs": [],
   "source": [
    "from opf_python.universal import find_supercells\n",
    "import numpy as np\n",
    "from phenum.vector_utils import _minkowski_reduce_basis\n",
    "\n",
    "A = [[-2, -1, -2],\n",
    "         [-1, -3, -1],\n",
    "         [ 1,  4,  3]]\n",
    "shift = [0.0,0.0,0.0]\n",
    "Bs = find_supercells(A,2)\n",
    "\n",
    "grids = []\n",
    "for b in Bs:\n",
    "    grids.append(np.linalg.inv(np.transpose(b)))\n",
    "#grids = [grids[2],grids[0],grids[1]]\n",
    "grids.pop(0)\n",
    "mink_grids = []\n",
    "for g in grids:\n",
    "    mink_grids.append(np.transpose(_minkowski_reduce_basis(np.transpose(g),1E-3)))\n",
    "rmin = []\n",
    "for m in mink_grids:\n",
    "    rmin.append(min(np.linalg.norm(m,axis=0)))    \n",
    "\n",
    "best_grid = grids[rmin.index(max(rmin))]"
   ]
  },
  {
   "cell_type": "code",
   "execution_count": 41,
   "metadata": {
    "collapsed": false
   },
   "outputs": [
    {
     "data": {
      "text/plain": [
       "array([[-0.5 ,  0.3 , -0.2 ],\n",
       "       [-0.5 , -0.1 ,  0.4 ],\n",
       "       [-0.5 , -0.25,  0.75]])"
      ]
     },
     "execution_count": 41,
     "metadata": {},
     "output_type": "execute_result"
    }
   ],
   "source": [
    "best_grid"
   ]
  },
  {
   "cell_type": "code",
   "execution_count": 43,
   "metadata": {
    "collapsed": false
   },
   "outputs": [],
   "source": [
    "folder = \"/Users/wileymorgan/codes/opf_kgrids/src/fortran/tests/find_kgrids/{0}.{1}\"\n",
    "\n",
    "with open(folder.format(\"grid_selection_lat_vecs.in\",count),\"w+\") as f:\n",
    "    for j in A:\n",
    "        f.write(\"    {}\\n\".format(\"    \".join([str(z) for z in j])))\n",
    "with open(folder.format(\"grid_selection_shift.in\",count),\"w+\") as f:\n",
    "    f.write(\"    {}\\n\".format(\"    \".join([str(z) for z in shift])))\n",
    "\n",
    "temp2 = np.array(grids)\n",
    "temp = temp2\n",
    "temp2 = np.moveaxis(temp2,0,2)         \n",
    "\n",
    "with open(folder.format(\"grid_selection_grids.in\",count),\"w+\") as f:\n",
    "    f.write('# <fortpy version=\"1\" template=\"real\"></fortpy>\\n')\n",
    "    f.write(\"##               {}\\n\".format(\"               \".join([str(i) for i in temp2.shape])))\n",
    "    for i in range(len(temp2)):\n",
    "        f.write(\"##               {}               0                0\\n\".format(i+1))\n",
    "        for j in range(len(temp2[i])):\n",
    "            f.write(\"                        {}\\n\".format(\"                        \".join([str(z) for z in temp2[i,j]])))\n",
    "            \n",
    "with open(folder.format(\"grid_selection_best_grid.out\",count),\"w+\") as f:\n",
    "    for j in best_grid:\n",
    "        f.write(\"    {}\\n\".format(\"    \".join([str(z) for z in j])))\n",
    "\n",
    "count += 1"
   ]
  },
  {
   "cell_type": "code",
   "execution_count": 42,
   "metadata": {
    "collapsed": false
   },
   "outputs": [
    {
     "data": {
      "text/plain": [
       "3"
      ]
     },
     "execution_count": 42,
     "metadata": {},
     "output_type": "execute_result"
    }
   ],
   "source": [
    "count"
   ]
  },
  {
   "cell_type": "code",
   "execution_count": null,
   "metadata": {
    "collapsed": true
   },
   "outputs": [],
   "source": []
  }
 ],
 "metadata": {
  "kernelspec": {
   "display_name": "Python 2",
   "language": "python",
   "name": "python2"
  },
  "language_info": {
   "codemirror_mode": {
    "name": "ipython",
    "version": 2
   },
   "file_extension": ".py",
   "mimetype": "text/x-python",
   "name": "python",
   "nbconvert_exporter": "python",
   "pygments_lexer": "ipython2",
   "version": "2.7.9"
  }
 },
 "nbformat": 4,
 "nbformat_minor": 2
}
