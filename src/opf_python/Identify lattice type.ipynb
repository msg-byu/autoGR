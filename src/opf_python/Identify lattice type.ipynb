{
 "cells": [
  {
   "cell_type": "markdown",
   "metadata": {
    "deletable": true,
    "editable": true
   },
   "source": [
    "We need to be able to identify the lattice type of any lattice. This is most easily done by reducing the lattice then 'looking' at the relative size of the vectors and the angles between them."
   ]
  },
  {
   "cell_type": "code",
   "execution_count": 1,
   "metadata": {
    "collapsed": true,
    "deletable": true,
    "editable": true
   },
   "outputs": [],
   "source": [
    "import numpy as np"
   ]
  },
  {
   "cell_type": "code",
   "execution_count": 2,
   "metadata": {
    "collapsed": false,
    "deletable": true,
    "editable": true
   },
   "outputs": [],
   "source": [
    "def lat_type(lat):\n",
    "    \"\"\"Finds the lattice type for the provided lattice vectors.\n",
    "    \n",
    "    Args:\n",
    "        lat (numpy.array): the lattice vectors as columns of the matrix.\n",
    "        \n",
    "    Returns:\n",
    "        latType (str): the type of lattice, i.e., sc, bcc, fcc, st, so....\n",
    "        latBasis (numpy.array): The canonical basis for this lattice.\n",
    "    \"\"\"\n",
    "    \n",
    "    from phenum.vector_utils import _minkowski_reduce_basis\n",
    "    from phenum.symmetry import _get_lattice_pointGroup\n",
    "    \n",
    "    clat = np.array(_minkowski_reduce_basis(lat,1E-10))\n",
    "    #clat = lat\n",
    "    print(clat)\n",
    "    latType = None\n",
    "    \n",
    "    a1 = clat[0]\n",
    "    a2 = clat[1]\n",
    "    a3 = clat[2]\n",
    "    \n",
    "    a1n = np.sqrt(np.dot(a1,a1))\n",
    "    a2n = np.sqrt(np.dot(a2,a2))\n",
    "    a3n = np.sqrt(np.dot(a3,a3))\n",
    "    a1ta2 = np.dot(a1,a2)/abs(float(a1n*a2n))\n",
    "    a1ta3 = np.dot(a1,a3)/abs(float(a1n*a3n))\n",
    "    a2ta3 = np.dot(a2,a3)/abs(float(a2n*a3n))\n",
    "    \n",
    "    tiny = 1E-6\n",
    "    \n",
    "    p_count = 0\n",
    "    if abs(a1ta2)<tiny:\n",
    "        p_count += 1\n",
    "    if abs(a1ta3)<tiny:\n",
    "        p_count += 1\n",
    "    if abs(a2ta3)<tiny:\n",
    "        p_count += 1\n",
    "    \n",
    "    ## find pg to determine crystial family\n",
    "    ## once family is found go through possible lattice system\n",
    "    fam = len(_get_lattice_pointGroup(clat))\n",
    "    if fam == 48: #cubic\n",
    "        if p_count==3:\n",
    "            print('sc')\n",
    "            latType = 'sc'\n",
    "        elif abs(a1ta2 +1./3.) <tiny or abs(a1ta3+1./3.)<tiny or abs(a2ta3+1./3.)<tiny:\n",
    "            print('bcc')\n",
    "            latType = 'bcc'\n",
    "        elif abs(a1ta2-1./2.)<tiny or abs(a1ta3-1./2.)<tiny or abs(a2ta3-1./2.)<tiny:\n",
    "            print('fcc')\n",
    "            latType = 'fcc'\n",
    "        else:\n",
    "            print(\"Could not identify lattice (cubic).\")\n",
    "    elif fam == 24: #hex\n",
    "        print(\"hex\")\n",
    "        latType = 'hex'\n",
    "    elif fam == 12: #trig\n",
    "        print(\"trig\")\n",
    "        latType = 'trig'\n",
    "    elif fam == 16: #tet\n",
    "        print(\"p count: \",p_count)\n",
    "        if p_count==3:\n",
    "            print('stet')\n",
    "            latType = 'stet'\n",
    "        else:\n",
    "            print(\"btet\")\n",
    "            latTyp = 'btet'\n",
    "    elif fam == 8: #ortho\n",
    "        if p_count == 3:\n",
    "            print(\"so\")\n",
    "            latType = 'so'\n",
    "        elif p_count == 2:\n",
    "            if ((abs(abs(a1ta2)-0.5)<tiny and abs(a1n-a2n)<tiny) or \n",
    "            (abs(abs(a1ta3)-0.5)<tiny and abs(a1n-a3n)<tiny)or \n",
    "            (abs(abs(a2ta3)-0.5)<tiny and abs(a2n-a3n)<tiny)):\n",
    "                print('hex')\n",
    "                latType = 'hex'\n",
    "            else:\n",
    "                print(\"co\")\n",
    "                latType = 'co'\n",
    "        elif (p_count == 1 ):\n",
    "            if abs(a1ta2)<tiny:\n",
    "                pa3ta1n = np.linalg.norm(np.dot(a3,a1)/np.dot(a1,a1))\n",
    "                pa3ta2n = np.linalg.norm(np.dot(a3,a2)/np.dot(a2,a2))\n",
    "                if (pa3ta1n-a1n/2.)<tiny and (pa3ta2n -a2n/2.)<tiny:\n",
    "                    print('bo')\n",
    "                    latType = 'bo'\n",
    "                else:\n",
    "                    print('fo')\n",
    "                    latType = 'fo'\n",
    "            elif abs(a1ta3)<tiny:\n",
    "                pa2ta1n = np.linalg.norm(np.dot(a2,a1)/np.dot(a1,a1))\n",
    "                pa2ta3n = np.linalg.norm(np.dot(a2,a3)/np.dot(a3,a3))\n",
    "                if (pa2ta1n-a1n/2.)<tiny and (pa2ta3n -a3n/2.)<tiny:\n",
    "                    print('bo')\n",
    "                    latType = 'bo'\n",
    "                else:\n",
    "                    print('fo')\n",
    "                    latType = 'fo'                \n",
    "            else:\n",
    "                pa1ta2n = np.linalg.norm(np.dot(a1,a2)/np.dot(a2,a2))\n",
    "                pa1ta3n = np.linalg.norm(np.dot(a1,a3)/np.dot(a3,a3))\n",
    "                if (pa1ta2n-a2n/2.)<tiny and (pa1ta3n -a3n/2.)<tiny:\n",
    "                    print('bo')\n",
    "                    latType = 'bo'\n",
    "                else:\n",
    "                    print('fo')\n",
    "                    latType = 'fo'\n",
    "        elif(abs(a1n-a2n)<tiny and abs(a2n-a3n)<tiny):\n",
    "            print('bo')\n",
    "            latType = 'bo'\n",
    "        elif (abs(a1n-a2n)>tiny and abs(a1n-a3n)>tiny and abs(a2n-a3n)>tiny):\n",
    "            print('fo')\n",
    "            latType = 'fo'\n",
    "        else:\n",
    "            print(\"Could not identify lattice (ortho)\")\n",
    "    elif fam == 4: #mono\n",
    "        if p_count==2:\n",
    "            print('sm')\n",
    "            latType = 'sm'\n",
    "        else:\n",
    "            print(\"cm\")\n",
    "            latType = 'cm'\n",
    "    elif fam == 2: #tric\n",
    "        print(\"tric\")\n",
    "        latType = 'tric'\n",
    "    else:\n",
    "        print(\"Could not indentify lattice.\")\n",
    "    \n",
    "    \n",
    "    "
   ]
  },
  {
   "cell_type": "code",
   "execution_count": 4,
   "metadata": {
    "collapsed": false,
    "deletable": true,
    "editable": true
   },
   "outputs": [
    {
     "name": "stdout",
     "output_type": "stream",
     "text": [
      "[[  2.00000000e+00   2.00000000e+00   0.00000000e+00]\n",
      " [ -2.00000000e+00   2.00000000e+00   0.00000000e+00]\n",
      " [  0.00000000e+00   0.00000000e+00   2.66200000e+03]]\n"
     ]
    },
    {
     "ename": "KeyboardInterrupt",
     "evalue": "",
     "output_type": "error",
     "traceback": [
      "\u001b[0;31m---------------------------------------------------------------------------\u001b[0m",
      "\u001b[0;31mKeyboardInterrupt\u001b[0m                         Traceback (most recent call last)",
      "\u001b[0;32m<ipython-input-4-88a159a726af>\u001b[0m in \u001b[0;36m<module>\u001b[0;34m()\u001b[0m\n\u001b[1;32m      4\u001b[0m lat_type([[2.0000000000000000, 2.0000000000000000, 0.0000000000000000],\n\u001b[1;32m      5\u001b[0m          \u001b[0;34m[\u001b[0m\u001b[0;36m0.0000000000000000\u001b[0m\u001b[0;34m,\u001b[0m \u001b[0;36m4.0000000000000000\u001b[0m\u001b[0;34m,\u001b[0m \u001b[0;36m0.0000000000000000\u001b[0m\u001b[0;34m]\u001b[0m\u001b[0;34m,\u001b[0m\u001b[0;34m\u001b[0m\u001b[0m\n\u001b[0;32m----> 6\u001b[0;31m          [0.0000000000000000, 0.0000000000000000, 2662.0000000000000]])\n\u001b[0m",
      "\u001b[0;32m<ipython-input-2-fae9341b0cb8>\u001b[0m in \u001b[0;36mlat_type\u001b[0;34m(lat)\u001b[0m\n\u001b[1;32m     41\u001b[0m     \u001b[0;31m## find pg to determine crystial family\u001b[0m\u001b[0;34m\u001b[0m\u001b[0;34m\u001b[0m\u001b[0m\n\u001b[1;32m     42\u001b[0m     \u001b[0;31m## once family is found go through possible lattice system\u001b[0m\u001b[0;34m\u001b[0m\u001b[0;34m\u001b[0m\u001b[0m\n\u001b[0;32m---> 43\u001b[0;31m     \u001b[0mfam\u001b[0m \u001b[0;34m=\u001b[0m \u001b[0mlen\u001b[0m\u001b[0;34m(\u001b[0m\u001b[0m_get_lattice_pointGroup\u001b[0m\u001b[0;34m(\u001b[0m\u001b[0mclat\u001b[0m\u001b[0;34m)\u001b[0m\u001b[0;34m)\u001b[0m\u001b[0;34m\u001b[0m\u001b[0m\n\u001b[0m\u001b[1;32m     44\u001b[0m     \u001b[0;32mif\u001b[0m \u001b[0mfam\u001b[0m \u001b[0;34m==\u001b[0m \u001b[0;36m48\u001b[0m\u001b[0;34m:\u001b[0m \u001b[0;31m#cubic\u001b[0m\u001b[0;34m\u001b[0m\u001b[0m\n\u001b[1;32m     45\u001b[0m         \u001b[0;32mif\u001b[0m \u001b[0mp_count\u001b[0m\u001b[0;34m==\u001b[0m\u001b[0;36m3\u001b[0m\u001b[0;34m:\u001b[0m\u001b[0;34m\u001b[0m\u001b[0m\n",
      "\u001b[0;32m/Users/wileymorgan/.virtualenvs/kpoints/lib/python2.7/site-packages/phenum/symmetry.pyc\u001b[0m in \u001b[0;36m_get_lattice_pointGroup\u001b[0;34m(aVecs, eps)\u001b[0m\n\u001b[1;32m    196\u001b[0m         \u001b[0;32mfor\u001b[0m \u001b[0mj\u001b[0m \u001b[0;32min\u001b[0m \u001b[0mrange\u001b[0m\u001b[0;34m(\u001b[0m\u001b[0;34m-\u001b[0m\u001b[0mint\u001b[0m\u001b[0;34m(\u001b[0m\u001b[0mround\u001b[0m\u001b[0;34m(\u001b[0m\u001b[0mn2\u001b[0m\u001b[0;34m)\u001b[0m\u001b[0;34m)\u001b[0m\u001b[0;34m,\u001b[0m \u001b[0mint\u001b[0m\u001b[0;34m(\u001b[0m\u001b[0mround\u001b[0m\u001b[0;34m(\u001b[0m\u001b[0mn2\u001b[0m\u001b[0;34m)\u001b[0m\u001b[0;34m)\u001b[0m\u001b[0;34m+\u001b[0m\u001b[0;36m1\u001b[0m\u001b[0;34m)\u001b[0m\u001b[0;34m:\u001b[0m\u001b[0;34m\u001b[0m\u001b[0m\n\u001b[1;32m    197\u001b[0m             \u001b[0;32mfor\u001b[0m \u001b[0mk\u001b[0m \u001b[0;32min\u001b[0m \u001b[0mrange\u001b[0m\u001b[0;34m(\u001b[0m\u001b[0;34m-\u001b[0m\u001b[0mint\u001b[0m\u001b[0;34m(\u001b[0m\u001b[0mround\u001b[0m\u001b[0;34m(\u001b[0m\u001b[0mn3\u001b[0m\u001b[0;34m)\u001b[0m\u001b[0;34m)\u001b[0m\u001b[0;34m,\u001b[0m \u001b[0mint\u001b[0m\u001b[0;34m(\u001b[0m\u001b[0mround\u001b[0m\u001b[0;34m(\u001b[0m\u001b[0mn3\u001b[0m\u001b[0;34m)\u001b[0m\u001b[0;34m)\u001b[0m\u001b[0;34m+\u001b[0m\u001b[0;36m1\u001b[0m\u001b[0;34m)\u001b[0m\u001b[0;34m:\u001b[0m\u001b[0;34m\u001b[0m\u001b[0m\n\u001b[0;32m--> 198\u001b[0;31m                 \u001b[0mthis_vector\u001b[0m \u001b[0;34m=\u001b[0m \u001b[0mi\u001b[0m\u001b[0;34m*\u001b[0m\u001b[0maVecs\u001b[0m\u001b[0;34m[\u001b[0m\u001b[0;36m0\u001b[0m\u001b[0;34m]\u001b[0m \u001b[0;34m+\u001b[0m \u001b[0mj\u001b[0m\u001b[0;34m*\u001b[0m\u001b[0maVecs\u001b[0m\u001b[0;34m[\u001b[0m\u001b[0;36m1\u001b[0m\u001b[0;34m]\u001b[0m \u001b[0;34m+\u001b[0m \u001b[0mk\u001b[0m\u001b[0;34m*\u001b[0m\u001b[0maVecs\u001b[0m\u001b[0;34m[\u001b[0m\u001b[0;36m2\u001b[0m\u001b[0;34m]\u001b[0m\u001b[0;34m\u001b[0m\u001b[0m\n\u001b[0m\u001b[1;32m    199\u001b[0m                 \u001b[0mlength\u001b[0m \u001b[0;34m=\u001b[0m \u001b[0mnumpy\u001b[0m\u001b[0;34m.\u001b[0m\u001b[0mlinalg\u001b[0m\u001b[0;34m.\u001b[0m\u001b[0mnorm\u001b[0m\u001b[0;34m(\u001b[0m\u001b[0mthis_vector\u001b[0m\u001b[0;34m)\u001b[0m\u001b[0;34m\u001b[0m\u001b[0m\n\u001b[1;32m    200\u001b[0m                 \u001b[0;32mif\u001b[0m \u001b[0;34m(\u001b[0m\u001b[0mlength\u001b[0m \u001b[0;34m>\u001b[0m \u001b[0mmax_norm\u001b[0m \u001b[0;34m+\u001b[0m \u001b[0meps\u001b[0m\u001b[0;34m)\u001b[0m\u001b[0;34m:\u001b[0m\u001b[0;34m\u001b[0m\u001b[0m\n",
      "\u001b[0;31mKeyboardInterrupt\u001b[0m: "
     ]
    }
   ],
   "source": [
    "#lat_type([[0,0.5,0.5],[0.5,0,0.5],[0.5,0.5,0]])\n",
    "#lat_type([[0.5,1,0],[0,1,2],[0,0,4]])\n",
    "#lat_type([[1,0,0],[0.5,0.866025403784439,0],[0,0,2]])\n",
    "lat_type([[2.0000000000000000, 2.0000000000000000, 0.0000000000000000],\n",
    "         [0.0000000000000000, 4.0000000000000000, 0.0000000000000000],\n",
    "         [0.0000000000000000, 0.0000000000000000, 2662.0000000000000]])"
   ]
  },
  {
   "cell_type": "code",
   "execution_count": 5,
   "metadata": {
    "collapsed": false,
    "deletable": true,
    "editable": true
   },
   "outputs": [
    {
     "name": "stdout",
     "output_type": "stream",
     "text": [
      "[[  -2.    -2.     0. ]\n",
      " [ 665.5 -665.5    0. ]\n",
      " [   1.     1.     6. ]]\n",
      "co\n"
     ]
    }
   ],
   "source": [
    "lat_type([[1.0000000000000000, 1.0000000000000000, 6.0000000000000000],\n",
    "          [0.0000000000000000, 0.0000000000000000, 12.000000000000000],\n",
    "          [665.50000000000000,-665.50000000000000, 0.0000000000000000]])"
   ]
  },
  {
   "cell_type": "code",
   "execution_count": null,
   "metadata": {
    "collapsed": true,
    "deletable": true,
    "editable": true
   },
   "outputs": [],
   "source": []
  }
 ],
 "metadata": {
  "kernelspec": {
   "display_name": "Python 2",
   "language": "python",
   "name": "python2"
  },
  "language_info": {
   "codemirror_mode": {
    "name": "ipython",
    "version": 2
   },
   "file_extension": ".py",
   "mimetype": "text/x-python",
   "name": "python",
   "nbconvert_exporter": "python",
   "pygments_lexer": "ipython2",
   "version": "2.7.9"
  }
 },
 "nbformat": 4,
 "nbformat_minor": 2
}
