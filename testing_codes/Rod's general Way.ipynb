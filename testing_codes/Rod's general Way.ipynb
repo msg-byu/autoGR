{
 "cells": [
  {
   "cell_type": "markdown",
   "metadata": {
    "deletable": true,
    "editable": true
   },
   "source": [
    "# Rod's solution\n",
    "The idea is to solve the equations as they come in a LCD GCM style for the given relations.\n",
    "See Rod's write up on the divosor's for the relations.\n",
    "We first need to know the possible value of (a,c,f) for the given determinant."
   ]
  },
  {
   "cell_type": "code",
   "execution_count": 1,
   "metadata": {
    "collapsed": false,
    "deletable": true,
    "editable": true
   },
   "outputs": [],
   "source": [
    "from conditions import div_HNF"
   ]
  },
  {
   "cell_type": "code",
   "execution_count": 2,
   "metadata": {
    "collapsed": false,
    "deletable": true,
    "editable": true
   },
   "outputs": [
    {
     "name": "stdout",
     "output_type": "stream",
     "text": [
      "('diag', [1, 1, 64])\n",
      "('diag', [1, 2, 32])\n",
      "('diag', [1, 4, 16])\n",
      "('diag', [1, 8, 8])\n",
      "('diag', [1, 16, 4])\n",
      "('diag', [1, 32, 2])\n",
      "('diag', [1, 64, 1])\n",
      "('diag', [2, 1, 32])\n",
      "('diag', [2, 2, 16])\n",
      "('diag', [2, 4, 8])\n",
      "('diag', [2, 8, 4])\n",
      "('diag', [2, 16, 2])\n",
      "('diag', [2, 32, 1])\n",
      "('diag', [4, 1, 16])\n",
      "('diag', [4, 2, 8])\n",
      "('diag', [4, 4, 4])\n",
      "2\n",
      "('b: ', None)\n",
      "('x23: ', array([-1.,  0.]))\n",
      "('al3: ', array([ 0.,  1.]))\n",
      "('diag', [4, 8, 2])\n",
      "('diag', [4, 16, 1])\n",
      "('diag', [8, 1, 8])\n",
      "('diag', [8, 2, 4])\n",
      "('diag', [8, 4, 2])\n",
      "('diag', [8, 8, 1])\n",
      "('diag', [16, 1, 4])\n",
      "('diag', [16, 2, 2])\n",
      "('diag', [16, 4, 1])\n",
      "('diag', [32, 1, 2])\n",
      "('diag', [32, 2, 1])\n",
      "('diag', [64, 1, 1])\n",
      "('time: ', 39.086446046829224)\n"
     ]
    },
    {
     "data": {
      "text/plain": [
       "[[[4, 0, 0], [0.0, 4, 0], [0.0, 0.0, 4]]]"
      ]
     },
     "execution_count": 2,
     "metadata": {},
     "output_type": "execute_result"
    }
   ],
   "source": [
    "div_HNF([[1,0,0],[0,1,0],[0,0,1]],64)"
   ]
  },
  {
   "cell_type": "code",
   "execution_count": null,
   "metadata": {
    "collapsed": true,
    "deletable": true,
    "editable": true
   },
   "outputs": [],
   "source": []
  }
 ],
 "metadata": {
  "kernelspec": {
   "display_name": "Python 2",
   "language": "python",
   "name": "python2"
  },
  "language_info": {
   "codemirror_mode": {
    "name": "ipython",
    "version": 2
   },
   "file_extension": ".py",
   "mimetype": "text/x-python",
   "name": "python",
   "nbconvert_exporter": "python",
   "pygments_lexer": "ipython2",
   "version": "2.7.9"
  }
 },
 "nbformat": 4,
 "nbformat_minor": 2
}
